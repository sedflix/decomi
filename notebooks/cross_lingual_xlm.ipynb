{
 "cells": [
  {
   "cell_type": "code",
   "execution_count": 1,
   "metadata": {},
   "outputs": [],
   "source": [
    "# include useful folders\n",
    "import sys"
   ]
  },
  {
   "cell_type": "code",
   "execution_count": 2,
   "metadata": {},
   "outputs": [],
   "source": [
    "sys.path.append(\"../vendors/mtl_girnet/data_prep/\")"
   ]
  },
  {
   "cell_type": "code",
   "execution_count": 3,
   "metadata": {},
   "outputs": [],
   "source": [
    "# enable or disable cuda\n",
    "import os\n",
    "os.environ[\"CUDA_DEVICE_ORDER\"]=\"PCI_BUS_ID\"   # see issue #152\n",
    "os.environ[\"CUDA_VISIBLE_DEVICES\"]=\"0\""
   ]
  },
  {
   "cell_type": "code",
   "execution_count": 4,
   "metadata": {},
   "outputs": [
    {
     "name": "stderr",
     "output_type": "stream",
     "text": [
      "Using TensorFlow backend.\n"
     ]
    }
   ],
   "source": [
    "import json\n",
    "import h5py\n",
    "import numpy as np\n",
    "import glob\n",
    "import random\n",
    "import pandas as pd\n",
    "import re\n",
    "from sklearn.utils import shuffle\n",
    "from sklearn.metrics import classification_report, confusion_matrix\n",
    "from matplotlib import pyplot as plt\n",
    "from keras.preprocessing import sequence\n",
    "\n",
    "# nltk\n",
    "import nltk\n",
    "\n",
    "# tokenizer\n",
    "from twokenize import tokenizeRawTweetText as tokenize\n",
    "\n",
    "# for a particular dataset\n",
    "from xml.dom import minidom"
   ]
  },
  {
   "cell_type": "code",
   "execution_count": 5,
   "metadata": {},
   "outputs": [],
   "source": [
    "# for trying differnet types of tokenizer\n",
    "\n",
    "# from nltk.corpus import stopwords\n",
    "# from  nltk.stem import SnowballStemmer\n",
    "# from tokensize_deepmoji import tokenize\n",
    "# from nltk.tokenize import TweetTokenizer\n",
    "# tokenizer = TweetTokenizer(a)\n",
    "# from tokenizer import tokenizer\n",
    "# T = tokenizer.TweetTokenizer(preserve_handles=False, preserve_hashes=False, preserve_case=False, preserve_url=False, regularize=True)\n",
    "# nltk.download('stopwords')\n",
    "# stop_words = stopwords.words(\"english\")\n",
    "# stemmer = SnowballStemmer(\"english\")\n",
    "# TEXT_CLEANING_RE = \"@\\S+|https?:\\S+|http?:\\S|[^A-Za-z0-9]+\"\n",
    "# def preprocess(text, stem=False):\n",
    "#     # Remove link,user and special characters\n",
    "#     text = re.sub(TEXT_CLEANING_RE, ' ', str(text).lower()).strip()\n",
    "#     tokens = []\n",
    "#     for token in text.split():\n",
    "#         if token not in stop_words: \n",
    "#             if stem:\n",
    "#                 tokens.append(stemmer.stem(token))\n",
    "#             else:\n",
    "#                 tokens.append(token)\n",
    "#     return tokenizer.tokenize(\" \".join(tokens))"
   ]
  },
  {
   "cell_type": "markdown",
   "metadata": {},
   "source": [
    "## Data Preprocessing"
   ]
  },
  {
   "cell_type": "markdown",
   "metadata": {},
   "source": [
    "### SemEval 2017 Task A"
   ]
  },
  {
   "cell_type": "code",
   "execution_count": 6,
   "metadata": {},
   "outputs": [],
   "source": [
    "df = pd.read_csv(\"../data/datastories-semeval2017-task4/dataset/Subtask_A/4A-English/SemEval2017-task4-dev.subtask-A.english.INPUT.txt\", sep=\"\\t\", header=None)"
   ]
  },
  {
   "cell_type": "code",
   "execution_count": 7,
   "metadata": {},
   "outputs": [],
   "source": [
    "decode_map = {\"negative\": -1, \"neutral\": 0, \"positive\": 1}"
   ]
  },
  {
   "cell_type": "code",
   "execution_count": 8,
   "metadata": {},
   "outputs": [],
   "source": [
    "df[1] = df[1].apply(lambda x: decode_map[x])\n",
    "df[2] = df[2].apply(lambda x: tokenize(x))"
   ]
  },
  {
   "cell_type": "code",
   "execution_count": 9,
   "metadata": {},
   "outputs": [],
   "source": [
    "data = map( lambda x :{'sentiment': x[1] , 'tokens': x[2] , } , df.to_numpy() )"
   ]
  },
  {
   "cell_type": "code",
   "execution_count": 10,
   "metadata": {},
   "outputs": [],
   "source": [
    "en_semeval_17 = list(data)"
   ]
  },
  {
   "cell_type": "code",
   "execution_count": null,
   "metadata": {},
   "outputs": [],
   "source": []
  },
  {
   "cell_type": "markdown",
   "metadata": {},
   "source": [
    "### Sentiment140 dataset \n",
    "https://www.kaggle.com/kazanova/sentiment140"
   ]
  },
  {
   "cell_type": "code",
   "execution_count": 11,
   "metadata": {},
   "outputs": [],
   "source": [
    "# # essential functions/declarations\n",
    "# decode_map = {0: -1, 2: 0, 4: 1}"
   ]
  },
  {
   "cell_type": "code",
   "execution_count": 12,
   "metadata": {},
   "outputs": [],
   "source": [
    "# #1.6 millionss tweets dataset\n",
    "# df = pd.read_csv('../data/'+'training.1600000.processed.noemoticon.csv', encoding='ISO-8859-1' , names=[\"target\", \"ids\", \"date\", \"flag\", \"user\", \"text\"])"
   ]
  },
  {
   "cell_type": "code",
   "execution_count": 13,
   "metadata": {},
   "outputs": [],
   "source": [
    "# # this is goning to take some time. chill \n",
    "# df.target = df.target.apply(lambda x: decode_map[int(x)])\n",
    "# df.text = df.text.apply(lambda x: tokenize(x))"
   ]
  },
  {
   "cell_type": "code",
   "execution_count": 14,
   "metadata": {},
   "outputs": [],
   "source": [
    "# data = map( lambda x :{'sentiment': x[0] , 'tokens': x[-1] , } , df.to_numpy() )"
   ]
  },
  {
   "cell_type": "code",
   "execution_count": 15,
   "metadata": {},
   "outputs": [],
   "source": [
    "# en_sentiment140 = list(data)"
   ]
  },
  {
   "cell_type": "code",
   "execution_count": null,
   "metadata": {},
   "outputs": [],
   "source": []
  },
  {
   "cell_type": "markdown",
   "metadata": {},
   "source": [
    "### English-Spanish Code Mixed Data "
   ]
  },
  {
   "cell_type": "code",
   "execution_count": 16,
   "metadata": {},
   "outputs": [],
   "source": [
    "sents = {\"N\":-1 , \"P\" :1 , \"NONE\":0}"
   ]
  },
  {
   "cell_type": "code",
   "execution_count": 17,
   "metadata": {},
   "outputs": [],
   "source": [
    "data = open(\"../vendors/mtl_girnet/data_prep/data_cm_senti/cs-corpus-with-tweets_train.txt\", encoding='utf-8').read().split(\"\\n\") \n",
    "data = map( lambda x : x.split(\"\\t\") , data )\n",
    "data = map( lambda x :{'sentiment': sents[x[1]] , 'tokens': tokenize(x[2]) , 'text': x[2] } , data )\n",
    "en_es_wssa_data_train = data"
   ]
  },
  {
   "cell_type": "code",
   "execution_count": 18,
   "metadata": {},
   "outputs": [],
   "source": [
    "data = open(\"../vendors/mtl_girnet/data_prep/data_cm_senti/cs-corpus-with-tweets_test.txt\", encoding='utf-8').read().split(\"\\n\") \n",
    "data = map( lambda x : x.split(\"\\t\") , data )\n",
    "data = map( lambda x :{'sentiment': sents[x[1]] , 'tokens': tokenize(x[2]) , 'text': x[2] } , data )\n",
    "en_es_wssa_data_test = data"
   ]
  },
  {
   "cell_type": "code",
   "execution_count": 19,
   "metadata": {},
   "outputs": [],
   "source": [
    "en_es_wssa_data = list(en_es_wssa_data_train) + list(en_es_wssa_data_test)"
   ]
  },
  {
   "cell_type": "markdown",
   "metadata": {},
   "source": [
    "### Spanish Tweet Dataset"
   ]
  },
  {
   "cell_type": "code",
   "execution_count": 20,
   "metadata": {},
   "outputs": [],
   "source": [
    "xmldoc = minidom.parse(\"../vendors/mtl_girnet/data_prep/data_cm_senti/general-tweets-train-tagged.xml\")\n",
    "tweets = xmldoc.getElementsByTagName('tweet')\n",
    "\n",
    "sents = {\"N\":-1 , \"P\" :1 , \"NEU\":0 , 'NONE':0 , \"P+\" : 1 , \"N+\":-1 }\n",
    "\n",
    "\n",
    "es_tass1_data = []\n",
    "\n",
    "for i in range( len(tweets)-1) :\n",
    "    if i == 6055:\n",
    "        continue # bad jogar\n",
    "    textt = tweets[i].getElementsByTagName('content')[0].childNodes[0].data\n",
    "    words = tokenize( textt )\n",
    "    sentiment = tweets[i].getElementsByTagName('polarity')[0].getElementsByTagName('value')[0].childNodes[0].data\n",
    "    assert len(tweets[i].getElementsByTagName('polarity')[0].getElementsByTagName('entity'))==0\n",
    "    es_tass1_data.append({'text':textt , 'tokens':words , 'sentiment': sents[sentiment] })"
   ]
  },
  {
   "cell_type": "markdown",
   "metadata": {},
   "source": [
    "### Some english tweet data"
   ]
  },
  {
   "cell_type": "code",
   "execution_count": 21,
   "metadata": {},
   "outputs": [],
   "source": [
    "data = open(\"../vendors/mtl_girnet/data_prep/data_cm_senti/twitter4242.txt\", \"r\", encoding=\"utf-8\",errors='ignore').read().split(\"\\n\")[1:-1]\n",
    "data = map( lambda x : x.split(\"\\t\") , data )\n",
    "data = map( lambda x :{'sentiment': int(np.sign(int(x[0])-int(x[1]))) , 'tokens': tokenize(x[2]) , 'text': x[2] } , data )\n",
    "\n",
    "en_twitter_data = list(data)"
   ]
  },
  {
   "cell_type": "markdown",
   "metadata": {},
   "source": [
    "### es2_twitter_data"
   ]
  },
  {
   "cell_type": "code",
   "execution_count": 22,
   "metadata": {},
   "outputs": [],
   "source": [
    "data = open(\"../vendors/mtl_girnet/data_prep/data_cm_senti/1600_tweets_dev_complete.txt\", encoding=\"utf-8\").read().split(\"\\n\")[1:-1]\n",
    "data += open(\"../vendors/mtl_girnet/data_prep/data_cm_senti/1600_tweets_test_average_complete.tsv\", encoding=\"utf-8\").read().split(\"\\n\")[1:-2]\n",
    "\n",
    "data = map( lambda x : x.split(\"\\t\") , data )\n",
    "data = map( lambda x :{'sentiment': int(np.sign(int(x[0])-int(x[1]))) , 'tokens': tokenize(x[2]) , 'text': x[2] } , data )\n",
    "\n",
    "es2_twitter_data = list(data)"
   ]
  },
  {
   "cell_type": "code",
   "execution_count": 23,
   "metadata": {},
   "outputs": [
    {
     "name": "stdout",
     "output_type": "stream",
     "text": [
      "Code-Mixed: en_es_wssa_data: 3062\n",
      "Spanish: es2_twitter_data: 3202\n",
      "Spanish: es_tass1_data: 7217\n",
      "English: en_twitter_data: 4241\n"
     ]
    }
   ],
   "source": [
    "print(\"Code-Mixed: en_es_wssa_data: %d\" % len(en_es_wssa_data))\n",
    "print(\"Spanish: es2_twitter_data: %d\" % len(es2_twitter_data))\n",
    "print(\"Spanish: es_tass1_data: %d\" % len(es_tass1_data))\n",
    "print(\"English: en_twitter_data: %d\" % len(en_twitter_data))\n",
    "# print(\"English: en_sentiment140: %d\" %len(en_sentiment140))"
   ]
  },
  {
   "cell_type": "markdown",
   "metadata": {},
   "source": [
    "## For XLM: Loading data"
   ]
  },
  {
   "cell_type": "code",
   "execution_count": 117,
   "metadata": {},
   "outputs": [],
   "source": [
    "def get_y(data):\n",
    "    from keras.utils import to_categorical\n",
    "    y = []\n",
    "    for row in data:\n",
    "        y.append(int(row['sentiment']))\n",
    "    y = to_categorical(y,num_classes=3)\n",
    "    return y"
   ]
  },
  {
   "cell_type": "code",
   "execution_count": 118,
   "metadata": {},
   "outputs": [],
   "source": [
    "es_tass_y = get_y(es_tass1_data)\n",
    "en_semeval_17_y = get_y(en_semeval_17)"
   ]
  },
  {
   "cell_type": "code",
   "execution_count": 120,
   "metadata": {},
   "outputs": [],
   "source": [
    "en_semval = np.load('../data/en_semeval_17.vectors.npy')\n",
    "es_tass = np.load('../data/es_tass1.vectors.npy')"
   ]
  },
  {
   "cell_type": "code",
   "execution_count": 121,
   "metadata": {},
   "outputs": [
    {
     "name": "stdout",
     "output_type": "stream",
     "text": [
      "(20632, 66, 1024)\n",
      "(7217, 72, 1024)\n"
     ]
    }
   ],
   "source": [
    "print(en_semval.shape)\n",
    "print(es_tass.shape)"
   ]
  },
  {
   "cell_type": "code",
   "execution_count": 78,
   "metadata": {},
   "outputs": [
    {
     "data": {
      "text/plain": [
       "array([[-3.77569914e+00, -6.41775036e+00,  2.47668028e-01, ...,\n",
       "        -2.25538850e+00,  9.23777771e+00,  1.28983507e+01],\n",
       "       [-6.73071241e+00, -3.04248333e+00, -1.00528002e-02, ...,\n",
       "        -6.60611820e+00,  4.97939825e+00,  1.39811873e+00],\n",
       "       [-6.62404728e+00,  1.75100231e+00,  7.80097961e-01, ...,\n",
       "        -7.06216717e+00,  7.11820221e+00, -7.77508640e+00],\n",
       "       ...,\n",
       "       [-5.91717100e+00, -3.44931889e+00, -1.27766037e+00, ...,\n",
       "         9.14993584e-01,  3.19174719e+00,  2.00094795e+01],\n",
       "       [-1.27304876e+00, -8.80142629e-01, -3.26091862e+00, ...,\n",
       "        -2.13648772e+00,  6.30688477e+00,  1.32532959e+01],\n",
       "       [-4.94503784e+00, -5.40910053e+00, -1.99482298e+00, ...,\n",
       "        -7.75677776e+00,  4.38256931e+00,  4.52819109e+00]])"
      ]
     },
     "execution_count": 78,
     "metadata": {},
     "output_type": "execute_result"
    }
   ],
   "source": [
    "es_tass[65]"
   ]
  },
  {
   "cell_type": "code",
   "execution_count": 122,
   "metadata": {},
   "outputs": [],
   "source": [
    "en_semval = en_semval[:,:30,:]\n",
    "es_tass = es_tass[:,:30,:]"
   ]
  },
  {
   "cell_type": "code",
   "execution_count": 53,
   "metadata": {},
   "outputs": [],
   "source": [
    "en_semval = sequence.pad_sequences(en_semval, maxlen=20, dtype='float32',padding='post')\n",
    "es_tass = sequence.pad_sequences(es_tass, maxlen=20, dtype='float32', padding='post')"
   ]
  },
  {
   "cell_type": "code",
   "execution_count": 123,
   "metadata": {},
   "outputs": [
    {
     "data": {
      "text/plain": [
       "array([[  3.23887348,  -0.75029171,   1.18658292, ...,  -0.79734457,\n",
       "          1.0380919 ,   1.92190444],\n",
       "       [  2.19796085,  -5.84797716,   5.26108599, ...,   3.16330433,\n",
       "         -3.16465569,  -4.93993044],\n",
       "       [  2.94165897,  -2.0211997 ,  -6.82101107, ...,  -0.57354558,\n",
       "          4.31726789,   9.0997982 ],\n",
       "       ...,\n",
       "       [  0.36065376,  -4.01330137,   2.53680921, ...,  -7.47810221,\n",
       "         -7.10925102,  14.89376736],\n",
       "       [ -9.33804035, -12.08189297,   0.46481419, ...,  -1.11138678,\n",
       "          2.01471424,  14.109025  ],\n",
       "       [-12.29493809,  -1.46438849,  -4.33274889, ..., -13.63387203,\n",
       "         -0.9923287 ,  25.40324593]])"
      ]
     },
     "execution_count": 123,
     "metadata": {},
     "output_type": "execute_result"
    }
   ],
   "source": [
    "en_semval[32]"
   ]
  },
  {
   "cell_type": "markdown",
   "metadata": {},
   "source": [
    "## XLM: Model"
   ]
  },
  {
   "cell_type": "code",
   "execution_count": 79,
   "metadata": {},
   "outputs": [],
   "source": [
    "from keras.layers import *\n",
    "from keras.models import Sequential\n",
    "from attention_lstm import AttentionWithContext"
   ]
  },
  {
   "cell_type": "code",
   "execution_count": 124,
   "metadata": {},
   "outputs": [],
   "source": [
    "EMBEDDING_DIM = en_semval.shape[-1]\n",
    "MAX_NUM_WORDS = en_semval.shape[-2]\n",
    "# for cnn_lstm\n",
    "\n",
    "# Convolution\n",
    "kernel_size = 5\n",
    "filters = 64\n",
    "pool_size = 1\n",
    "\n",
    "# lstm\n",
    "lstm_output_size = 70"
   ]
  },
  {
   "cell_type": "code",
   "execution_count": 125,
   "metadata": {},
   "outputs": [],
   "source": [
    "model = Sequential()\n",
    "# model.add(Dropout(0.e2))\n",
    "# model.add(Conv1D(filters,\n",
    "#                  kernel_size,\n",
    "#                  activation='relu',\n",
    "#                  strides=1))\n",
    "# model.add(MaxPooling1D(pool_size=pool_size))\n",
    "# model.add(LSTM(lstm_output_size))\n",
    "model.add((LSTM(512,  input_shape=(MAX_NUM_WORDS, EMBEDDING_DIM), dropout=0.4, recurrent_dropout=0.4)))\n",
    "# model.add(AttentionWithContext())\n",
    "# model.add(Dense(1024))\n",
    "# model.add(Dropout(0.4))\n",
    "model.add(Dense(128))\n",
    "model.add(Dropout(0.3))\n",
    "model.add(Dense(3))\n",
    "model.add(Activation('softmax'))\n",
    "\n",
    "model.compile(loss='categorical_crossentropy', optimizer='adam', metrics=['accuracy', f1])\n"
   ]
  },
  {
   "cell_type": "code",
   "execution_count": 126,
   "metadata": {},
   "outputs": [
    {
     "name": "stdout",
     "output_type": "stream",
     "text": [
      "_________________________________________________________________\n",
      "Layer (type)                 Output Shape              Param #   \n",
      "=================================================================\n",
      "lstm_11 (LSTM)               (None, 512)               3147776   \n",
      "_________________________________________________________________\n",
      "dense_25 (Dense)             (None, 128)               65664     \n",
      "_________________________________________________________________\n",
      "dropout_15 (Dropout)         (None, 128)               0         \n",
      "_________________________________________________________________\n",
      "dense_26 (Dense)             (None, 3)                 387       \n",
      "_________________________________________________________________\n",
      "activation_11 (Activation)   (None, 3)                 0         \n",
      "=================================================================\n",
      "Total params: 3,213,827\n",
      "Trainable params: 3,213,827\n",
      "Non-trainable params: 0\n",
      "_________________________________________________________________\n"
     ]
    }
   ],
   "source": [
    "model.summary()"
   ]
  },
  {
   "cell_type": "code",
   "execution_count": null,
   "metadata": {},
   "outputs": [],
   "source": []
  },
  {
   "cell_type": "code",
   "execution_count": 128,
   "metadata": {
    "scrolled": true
   },
   "outputs": [
    {
     "name": "stdout",
     "output_type": "stream",
     "text": [
      "Train on 14442 samples, validate on 6190 samples\n",
      "Epoch 1/10\n",
      "14442/14442 [==============================] - 19s 1ms/step - loss: 0.9993 - acc: 0.5083 - f1: 0.4486 - val_loss: 0.8757 - val_acc: 0.5683 - val_f1: 0.5295\n",
      "Epoch 2/10\n",
      "14442/14442 [==============================] - 13s 900us/step - loss: 0.8590 - acc: 0.5882 - f1: 0.5594 - val_loss: 0.8121 - val_acc: 0.6069 - val_f1: 0.5817\n",
      "Epoch 3/10\n",
      "14442/14442 [==============================] - 13s 930us/step - loss: 0.7923 - acc: 0.6324 - f1: 0.6134 - val_loss: 0.8159 - val_acc: 0.6186 - val_f1: 0.6093\n",
      "Epoch 4/10\n",
      "14442/14442 [==============================] - 12s 854us/step - loss: 0.7496 - acc: 0.6566 - f1: 0.6440 - val_loss: 0.7831 - val_acc: 0.6318 - val_f1: 0.6241\n",
      "Epoch 5/10\n",
      "14442/14442 [==============================] - 12s 850us/step - loss: 0.7248 - acc: 0.6693 - f1: 0.6546 - val_loss: 0.7850 - val_acc: 0.6342 - val_f1: 0.6273\n",
      "Epoch 6/10\n",
      "14442/14442 [==============================] - 12s 853us/step - loss: 0.6926 - acc: 0.6865 - f1: 0.6742 - val_loss: 0.7528 - val_acc: 0.6486 - val_f1: 0.6380\n",
      "Epoch 7/10\n",
      "14442/14442 [==============================] - 13s 916us/step - loss: 0.6757 - acc: 0.6964 - f1: 0.6881 - val_loss: 0.8031 - val_acc: 0.6389 - val_f1: 0.6346\n",
      "Epoch 8/10\n",
      "14442/14442 [==============================] - 14s 960us/step - loss: 0.6602 - acc: 0.7024 - f1: 0.6939 - val_loss: 0.7588 - val_acc: 0.6557 - val_f1: 0.6454\n",
      "Epoch 9/10\n",
      "14442/14442 [==============================] - 12s 849us/step - loss: 0.6514 - acc: 0.7055 - f1: 0.7010 - val_loss: 0.7610 - val_acc: 0.6562 - val_f1: 0.6523\n",
      "Epoch 10/10\n",
      "14442/14442 [==============================] - 13s 867us/step - loss: 0.6365 - acc: 0.7172 - f1: 0.7103 - val_loss: 0.7673 - val_acc: 0.6601 - val_f1: 0.6521\n"
     ]
    }
   ],
   "source": [
    "history = model.fit(en_semval, en_semeval_17_y, batch_size=128, epochs=10, validation_split=0.3, shuffle=True,  initial_epoch=0)"
   ]
  },
  {
   "cell_type": "code",
   "execution_count": 129,
   "metadata": {},
   "outputs": [
    {
     "name": "stdout",
     "output_type": "stream",
     "text": [
      "dict_keys(['val_loss', 'loss', 'val_f1', 'val_acc', 'acc', 'f1'])\n"
     ]
    },
    {
     "data": {
      "image/png": "[encoded data removed]",
      "text/plain": [
       "<Figure size 432x288 with 1 Axes>"
      ]
     },
     "metadata": {
      "needs_background": "light"
     },
     "output_type": "display_data"
    },
    {
     "data": {
      "image/png": "[encoded data removed]",
      "text/plain": [
       "<Figure size 432x288 with 1 Axes>"
      ]
     },
     "metadata": {
      "needs_background": "light"
     },
     "output_type": "display_data"
    },
    {
     "data": {
      "image/png": "[encoded data removed]",
      "text/plain": [
       "<Figure size 432x288 with 1 Axes>"
      ]
     },
     "metadata": {
      "needs_background": "light"
     },
     "output_type": "display_data"
    }
   ],
   "source": [
    "plot_history(history)"
   ]
  },
  {
   "cell_type": "code",
   "execution_count": 130,
   "metadata": {},
   "outputs": [
    {
     "name": "stdout",
     "output_type": "stream",
     "text": [
      "Classification Report\n",
      "              precision    recall  f1-score   support\n",
      "\n",
      "           0       0.40      0.74      0.52      2152\n",
      "           1       0.78      0.47      0.58      2883\n",
      "           2       0.67      0.45      0.54      2182\n",
      "\n",
      "   micro avg       0.54      0.54      0.54      7217\n",
      "   macro avg       0.62      0.55      0.55      7217\n",
      "weighted avg       0.63      0.54      0.55      7217\n",
      "\n",
      "Confusion Matrix\n",
      "[[1595  288  269]\n",
      " [1325 1348  210]\n",
      " [1109   94  979]]\n"
     ]
    }
   ],
   "source": [
    "def evaluate_one(model, x, y):\n",
    "    y_pred = model.predict(x,verbose=0)\n",
    "    print(\"Classification Report\")\n",
    "    print(classification_report(np.argmax(y, axis=1), np.argmax(y_pred,axis=1)))\n",
    "    print(\"Confusion Matrix\")\n",
    "    print(confusion_matrix(np.argmax(y, axis=1), np.argmax(y_pred,axis=1)))\n",
    "\n",
    "evaluate_one(model, es_tass, es_tass_y)"
   ]
  },
  {
   "cell_type": "code",
   "execution_count": 134,
   "metadata": {},
   "outputs": [
    {
     "name": "stdout",
     "output_type": "stream",
     "text": [
      "Train on 5051 samples, validate on 2166 samples\n",
      "Epoch 11/15\n",
      "5051/5051 [==============================] - 4s 869us/step - loss: 0.6525 - acc: 0.7171 - f1: 0.7045 - val_loss: 0.8185 - val_acc: 0.6653 - val_f1: 0.6561\n",
      "Epoch 12/15\n",
      "5051/5051 [==============================] - 4s 881us/step - loss: 0.6419 - acc: 0.7244 - f1: 0.7066 - val_loss: 0.8603 - val_acc: 0.6519 - val_f1: 0.6373\n",
      "Epoch 13/15\n",
      "5051/5051 [==============================] - 4s 847us/step - loss: 0.6130 - acc: 0.7424 - f1: 0.7315 - val_loss: 0.8356 - val_acc: 0.6496 - val_f1: 0.6392\n",
      "Epoch 14/15\n",
      "5051/5051 [==============================] - 4s 830us/step - loss: 0.6029 - acc: 0.7432 - f1: 0.7360 - val_loss: 0.8676 - val_acc: 0.6454 - val_f1: 0.6332\n",
      "Epoch 15/15\n",
      "5051/5051 [==============================] - 4s 853us/step - loss: 0.5853 - acc: 0.7450 - f1: 0.7366 - val_loss: 0.9173 - val_acc: 0.6537 - val_f1: 0.6473\n"
     ]
    }
   ],
   "source": [
    "history = model.fit(es_tass, es_tass_y, batch_size=128, epochs=15, validation_split=0.3, shuffle=True,  initial_epoch=10)"
   ]
  },
  {
   "cell_type": "code",
   "execution_count": 135,
   "metadata": {},
   "outputs": [
    {
     "name": "stdout",
     "output_type": "stream",
     "text": [
      "dict_keys(['val_loss', 'loss', 'val_f1', 'val_acc', 'acc', 'f1'])\n"
     ]
    },
    {
     "data": {
      "image/png": "[encoded data removed]",
      "text/plain": [
       "<Figure size 432x288 with 1 Axes>"
      ]
     },
     "metadata": {
      "needs_background": "light"
     },
     "output_type": "display_data"
    },
    {
     "data": {
      "image/png": "[encoded data removed]",
      "text/plain": [
       "<Figure size 432x288 with 1 Axes>"
      ]
     },
     "metadata": {
      "needs_background": "light"
     },
     "output_type": "display_data"
    },
    {
     "data": {
      "image/png": "[encoded data removed]",
      "text/plain": [
       "<Figure size 432x288 with 1 Axes>"
      ]
     },
     "metadata": {
      "needs_background": "light"
     },
     "output_type": "display_data"
    }
   ],
   "source": [
    "plot_history(history)"
   ]
  },
  {
   "cell_type": "code",
   "execution_count": null,
   "metadata": {},
   "outputs": [],
   "source": []
  },
  {
   "cell_type": "code",
   "execution_count": null,
   "metadata": {},
   "outputs": [],
   "source": []
  },
  {
   "cell_type": "markdown",
   "metadata": {},
   "source": [
    "# For Reading And Writing Data"
   ]
  },
  {
   "cell_type": "code",
   "execution_count": 21,
   "metadata": {},
   "outputs": [],
   "source": [
    "def write_sentences(data, name, has_text=True):\n",
    "    with open(name,\"w\") as f:\n",
    "        temp = \"\"\n",
    "        for row in data:\n",
    "            if has_text:\n",
    "                temp = temp + str(row['text']).strip().replace(\"\\n\",\" \") + \"\\n\"\n",
    "            else:\n",
    "                temp = temp + str(\" \".join(row['tokens'])).strip() + \"\\n\"\n",
    "        f.write(temp)\n",
    "\n",
    "def write_sentences_sep(data, name):\n",
    "    with open(name,\"w\") as f:\n",
    "        temp = []\n",
    "        for row in data:\n",
    "            temp.append(str(\" \".join(row['tokens'])).strip() + \"\\n\")\n",
    "    return temp"
   ]
  },
  {
   "cell_type": "code",
   "execution_count": 26,
   "metadata": {},
   "outputs": [],
   "source": [
    "write_sentences(en_es_wssa_data,\"en_es.txt\")\n",
    "write_sentences(es2_twitter_data,\"es2_twitter.txt\")\n",
    "write_sentences(es_tass1_data,\"es_tass1.txt\")\n",
    "write_sentences(en_twitter_data, \"en_twiter.txt\")\n",
    "write_sentences(en_semeval_17, \"en_semeval_17.txt\", False)"
   ]
  },
  {
   "cell_type": "code",
   "execution_count": null,
   "metadata": {},
   "outputs": [],
   "source": [
    "# PRLEASE DON'T EXECUTE THIS MOTHERFUCKER\n",
    "lines_ = write_sentences_sep(en_sentiment140, \"en_sentiment140.txt\")\n",
    "with open(\"en_sentiment140.txt\", \"w\") as f:\n",
    "    for line in lines_:\n",
    "        f.write(line)"
   ]
  },
  {
   "cell_type": "code",
   "execution_count": null,
   "metadata": {},
   "outputs": [],
   "source": []
  },
  {
   "cell_type": "code",
   "execution_count": 24,
   "metadata": {},
   "outputs": [],
   "source": [
    "def get_y(data):\n",
    "    from keras.utils import to_categorical\n",
    "    y = []\n",
    "    for row in data:\n",
    "        y.append(int(row['sentiment']))\n",
    "    y = to_categorical(y,num_classes=3)\n",
    "    return y"
   ]
  },
  {
   "cell_type": "code",
   "execution_count": 25,
   "metadata": {},
   "outputs": [
    {
     "name": "stderr",
     "output_type": "stream",
     "text": [
      "Using TensorFlow backend.\n"
     ]
    }
   ],
   "source": [
    "en_es_y =  get_y(en_es_wssa_data)\n",
    "es_twitter_y = get_y(es2_twitter_data)\n",
    "es_tass_y = get_y(es_tass1_data)\n",
    "en_twitter_y = get_y(en_twitter_data)\n",
    "en_semeval_17_y = get_y(en_semeval_17)\n",
    "# en_sentiment140_y = get_y(en_sentiment140)"
   ]
  },
  {
   "cell_type": "code",
   "execution_count": null,
   "metadata": {},
   "outputs": [],
   "source": []
  },
  {
   "cell_type": "code",
   "execution_count": 26,
   "metadata": {},
   "outputs": [],
   "source": [
    "def load(file):\n",
    "    dim = 1024\n",
    "    X = np.fromfile(file, dtype=np.float32, count=-1)    \n",
    "    X.resize(X.shape[0] // dim, dim) \n",
    "    print(file + \": \" + str(X.shape))\n",
    "    return X"
   ]
  },
  {
   "cell_type": "code",
   "execution_count": 27,
   "metadata": {},
   "outputs": [
    {
     "name": "stdout",
     "output_type": "stream",
     "text": [
      "es_tass1.raw: (7217, 1024)\n"
     ]
    }
   ],
   "source": [
    "es_tass_emb =load(\"es_tass1.raw\")"
   ]
  },
  {
   "cell_type": "code",
   "execution_count": 28,
   "metadata": {
    "scrolled": true
   },
   "outputs": [
    {
     "name": "stdout",
     "output_type": "stream",
     "text": [
      "en_es.raw: (3062, 1024)\n",
      "es2_twitter.raw: (3202, 1024)\n",
      "es_tass1.raw: (7217, 1024)\n",
      "en_twiter.raw: (4241, 1024)\n",
      "en_semeval_17.raw: (20632, 1024)\n"
     ]
    }
   ],
   "source": [
    "en_es_emb = load(\"en_es.raw\")\n",
    "es_twitter_emb =load(\"es2_twitter.raw\")\n",
    "es_tass_emb =load(\"es_tass1.raw\")\n",
    "en_twitter_emb =load(\"en_twiter.raw\")\n",
    "# en_sentiment140_emb = load(\"en_sentiment140.raw\")\n",
    "en_semeval_17_em = load(\"en_semeval_17.raw\")"
   ]
  },
  {
   "cell_type": "code",
   "execution_count": 29,
   "metadata": {},
   "outputs": [
    {
     "data": {
      "text/plain": [
       "(7217, 3)"
      ]
     },
     "execution_count": 29,
     "metadata": {},
     "output_type": "execute_result"
    }
   ],
   "source": [
    "es_tass_y.shape"
   ]
  },
  {
   "cell_type": "code",
   "execution_count": 126,
   "metadata": {},
   "outputs": [],
   "source": []
  },
  {
   "cell_type": "code",
   "execution_count": null,
   "metadata": {},
   "outputs": [],
   "source": []
  },
  {
   "cell_type": "markdown",
   "metadata": {},
   "source": [
    "## Functions IMP"
   ]
  },
  {
   "cell_type": "code",
   "execution_count": 32,
   "metadata": {},
   "outputs": [],
   "source": [
    "def plot_history(history):\n",
    "    print(history.history.keys())\n",
    "    # summarize history for accuracy\n",
    "    plt.plot(history.history['acc'])\n",
    "    plt.plot(history.history['val_acc'])\n",
    "    plt.title('model accuracy')\n",
    "    plt.ylabel('accuracy')\n",
    "    plt.xlabel('epoch')\n",
    "    plt.legend(['train', 'test'], loc='upper left')\n",
    "    plt.show()\n",
    "    # summarize history for loss\n",
    "    plt.plot(history.history['loss'])\n",
    "    plt.plot(history.history['val_loss'])\n",
    "    plt.title('model loss')\n",
    "    plt.ylabel('loss')\n",
    "    plt.xlabel('epoch')\n",
    "    plt.legend(['train', 'test'], loc='upper left')\n",
    "    plt.show()\n",
    "    \n",
    "    plt.plot(history.history['f1'])\n",
    "    plt.plot(history.history['val_f1'])\n",
    "    plt.title('model accuracy')\n",
    "    plt.ylabel('f1')\n",
    "    plt.xlabel('epoch')\n",
    "    plt.legend(['train', 'test'], loc='upper left')\n",
    "    plt.show()"
   ]
  },
  {
   "cell_type": "code",
   "execution_count": 33,
   "metadata": {},
   "outputs": [],
   "source": [
    "from keras import backend as K\n",
    "\n",
    "\n",
    "def f1(y_true, y_pred):\n",
    "    def recall(y_true, y_pred):\n",
    "        \"\"\"Recall metric.\n",
    "        Only computes a batch-wise average of recall.\n",
    "        Computes the recall, a metric for multi-label classification of\n",
    "        how many relevant items are selected.\n",
    "        \"\"\"\n",
    "        true_positives = K.sum(K.round(K.clip(y_true * y_pred, 0, 1)))\n",
    "        possible_positives = K.sum(K.round(K.clip(y_true, 0, 1)))\n",
    "        recall = true_positives / (possible_positives + K.epsilon())\n",
    "        return recall\n",
    "\n",
    "    def precision(y_true, y_pred):\n",
    "        \"\"\"Precision metric.\n",
    "        Only computes a batch-wise average of precision.\n",
    "        Computes the precision, a metric for multi-label classification of\n",
    "        how many selected items are relevant.\n",
    "        \"\"\"\n",
    "        true_positives = K.sum(K.round(K.clip(y_true * y_pred, 0, 1)))\n",
    "        predicted_positives = K.sum(K.round(K.clip(y_pred, 0, 1)))\n",
    "        precision = true_positives / (predicted_positives + K.epsilon())\n",
    "        return precision\n",
    "\n",
    "    precision = precision(y_true, y_pred)\n",
    "    recall = recall(y_true, y_pred)\n",
    "    return 2 * ((precision * recall) / (precision + recall + K.epsilon()))"
   ]
  },
  {
   "cell_type": "code",
   "execution_count": 34,
   "metadata": {},
   "outputs": [],
   "source": [
    "from collections import Counter\n",
    "from sklearn.utils.class_weight import compute_class_weight\n",
    "def get_class_weight(y):\n",
    "    \"\"\"\n",
    "    Used from: https://stackoverflow.com/a/50695814\n",
    "    TODO: check validity and 'balanced' option\n",
    "    :param y: A list of one-hot-encoding labels [[0,0,1,0],[0,0,0,1],..]\n",
    "    :return: class-weights to be used by keras model.fit(.. class_weight=\"\") -> {0:0.52134, 1:1.adas..}\n",
    "    \"\"\"\n",
    "    y_integers = np.argmax(y, axis=1)\n",
    "    class_weights = compute_class_weight('balanced', np.unique(y_integers), y_integers)\n",
    "    d_class_weights = dict(enumerate(class_weights))\n",
    "    return d_class_weights"
   ]
  },
  {
   "cell_type": "code",
   "execution_count": null,
   "metadata": {},
   "outputs": [],
   "source": []
  }
 ],
 "metadata": {
  "kernelspec": {
   "display_name": "Python 3",
   "language": "python",
   "name": "python3"
  },
  "language_info": {
   "codemirror_mode": {
    "name": "ipython",
    "version": 3
   },
   "file_extension": ".py",
   "mimetype": "text/x-python",
   "name": "python",
   "nbconvert_exporter": "python",
   "pygments_lexer": "ipython3",
   "version": "3.5.2"
  }
 },
 "nbformat": 4,
 "nbformat_minor": 2
}

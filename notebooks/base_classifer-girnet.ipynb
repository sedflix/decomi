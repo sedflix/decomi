{
 "cells": [
  {
   "cell_type": "code",
   "execution_count": 1,
   "metadata": {},
   "outputs": [],
   "source": [
    "# include useful folders\n",
    "import sys"
   ]
  },
  {
   "cell_type": "code",
   "execution_count": 2,
   "metadata": {},
   "outputs": [],
   "source": [
    "sys.path.append(\"../vendors/mtl_girnet/data_prep/\")\n",
    "sys.path.append(\"../src/language-model/\")"
   ]
  },
  {
   "cell_type": "code",
   "execution_count": 3,
   "metadata": {},
   "outputs": [],
   "source": [
    "# enable or disable cuda\n",
    "import os\n",
    "import tensorflow as tf\n",
    "config = tf.ConfigProto()\n",
    "config.gpu_options.allow_growth=True\n",
    "sess = tf.Session(config=config)"
   ]
  },
  {
   "cell_type": "code",
   "execution_count": 4,
   "metadata": {},
   "outputs": [],
   "source": [
    "# ! pip install pandas sklearn matplotlib nltk keras gensim"
   ]
  },
  {
   "cell_type": "code",
   "execution_count": 5,
   "metadata": {},
   "outputs": [],
   "source": [
    "# sess.close()"
   ]
  },
  {
   "cell_type": "code",
   "execution_count": 6,
   "metadata": {},
   "outputs": [
    {
     "name": "stderr",
     "output_type": "stream",
     "text": [
      "Using TensorFlow backend.\n"
     ]
    }
   ],
   "source": [
    "import json\n",
    "import h5py\n",
    "import numpy as np\n",
    "import glob\n",
    "import random\n",
    "import pandas as pd\n",
    "import re\n",
    "from sklearn.utils import shuffle\n",
    "from sklearn.metrics import classification_report, confusion_matrix\n",
    "from matplotlib import pyplot as plt\n",
    "\n",
    "# nltk\n",
    "import nltk\n",
    "\n",
    "# tokenizer\n",
    "from twokenize import tokenizeRawTweetText as tokenize\n",
    "\n",
    "# for a particular dataset\n",
    "from xml.dom import minidom\n",
    "\n",
    "\n",
    "from keras.preprocessing.text import text_to_word_sequence\n",
    "from keras.preprocessing import sequence\n",
    "from gensim.corpora import Dictionary\n",
    "import multiprocessing"
   ]
  },
  {
   "cell_type": "code",
   "execution_count": 7,
   "metadata": {},
   "outputs": [],
   "source": [
    "# for trying differnet types of tokenizer\n",
    "\n",
    "# from nltk.corpus import stopwords\n",
    "# from  nltk.stem import SnowballStemmer\n",
    "# from tokensize_deepmoji import tokenize\n",
    "# from nltk.tokenize import TweetTokenizer\n",
    "# tokenizer = TweetTokenizer(a)\n",
    "# from tokenizer import tokenizer\n",
    "# T = tokenizer.TweetTokenizer(preserve_handles=False, preserve_hashes=False, preserve_case=False, preserve_url=False, regularize=True)\n",
    "# nltk.download('stopwords')\n",
    "# stop_words = stopwords.words(\"english\")\n",
    "# stemmer = SnowballStemmer(\"english\")\n",
    "# TEXT_CLEANING_RE = \"@\\S+|https?:\\S+|http?:\\S|[^A-Za-z0-9]+\"\n",
    "# def preprocess(text, stem=False):\n",
    "#     # Remove link,user and special characters\n",
    "#     text = re.sub(TEXT_CLEANING_RE, ' ', str(text).lower()).strip()\n",
    "#     tokens = []\n",
    "#     for token in text.split():\n",
    "#         if token not in stop_words: \n",
    "#             if stem:\n",
    "#                 tokens.append(stemmer.stem(token))\n",
    "#             else:\n",
    "#                 tokens.append(token)\n",
    "#     return tokenizer.tokenize(\" \".join(tokens))"
   ]
  },
  {
   "cell_type": "markdown",
   "metadata": {},
   "source": [
    "## Data Preprocessing"
   ]
  },
  {
   "cell_type": "markdown",
   "metadata": {},
   "source": [
    "### SemEval 2017 Task A"
   ]
  },
  {
   "cell_type": "code",
   "execution_count": 8,
   "metadata": {},
   "outputs": [],
   "source": [
    "df = pd.read_csv(\"../data/datastories-semeval2017-task4/dataset/Subtask_A/4A-English/SemEval2017-task4-dev.subtask-A.english.INPUT.txt\", sep=\"\\t\", header=None)"
   ]
  },
  {
   "cell_type": "code",
   "execution_count": 9,
   "metadata": {},
   "outputs": [],
   "source": [
    "decode_map = {\"negative\": -1, \"neutral\": 0, \"positive\": 1}"
   ]
  },
  {
   "cell_type": "code",
   "execution_count": 10,
   "metadata": {},
   "outputs": [],
   "source": [
    "df[1] = df[1].apply(lambda x: decode_map[x])\n",
    "df[2] = df[2].apply(lambda x: tokenize(x))"
   ]
  },
  {
   "cell_type": "code",
   "execution_count": 11,
   "metadata": {},
   "outputs": [],
   "source": [
    "data = map( lambda x :{'sentiment': x[1] , 'tokens': x[2] , } , df.to_numpy() )"
   ]
  },
  {
   "cell_type": "code",
   "execution_count": 12,
   "metadata": {},
   "outputs": [],
   "source": [
    "en_semeval_17 = list(data)"
   ]
  },
  {
   "cell_type": "code",
   "execution_count": null,
   "metadata": {},
   "outputs": [],
   "source": []
  },
  {
   "cell_type": "markdown",
   "metadata": {},
   "source": [
    "### Sentiment140 dataset \n",
    "https://www.kaggle.com/kazanova/sentiment140"
   ]
  },
  {
   "cell_type": "code",
   "execution_count": 13,
   "metadata": {},
   "outputs": [],
   "source": [
    "# essential functions/declarations\n",
    "# decode_map = {0: -1, 2: 0, 4: 1}"
   ]
  },
  {
   "cell_type": "code",
   "execution_count": 14,
   "metadata": {},
   "outputs": [],
   "source": [
    "#1.6 millionss tweets dataset\n",
    "# df = pd.read_csv('../data/'+'training.1600000.processed.noemoticon.csv', encoding='ISO-8859-1' , names=[\"target\", \"ids\", \"date\", \"flag\", \"user\", \"text\"])"
   ]
  },
  {
   "cell_type": "code",
   "execution_count": 15,
   "metadata": {},
   "outputs": [],
   "source": [
    "# # this is goning to take some time. chill \n",
    "# df.target = df.target.apply(lambda x: decode_map[int(x)])\n",
    "# df.text = df.text.apply(lambda x: tokenize(x))"
   ]
  },
  {
   "cell_type": "code",
   "execution_count": 16,
   "metadata": {},
   "outputs": [],
   "source": [
    "# data = map( lambda x :{'sentiment': x[0] , 'tokens': x[-1] , } , df.to_numpy() )"
   ]
  },
  {
   "cell_type": "code",
   "execution_count": 17,
   "metadata": {},
   "outputs": [],
   "source": [
    "# en_sentiment140 = list(data)"
   ]
  },
  {
   "cell_type": "code",
   "execution_count": null,
   "metadata": {},
   "outputs": [],
   "source": []
  },
  {
   "cell_type": "markdown",
   "metadata": {},
   "source": [
    "### English-Spanish Code Mixed Data "
   ]
  },
  {
   "cell_type": "code",
   "execution_count": 18,
   "metadata": {},
   "outputs": [],
   "source": [
    "sents = {\"N\":-1 , \"P\" :1 , \"NONE\":0}"
   ]
  },
  {
   "cell_type": "code",
   "execution_count": 19,
   "metadata": {},
   "outputs": [],
   "source": [
    "data = open(\"../vendors/mtl_girnet/data_prep/data_cm_senti/cs-corpus-with-tweets_train.txt\", encoding='utf-8').read().split(\"\\n\") \n",
    "data = map( lambda x : x.split(\"\\t\") , data )\n",
    "data = map( lambda x :{'sentiment': sents[x[1]] , 'tokens': tokenize(x[2]) , 'text': x[2] } , data )\n",
    "en_es_wssa_data_train = data"
   ]
  },
  {
   "cell_type": "code",
   "execution_count": 20,
   "metadata": {},
   "outputs": [],
   "source": [
    "data = open(\"../vendors/mtl_girnet/data_prep/data_cm_senti/cs-corpus-with-tweets_test.txt\", encoding='utf-8').read().split(\"\\n\") \n",
    "data = map( lambda x : x.split(\"\\t\") , data )\n",
    "data = map( lambda x :{'sentiment': sents[x[1]] , 'tokens': tokenize(x[2]) , 'text': x[2] } , data )\n",
    "en_es_wssa_data_test = data"
   ]
  },
  {
   "cell_type": "code",
   "execution_count": 21,
   "metadata": {},
   "outputs": [],
   "source": [
    "en_es_wssa_data = list(en_es_wssa_data_train) + list(en_es_wssa_data_test)"
   ]
  },
  {
   "cell_type": "markdown",
   "metadata": {},
   "source": [
    "### Spanish Tweet Dataset"
   ]
  },
  {
   "cell_type": "code",
   "execution_count": 22,
   "metadata": {},
   "outputs": [],
   "source": [
    "xmldoc = minidom.parse(\"../vendors/mtl_girnet/data_prep/data_cm_senti/general-tweets-train-tagged.xml\")\n",
    "tweets = xmldoc.getElementsByTagName('tweet')\n",
    "\n",
    "sents = {\"N\":-1 , \"P\" :1 , \"NEU\":0 , 'NONE':0 , \"P+\" : 1 , \"N+\":-1 }\n",
    "\n",
    "\n",
    "es_tass1_data = []\n",
    "\n",
    "for i in range( len(tweets)-1) :\n",
    "    if i == 6055:\n",
    "        continue # bad jogar\n",
    "    textt = tweets[i].getElementsByTagName('content')[0].childNodes[0].data\n",
    "    words = tokenize( textt )\n",
    "    sentiment = tweets[i].getElementsByTagName('polarity')[0].getElementsByTagName('value')[0].childNodes[0].data\n",
    "    assert len(tweets[i].getElementsByTagName('polarity')[0].getElementsByTagName('entity'))==0\n",
    "    es_tass1_data.append({'text':textt , 'tokens':words , 'sentiment': sents[sentiment] })"
   ]
  },
  {
   "cell_type": "markdown",
   "metadata": {},
   "source": [
    "### Some english tweet data"
   ]
  },
  {
   "cell_type": "code",
   "execution_count": 23,
   "metadata": {},
   "outputs": [],
   "source": [
    "data = open(\"../vendors/mtl_girnet/data_prep/data_cm_senti/twitter4242.txt\", \"r\", encoding=\"utf-8\",errors='ignore').read().split(\"\\n\")[1:-1]\n",
    "data = map( lambda x : x.split(\"\\t\") , data )\n",
    "data = map( lambda x :{'sentiment': int(np.sign(int(x[0])-int(x[1]))) , 'tokens': tokenize(x[2]) , 'text': x[2] } , data )\n",
    "\n",
    "en_twitter_data = list(data)"
   ]
  },
  {
   "cell_type": "markdown",
   "metadata": {},
   "source": [
    "### es2_twitter_data"
   ]
  },
  {
   "cell_type": "code",
   "execution_count": 24,
   "metadata": {},
   "outputs": [],
   "source": [
    "data = open(\"../vendors/mtl_girnet/data_prep/data_cm_senti/1600_tweets_dev_complete.txt\", encoding=\"utf-8\").read().split(\"\\n\")[1:-1]\n",
    "data += open(\"../vendors/mtl_girnet/data_prep/data_cm_senti/1600_tweets_test_average_complete.tsv\", encoding=\"utf-8\").read().split(\"\\n\")[1:-2]\n",
    "\n",
    "data = map( lambda x : x.split(\"\\t\") , data )\n",
    "data = map( lambda x :{'sentiment': int(np.sign(int(x[0])-int(x[1]))) , 'tokens': tokenize(x[2]) , 'text': x[2] } , data )\n",
    "\n",
    "es2_twitter_data = list(data)"
   ]
  },
  {
   "cell_type": "code",
   "execution_count": 25,
   "metadata": {},
   "outputs": [
    {
     "name": "stdout",
     "output_type": "stream",
     "text": [
      "Code-Mixed: en_es_wssa_data: 3062\n",
      "Spanish: es2_twitter_data: 3202\n",
      "Spanish: es_tass1_data: 7217\n",
      "English: en_twitter_data: 4241\n"
     ]
    }
   ],
   "source": [
    "print(\"Code-Mixed: en_es_wssa_data: %d\" % len(en_es_wssa_data))\n",
    "print(\"Spanish: es2_twitter_data: %d\" % len(es2_twitter_data))\n",
    "print(\"Spanish: es_tass1_data: %d\" % len(es_tass1_data))\n",
    "print(\"English: en_twitter_data: %d\" % len(en_twitter_data))\n",
    "# print(\"English: en_sentiment140: %d\" %len(en_sentiment140))"
   ]
  },
  {
   "cell_type": "markdown",
   "metadata": {},
   "source": [
    "## GirNet Language Model"
   ]
  },
  {
   "cell_type": "code",
   "execution_count": 26,
   "metadata": {},
   "outputs": [],
   "source": [
    "vocab_size = 100000\n",
    "max_length = 15\n",
    "batch_size = 8\n",
    "embedding_size = 50\n",
    "hidden = 50"
   ]
  },
  {
   "cell_type": "code",
   "execution_count": 25,
   "metadata": {},
   "outputs": [],
   "source": [
    "combined_dict = Dictionary.load('../vendors/language-models/datasets/wiki_dataset/combined_vocab')"
   ]
  },
  {
   "cell_type": "code",
   "execution_count": 78,
   "metadata": {},
   "outputs": [
    {
     "data": {
      "text/plain": [
       "array([    1,     1, 11492,   827, 69677,     1, 11492, 67173, 13075,\n",
       "       26288,     1,     3,     4,     4,     4], dtype=int32)"
      ]
     },
     "execution_count": 78,
     "metadata": {},
     "output_type": "execute_result"
    }
   ],
   "source": [
    "def each(sentence):\n",
    "    x_ = combined_dict.doc2idx(sentence, unknown_word_index=combined_dict.token2id['<UNK>'])\n",
    "    x_.append(combined_dict.token2id['<EOS>'])\n",
    "    return sequence.pad_sequences([x_], maxlen=max_length, dtype='int32', padding='post', truncating='post',value=combined_dict.token2id['<PAD>'])[0]\n",
    "each(es2_twitter_data[:]['tokens'])"
   ]
  },
  {
   "cell_type": "code",
   "execution_count": 148,
   "metadata": {},
   "outputs": [],
   "source": [
    "pool = multiprocessing.Pool(processes=20)"
   ]
  },
  {
   "cell_type": "code",
   "execution_count": 149,
   "metadata": {},
   "outputs": [],
   "source": [
    "en_twitter_x = pool.map(each, (sent['tokens'] for sent in en_twitter_data))\n",
    "es_tass1_x =  sequence.pad_sequences(pool.map(each, (sent['tokens'] for sent in es_tass1_data)),maxlen=max_length)\n",
    "es_twitter_x = sequence.pad_sequences(pool.map(each, (sent['tokens'] for sent in es2_twitter_data)),maxlen=max_length)\n",
    "en_es_wssa_x = sequence.pad_sequences(pool.map(each, (sent['tokens'] for sent in en_es_wssa_data)),maxlen=max_length)"
   ]
  },
  {
   "cell_type": "code",
   "execution_count": 150,
   "metadata": {},
   "outputs": [],
   "source": [
    "pool.close()"
   ]
  },
  {
   "cell_type": "code",
   "execution_count": 9,
   "metadata": {},
   "outputs": [],
   "source": [
    "# GirNet LM"
   ]
  },
  {
   "cell_type": "code",
   "execution_count": 85,
   "metadata": {},
   "outputs": [],
   "source": [
    "from model import GirNetLanguageModel\n",
    "from keras.models import model_from_json"
   ]
  },
  {
   "cell_type": "code",
   "execution_count": 86,
   "metadata": {},
   "outputs": [],
   "source": [
    "lm = GirNetLanguageModel(vocab_size=len(combined_dict.token2id),embedding_size=embedding_size,lstm_hidden_units=hidden)"
   ]
  },
  {
   "cell_type": "code",
   "execution_count": 31,
   "metadata": {},
   "outputs": [
    {
     "ename": "NameError",
     "evalue": "name 'combined_dict' is not defined",
     "output_type": "error",
     "traceback": [
      "\u001b[0;31m------------------------------------------\u001b[0m",
      "\u001b[0;31mNameError\u001b[0mTraceback (most recent call last)",
      "\u001b[0;32m<ipython-input-31-990c54e0055a>\u001b[0m in \u001b[0;36m<module>\u001b[0;34m()\u001b[0m\n\u001b[1;32m     48\u001b[0m         \u001b[0;32mreturn\u001b[0m \u001b[0mh\u001b[0m\u001b[0;34m,\u001b[0m \u001b[0;34m[\u001b[0m\u001b[0mh\u001b[0m \u001b[0;34m,\u001b[0m \u001b[0mc\u001b[0m \u001b[0;34m]\u001b[0m\u001b[0;34m\u001b[0m\u001b[0m\n\u001b[1;32m     49\u001b[0m \u001b[0;34m\u001b[0m\u001b[0m\n\u001b[0;32m---> 50\u001b[0;31m \u001b[0mnumwords\u001b[0m \u001b[0;34m=\u001b[0m \u001b[0mlen\u001b[0m\u001b[0;34m(\u001b[0m\u001b[0mcombined_dict\u001b[0m\u001b[0;34m.\u001b[0m\u001b[0mtoken2id\u001b[0m\u001b[0;34m)\u001b[0m\u001b[0;34m\u001b[0m\u001b[0m\n\u001b[0m\u001b[1;32m     51\u001b[0m \u001b[0membed\u001b[0m \u001b[0;34m=\u001b[0m \u001b[0mEmbedding\u001b[0m\u001b[0;34m(\u001b[0m\u001b[0mnumwords\u001b[0m\u001b[0;34m,\u001b[0m \u001b[0membedding_size\u001b[0m\u001b[0;34m,\u001b[0m \u001b[0mmask_zero\u001b[0m\u001b[0;34m=\u001b[0m\u001b[0;32mTrue\u001b[0m\u001b[0;34m)\u001b[0m\u001b[0;34m\u001b[0m\u001b[0m\n\u001b[1;32m     52\u001b[0m \u001b[0;34m\u001b[0m\u001b[0m\n",
      "\u001b[0;31mNameError\u001b[0m: name 'combined_dict' is not defined"
     ]
    }
   ],
   "source": [
    "import keras\n",
    "from keras.layers import *\n",
    "class GiretTwoCell(keras.layers.Layer):\n",
    "\n",
    "    def __init__(self, cell_1 , cell_2 , nHidden , **kwargs):\n",
    "        self.cell_1 = cell_1\n",
    "        self.cell_2 = cell_2\n",
    "        self.nHidden = nHidden\n",
    "        self.state_size = [nHidden,nHidden]\n",
    "        super(GiretTwoCell, self).__init__(**kwargs)\n",
    "\n",
    "    def build(self, input_shape):\n",
    "        \n",
    "        nHidden = self.nHidden\n",
    "        \n",
    "        input_shape_n = ( input_shape[0] , input_shape[1]- 2 )\n",
    "#         print \"pp\", input_shape_n\n",
    "        \n",
    "#         self.cell_1.build(input_shape_n)\n",
    "#         self.cell_2.build(input_shape_n)\n",
    "        \n",
    "        self._trainable_weights += ( self.cell_1.trainable_weights )\n",
    "        self._trainable_weights += ( self.cell_2.trainable_weights )\n",
    "        \n",
    "        self._non_trainable_weights += (  self.cell_1.non_trainable_weights )\n",
    "        self._non_trainable_weights += (  self.cell_2.non_trainable_weights )\n",
    "        \n",
    "        self.built = True\n",
    "\n",
    "    def call(self, inputs, states):\n",
    "        \n",
    "        nHidden = self.nHidden\n",
    "        \n",
    "        gate_val_1 = inputs[ : , 0:1]\n",
    "        gate_val_2 = inputs[ : , 1:2]\n",
    "        \n",
    "        inputs  = inputs[ : , 2: ]\n",
    "                \n",
    "        gate_val_1 = K.repeat_elements(gate_val_1 , nHidden , -1 ) # shape # bs , hidden\n",
    "        gate_val_2 = K.repeat_elements(gate_val_2 , nHidden , -1 ) # shape # bs , hidden\n",
    "        \n",
    "        _ , [h1 , c1 ]  = self.cell_1.call( inputs , states )\n",
    "        _ , [h2 , c2 ]  = self.cell_2.call( inputs , states )\n",
    "        \n",
    "        h = gate_val_1*h1 + gate_val_2*h2  + (1 - gate_val_1 -  gate_val_2 )*states[0]\n",
    "        c = gate_val_1*c1 + gate_val_2*c2  + (1 - gate_val_1 -  gate_val_2 )*states[1]\n",
    "        \n",
    "        return h, [h , c ]\n",
    "    \n",
    "numwords = len(combined_dict.token2id)\n",
    "embed = Embedding(numwords, embedding_size, mask_zero=True)\n",
    "\n",
    "rnn_en = LSTM(hidden, return_sequences=True, name='rnn_en')\n",
    "rnn_hi = LSTM(hidden , return_sequences=True, name='rnn_hi')\n",
    "\n",
    "       \n",
    "# en\n",
    "inp_en = Input((None, ))\n",
    "x = embed(inp_en)\n",
    "x_en = rnn_en(x)\n",
    "out_en = TimeDistributed(Dense(numwords, activation='linear'))(x_en)\n",
    "\n",
    "\n",
    "# hi\n",
    "inp_hi = Input((None, ))\n",
    "x = embed(inp_hi)\n",
    "x_hi = rnn_hi( x )\n",
    "out_hi = TimeDistributed(Dense(numwords, activation='linear'))(x_hi)\n",
    "\n",
    "\n",
    "cell_combined = GiretTwoCell(rnn_hi.cell , rnn_en.cell , hidden)\n",
    "\n",
    "        \n",
    "inp_enhi = Input((None, ))\n",
    "x = embed(inp_enhi )\n",
    "\n",
    "x_att = x\n",
    "x_att = Bidirectional(LSTM(32 , return_sequences=True))( x )\n",
    "bider_h = x_att \n",
    "x_att = TimeDistributed(Dense(3, activation='softmax') )(x_att)\n",
    "x_att = Lambda(lambda x : x[... , 1: ])(x_att)\n",
    "\n",
    "x = Concatenate(-1)([x_att , x ])\n",
    "\n",
    "x_enhi =  RNN(cell_combined , return_sequences=True, name='damn')(x)\n",
    "out_enhi = TimeDistributed(Dense(numwords , activation='linear'))(x_enhi)\n",
    "        \n",
    "model = Model( [inp_hi , inp_en , inp_enhi  ] , [ out_hi , out_en , out_enhi ] ) "
   ]
  },
  {
   "cell_type": "code",
   "execution_count": 207,
   "metadata": {},
   "outputs": [],
   "source": [
    "model.load_weights('../vendors/language-models/dumps/en./weights')"
   ]
  },
  {
   "cell_type": "code",
   "execution_count": 208,
   "metadata": {},
   "outputs": [],
   "source": [
    "model.trainable = False"
   ]
  },
  {
   "cell_type": "code",
   "execution_count": 68,
   "metadata": {},
   "outputs": [],
   "source": [
    "model.summary()"
   ]
  },
  {
   "cell_type": "code",
   "execution_count": 210,
   "metadata": {},
   "outputs": [],
   "source": [
    "rnn_1 = model.get_layer('rnn_en').output \n",
    "rnn_2 = model.get_layer('rnn_hi').output \n",
    "rnn_3 = model.get_layer('damn').output "
   ]
  },
  {
   "cell_type": "code",
   "execution_count": 211,
   "metadata": {},
   "outputs": [],
   "source": [
    "model_final = Model(inputs = model.input, outputs = [rnn_1, rnn_2, rnn_3])"
   ]
  },
  {
   "cell_type": "code",
   "execution_count": null,
   "metadata": {},
   "outputs": [],
   "source": []
  },
  {
   "cell_type": "code",
   "execution_count": 216,
   "metadata": {},
   "outputs": [],
   "source": [
    "ir = model_final.predict([en_twitter_x,en_twitter_x,en_twitter_x], verbose=10)"
   ]
  },
  {
   "cell_type": "code",
   "execution_count": 232,
   "metadata": {},
   "outputs": [],
   "source": [
    "ir_es =  model_final.predict([es_tass1_x,es_tass1_x,es_tass1_x], verbose=10)"
   ]
  },
  {
   "cell_type": "code",
   "execution_count": 220,
   "metadata": {
    "scrolled": true
   },
   "outputs": [
    {
     "data": {
      "text/plain": [
       "(4241, 15, 50)"
      ]
     },
     "execution_count": 220,
     "metadata": {},
     "output_type": "execute_result"
    }
   ],
   "source": [
    "ir[0].shape"
   ]
  },
  {
   "cell_type": "code",
   "execution_count": 99,
   "metadata": {},
   "outputs": [],
   "source": [
    "main_input = Input((None, ))\n",
    "after_lm = model([main_input,main_input,main_input])"
   ]
  },
  {
   "cell_type": "code",
   "execution_count": 156,
   "metadata": {},
   "outputs": [],
   "source": [
    "out_classfication = Dense(3, input_shape=(100004,))(after_lm[2])"
   ]
  },
  {
   "cell_type": "code",
   "execution_count": 157,
   "metadata": {},
   "outputs": [],
   "source": [
    "classifier = Model(inputs=[main_input],outputs=[out_classfication])"
   ]
  },
  {
   "cell_type": "code",
   "execution_count": 158,
   "metadata": {},
   "outputs": [],
   "source": [
    "classifier.compile(loss='categorical_crossentropy', optimizer='adam',metrics=['accuracy'])"
   ]
  },
  {
   "cell_type": "code",
   "execution_count": 159,
   "metadata": {},
   "outputs": [
    {
     "name": "stdout",
     "output_type": "stream",
     "text": [
      "__________________________________________________________________________________________________\n",
      "Layer (type)                    Output Shape         Param #     Connected to                     \n",
      "==================================================================================================\n",
      "input_31 (InputLayer)           (None, None)         0                                            \n",
      "__________________________________________________________________________________________________\n",
      "model_12 (Model)                [(None, None, 100004 20362655    input_31[0][0]                   \n",
      "                                                                 input_31[0][0]                   \n",
      "                                                                 input_31[0][0]                   \n",
      "__________________________________________________________________________________________________\n",
      "dense_55 (Dense)                (None, None, 3)      300015      model_12[2][2]                   \n",
      "==================================================================================================\n",
      "Total params: 20,662,670\n",
      "Trainable params: 300,015\n",
      "Non-trainable params: 20,362,655\n",
      "__________________________________________________________________________________________________\n"
     ]
    }
   ],
   "source": [
    "classifier.summary()"
   ]
  },
  {
   "cell_type": "code",
   "execution_count": 241,
   "metadata": {},
   "outputs": [
    {
     "name": "stdout",
     "output_type": "stream",
     "text": [
      "_________________________________________________________________\n",
      "Layer (type)                 Output Shape              Param #   \n",
      "=================================================================\n",
      "lstm_50 (LSTM)               (None, 64)                29440     \n",
      "_________________________________________________________________\n",
      "dense_83 (Dense)             (None, 3)                 195       \n",
      "_________________________________________________________________\n",
      "activation_10 (Activation)   (None, 3)                 0         \n",
      "=================================================================\n",
      "Total params: 29,635\n",
      "Trainable params: 29,635\n",
      "Non-trainable params: 0\n",
      "_________________________________________________________________\n"
     ]
    }
   ],
   "source": [
    "model_classifier = Sequential()\n",
    "# model_classifier.add(Input(shape=(15,50)))\n",
    "# model.add(Dropout(0.2))\n",
    "# model.add(Conv1D(filters,\n",
    "#                  kernel_size,\n",
    "#                  activation='relu',\n",
    "#                  strides=1))\n",
    "# model.add(MaxPooling1D(pool_size=pool_size))\n",
    "# model.add(LSTM(lstm_output_size))\n",
    "model_classifier.add((LSTM(64, dropout=0.3, input_shape=(15,50), recurrent_dropout=0.3)))\n",
    "model_classifier.add(Dense(3))\n",
    "model_classifier.add(Activation('softmax'))\n",
    "model_classifier.compile(loss='categorical_crossentropy', optimizer='adam',metrics=['accuracy'])\n",
    "model_classifier.summary()"
   ]
  },
  {
   "cell_type": "code",
   "execution_count": 242,
   "metadata": {},
   "outputs": [],
   "source": [
    "# en_twitter_x=sequence.pad_sequences(en_twitter_x, maxlen=max_length)"
   ]
  },
  {
   "cell_type": "code",
   "execution_count": 243,
   "metadata": {},
   "outputs": [
    {
     "name": "stdout",
     "output_type": "stream",
     "text": [
      "Train on 3816 samples, validate on 425 samples\n",
      "Epoch 1/10\n",
      "3816/3816 [==============================] - 5s 1ms/step - loss: 1.0484 - acc: 0.4539 - val_loss: 0.9948 - val_acc: 0.4941\n",
      "Epoch 2/10\n",
      "3816/3816 [==============================] - 1s 243us/step - loss: 1.0223 - acc: 0.4727 - val_loss: 0.9790 - val_acc: 0.5012\n",
      "Epoch 3/10\n",
      "3816/3816 [==============================] - 1s 225us/step - loss: 1.0152 - acc: 0.4801 - val_loss: 0.9708 - val_acc: 0.4965\n",
      "Epoch 4/10\n",
      "3816/3816 [==============================] - 1s 224us/step - loss: 1.0095 - acc: 0.4788 - val_loss: 0.9628 - val_acc: 0.5224\n",
      "Epoch 5/10\n",
      "3816/3816 [==============================] - 1s 258us/step - loss: 1.0040 - acc: 0.4843 - val_loss: 0.9742 - val_acc: 0.5012\n",
      "Epoch 6/10\n",
      "3816/3816 [==============================] - 1s 226us/step - loss: 1.0022 - acc: 0.4898 - val_loss: 0.9680 - val_acc: 0.4988\n",
      "Epoch 7/10\n",
      "3816/3816 [==============================] - 1s 266us/step - loss: 0.9954 - acc: 0.4879 - val_loss: 0.9645 - val_acc: 0.5012\n",
      "Epoch 8/10\n",
      "3816/3816 [==============================] - 1s 245us/step - loss: 0.9928 - acc: 0.4995 - val_loss: 0.9676 - val_acc: 0.5106\n",
      "Epoch 9/10\n",
      "3816/3816 [==============================] - 1s 230us/step - loss: 0.9899 - acc: 0.4937 - val_loss: 0.9677 - val_acc: 0.5129\n",
      "Epoch 10/10\n",
      "3816/3816 [==============================] - 1s 209us/step - loss: 0.9877 - acc: 0.5003 - val_loss: 0.9550 - val_acc: 0.5271\n"
     ]
    }
   ],
   "source": [
    "history = model_classifier.fit(ir[2], en_twitter_y, \n",
    "                    epochs=10, \n",
    "                    batch_size=128, \n",
    "                    validation_split=0.1, \n",
    "                    shuffle=True)"
   ]
  },
  {
   "cell_type": "code",
   "execution_count": 244,
   "metadata": {},
   "outputs": [
    {
     "name": "stdout",
     "output_type": "stream",
     "text": [
      "7217/7217 [==============================] - 2s 271us/step\n"
     ]
    },
    {
     "data": {
      "text/plain": [
       "[1.1959756445782295, 0.31384231677276037]"
      ]
     },
     "execution_count": 244,
     "metadata": {},
     "output_type": "execute_result"
    }
   ],
   "source": [
    "model_classifier.evaluate(ir_es[2],es_tass_y)"
   ]
  },
  {
   "cell_type": "code",
   "execution_count": null,
   "metadata": {},
   "outputs": [],
   "source": []
  },
  {
   "cell_type": "code",
   "execution_count": null,
   "metadata": {},
   "outputs": [],
   "source": []
  },
  {
   "cell_type": "markdown",
   "metadata": {},
   "source": [
    "## GirNet: Europal"
   ]
  },
  {
   "cell_type": "code",
   "execution_count": 26,
   "metadata": {},
   "outputs": [],
   "source": [
    "import json \n",
    "with open('../vendors/language-models/dumps/en_en_MUSE2./vocab') as f:\n",
    "    word2id = json.load(f)"
   ]
  },
  {
   "cell_type": "code",
   "execution_count": 27,
   "metadata": {},
   "outputs": [],
   "source": [
    "import keras\n",
    "from keras.layers import *\n",
    "from keras.models import Model, Sequential"
   ]
  },
  {
   "cell_type": "code",
   "execution_count": 28,
   "metadata": {},
   "outputs": [],
   "source": [
    "class GiretTwoCell(keras.layers.Layer):\n",
    "\n",
    "    def __init__(self, cell_1 , cell_2 , nHidden , **kwargs):\n",
    "        self.cell_1 = cell_1\n",
    "        self.cell_2 = cell_2\n",
    "        self.nHidden = nHidden\n",
    "        self.state_size = [nHidden,nHidden]\n",
    "        super(GiretTwoCell, self).__init__(**kwargs)\n",
    "\n",
    "    def build(self, input_shape):\n",
    "        \n",
    "        nHidden = self.nHidden\n",
    "        \n",
    "        input_shape_n = ( input_shape[0] , input_shape[1]- 2 )\n",
    "#         print \"pp\", input_shape_n\n",
    "        \n",
    "#         self.cell_1.build(input_shape_n)\n",
    "#         self.cell_2.build(input_shape_n)\n",
    "        \n",
    "        self._trainable_weights += ( self.cell_1.trainable_weights )\n",
    "        self._trainable_weights += ( self.cell_2.trainable_weights )\n",
    "        \n",
    "        self._non_trainable_weights += (  self.cell_1.non_trainable_weights )\n",
    "        self._non_trainable_weights += (  self.cell_2.non_trainable_weights )\n",
    "        \n",
    "        self.built = True\n",
    "\n",
    "    def call(self, inputs, states):\n",
    "        \n",
    "        nHidden = self.nHidden\n",
    "        \n",
    "        gate_val_1 = inputs[ : , 0:1]\n",
    "        gate_val_2 = inputs[ : , 1:2]\n",
    "        \n",
    "        inputs  = inputs[ : , 2: ]\n",
    "                \n",
    "        gate_val_1 = K.repeat_elements(gate_val_1 , nHidden , -1 ) # shape # bs , hidden\n",
    "        gate_val_2 = K.repeat_elements(gate_val_2 , nHidden , -1 ) # shape # bs , hidden\n",
    "        \n",
    "        _ , [h1 , c1 ]  = self.cell_1.call( inputs , states )\n",
    "        _ , [h2 , c2 ]  = self.cell_2.call( inputs , states )\n",
    "        \n",
    "        h = gate_val_1*h1 + gate_val_2*h2  + (1 - gate_val_1 -  gate_val_2 )*states[0]\n",
    "        c = gate_val_1*c1 + gate_val_2*c2  + (1 - gate_val_1 -  gate_val_2 )*states[1]\n",
    "        \n",
    "        return h, [h , c ]"
   ]
  },
  {
   "cell_type": "code",
   "execution_count": 29,
   "metadata": {},
   "outputs": [
    {
     "name": "stdout",
     "output_type": "stream",
     "text": [
      "WARNING:tensorflow:From /usr/local/lib/python3.5/dist-packages/tensorflow/python/framework/op_def_library.py:263: colocate_with (from tensorflow.python.framework.ops) is deprecated and will be removed in a future version.\n",
      "Instructions for updating:\n",
      "Colocations handled automatically by placer.\n",
      "WARNING:tensorflow:From /usr/local/lib/python3.5/dist-packages/keras/backend/tensorflow_backend.py:3445: calling dropout (from tensorflow.python.ops.nn_ops) with keep_prob is deprecated and will be removed in a future version.\n",
      "Instructions for updating:\n",
      "Please use `rate` instead of `keep_prob`. Rate should be set to `rate = 1 - keep_prob`.\n"
     ]
    }
   ],
   "source": [
    "hidden = 256\n",
    "numwords = len(word2id)\n",
    "hidden_emd_dim = 300\n",
    "embed = Embedding(numwords,hidden_emd_dim)\n",
    "\n",
    "rnn_en = LSTM(hidden, return_sequences=True, name='en_lstm', recurrent_dropout=0.3, dropout=0.3)\n",
    "rnn_hi = LSTM(hidden , return_sequences=True, name='es_lstm', recurrent_dropout=0.3, dropout=0.3)\n",
    "\n",
    "       \n",
    "# en\n",
    "inp_en = Input((None, ))\n",
    "x = embed(inp_en)\n",
    "x = rnn_en(x)\n",
    "out_en = TimeDistributed(Dense(numwords, activation='linear'), name='en')(x)\n",
    "\n",
    "\n",
    "# es\n",
    "inp_hi = Input((None, ))\n",
    "x = embed(inp_hi)\n",
    "x = rnn_hi( x )\n",
    "out_hi = TimeDistributed(Dense(numwords, activation='linear'), name='es')(x)\n",
    "\n",
    "\n",
    "cell_combined = GiretTwoCell(rnn_hi.cell , rnn_en.cell , hidden)\n",
    "\n",
    "        \n",
    "inp_enhi = Input((None, ))\n",
    "x = embed(inp_enhi )\n",
    "\n",
    "x_att = x\n",
    "x_att = Bidirectional(LSTM(32 , return_sequences=True, recurrent_dropout=0.3, dropout=0.3))( x )\n",
    "bider_h = x_att \n",
    "x_att = TimeDistributed(Dense(3, activation='softmax') )(x_att)\n",
    "x_att = Lambda(lambda x : x[... , 1: ])(x_att)\n",
    "\n",
    "x = Concatenate(-1)([x_att , x ])\n",
    "\n",
    "x =  RNN(cell_combined , return_sequences=True, name='damn')(x)\n",
    "out_enhi = TimeDistributed(Dense(numwords , activation='linear'), name='en_es')(x)\n",
    "        \n",
    "model = Model( [inp_hi , inp_en , inp_enhi  ] , [ out_hi , out_en , out_enhi ] ) "
   ]
  },
  {
   "cell_type": "code",
   "execution_count": 30,
   "metadata": {},
   "outputs": [],
   "source": [
    "model.load_weights('../vendors/language-models/dumps/en_en_MUSE2./weights')"
   ]
  },
  {
   "cell_type": "code",
   "execution_count": 33,
   "metadata": {},
   "outputs": [],
   "source": [
    "def each(sentence, max_length=32, tokeniser=text_to_word_sequence):\n",
    "    sentence =  sentence['tokens']\n",
    "    new_sent = [word2id['<sos>']] \n",
    "    for word in sentence:\n",
    "        try:\n",
    "            new_sent.append(word2id[word])\n",
    "        except:\n",
    "            new_sent.append(word2id['<unk>'])\n",
    "    \n",
    "    new_sent.append(word2id['<eos>']) \n",
    "    if len(new_sent) > max_length:\n",
    "        new_sent = new_sent[:max_length]\n",
    "    else:\n",
    "        while len(new_sent) < max_length:\n",
    "            new_sent.append(word2id['<pad>'])\n",
    "    return new_sent"
   ]
  },
  {
   "cell_type": "code",
   "execution_count": 34,
   "metadata": {},
   "outputs": [],
   "source": [
    "sent_embedding_model = Model(inputs=model.input, outputs=model.get_layer('damn').output)"
   ]
  },
  {
   "cell_type": "code",
   "execution_count": 35,
   "metadata": {},
   "outputs": [],
   "source": [
    "def get_sent_embeddings(sents):\n",
    "    sents = [each(sent) for sent in sents] \n",
    "    return sent_embedding_model.predict([sents,sents,sents], batch_size=64)"
   ]
  },
  {
   "cell_type": "code",
   "execution_count": 36,
   "metadata": {},
   "outputs": [],
   "source": [
    "en_semeval_17_x = get_sent_embeddings(en_semeval_17)\n",
    "es_tass1_data_x = get_sent_embeddings(es_tass1_data)\n",
    "es_twitter_x = get_sent_embeddings(es2_twitter_data)\n",
    "en_twitter_x = get_sent_embeddings(en_twitter_data)\n",
    "en_es_wssa_x = get_sent_embeddings(en_es_wssa_data)"
   ]
  },
  {
   "cell_type": "code",
   "execution_count": 57,
   "metadata": {},
   "outputs": [
    {
     "name": "stdout",
     "output_type": "stream",
     "text": [
      "_________________________________________________________________\n",
      "Layer (type)                 Output Shape              Param #   \n",
      "=================================================================\n",
      "lstm_6 (LSTM)                (None, 256)               525312    \n",
      "_________________________________________________________________\n",
      "dense_10 (Dense)             (None, 128)               32896     \n",
      "_________________________________________________________________\n",
      "dropout_1 (Dropout)          (None, 128)               0         \n",
      "_________________________________________________________________\n",
      "dense_11 (Dense)             (None, 3)                 387       \n",
      "_________________________________________________________________\n",
      "activation_5 (Activation)    (None, 3)                 0         \n",
      "=================================================================\n",
      "Total params: 558,595\n",
      "Trainable params: 558,595\n",
      "Non-trainable params: 0\n",
      "_________________________________________________________________\n"
     ]
    }
   ],
   "source": [
    "model = Sequential()\n",
    "# model_classifier.add(Input(shape=(15,50)))\n",
    "# model.add(Dropout(0.2))\n",
    "# model.add(Conv1D(filters,\n",
    "#                  kernel_size,\n",
    "#                  activation='relu',\n",
    "#                  strides=1))\n",
    "# model.add(MaxPooling1D(pool_size=pool_size))\n",
    "# model.add(LSTM(lstm_output_size))\n",
    "model.add((LSTM(256, dropout=0.4, recurrent_dropout=0.4, input_shape=(32,256))))\n",
    "model.add(Dense(128,activation='relu'))\n",
    "model.add(Dropout(0.3))\n",
    "model.add(Dense(3))\n",
    "model.add(Activation('softmax'))\n",
    "model.compile(loss='categorical_crossentropy', optimizer='adam', metrics=['accuracy', f1])\n",
    "model.summary()"
   ]
  },
  {
   "cell_type": "code",
   "execution_count": 54,
   "metadata": {
    "scrolled": true
   },
   "outputs": [
    {
     "name": "stdout",
     "output_type": "stream",
     "text": [
      "Train on 14442 samples, validate on 6190 samples\n",
      "Epoch 1/50\n",
      "14442/14442 [==============================] - 10s 688us/step - loss: 0.9610 - acc: 0.5116 - f1: 0.3748 - val_loss: 0.9780 - val_acc: 0.4842 - val_f1: 0.4701\n",
      "Epoch 2/50\n",
      "14442/14442 [==============================] - 8s 523us/step - loss: 0.9312 - acc: 0.5330 - f1: 0.4452 - val_loss: 0.9987 - val_acc: 0.5136 - val_f1: 0.4857\n",
      "Epoch 3/50\n",
      "14442/14442 [==============================] - 8s 538us/step - loss: 0.9151 - acc: 0.5413 - f1: 0.4739 - val_loss: 0.9261 - val_acc: 0.5357 - val_f1: 0.4804\n",
      "Epoch 4/50\n",
      "14442/14442 [==============================] - 8s 556us/step - loss: 0.9026 - acc: 0.5589 - f1: 0.5009 - val_loss: 0.9546 - val_acc: 0.5341 - val_f1: 0.5086\n",
      "Epoch 5/50\n",
      "14442/14442 [==============================] - 8s 547us/step - loss: 0.8947 - acc: 0.5631 - f1: 0.5087 - val_loss: 0.9301 - val_acc: 0.5317 - val_f1: 0.4838\n",
      "Epoch 6/50\n",
      "14442/14442 [==============================] - 8s 549us/step - loss: 0.8884 - acc: 0.5710 - f1: 0.5181 - val_loss: 0.9314 - val_acc: 0.5467 - val_f1: 0.5210\n",
      "Epoch 7/50\n",
      "14442/14442 [==============================] - 8s 533us/step - loss: 0.8777 - acc: 0.5782 - f1: 0.5334 - val_loss: 0.9132 - val_acc: 0.5530 - val_f1: 0.5022\n",
      "Epoch 8/50\n",
      "14442/14442 [==============================] - 8s 565us/step - loss: 0.8684 - acc: 0.5839 - f1: 0.5406 - val_loss: 0.9003 - val_acc: 0.5635 - val_f1: 0.4997\n",
      "Epoch 9/50\n",
      "14442/14442 [==============================] - 8s 562us/step - loss: 0.8633 - acc: 0.5883 - f1: 0.5432 - val_loss: 0.9172 - val_acc: 0.5557 - val_f1: 0.5397\n",
      "Epoch 10/50\n",
      "14442/14442 [==============================] - 8s 548us/step - loss: 0.8571 - acc: 0.5924 - f1: 0.5508 - val_loss: 0.9168 - val_acc: 0.5604 - val_f1: 0.5164\n",
      "Epoch 11/50\n",
      "14442/14442 [==============================] - 8s 579us/step - loss: 0.8501 - acc: 0.6000 - f1: 0.5629 - val_loss: 0.8994 - val_acc: 0.5724 - val_f1: 0.5173\n",
      "Epoch 12/50\n",
      "14442/14442 [==============================] - 8s 557us/step - loss: 0.8411 - acc: 0.6027 - f1: 0.5652 - val_loss: 0.9194 - val_acc: 0.5574 - val_f1: 0.5396\n",
      "Epoch 13/50\n",
      "14442/14442 [==============================] - 8s 560us/step - loss: 0.8373 - acc: 0.6045 - f1: 0.5697 - val_loss: 0.8931 - val_acc: 0.5761 - val_f1: 0.5225\n",
      "Epoch 14/50\n",
      "14442/14442 [==============================] - 8s 584us/step - loss: 0.8323 - acc: 0.6103 - f1: 0.5752 - val_loss: 0.8909 - val_acc: 0.5779 - val_f1: 0.5318\n",
      "Epoch 15/50\n",
      "14442/14442 [==============================] - 8s 549us/step - loss: 0.8226 - acc: 0.6160 - f1: 0.5821 - val_loss: 0.8863 - val_acc: 0.5829 - val_f1: 0.5313\n",
      "Epoch 16/50\n",
      "14442/14442 [==============================] - 8s 563us/step - loss: 0.8208 - acc: 0.6154 - f1: 0.5817 - val_loss: 0.9117 - val_acc: 0.5583 - val_f1: 0.5283\n",
      "Epoch 17/50\n",
      "14442/14442 [==============================] - 8s 560us/step - loss: 0.8121 - acc: 0.6213 - f1: 0.5900 - val_loss: 0.8881 - val_acc: 0.5808 - val_f1: 0.5343\n",
      "Epoch 18/50\n",
      "14442/14442 [==============================] - 8s 536us/step - loss: 0.8081 - acc: 0.6266 - f1: 0.5965 - val_loss: 0.9220 - val_acc: 0.5751 - val_f1: 0.5623\n",
      "Epoch 19/50\n",
      "14442/14442 [==============================] - 8s 545us/step - loss: 0.7998 - acc: 0.6327 - f1: 0.6043 - val_loss: 0.8949 - val_acc: 0.5790 - val_f1: 0.5481\n",
      "Epoch 20/50\n",
      "14442/14442 [==============================] - 8s 536us/step - loss: 0.7911 - acc: 0.6363 - f1: 0.6091 - val_loss: 0.9089 - val_acc: 0.5742 - val_f1: 0.5547\n",
      "Epoch 21/50\n",
      "14442/14442 [==============================] - 8s 543us/step - loss: 0.7821 - acc: 0.6397 - f1: 0.6132 - val_loss: 0.9043 - val_acc: 0.5856 - val_f1: 0.5663\n",
      "Epoch 22/50\n",
      "14442/14442 [==============================] - 8s 530us/step - loss: 0.7729 - acc: 0.6467 - f1: 0.6219 - val_loss: 0.9071 - val_acc: 0.5784 - val_f1: 0.5516\n",
      "Epoch 23/50\n",
      "14442/14442 [==============================] - 8s 548us/step - loss: 0.7682 - acc: 0.6460 - f1: 0.6198 - val_loss: 0.9176 - val_acc: 0.5843 - val_f1: 0.5657\n",
      "Epoch 24/50\n",
      "14442/14442 [==============================] - 8s 541us/step - loss: 0.7572 - acc: 0.6540 - f1: 0.6286 - val_loss: 0.9340 - val_acc: 0.5763 - val_f1: 0.5652\n",
      "Epoch 25/50\n",
      "14442/14442 [==============================] - 8s 561us/step - loss: 0.7504 - acc: 0.6580 - f1: 0.6344 - val_loss: 0.9292 - val_acc: 0.5819 - val_f1: 0.5646\n",
      "Epoch 26/50\n",
      "14442/14442 [==============================] - 8s 537us/step - loss: 0.7376 - acc: 0.6674 - f1: 0.6487 - val_loss: 0.9267 - val_acc: 0.5759 - val_f1: 0.5552\n",
      "Epoch 27/50\n",
      "14442/14442 [==============================] - 8s 545us/step - loss: 0.7316 - acc: 0.6694 - f1: 0.6508 - val_loss: 0.9346 - val_acc: 0.5850 - val_f1: 0.5638\n",
      "Epoch 28/50\n",
      "14442/14442 [==============================] - 8s 552us/step - loss: 0.7232 - acc: 0.6739 - f1: 0.6568 - val_loss: 0.9575 - val_acc: 0.5732 - val_f1: 0.5514\n",
      "Epoch 29/50\n",
      "14442/14442 [==============================] - 8s 579us/step - loss: 0.7106 - acc: 0.6845 - f1: 0.6679 - val_loss: 0.9634 - val_acc: 0.5800 - val_f1: 0.5676\n",
      "Epoch 30/50\n",
      "14442/14442 [==============================] - 8s 552us/step - loss: 0.7000 - acc: 0.6846 - f1: 0.6691 - val_loss: 0.9609 - val_acc: 0.5759 - val_f1: 0.5583\n",
      "Epoch 31/50\n",
      "14442/14442 [==============================] - 8s 524us/step - loss: 0.6938 - acc: 0.6891 - f1: 0.6742 - val_loss: 0.9619 - val_acc: 0.5777 - val_f1: 0.5581\n",
      "Epoch 32/50\n",
      "14442/14442 [==============================] - 8s 551us/step - loss: 0.6844 - acc: 0.6971 - f1: 0.6841 - val_loss: 0.9626 - val_acc: 0.5709 - val_f1: 0.5514\n",
      "Epoch 33/50\n",
      "14442/14442 [==============================] - 8s 543us/step - loss: 0.6776 - acc: 0.6996 - f1: 0.6863 - val_loss: 0.9800 - val_acc: 0.5745 - val_f1: 0.5561\n",
      "Epoch 34/50\n",
      "14442/14442 [==============================] - 8s 536us/step - loss: 0.6686 - acc: 0.7026 - f1: 0.6900 - val_loss: 0.9963 - val_acc: 0.5777 - val_f1: 0.5642\n",
      "Epoch 35/50\n",
      "14442/14442 [==============================] - 8s 549us/step - loss: 0.6518 - acc: 0.7104 - f1: 0.7001 - val_loss: 1.0184 - val_acc: 0.5729 - val_f1: 0.5597\n",
      "Epoch 36/50\n",
      "14442/14442 [==============================] - 8s 544us/step - loss: 0.6533 - acc: 0.7131 - f1: 0.7002 - val_loss: 1.0206 - val_acc: 0.5727 - val_f1: 0.5581\n",
      "Epoch 37/50\n",
      "14442/14442 [==============================] - 8s 533us/step - loss: 0.6368 - acc: 0.7194 - f1: 0.7088 - val_loss: 1.0500 - val_acc: 0.5727 - val_f1: 0.5603\n",
      "Epoch 38/50\n",
      "14442/14442 [==============================] - 8s 522us/step - loss: 0.6339 - acc: 0.7219 - f1: 0.7131 - val_loss: 1.0468 - val_acc: 0.5709 - val_f1: 0.5579\n",
      "Epoch 39/50\n",
      "14442/14442 [==============================] - 8s 537us/step - loss: 0.6221 - acc: 0.7275 - f1: 0.7191 - val_loss: 1.0395 - val_acc: 0.5682 - val_f1: 0.5551\n",
      "Epoch 40/50\n",
      "14442/14442 [==============================] - 8s 531us/step - loss: 0.6098 - acc: 0.7353 - f1: 0.7268 - val_loss: 1.0456 - val_acc: 0.5622 - val_f1: 0.5485\n",
      "Epoch 41/50\n",
      "14442/14442 [==============================] - 8s 551us/step - loss: 0.6003 - acc: 0.7423 - f1: 0.7347 - val_loss: 1.0561 - val_acc: 0.5677 - val_f1: 0.5552\n",
      "Epoch 42/50\n",
      "11008/14442 [=====================>........] - ETA: 1s - loss: 0.5950 - acc: 0.7428 - f1: 0.7349"
     ]
    },
    {
     "ename": "KeyboardInterrupt",
     "evalue": "",
     "output_type": "error",
     "traceback": [
      "\u001b[0;31m---------------------------------------------------------------------------\u001b[0m",
      "\u001b[0;31mKeyboardInterrupt\u001b[0m                         Traceback (most recent call last)",
      "\u001b[0;32m<ipython-input-54-0a74f004a03c>\u001b[0m in \u001b[0;36m<module>\u001b[0;34m\u001b[0m\n\u001b[0;32m----> 1\u001b[0;31m \u001b[0mhistory\u001b[0m \u001b[0;34m=\u001b[0m \u001b[0mmodel\u001b[0m\u001b[0;34m.\u001b[0m\u001b[0mfit\u001b[0m\u001b[0;34m(\u001b[0m\u001b[0men_semeval_17_x\u001b[0m\u001b[0;34m,\u001b[0m \u001b[0men_semeval_17_y\u001b[0m\u001b[0;34m,\u001b[0m \u001b[0mbatch_size\u001b[0m\u001b[0;34m=\u001b[0m\u001b[0;36m128\u001b[0m\u001b[0;34m,\u001b[0m \u001b[0mepochs\u001b[0m\u001b[0;34m=\u001b[0m\u001b[0;36m50\u001b[0m\u001b[0;34m,\u001b[0m \u001b[0mvalidation_split\u001b[0m\u001b[0;34m=\u001b[0m\u001b[0;36m0.3\u001b[0m\u001b[0;34m,\u001b[0m \u001b[0mshuffle\u001b[0m\u001b[0;34m=\u001b[0m\u001b[0;32mTrue\u001b[0m\u001b[0;34m,\u001b[0m \u001b[0minitial_epoch\u001b[0m\u001b[0;34m=\u001b[0m\u001b[0;36m0\u001b[0m\u001b[0;34m)\u001b[0m\u001b[0;34m\u001b[0m\u001b[0m\n\u001b[0m",
      "\u001b[0;32m/usr/local/lib/python3.5/dist-packages/keras/engine/training.py\u001b[0m in \u001b[0;36mfit\u001b[0;34m(self, x, y, batch_size, epochs, verbose, callbacks, validation_split, validation_data, shuffle, class_weight, sample_weight, initial_epoch, steps_per_epoch, validation_steps, **kwargs)\u001b[0m\n\u001b[1;32m   1037\u001b[0m                                         \u001b[0minitial_epoch\u001b[0m\u001b[0;34m=\u001b[0m\u001b[0minitial_epoch\u001b[0m\u001b[0;34m,\u001b[0m\u001b[0;34m\u001b[0m\u001b[0m\n\u001b[1;32m   1038\u001b[0m                                         \u001b[0msteps_per_epoch\u001b[0m\u001b[0;34m=\u001b[0m\u001b[0msteps_per_epoch\u001b[0m\u001b[0;34m,\u001b[0m\u001b[0;34m\u001b[0m\u001b[0m\n\u001b[0;32m-> 1039\u001b[0;31m                                         validation_steps=validation_steps)\n\u001b[0m\u001b[1;32m   1040\u001b[0m \u001b[0;34m\u001b[0m\u001b[0m\n\u001b[1;32m   1041\u001b[0m     def evaluate(self, x=None, y=None,\n",
      "\u001b[0;32m/usr/local/lib/python3.5/dist-packages/keras/engine/training_arrays.py\u001b[0m in \u001b[0;36mfit_loop\u001b[0;34m(model, f, ins, out_labels, batch_size, epochs, verbose, callbacks, val_f, val_ins, shuffle, callback_metrics, initial_epoch, steps_per_epoch, validation_steps)\u001b[0m\n\u001b[1;32m    197\u001b[0m                     \u001b[0mins_batch\u001b[0m\u001b[0;34m[\u001b[0m\u001b[0mi\u001b[0m\u001b[0;34m]\u001b[0m \u001b[0;34m=\u001b[0m \u001b[0mins_batch\u001b[0m\u001b[0;34m[\u001b[0m\u001b[0mi\u001b[0m\u001b[0;34m]\u001b[0m\u001b[0;34m.\u001b[0m\u001b[0mtoarray\u001b[0m\u001b[0;34m(\u001b[0m\u001b[0;34m)\u001b[0m\u001b[0;34m\u001b[0m\u001b[0m\n\u001b[1;32m    198\u001b[0m \u001b[0;34m\u001b[0m\u001b[0m\n\u001b[0;32m--> 199\u001b[0;31m                 \u001b[0mouts\u001b[0m \u001b[0;34m=\u001b[0m \u001b[0mf\u001b[0m\u001b[0;34m(\u001b[0m\u001b[0mins_batch\u001b[0m\u001b[0;34m)\u001b[0m\u001b[0;34m\u001b[0m\u001b[0m\n\u001b[0m\u001b[1;32m    200\u001b[0m                 \u001b[0mouts\u001b[0m \u001b[0;34m=\u001b[0m \u001b[0mto_list\u001b[0m\u001b[0;34m(\u001b[0m\u001b[0mouts\u001b[0m\u001b[0;34m)\u001b[0m\u001b[0;34m\u001b[0m\u001b[0m\n\u001b[1;32m    201\u001b[0m                 \u001b[0;32mfor\u001b[0m \u001b[0ml\u001b[0m\u001b[0;34m,\u001b[0m \u001b[0mo\u001b[0m \u001b[0;32min\u001b[0m \u001b[0mzip\u001b[0m\u001b[0;34m(\u001b[0m\u001b[0mout_labels\u001b[0m\u001b[0;34m,\u001b[0m \u001b[0mouts\u001b[0m\u001b[0;34m)\u001b[0m\u001b[0;34m:\u001b[0m\u001b[0;34m\u001b[0m\u001b[0m\n",
      "\u001b[0;32m/usr/local/lib/python3.5/dist-packages/keras/backend/tensorflow_backend.py\u001b[0m in \u001b[0;36m__call__\u001b[0;34m(self, inputs)\u001b[0m\n\u001b[1;32m   2713\u001b[0m                 \u001b[0;32mreturn\u001b[0m \u001b[0mself\u001b[0m\u001b[0;34m.\u001b[0m\u001b[0m_legacy_call\u001b[0m\u001b[0;34m(\u001b[0m\u001b[0minputs\u001b[0m\u001b[0;34m)\u001b[0m\u001b[0;34m\u001b[0m\u001b[0m\n\u001b[1;32m   2714\u001b[0m \u001b[0;34m\u001b[0m\u001b[0m\n\u001b[0;32m-> 2715\u001b[0;31m             \u001b[0;32mreturn\u001b[0m \u001b[0mself\u001b[0m\u001b[0;34m.\u001b[0m\u001b[0m_call\u001b[0m\u001b[0;34m(\u001b[0m\u001b[0minputs\u001b[0m\u001b[0;34m)\u001b[0m\u001b[0;34m\u001b[0m\u001b[0m\n\u001b[0m\u001b[1;32m   2716\u001b[0m         \u001b[0;32melse\u001b[0m\u001b[0;34m:\u001b[0m\u001b[0;34m\u001b[0m\u001b[0m\n\u001b[1;32m   2717\u001b[0m             \u001b[0;32mif\u001b[0m \u001b[0mpy_any\u001b[0m\u001b[0;34m(\u001b[0m\u001b[0mis_tensor\u001b[0m\u001b[0;34m(\u001b[0m\u001b[0mx\u001b[0m\u001b[0;34m)\u001b[0m \u001b[0;32mfor\u001b[0m \u001b[0mx\u001b[0m \u001b[0;32min\u001b[0m \u001b[0minputs\u001b[0m\u001b[0;34m)\u001b[0m\u001b[0;34m:\u001b[0m\u001b[0;34m\u001b[0m\u001b[0m\n",
      "\u001b[0;32m/usr/local/lib/python3.5/dist-packages/keras/backend/tensorflow_backend.py\u001b[0m in \u001b[0;36m_call\u001b[0;34m(self, inputs)\u001b[0m\n\u001b[1;32m   2673\u001b[0m             \u001b[0mfetched\u001b[0m \u001b[0;34m=\u001b[0m \u001b[0mself\u001b[0m\u001b[0;34m.\u001b[0m\u001b[0m_callable_fn\u001b[0m\u001b[0;34m(\u001b[0m\u001b[0;34m*\u001b[0m\u001b[0marray_vals\u001b[0m\u001b[0;34m,\u001b[0m \u001b[0mrun_metadata\u001b[0m\u001b[0;34m=\u001b[0m\u001b[0mself\u001b[0m\u001b[0;34m.\u001b[0m\u001b[0mrun_metadata\u001b[0m\u001b[0;34m)\u001b[0m\u001b[0;34m\u001b[0m\u001b[0m\n\u001b[1;32m   2674\u001b[0m         \u001b[0;32melse\u001b[0m\u001b[0;34m:\u001b[0m\u001b[0;34m\u001b[0m\u001b[0m\n\u001b[0;32m-> 2675\u001b[0;31m             \u001b[0mfetched\u001b[0m \u001b[0;34m=\u001b[0m \u001b[0mself\u001b[0m\u001b[0;34m.\u001b[0m\u001b[0m_callable_fn\u001b[0m\u001b[0;34m(\u001b[0m\u001b[0;34m*\u001b[0m\u001b[0marray_vals\u001b[0m\u001b[0;34m)\u001b[0m\u001b[0;34m\u001b[0m\u001b[0m\n\u001b[0m\u001b[1;32m   2676\u001b[0m         \u001b[0;32mreturn\u001b[0m \u001b[0mfetched\u001b[0m\u001b[0;34m[\u001b[0m\u001b[0;34m:\u001b[0m\u001b[0mlen\u001b[0m\u001b[0;34m(\u001b[0m\u001b[0mself\u001b[0m\u001b[0;34m.\u001b[0m\u001b[0moutputs\u001b[0m\u001b[0;34m)\u001b[0m\u001b[0;34m]\u001b[0m\u001b[0;34m\u001b[0m\u001b[0m\n\u001b[1;32m   2677\u001b[0m \u001b[0;34m\u001b[0m\u001b[0m\n",
      "\u001b[0;32m/usr/local/lib/python3.5/dist-packages/tensorflow/python/client/session.py\u001b[0m in \u001b[0;36m__call__\u001b[0;34m(self, *args, **kwargs)\u001b[0m\n\u001b[1;32m   1437\u001b[0m           ret = tf_session.TF_SessionRunCallable(\n\u001b[1;32m   1438\u001b[0m               \u001b[0mself\u001b[0m\u001b[0;34m.\u001b[0m\u001b[0m_session\u001b[0m\u001b[0;34m.\u001b[0m\u001b[0m_session\u001b[0m\u001b[0;34m,\u001b[0m \u001b[0mself\u001b[0m\u001b[0;34m.\u001b[0m\u001b[0m_handle\u001b[0m\u001b[0;34m,\u001b[0m \u001b[0margs\u001b[0m\u001b[0;34m,\u001b[0m \u001b[0mstatus\u001b[0m\u001b[0;34m,\u001b[0m\u001b[0;34m\u001b[0m\u001b[0m\n\u001b[0;32m-> 1439\u001b[0;31m               run_metadata_ptr)\n\u001b[0m\u001b[1;32m   1440\u001b[0m         \u001b[0;32mif\u001b[0m \u001b[0mrun_metadata\u001b[0m\u001b[0;34m:\u001b[0m\u001b[0;34m\u001b[0m\u001b[0m\n\u001b[1;32m   1441\u001b[0m           \u001b[0mproto_data\u001b[0m \u001b[0;34m=\u001b[0m \u001b[0mtf_session\u001b[0m\u001b[0;34m.\u001b[0m\u001b[0mTF_GetBuffer\u001b[0m\u001b[0;34m(\u001b[0m\u001b[0mrun_metadata_ptr\u001b[0m\u001b[0;34m)\u001b[0m\u001b[0;34m\u001b[0m\u001b[0m\n",
      "\u001b[0;31mKeyboardInterrupt\u001b[0m: "
     ]
    }
   ],
   "source": [
    "history = model.fit(en_semeval_17_x, en_semeval_17_y, batch_size=128, epochs=50, validation_split=0.3, shuffle=True, initial_epoch=0)"
   ]
  },
  {
   "cell_type": "code",
   "execution_count": 56,
   "metadata": {},
   "outputs": [],
   "source": [
    "x = np.concatenate([en_semeval_17_x,es_twitter_x,es_tass1_data_x, en_twitter_x])\n",
    "y = np.concatenate([en_semeval_17_y,es_twitter_y,es_tass_y, en_twitter_y])"
   ]
  },
  {
   "cell_type": "code",
   "execution_count": 58,
   "metadata": {
    "scrolled": true
   },
   "outputs": [
    {
     "name": "stdout",
     "output_type": "stream",
     "text": [
      "Train on 35292 samples, validate on 3062 samples\n",
      "Epoch 1/50\n",
      "35292/35292 [==============================] - 20s 567us/step - loss: 0.9992 - acc: 0.4828 - f1: 0.3040 - val_loss: 1.0577 - val_acc: 0.4425 - val_f1: 0.2868\n",
      "Epoch 2/50\n",
      "35292/35292 [==============================] - 18s 513us/step - loss: 0.9602 - acc: 0.5222 - f1: 0.4011 - val_loss: 1.0722 - val_acc: 0.4445 - val_f1: 0.2989\n",
      "Epoch 3/50\n",
      "35292/35292 [==============================] - 18s 504us/step - loss: 0.9447 - acc: 0.5360 - f1: 0.4406 - val_loss: 1.0442 - val_acc: 0.4595 - val_f1: 0.2680\n",
      "Epoch 4/50\n",
      "35292/35292 [==============================] - 18s 513us/step - loss: 0.9363 - acc: 0.5443 - f1: 0.4552 - val_loss: 1.0600 - val_acc: 0.4497 - val_f1: 0.3029\n",
      "Epoch 5/50\n",
      "35292/35292 [==============================] - 18s 510us/step - loss: 0.9279 - acc: 0.5505 - f1: 0.4648 - val_loss: 1.0528 - val_acc: 0.4549 - val_f1: 0.2443\n",
      "Epoch 6/50\n",
      "35292/35292 [==============================] - 18s 497us/step - loss: 0.9209 - acc: 0.5561 - f1: 0.4762 - val_loss: 1.0467 - val_acc: 0.4526 - val_f1: 0.2355\n",
      "Epoch 7/50\n",
      "35292/35292 [==============================] - 17s 494us/step - loss: 0.9165 - acc: 0.5607 - f1: 0.4800 - val_loss: 1.0432 - val_acc: 0.4585 - val_f1: 0.2773\n",
      "Epoch 8/50\n",
      " 9344/35292 [======>.......................] - ETA: 12s - loss: 0.9054 - acc: 0.5651 - f1: 0.4866"
     ]
    },
    {
     "ename": "KeyboardInterrupt",
     "evalue": "",
     "output_type": "error",
     "traceback": [
      "\u001b[0;31m---------------------------------------------------------------------------\u001b[0m",
      "\u001b[0;31mKeyboardInterrupt\u001b[0m                         Traceback (most recent call last)",
      "\u001b[0;32m<ipython-input-58-78b21a3b75b3>\u001b[0m in \u001b[0;36m<module>\u001b[0;34m\u001b[0m\n\u001b[0;32m----> 1\u001b[0;31m \u001b[0mhistory\u001b[0m \u001b[0;34m=\u001b[0m \u001b[0mmodel\u001b[0m\u001b[0;34m.\u001b[0m\u001b[0mfit\u001b[0m\u001b[0;34m(\u001b[0m\u001b[0mx\u001b[0m\u001b[0;34m,\u001b[0m \u001b[0my\u001b[0m\u001b[0;34m,\u001b[0m \u001b[0mbatch_size\u001b[0m\u001b[0;34m=\u001b[0m\u001b[0;36m128\u001b[0m\u001b[0;34m,\u001b[0m \u001b[0mepochs\u001b[0m\u001b[0;34m=\u001b[0m\u001b[0;36m50\u001b[0m\u001b[0;34m,\u001b[0m \u001b[0mvalidation_data\u001b[0m\u001b[0;34m=\u001b[0m\u001b[0;34m(\u001b[0m\u001b[0men_es_wssa_x\u001b[0m\u001b[0;34m,\u001b[0m \u001b[0men_es_y\u001b[0m\u001b[0;34m)\u001b[0m\u001b[0;34m,\u001b[0m \u001b[0mshuffle\u001b[0m\u001b[0;34m=\u001b[0m\u001b[0;32mTrue\u001b[0m\u001b[0;34m,\u001b[0m \u001b[0minitial_epoch\u001b[0m\u001b[0;34m=\u001b[0m\u001b[0;36m0\u001b[0m\u001b[0;34m)\u001b[0m\u001b[0;34m\u001b[0m\u001b[0m\n\u001b[0m",
      "\u001b[0;32m/usr/local/lib/python3.5/dist-packages/keras/engine/training.py\u001b[0m in \u001b[0;36mfit\u001b[0;34m(self, x, y, batch_size, epochs, verbose, callbacks, validation_split, validation_data, shuffle, class_weight, sample_weight, initial_epoch, steps_per_epoch, validation_steps, **kwargs)\u001b[0m\n\u001b[1;32m   1037\u001b[0m                                         \u001b[0minitial_epoch\u001b[0m\u001b[0;34m=\u001b[0m\u001b[0minitial_epoch\u001b[0m\u001b[0;34m,\u001b[0m\u001b[0;34m\u001b[0m\u001b[0m\n\u001b[1;32m   1038\u001b[0m                                         \u001b[0msteps_per_epoch\u001b[0m\u001b[0;34m=\u001b[0m\u001b[0msteps_per_epoch\u001b[0m\u001b[0;34m,\u001b[0m\u001b[0;34m\u001b[0m\u001b[0m\n\u001b[0;32m-> 1039\u001b[0;31m                                         validation_steps=validation_steps)\n\u001b[0m\u001b[1;32m   1040\u001b[0m \u001b[0;34m\u001b[0m\u001b[0m\n\u001b[1;32m   1041\u001b[0m     def evaluate(self, x=None, y=None,\n",
      "\u001b[0;32m/usr/local/lib/python3.5/dist-packages/keras/engine/training_arrays.py\u001b[0m in \u001b[0;36mfit_loop\u001b[0;34m(model, f, ins, out_labels, batch_size, epochs, verbose, callbacks, val_f, val_ins, shuffle, callback_metrics, initial_epoch, steps_per_epoch, validation_steps)\u001b[0m\n\u001b[1;32m    183\u001b[0m                         \u001b[0;31m# Do not slice the training phase flag.\u001b[0m\u001b[0;34m\u001b[0m\u001b[0;34m\u001b[0m\u001b[0m\n\u001b[1;32m    184\u001b[0m                         ins_batch = slice_arrays(\n\u001b[0;32m--> 185\u001b[0;31m                             ins[:-1], batch_ids) + [ins[-1]]\n\u001b[0m\u001b[1;32m    186\u001b[0m                     \u001b[0;32melse\u001b[0m\u001b[0;34m:\u001b[0m\u001b[0;34m\u001b[0m\u001b[0m\n\u001b[1;32m    187\u001b[0m                         \u001b[0mins_batch\u001b[0m \u001b[0;34m=\u001b[0m \u001b[0mslice_arrays\u001b[0m\u001b[0;34m(\u001b[0m\u001b[0mins\u001b[0m\u001b[0;34m,\u001b[0m \u001b[0mbatch_ids\u001b[0m\u001b[0;34m)\u001b[0m\u001b[0;34m\u001b[0m\u001b[0m\n",
      "\u001b[0;32m/usr/local/lib/python3.5/dist-packages/keras/utils/generic_utils.py\u001b[0m in \u001b[0;36mslice_arrays\u001b[0;34m(arrays, start, stop)\u001b[0m\n\u001b[1;32m    524\u001b[0m             \u001b[0;32mif\u001b[0m \u001b[0mhasattr\u001b[0m\u001b[0;34m(\u001b[0m\u001b[0mstart\u001b[0m\u001b[0;34m,\u001b[0m \u001b[0;34m'shape'\u001b[0m\u001b[0;34m)\u001b[0m\u001b[0;34m:\u001b[0m\u001b[0;34m\u001b[0m\u001b[0m\n\u001b[1;32m    525\u001b[0m                 \u001b[0mstart\u001b[0m \u001b[0;34m=\u001b[0m \u001b[0mstart\u001b[0m\u001b[0;34m.\u001b[0m\u001b[0mtolist\u001b[0m\u001b[0;34m(\u001b[0m\u001b[0;34m)\u001b[0m\u001b[0;34m\u001b[0m\u001b[0m\n\u001b[0;32m--> 526\u001b[0;31m             \u001b[0;32mreturn\u001b[0m \u001b[0;34m[\u001b[0m\u001b[0;32mNone\u001b[0m \u001b[0;32mif\u001b[0m \u001b[0mx\u001b[0m \u001b[0;32mis\u001b[0m \u001b[0;32mNone\u001b[0m \u001b[0;32melse\u001b[0m \u001b[0mx\u001b[0m\u001b[0;34m[\u001b[0m\u001b[0mstart\u001b[0m\u001b[0;34m]\u001b[0m \u001b[0;32mfor\u001b[0m \u001b[0mx\u001b[0m \u001b[0;32min\u001b[0m \u001b[0marrays\u001b[0m\u001b[0;34m]\u001b[0m\u001b[0;34m\u001b[0m\u001b[0m\n\u001b[0m\u001b[1;32m    527\u001b[0m         \u001b[0;32melse\u001b[0m\u001b[0;34m:\u001b[0m\u001b[0;34m\u001b[0m\u001b[0m\n\u001b[1;32m    528\u001b[0m             \u001b[0;32mreturn\u001b[0m \u001b[0;34m[\u001b[0m\u001b[0;32mNone\u001b[0m \u001b[0;32mif\u001b[0m \u001b[0mx\u001b[0m \u001b[0;32mis\u001b[0m \u001b[0;32mNone\u001b[0m \u001b[0;32melse\u001b[0m \u001b[0mx\u001b[0m\u001b[0;34m[\u001b[0m\u001b[0mstart\u001b[0m\u001b[0;34m:\u001b[0m\u001b[0mstop\u001b[0m\u001b[0;34m]\u001b[0m \u001b[0;32mfor\u001b[0m \u001b[0mx\u001b[0m \u001b[0;32min\u001b[0m \u001b[0marrays\u001b[0m\u001b[0;34m]\u001b[0m\u001b[0;34m\u001b[0m\u001b[0m\n",
      "\u001b[0;32m/usr/local/lib/python3.5/dist-packages/keras/utils/generic_utils.py\u001b[0m in \u001b[0;36m<listcomp>\u001b[0;34m(.0)\u001b[0m\n\u001b[1;32m    524\u001b[0m             \u001b[0;32mif\u001b[0m \u001b[0mhasattr\u001b[0m\u001b[0;34m(\u001b[0m\u001b[0mstart\u001b[0m\u001b[0;34m,\u001b[0m \u001b[0;34m'shape'\u001b[0m\u001b[0;34m)\u001b[0m\u001b[0;34m:\u001b[0m\u001b[0;34m\u001b[0m\u001b[0m\n\u001b[1;32m    525\u001b[0m                 \u001b[0mstart\u001b[0m \u001b[0;34m=\u001b[0m \u001b[0mstart\u001b[0m\u001b[0;34m.\u001b[0m\u001b[0mtolist\u001b[0m\u001b[0;34m(\u001b[0m\u001b[0;34m)\u001b[0m\u001b[0;34m\u001b[0m\u001b[0m\n\u001b[0;32m--> 526\u001b[0;31m             \u001b[0;32mreturn\u001b[0m \u001b[0;34m[\u001b[0m\u001b[0;32mNone\u001b[0m \u001b[0;32mif\u001b[0m \u001b[0mx\u001b[0m \u001b[0;32mis\u001b[0m \u001b[0;32mNone\u001b[0m \u001b[0;32melse\u001b[0m \u001b[0mx\u001b[0m\u001b[0;34m[\u001b[0m\u001b[0mstart\u001b[0m\u001b[0;34m]\u001b[0m \u001b[0;32mfor\u001b[0m \u001b[0mx\u001b[0m \u001b[0;32min\u001b[0m \u001b[0marrays\u001b[0m\u001b[0;34m]\u001b[0m\u001b[0;34m\u001b[0m\u001b[0m\n\u001b[0m\u001b[1;32m    527\u001b[0m         \u001b[0;32melse\u001b[0m\u001b[0;34m:\u001b[0m\u001b[0;34m\u001b[0m\u001b[0m\n\u001b[1;32m    528\u001b[0m             \u001b[0;32mreturn\u001b[0m \u001b[0;34m[\u001b[0m\u001b[0;32mNone\u001b[0m \u001b[0;32mif\u001b[0m \u001b[0mx\u001b[0m \u001b[0;32mis\u001b[0m \u001b[0;32mNone\u001b[0m \u001b[0;32melse\u001b[0m \u001b[0mx\u001b[0m\u001b[0;34m[\u001b[0m\u001b[0mstart\u001b[0m\u001b[0;34m:\u001b[0m\u001b[0mstop\u001b[0m\u001b[0;34m]\u001b[0m \u001b[0;32mfor\u001b[0m \u001b[0mx\u001b[0m \u001b[0;32min\u001b[0m \u001b[0marrays\u001b[0m\u001b[0;34m]\u001b[0m\u001b[0;34m\u001b[0m\u001b[0m\n",
      "\u001b[0;31mKeyboardInterrupt\u001b[0m: "
     ]
    }
   ],
   "source": [
    "history = model.fit(x, y, batch_size=128, epochs=50, validation_data=(en_es_wssa_x, en_es_y), shuffle=True, initial_epoch=0)"
   ]
  },
  {
   "cell_type": "code",
   "execution_count": 59,
   "metadata": {},
   "outputs": [
    {
     "name": "stdout",
     "output_type": "stream",
     "text": [
      "3062/3062 [==============================] - 2s 629us/step\n"
     ]
    },
    {
     "data": {
      "text/plain": [
       "[1.053276523899051, 0.4500326583737411, 0.2897455708837291]"
      ]
     },
     "execution_count": 59,
     "metadata": {},
     "output_type": "execute_result"
    }
   ],
   "source": [
    "model.evaluate(en_es_wssa_x, en_es_y)"
   ]
  },
  {
   "cell_type": "code",
   "execution_count": null,
   "metadata": {},
   "outputs": [],
   "source": []
  },
  {
   "cell_type": "markdown",
   "metadata": {},
   "source": [
    "## WordPiece Single Lang"
   ]
  },
  {
   "cell_type": "code",
   "execution_count": 27,
   "metadata": {},
   "outputs": [
    {
     "name": "stdout",
     "output_type": "stream",
     "text": [
      "Collecting sentencepiece\n",
      "\u001b[?25l  Downloading https://files.pythonhosted.org/packages/96/2f/168da118beb6eef637e5f5af955a017a0bf83cff496832aa5a6b24bb01c5/sentencepiece-0.1.81-cp35-cp35m-manylinux1_x86_64.whl (1.0MB)\n",
      "\u001b[K    100% |████████████████████████████████| 1.0MB 2.8MB/s eta 0:00:01\n",
      "\u001b[?25hInstalling collected packages: sentencepiece\n",
      "Successfully installed sentencepiece-0.1.81\n"
     ]
    }
   ],
   "source": [
    "# ! pip install sentencepiece"
   ]
  },
  {
   "cell_type": "code",
   "execution_count": 28,
   "metadata": {},
   "outputs": [],
   "source": [
    "import sentencepiece as spm"
   ]
  },
  {
   "cell_type": "code",
   "execution_count": 98,
   "metadata": {},
   "outputs": [
    {
     "data": {
      "text/plain": [
       "True"
      ]
     },
     "execution_count": 98,
     "metadata": {},
     "output_type": "execute_result"
    }
   ],
   "source": [
    "sp = spm.SentencePieceProcessor()\n",
    "sp.Load(\"../vendors/language-models/code-mixed_unk_check.model\")\n",
    "sp.SetEncodeExtraOptions(\"bos:eos\")"
   ]
  },
  {
   "cell_type": "code",
   "execution_count": null,
   "metadata": {},
   "outputs": [],
   "source": []
  },
  {
   "cell_type": "code",
   "execution_count": 30,
   "metadata": {},
   "outputs": [],
   "source": [
    "from keras.preprocessing.sequence import pad_sequences\n",
    "import numpy as np\n",
    "import multiprocessing\n",
    "import random"
   ]
  },
  {
   "cell_type": "code",
   "execution_count": 35,
   "metadata": {},
   "outputs": [],
   "source": [
    "max_len = 128\n",
    "hidden = 512\n",
    "numwords = len(sp)\n",
    "hidden_emd_dim = 100"
   ]
  },
  {
   "cell_type": "code",
   "execution_count": 32,
   "metadata": {},
   "outputs": [],
   "source": [
    "def tokenise(sent): \n",
    "    return sp.EncodeAsIds(sent)\n",
    "def decode(seq):\n",
    "    return sp.DecodeIds([ int(x) for x in list(seq)])"
   ]
  },
  {
   "cell_type": "code",
   "execution_count": 51,
   "metadata": {},
   "outputs": [],
   "source": [
    "from keras.layers import *\n",
    "from keras.models import Model, Sequential\n",
    "import keras"
   ]
  },
  {
   "cell_type": "code",
   "execution_count": 37,
   "metadata": {},
   "outputs": [
    {
     "name": "stdout",
     "output_type": "stream",
     "text": [
      "_________________________________________________________________\n",
      "Layer (type)                 Output Shape              Param #   \n",
      "=================================================================\n",
      "input_2 (InputLayer)         (None, None)              0         \n",
      "_________________________________________________________________\n",
      "embedding_2 (Embedding)      (None, None, 100)         2000000   \n",
      "_________________________________________________________________\n",
      "rnn (LSTM)                   (None, None, 512)         1255424   \n",
      "_________________________________________________________________\n",
      "en (TimeDistributed)         (None, None, 20000)       10260000  \n",
      "=================================================================\n",
      "Total params: 13,515,424\n",
      "Trainable params: 13,515,424\n",
      "Non-trainable params: 0\n",
      "_________________________________________________________________\n"
     ]
    }
   ],
   "source": [
    "def sparse_loss(y_true, y_pred):\n",
    "    return K.sparse_categorical_crossentropy(y_true, y_pred, from_logits=True)\n",
    "embed = Embedding(numwords, hidden_emd_dim, mask_zero=True)\n",
    "\n",
    "rnn = LSTM(hidden, return_sequences=True, name='rnn')\n",
    "\n",
    "inp = Input((None, ))\n",
    "x = embed(inp)\n",
    "x = rnn(x)\n",
    "out = TimeDistributed(Dense(numwords, activation='linear'), name='en')(x)\n",
    "\n",
    "model = Model([inp], [out]) \n",
    "opt = keras.optimizers.Adam()\n",
    "lss = sparse_loss\n",
    "\n",
    "model.compile(loss=sparse_loss, optimizer=opt)\n",
    "model.summary()"
   ]
  },
  {
   "cell_type": "code",
   "execution_count": 38,
   "metadata": {},
   "outputs": [],
   "source": [
    "model.load_weights('../vendors/language-models/code_mixed_unk_check-word_piece-100-500.weights')"
   ]
  },
  {
   "cell_type": "code",
   "execution_count": 39,
   "metadata": {},
   "outputs": [],
   "source": [
    "sent_embedding_model = Model(inputs=model.input, outputs=model.get_layer('rnn').output)"
   ]
  },
  {
   "cell_type": "code",
   "execution_count": 110,
   "metadata": {},
   "outputs": [],
   "source": [
    "def get_sent_embeddings(sents):\n",
    "    sents = np.array([tokenise(' '.join(sent)) for sent in sents])\n",
    "    sents = pad_sequences(sents, maxlen=max_len, dtype='int32', padding='post', truncating='post', value=0)\n",
    "    sents = sent_embedding_model.predict(sents, batch_size=128)\n",
    "    return sents"
   ]
  },
  {
   "cell_type": "code",
   "execution_count": 111,
   "metadata": {},
   "outputs": [],
   "source": [
    "en_semeval_17_x = get_sent_embeddings(en_semeval_17)\n",
    "es_tass1_data_x = get_sent_embeddings(es_tass1_data)\n",
    "es_twitter_x = get_sent_embeddings(es2_twitter_data)\n",
    "en_twitter_x = get_sent_embeddings(en_twitter_data)\n",
    "en_es_wssa_x = get_sent_embeddings(en_es_wssa_data)"
   ]
  },
  {
   "cell_type": "code",
   "execution_count": 112,
   "metadata": {},
   "outputs": [
    {
     "name": "stdout",
     "output_type": "stream",
     "text": [
      "_________________________________________________________________\n",
      "Layer (type)                 Output Shape              Param #   \n",
      "=================================================================\n",
      "lstm_7 (LSTM)                (None, 512)               2099200   \n",
      "_________________________________________________________________\n",
      "dropout_10 (Dropout)         (None, 512)               0         \n",
      "_________________________________________________________________\n",
      "dense_32 (Dense)             (None, 256)               131328    \n",
      "_________________________________________________________________\n",
      "dense_33 (Dense)             (None, 3)                 771       \n",
      "_________________________________________________________________\n",
      "activation_14 (Activation)   (None, 3)                 0         \n",
      "=================================================================\n",
      "Total params: 2,231,299\n",
      "Trainable params: 2,231,299\n",
      "Non-trainable params: 0\n",
      "_________________________________________________________________\n"
     ]
    }
   ],
   "source": [
    "model = Sequential()\n",
    "# model_classifier.add(Input(shape=(15,50)))\n",
    "# model.add(Dropout(0.2))\n",
    "# model.add(Conv1D(filters,\n",
    "#                  kernel_size,\n",
    "#                  activation='relu',\n",
    "#                  strides=1))\n",
    "# model.add(MaxPooling1D(pool_size=pool_size))\n",
    "# model.add(LSTM(lstm_output_size))\n",
    "model.add((LSTM(512, dropout=0.4, recurrent_dropout=0.4, input_shape=(128,512))))\n",
    "# model.add(Dense(126,input_shape=(512,), activation='relu'))\n",
    "model.add(Dropout(0.3))\n",
    "model.add(Dense(256, activation='relu'))\n",
    "model.add(Dense(3))\n",
    "model.add(Activation('softmax'))\n",
    "model.compile(loss='categorical_crossentropy', optimizer='sgd', metrics=['accuracy', f1])\n",
    "model.summary()"
   ]
  },
  {
   "cell_type": "code",
   "execution_count": 113,
   "metadata": {
    "scrolled": true
   },
   "outputs": [
    {
     "name": "stdout",
     "output_type": "stream",
     "text": [
      "Train on 2143 samples, validate on 919 samples\n",
      "Epoch 1/10\n",
      "2143/2143 [==============================] - 20s 10ms/step - loss: 1.0895 - acc: 0.4088 - f1: 0.0540 - val_loss: 1.0757 - val_acc: 0.4320 - val_f1: 0.0000e+00\n",
      "Epoch 2/10\n",
      " 480/2143 [=====>........................] - ETA: 11s - loss: 1.0909 - acc: 0.4000 - f1: 0.0081 "
     ]
    },
    {
     "ename": "KeyboardInterrupt",
     "evalue": "",
     "output_type": "error",
     "traceback": [
      "\u001b[0;31m---------------------------------------------------------------------------\u001b[0m",
      "\u001b[0;31mKeyboardInterrupt\u001b[0m                         Traceback (most recent call last)",
      "\u001b[0;32m<ipython-input-113-1db9543d895a>\u001b[0m in \u001b[0;36m<module>\u001b[0;34m\u001b[0m\n\u001b[0;32m----> 1\u001b[0;31m \u001b[0mhistory\u001b[0m \u001b[0;34m=\u001b[0m \u001b[0mmodel\u001b[0m\u001b[0;34m.\u001b[0m\u001b[0mfit\u001b[0m\u001b[0;34m(\u001b[0m\u001b[0men_es_wssa_x\u001b[0m\u001b[0;34m,\u001b[0m \u001b[0men_es_y\u001b[0m\u001b[0;34m,\u001b[0m \u001b[0mbatch_size\u001b[0m\u001b[0;34m=\u001b[0m\u001b[0;36m32\u001b[0m\u001b[0;34m,\u001b[0m \u001b[0mepochs\u001b[0m\u001b[0;34m=\u001b[0m\u001b[0;36m10\u001b[0m\u001b[0;34m,\u001b[0m \u001b[0mvalidation_split\u001b[0m\u001b[0;34m=\u001b[0m\u001b[0;36m0.3\u001b[0m\u001b[0;34m,\u001b[0m \u001b[0mshuffle\u001b[0m\u001b[0;34m=\u001b[0m\u001b[0;32mTrue\u001b[0m\u001b[0;34m,\u001b[0m \u001b[0minitial_epoch\u001b[0m\u001b[0;34m=\u001b[0m\u001b[0;36m0\u001b[0m\u001b[0;34m)\u001b[0m\u001b[0;34m\u001b[0m\u001b[0m\n\u001b[0m",
      "\u001b[0;32m/usr/local/lib/python3.5/dist-packages/keras/engine/training.py\u001b[0m in \u001b[0;36mfit\u001b[0;34m(self, x, y, batch_size, epochs, verbose, callbacks, validation_split, validation_data, shuffle, class_weight, sample_weight, initial_epoch, steps_per_epoch, validation_steps, **kwargs)\u001b[0m\n\u001b[1;32m   1037\u001b[0m                                         \u001b[0minitial_epoch\u001b[0m\u001b[0;34m=\u001b[0m\u001b[0minitial_epoch\u001b[0m\u001b[0;34m,\u001b[0m\u001b[0;34m\u001b[0m\u001b[0m\n\u001b[1;32m   1038\u001b[0m                                         \u001b[0msteps_per_epoch\u001b[0m\u001b[0;34m=\u001b[0m\u001b[0msteps_per_epoch\u001b[0m\u001b[0;34m,\u001b[0m\u001b[0;34m\u001b[0m\u001b[0m\n\u001b[0;32m-> 1039\u001b[0;31m                                         validation_steps=validation_steps)\n\u001b[0m\u001b[1;32m   1040\u001b[0m \u001b[0;34m\u001b[0m\u001b[0m\n\u001b[1;32m   1041\u001b[0m     def evaluate(self, x=None, y=None,\n",
      "\u001b[0;32m/usr/local/lib/python3.5/dist-packages/keras/engine/training_arrays.py\u001b[0m in \u001b[0;36mfit_loop\u001b[0;34m(model, f, ins, out_labels, batch_size, epochs, verbose, callbacks, val_f, val_ins, shuffle, callback_metrics, initial_epoch, steps_per_epoch, validation_steps)\u001b[0m\n\u001b[1;32m    197\u001b[0m                     \u001b[0mins_batch\u001b[0m\u001b[0;34m[\u001b[0m\u001b[0mi\u001b[0m\u001b[0;34m]\u001b[0m \u001b[0;34m=\u001b[0m \u001b[0mins_batch\u001b[0m\u001b[0;34m[\u001b[0m\u001b[0mi\u001b[0m\u001b[0;34m]\u001b[0m\u001b[0;34m.\u001b[0m\u001b[0mtoarray\u001b[0m\u001b[0;34m(\u001b[0m\u001b[0;34m)\u001b[0m\u001b[0;34m\u001b[0m\u001b[0m\n\u001b[1;32m    198\u001b[0m \u001b[0;34m\u001b[0m\u001b[0m\n\u001b[0;32m--> 199\u001b[0;31m                 \u001b[0mouts\u001b[0m \u001b[0;34m=\u001b[0m \u001b[0mf\u001b[0m\u001b[0;34m(\u001b[0m\u001b[0mins_batch\u001b[0m\u001b[0;34m)\u001b[0m\u001b[0;34m\u001b[0m\u001b[0m\n\u001b[0m\u001b[1;32m    200\u001b[0m                 \u001b[0mouts\u001b[0m \u001b[0;34m=\u001b[0m \u001b[0mto_list\u001b[0m\u001b[0;34m(\u001b[0m\u001b[0mouts\u001b[0m\u001b[0;34m)\u001b[0m\u001b[0;34m\u001b[0m\u001b[0m\n\u001b[1;32m    201\u001b[0m                 \u001b[0;32mfor\u001b[0m \u001b[0ml\u001b[0m\u001b[0;34m,\u001b[0m \u001b[0mo\u001b[0m \u001b[0;32min\u001b[0m \u001b[0mzip\u001b[0m\u001b[0;34m(\u001b[0m\u001b[0mout_labels\u001b[0m\u001b[0;34m,\u001b[0m \u001b[0mouts\u001b[0m\u001b[0;34m)\u001b[0m\u001b[0;34m:\u001b[0m\u001b[0;34m\u001b[0m\u001b[0m\n",
      "\u001b[0;32m/usr/local/lib/python3.5/dist-packages/keras/backend/tensorflow_backend.py\u001b[0m in \u001b[0;36m__call__\u001b[0;34m(self, inputs)\u001b[0m\n\u001b[1;32m   2713\u001b[0m                 \u001b[0;32mreturn\u001b[0m \u001b[0mself\u001b[0m\u001b[0;34m.\u001b[0m\u001b[0m_legacy_call\u001b[0m\u001b[0;34m(\u001b[0m\u001b[0minputs\u001b[0m\u001b[0;34m)\u001b[0m\u001b[0;34m\u001b[0m\u001b[0m\n\u001b[1;32m   2714\u001b[0m \u001b[0;34m\u001b[0m\u001b[0m\n\u001b[0;32m-> 2715\u001b[0;31m             \u001b[0;32mreturn\u001b[0m \u001b[0mself\u001b[0m\u001b[0;34m.\u001b[0m\u001b[0m_call\u001b[0m\u001b[0;34m(\u001b[0m\u001b[0minputs\u001b[0m\u001b[0;34m)\u001b[0m\u001b[0;34m\u001b[0m\u001b[0m\n\u001b[0m\u001b[1;32m   2716\u001b[0m         \u001b[0;32melse\u001b[0m\u001b[0;34m:\u001b[0m\u001b[0;34m\u001b[0m\u001b[0m\n\u001b[1;32m   2717\u001b[0m             \u001b[0;32mif\u001b[0m \u001b[0mpy_any\u001b[0m\u001b[0;34m(\u001b[0m\u001b[0mis_tensor\u001b[0m\u001b[0;34m(\u001b[0m\u001b[0mx\u001b[0m\u001b[0;34m)\u001b[0m \u001b[0;32mfor\u001b[0m \u001b[0mx\u001b[0m \u001b[0;32min\u001b[0m \u001b[0minputs\u001b[0m\u001b[0;34m)\u001b[0m\u001b[0;34m:\u001b[0m\u001b[0;34m\u001b[0m\u001b[0m\n",
      "\u001b[0;32m/usr/local/lib/python3.5/dist-packages/keras/backend/tensorflow_backend.py\u001b[0m in \u001b[0;36m_call\u001b[0;34m(self, inputs)\u001b[0m\n\u001b[1;32m   2673\u001b[0m             \u001b[0mfetched\u001b[0m \u001b[0;34m=\u001b[0m \u001b[0mself\u001b[0m\u001b[0;34m.\u001b[0m\u001b[0m_callable_fn\u001b[0m\u001b[0;34m(\u001b[0m\u001b[0;34m*\u001b[0m\u001b[0marray_vals\u001b[0m\u001b[0;34m,\u001b[0m \u001b[0mrun_metadata\u001b[0m\u001b[0;34m=\u001b[0m\u001b[0mself\u001b[0m\u001b[0;34m.\u001b[0m\u001b[0mrun_metadata\u001b[0m\u001b[0;34m)\u001b[0m\u001b[0;34m\u001b[0m\u001b[0m\n\u001b[1;32m   2674\u001b[0m         \u001b[0;32melse\u001b[0m\u001b[0;34m:\u001b[0m\u001b[0;34m\u001b[0m\u001b[0m\n\u001b[0;32m-> 2675\u001b[0;31m             \u001b[0mfetched\u001b[0m \u001b[0;34m=\u001b[0m \u001b[0mself\u001b[0m\u001b[0;34m.\u001b[0m\u001b[0m_callable_fn\u001b[0m\u001b[0;34m(\u001b[0m\u001b[0;34m*\u001b[0m\u001b[0marray_vals\u001b[0m\u001b[0;34m)\u001b[0m\u001b[0;34m\u001b[0m\u001b[0m\n\u001b[0m\u001b[1;32m   2676\u001b[0m         \u001b[0;32mreturn\u001b[0m \u001b[0mfetched\u001b[0m\u001b[0;34m[\u001b[0m\u001b[0;34m:\u001b[0m\u001b[0mlen\u001b[0m\u001b[0;34m(\u001b[0m\u001b[0mself\u001b[0m\u001b[0;34m.\u001b[0m\u001b[0moutputs\u001b[0m\u001b[0;34m)\u001b[0m\u001b[0;34m]\u001b[0m\u001b[0;34m\u001b[0m\u001b[0m\n\u001b[1;32m   2677\u001b[0m \u001b[0;34m\u001b[0m\u001b[0m\n",
      "\u001b[0;32m/usr/local/lib/python3.5/dist-packages/tensorflow/python/client/session.py\u001b[0m in \u001b[0;36m__call__\u001b[0;34m(self, *args, **kwargs)\u001b[0m\n\u001b[1;32m   1437\u001b[0m           ret = tf_session.TF_SessionRunCallable(\n\u001b[1;32m   1438\u001b[0m               \u001b[0mself\u001b[0m\u001b[0;34m.\u001b[0m\u001b[0m_session\u001b[0m\u001b[0;34m.\u001b[0m\u001b[0m_session\u001b[0m\u001b[0;34m,\u001b[0m \u001b[0mself\u001b[0m\u001b[0;34m.\u001b[0m\u001b[0m_handle\u001b[0m\u001b[0;34m,\u001b[0m \u001b[0margs\u001b[0m\u001b[0;34m,\u001b[0m \u001b[0mstatus\u001b[0m\u001b[0;34m,\u001b[0m\u001b[0;34m\u001b[0m\u001b[0m\n\u001b[0;32m-> 1439\u001b[0;31m               run_metadata_ptr)\n\u001b[0m\u001b[1;32m   1440\u001b[0m         \u001b[0;32mif\u001b[0m \u001b[0mrun_metadata\u001b[0m\u001b[0;34m:\u001b[0m\u001b[0;34m\u001b[0m\u001b[0m\n\u001b[1;32m   1441\u001b[0m           \u001b[0mproto_data\u001b[0m \u001b[0;34m=\u001b[0m \u001b[0mtf_session\u001b[0m\u001b[0;34m.\u001b[0m\u001b[0mTF_GetBuffer\u001b[0m\u001b[0;34m(\u001b[0m\u001b[0mrun_metadata_ptr\u001b[0m\u001b[0;34m)\u001b[0m\u001b[0;34m\u001b[0m\u001b[0m\n",
      "\u001b[0;31mKeyboardInterrupt\u001b[0m: "
     ]
    }
   ],
   "source": [
    "history = model.fit(en_es_wssa_x, en_es_y, batch_size=32, epochs=10, validation_split=0.3, shuffle=True, initial_epoch=0)"
   ]
  },
  {
   "cell_type": "code",
   "execution_count": null,
   "metadata": {},
   "outputs": [],
   "source": []
  },
  {
   "cell_type": "code",
   "execution_count": null,
   "metadata": {},
   "outputs": [],
   "source": []
  },
  {
   "cell_type": "code",
   "execution_count": null,
   "metadata": {},
   "outputs": [],
   "source": []
  },
  {
   "cell_type": "code",
   "execution_count": null,
   "metadata": {},
   "outputs": [],
   "source": []
  },
  {
   "cell_type": "code",
   "execution_count": null,
   "metadata": {},
   "outputs": [],
   "source": []
  },
  {
   "cell_type": "markdown",
   "metadata": {},
   "source": [
    "# For LASER: To get embeddings for sentences"
   ]
  },
  {
   "cell_type": "code",
   "execution_count": 21,
   "metadata": {},
   "outputs": [],
   "source": [
    "def write_sentences(data, name, has_text=True):\n",
    "    with open(name,\"w\") as f:\n",
    "        temp = \"\"\n",
    "        for row in data:\n",
    "            if has_text:\n",
    "                temp = temp + str(row['text']).strip().replace(\"\\n\",\" \") + \"\\n\"\n",
    "            else:\n",
    "                temp = temp + str(\" \".join(row['tokens'])).strip() + \"\\n\"\n",
    "        f.write(temp)\n",
    "\n",
    "def write_sentences_sep(data, name):\n",
    "    with open(name,\"w\") as f:\n",
    "        temp = []\n",
    "        for row in data:\n",
    "            temp.append(str(\" \".join(row['tokens'])).strip() + \"\\n\")\n",
    "    return temp"
   ]
  },
  {
   "cell_type": "code",
   "execution_count": 26,
   "metadata": {},
   "outputs": [],
   "source": [
    "write_sentences(en_es_wssa_data,\"en_es.txt\")\n",
    "write_sentences(es2_twitter_data,\"es2_twitter.txt\")\n",
    "write_sentences(es_tass1_data,\"es_tass1.txt\")\n",
    "write_sentences(en_twitter_data, \"en_twiter.txt\")\n",
    "write_sentences(en_semeval_17, \"en_semeval_17.txt\", False)"
   ]
  },
  {
   "cell_type": "code",
   "execution_count": null,
   "metadata": {},
   "outputs": [],
   "source": [
    "# PRLEASE DON'T EXECUTE THIS MOTHERFUCKER\n",
    "lines_ = write_sentences_sep(en_sentiment140, \"en_sentiment140.txt\")\n",
    "with open(\"en_sentiment140.txt\", \"w\") as f:\n",
    "    for line in lines_:\n",
    "        f.write(line)"
   ]
  },
  {
   "cell_type": "code",
   "execution_count": null,
   "metadata": {},
   "outputs": [],
   "source": []
  },
  {
   "cell_type": "code",
   "execution_count": 48,
   "metadata": {},
   "outputs": [],
   "source": [
    "def get_y(data):\n",
    "    from keras.utils import to_categorical\n",
    "    y = []\n",
    "    for row in data:\n",
    "        y.append(int(row['sentiment']))\n",
    "    y = to_categorical(y,num_classes=3)\n",
    "    return y"
   ]
  },
  {
   "cell_type": "code",
   "execution_count": 49,
   "metadata": {},
   "outputs": [],
   "source": [
    "en_es_y =  get_y(en_es_wssa_data)\n",
    "es_twitter_y = get_y(es2_twitter_data)\n",
    "es_tass_y = get_y(es_tass1_data)\n",
    "en_twitter_y = get_y(en_twitter_data)\n",
    "en_semeval_17_y = get_y(en_semeval_17)\n",
    "# en_sentiment140_y = get_y(en_sentiment140)"
   ]
  },
  {
   "cell_type": "markdown",
   "metadata": {},
   "source": [
    "# For LASER: Load Embedding"
   ]
  },
  {
   "cell_type": "code",
   "execution_count": 26,
   "metadata": {},
   "outputs": [],
   "source": [
    "def load(file):\n",
    "    dim = 1024\n",
    "    X = np.fromfile(file, dtype=np.float32, count=-1)    \n",
    "    X.resize(X.shape[0] // dim, dim) \n",
    "    print(file + \": \" + str(X.shape))\n",
    "    return X"
   ]
  },
  {
   "cell_type": "code",
   "execution_count": 27,
   "metadata": {},
   "outputs": [
    {
     "name": "stdout",
     "output_type": "stream",
     "text": [
      "es_tass1.raw: (7217, 1024)\n"
     ]
    }
   ],
   "source": [
    "es_tass_emb =load(\"es_tass1.raw\")"
   ]
  },
  {
   "cell_type": "code",
   "execution_count": 28,
   "metadata": {
    "scrolled": true
   },
   "outputs": [
    {
     "name": "stdout",
     "output_type": "stream",
     "text": [
      "en_es.raw: (3062, 1024)\n",
      "es2_twitter.raw: (3202, 1024)\n",
      "es_tass1.raw: (7217, 1024)\n",
      "en_twiter.raw: (4241, 1024)\n",
      "en_semeval_17.raw: (20632, 1024)\n"
     ]
    }
   ],
   "source": [
    "en_es_emb = load(\"en_es.raw\")\n",
    "es_twitter_emb =load(\"es2_twitter.raw\")\n",
    "es_tass_emb =load(\"es_tass1.raw\")\n",
    "en_twitter_emb =load(\"en_twiter.raw\")\n",
    "# en_sentiment140_emb = load(\"en_sentiment140.raw\")\n",
    "en_semeval_17_em = load(\"en_semeval_17.raw\")"
   ]
  },
  {
   "cell_type": "code",
   "execution_count": 29,
   "metadata": {},
   "outputs": [
    {
     "data": {
      "text/plain": [
       "(7217, 3)"
      ]
     },
     "execution_count": 29,
     "metadata": {},
     "output_type": "execute_result"
    }
   ],
   "source": [
    "es_tass_y.shape"
   ]
  },
  {
   "cell_type": "markdown",
   "metadata": {},
   "source": [
    "# For LASER: Model"
   ]
  },
  {
   "cell_type": "code",
   "execution_count": 30,
   "metadata": {},
   "outputs": [],
   "source": [
    "from keras.layers import *\n",
    "from keras.models import Sequential"
   ]
  },
  {
   "cell_type": "code",
   "execution_count": 64,
   "metadata": {},
   "outputs": [],
   "source": [
    "model = Sequential()\n",
    "# model.add(Dense(2048, input_shape=(1024,), activation='relu'))\n",
    "# model.add(Input(input=(1024,)))\n",
    "# model.add(Dropout(0.5))\n",
    "# model.add(Dense(1024, activation='relu'))\n",
    "# model.add(Dropout(0.3))\n",
    "# model.add(Dense(512, activation='relu'))\n",
    "# model.add(Dropout(0.2))\n",
    "model.add(Dense(3, input_shape=(1024,), activation='softmax'))\n",
    "\n",
    "\n",
    "model.compile(loss='categorical_crossentropy', optimizer='adam',metrics=['accuracy', f1])"
   ]
  },
  {
   "cell_type": "code",
   "execution_count": 65,
   "metadata": {},
   "outputs": [
    {
     "name": "stdout",
     "output_type": "stream",
     "text": [
      "_________________________________________________________________\n",
      "Layer (type)                 Output Shape              Param #   \n",
      "=================================================================\n",
      "dense_7 (Dense)              (None, 3)                 3075      \n",
      "=================================================================\n",
      "Total params: 3,075\n",
      "Trainable params: 3,075\n",
      "Non-trainable params: 0\n",
      "_________________________________________________________________\n"
     ]
    }
   ],
   "source": [
    "model.summary()"
   ]
  },
  {
   "cell_type": "code",
   "execution_count": 66,
   "metadata": {
    "scrolled": true
   },
   "outputs": [
    {
     "name": "stdout",
     "output_type": "stream",
     "text": [
      "Train on 14442 samples, validate on 6190 samples\n",
      "Epoch 1/100\n",
      "14442/14442 [==============================] - 1s 75us/step - loss: 0.9933 - acc: 0.5003 - f1: 0.3055 - val_loss: 1.0220 - val_acc: 0.4801 - val_f1: 0.4575\n",
      "Epoch 2/100\n",
      "14442/14442 [==============================] - 1s 49us/step - loss: 0.9558 - acc: 0.5157 - f1: 0.4735 - val_loss: 1.0018 - val_acc: 0.4911 - val_f1: 0.4412\n",
      "Epoch 3/100\n",
      "14442/14442 [==============================] - 1s 49us/step - loss: 0.9347 - acc: 0.5440 - f1: 0.4719 - val_loss: 0.9830 - val_acc: 0.5036 - val_f1: 0.4550\n",
      "Epoch 4/100\n",
      "14442/14442 [==============================] - 1s 51us/step - loss: 0.9158 - acc: 0.5687 - f1: 0.4827 - val_loss: 0.9662 - val_acc: 0.5202 - val_f1: 0.4609\n",
      "Epoch 5/100\n",
      "14442/14442 [==============================] - 1s 49us/step - loss: 0.8989 - acc: 0.5843 - f1: 0.4987 - val_loss: 0.9549 - val_acc: 0.5446 - val_f1: 0.4700\n",
      "Epoch 6/100\n",
      "14442/14442 [==============================] - 1s 46us/step - loss: 0.8845 - acc: 0.6017 - f1: 0.5177 - val_loss: 0.9397 - val_acc: 0.5578 - val_f1: 0.4770\n",
      "Epoch 7/100\n",
      "14442/14442 [==============================] - 1s 57us/step - loss: 0.8705 - acc: 0.6078 - f1: 0.5320 - val_loss: 0.9258 - val_acc: 0.5575 - val_f1: 0.4819\n",
      "Epoch 8/100\n",
      "14442/14442 [==============================] - 1s 46us/step - loss: 0.8587 - acc: 0.6172 - f1: 0.5426 - val_loss: 0.9191 - val_acc: 0.5538 - val_f1: 0.4964\n",
      "Epoch 9/100\n",
      "14442/14442 [==============================] - 1s 56us/step - loss: 0.8480 - acc: 0.6217 - f1: 0.5532 - val_loss: 0.9084 - val_acc: 0.5691 - val_f1: 0.5085\n",
      "Epoch 10/100\n",
      "14442/14442 [==============================] - 1s 47us/step - loss: 0.8380 - acc: 0.6282 - f1: 0.5605 - val_loss: 0.9031 - val_acc: 0.5698 - val_f1: 0.5194\n",
      "Epoch 11/100\n",
      "14442/14442 [==============================] - 1s 46us/step - loss: 0.8291 - acc: 0.6327 - f1: 0.5709 - val_loss: 0.8958 - val_acc: 0.5759 - val_f1: 0.5309\n",
      "Epoch 12/100\n",
      "14442/14442 [==============================] - 1s 46us/step - loss: 0.8207 - acc: 0.6357 - f1: 0.5797 - val_loss: 0.8851 - val_acc: 0.5745 - val_f1: 0.5277\n",
      "Epoch 13/100\n",
      "14442/14442 [==============================] - 1s 48us/step - loss: 0.8133 - acc: 0.6410 - f1: 0.5849 - val_loss: 0.8815 - val_acc: 0.5772 - val_f1: 0.5383\n",
      "Epoch 14/100\n",
      "14442/14442 [==============================] - 1s 62us/step - loss: 0.8061 - acc: 0.6430 - f1: 0.5897 - val_loss: 0.8749 - val_acc: 0.5850 - val_f1: 0.5443\n",
      "Epoch 15/100\n",
      "14442/14442 [==============================] - 1s 65us/step - loss: 0.7997 - acc: 0.6469 - f1: 0.5973 - val_loss: 0.8701 - val_acc: 0.5806 - val_f1: 0.5451\n",
      "Epoch 16/100\n",
      "14442/14442 [==============================] - 1s 79us/step - loss: 0.7936 - acc: 0.6482 - f1: 0.6007 - val_loss: 0.8610 - val_acc: 0.5969 - val_f1: 0.5494\n",
      "Epoch 17/100\n",
      "14442/14442 [==============================] - 1s 67us/step - loss: 0.7884 - acc: 0.6520 - f1: 0.6042 - val_loss: 0.8541 - val_acc: 0.6015 - val_f1: 0.5486\n",
      "Epoch 18/100\n",
      "14442/14442 [==============================] - 1s 63us/step - loss: 0.7828 - acc: 0.6538 - f1: 0.6080 - val_loss: 0.8546 - val_acc: 0.6015 - val_f1: 0.5621\n",
      "Epoch 19/100\n",
      "14442/14442 [==============================] - 1s 71us/step - loss: 0.7779 - acc: 0.6564 - f1: 0.6143 - val_loss: 0.8482 - val_acc: 0.6018 - val_f1: 0.5600\n",
      "Epoch 20/100\n",
      "14442/14442 [==============================] - 1s 73us/step - loss: 0.7733 - acc: 0.6588 - f1: 0.6171 - val_loss: 0.8448 - val_acc: 0.6015 - val_f1: 0.5601\n",
      "Epoch 21/100\n",
      "14442/14442 [==============================] - 1s 67us/step - loss: 0.7690 - acc: 0.6584 - f1: 0.6196 - val_loss: 0.8426 - val_acc: 0.6032 - val_f1: 0.5652\n",
      "Epoch 22/100\n",
      "14442/14442 [==============================] - 1s 55us/step - loss: 0.7648 - acc: 0.6590 - f1: 0.6230 - val_loss: 0.8389 - val_acc: 0.6019 - val_f1: 0.5655\n",
      "Epoch 23/100\n",
      "14442/14442 [==============================] - 1s 48us/step - loss: 0.7610 - acc: 0.6636 - f1: 0.6256 - val_loss: 0.8391 - val_acc: 0.6019 - val_f1: 0.5677\n",
      "Epoch 24/100\n",
      "14442/14442 [==============================] - 1s 55us/step - loss: 0.7573 - acc: 0.6649 - f1: 0.6273 - val_loss: 0.8321 - val_acc: 0.6052 - val_f1: 0.5705\n",
      "Epoch 25/100\n",
      "14442/14442 [==============================] - 1s 44us/step - loss: 0.7539 - acc: 0.6661 - f1: 0.6310 - val_loss: 0.8294 - val_acc: 0.6100 - val_f1: 0.5739\n",
      "Epoch 26/100\n",
      "14442/14442 [==============================] - 1s 47us/step - loss: 0.7505 - acc: 0.6666 - f1: 0.6337 - val_loss: 0.8273 - val_acc: 0.6047 - val_f1: 0.5730\n",
      "Epoch 27/100\n",
      "14442/14442 [==============================] - 1s 53us/step - loss: 0.7472 - acc: 0.6693 - f1: 0.6365 - val_loss: 0.8227 - val_acc: 0.6081 - val_f1: 0.5761\n",
      "Epoch 28/100\n",
      "14442/14442 [==============================] - 1s 55us/step - loss: 0.7444 - acc: 0.6672 - f1: 0.6365 - val_loss: 0.8203 - val_acc: 0.6137 - val_f1: 0.5818\n",
      "Epoch 29/100\n",
      "14442/14442 [==============================] - 1s 42us/step - loss: 0.7415 - acc: 0.6701 - f1: 0.6391 - val_loss: 0.8161 - val_acc: 0.6145 - val_f1: 0.5837\n",
      "Epoch 30/100\n",
      "14442/14442 [==============================] - 1s 50us/step - loss: 0.7386 - acc: 0.6721 - f1: 0.6407 - val_loss: 0.8155 - val_acc: 0.6158 - val_f1: 0.5880\n",
      "Epoch 31/100\n",
      "14442/14442 [==============================] - 1s 46us/step - loss: 0.7357 - acc: 0.6718 - f1: 0.6435 - val_loss: 0.8139 - val_acc: 0.6176 - val_f1: 0.5912\n",
      "Epoch 32/100\n",
      "14442/14442 [==============================] - 1s 53us/step - loss: 0.7334 - acc: 0.6730 - f1: 0.6457 - val_loss: 0.8147 - val_acc: 0.6150 - val_f1: 0.5904\n",
      "Epoch 33/100\n",
      "14442/14442 [==============================] - 1s 47us/step - loss: 0.7309 - acc: 0.6753 - f1: 0.6471 - val_loss: 0.8110 - val_acc: 0.6165 - val_f1: 0.5918\n",
      "Epoch 34/100\n",
      "14442/14442 [==============================] - 1s 51us/step - loss: 0.7283 - acc: 0.6773 - f1: 0.6481 - val_loss: 0.8167 - val_acc: 0.6108 - val_f1: 0.5906\n",
      "Epoch 35/100\n",
      "14442/14442 [==============================] - 1s 50us/step - loss: 0.7263 - acc: 0.6769 - f1: 0.6493 - val_loss: 0.8104 - val_acc: 0.6142 - val_f1: 0.5939\n",
      "Epoch 36/100\n",
      "14442/14442 [==============================] - 1s 72us/step - loss: 0.7243 - acc: 0.6770 - f1: 0.6499 - val_loss: 0.8075 - val_acc: 0.6181 - val_f1: 0.5971\n",
      "Epoch 37/100\n",
      "14442/14442 [==============================] - 1s 60us/step - loss: 0.7219 - acc: 0.6773 - f1: 0.6529 - val_loss: 0.8017 - val_acc: 0.6249 - val_f1: 0.5938\n",
      "Epoch 38/100\n",
      "14442/14442 [==============================] - 1s 61us/step - loss: 0.7201 - acc: 0.6791 - f1: 0.6532 - val_loss: 0.8030 - val_acc: 0.6218 - val_f1: 0.5961\n",
      "Epoch 39/100\n",
      "14442/14442 [==============================] - 1s 72us/step - loss: 0.7180 - acc: 0.6802 - f1: 0.6542 - val_loss: 0.8052 - val_acc: 0.6173 - val_f1: 0.5949\n",
      "Epoch 40/100\n",
      "14442/14442 [==============================] - 1s 50us/step - loss: 0.7166 - acc: 0.6795 - f1: 0.6551 - val_loss: 0.8010 - val_acc: 0.6258 - val_f1: 0.6009\n",
      "Epoch 41/100\n",
      "14442/14442 [==============================] - 1s 64us/step - loss: 0.7143 - acc: 0.6811 - f1: 0.6566 - val_loss: 0.7984 - val_acc: 0.6268 - val_f1: 0.5999\n",
      "Epoch 42/100\n",
      "14442/14442 [==============================] - 1s 100us/step - loss: 0.7126 - acc: 0.6811 - f1: 0.6566 - val_loss: 0.7984 - val_acc: 0.6267 - val_f1: 0.6006\n",
      "Epoch 43/100\n",
      "14442/14442 [==============================] - 1s 51us/step - loss: 0.7107 - acc: 0.6817 - f1: 0.6602 - val_loss: 0.7931 - val_acc: 0.6315 - val_f1: 0.6033\n",
      "Epoch 44/100\n",
      "14442/14442 [==============================] - 1s 71us/step - loss: 0.7091 - acc: 0.6823 - f1: 0.6601 - val_loss: 0.7939 - val_acc: 0.6318 - val_f1: 0.6042\n",
      "Epoch 45/100\n",
      "14442/14442 [==============================] - 1s 47us/step - loss: 0.7077 - acc: 0.6857 - f1: 0.6613 - val_loss: 0.7944 - val_acc: 0.6296 - val_f1: 0.6034\n",
      "Epoch 46/100\n",
      "14442/14442 [==============================] - 1s 46us/step - loss: 0.7059 - acc: 0.6847 - f1: 0.6625 - val_loss: 0.7945 - val_acc: 0.6279 - val_f1: 0.6028\n",
      "Epoch 47/100\n",
      "14442/14442 [==============================] - 1s 47us/step - loss: 0.7045 - acc: 0.6848 - f1: 0.6623 - val_loss: 0.7947 - val_acc: 0.6278 - val_f1: 0.6035\n",
      "Epoch 48/100\n",
      "14442/14442 [==============================] - 1s 48us/step - loss: 0.7031 - acc: 0.6865 - f1: 0.6647 - val_loss: 0.7969 - val_acc: 0.6228 - val_f1: 0.6028\n",
      "Epoch 49/100\n",
      "14442/14442 [==============================] - 1s 57us/step - loss: 0.7015 - acc: 0.6879 - f1: 0.6657 - val_loss: 0.7898 - val_acc: 0.6299 - val_f1: 0.6055\n",
      "Epoch 50/100\n",
      "14442/14442 [==============================] - 1s 47us/step - loss: 0.7003 - acc: 0.6874 - f1: 0.6672 - val_loss: 0.7907 - val_acc: 0.6302 - val_f1: 0.6064\n",
      "Epoch 51/100\n",
      "14442/14442 [==============================] - 1s 43us/step - loss: 0.6987 - acc: 0.6883 - f1: 0.6677 - val_loss: 0.7899 - val_acc: 0.6312 - val_f1: 0.6063\n",
      "Epoch 52/100\n",
      "14442/14442 [==============================] - 1s 51us/step - loss: 0.6976 - acc: 0.6897 - f1: 0.6672 - val_loss: 0.7884 - val_acc: 0.6336 - val_f1: 0.6106\n",
      "Epoch 53/100\n",
      "14442/14442 [==============================] - 1s 50us/step - loss: 0.6962 - acc: 0.6901 - f1: 0.6689 - val_loss: 0.7857 - val_acc: 0.6328 - val_f1: 0.6101\n",
      "Epoch 54/100\n",
      "14442/14442 [==============================] - 1s 45us/step - loss: 0.6951 - acc: 0.6916 - f1: 0.6694 - val_loss: 0.7852 - val_acc: 0.6331 - val_f1: 0.6115\n",
      "Epoch 55/100\n",
      "14442/14442 [==============================] - 1s 45us/step - loss: 0.6938 - acc: 0.6928 - f1: 0.6715 - val_loss: 0.7890 - val_acc: 0.6313 - val_f1: 0.6103\n",
      "Epoch 56/100\n",
      "14442/14442 [==============================] - 1s 55us/step - loss: 0.6928 - acc: 0.6922 - f1: 0.6709 - val_loss: 0.7842 - val_acc: 0.6334 - val_f1: 0.6125\n",
      "Epoch 57/100\n",
      "14442/14442 [==============================] - 1s 47us/step - loss: 0.6913 - acc: 0.6938 - f1: 0.6730 - val_loss: 0.7832 - val_acc: 0.6338 - val_f1: 0.6138\n",
      "Epoch 58/100\n",
      "14442/14442 [==============================] - 1s 44us/step - loss: 0.6903 - acc: 0.6928 - f1: 0.6730 - val_loss: 0.7855 - val_acc: 0.6325 - val_f1: 0.6115\n",
      "Epoch 59/100\n",
      "14442/14442 [==============================] - 1s 50us/step - loss: 0.6892 - acc: 0.6937 - f1: 0.6730 - val_loss: 0.7860 - val_acc: 0.6312 - val_f1: 0.6125\n",
      "Epoch 60/100\n",
      "14442/14442 [==============================] - 1s 52us/step - loss: 0.6882 - acc: 0.6945 - f1: 0.6739 - val_loss: 0.7830 - val_acc: 0.6339 - val_f1: 0.6132\n",
      "Epoch 61/100\n",
      "14442/14442 [==============================] - 1s 58us/step - loss: 0.6874 - acc: 0.6946 - f1: 0.6760 - val_loss: 0.7843 - val_acc: 0.6320 - val_f1: 0.6136\n",
      "Epoch 62/100\n",
      "14442/14442 [==============================] - 1s 71us/step - loss: 0.6860 - acc: 0.6960 - f1: 0.6757 - val_loss: 0.7823 - val_acc: 0.6333 - val_f1: 0.6148\n",
      "Epoch 63/100\n",
      "14442/14442 [==============================] - 1s 77us/step - loss: 0.6849 - acc: 0.6961 - f1: 0.6759 - val_loss: 0.7800 - val_acc: 0.6355 - val_f1: 0.6154\n",
      "Epoch 64/100\n",
      "14442/14442 [==============================] - 1s 69us/step - loss: 0.6842 - acc: 0.6954 - f1: 0.6769 - val_loss: 0.7836 - val_acc: 0.6333 - val_f1: 0.6135\n",
      "Epoch 65/100\n",
      "14442/14442 [==============================] - 1s 65us/step - loss: 0.6832 - acc: 0.6968 - f1: 0.6778 - val_loss: 0.7787 - val_acc: 0.6372 - val_f1: 0.6161\n",
      "Epoch 66/100\n",
      "14442/14442 [==============================] - 1s 55us/step - loss: 0.6822 - acc: 0.6982 - f1: 0.6779 - val_loss: 0.7800 - val_acc: 0.6338 - val_f1: 0.6164\n",
      "Epoch 67/100\n",
      "14442/14442 [==============================] - 1s 59us/step - loss: 0.6814 - acc: 0.6975 - f1: 0.6780 - val_loss: 0.7791 - val_acc: 0.6357 - val_f1: 0.6167\n",
      "Epoch 68/100\n",
      "14442/14442 [==============================] - 1s 74us/step - loss: 0.6803 - acc: 0.6980 - f1: 0.6783 - val_loss: 0.7763 - val_acc: 0.6378 - val_f1: 0.6169\n",
      "Epoch 69/100\n",
      "14442/14442 [==============================] - 1s 66us/step - loss: 0.6798 - acc: 0.6971 - f1: 0.6791 - val_loss: 0.7755 - val_acc: 0.6404 - val_f1: 0.6169\n",
      "Epoch 70/100\n",
      "14442/14442 [==============================] - 1s 59us/step - loss: 0.6786 - acc: 0.6996 - f1: 0.6806 - val_loss: 0.7787 - val_acc: 0.6362 - val_f1: 0.6166\n",
      "Epoch 71/100\n",
      "14442/14442 [==============================] - 1s 51us/step - loss: 0.6777 - acc: 0.6994 - f1: 0.6809 - val_loss: 0.7793 - val_acc: 0.6347 - val_f1: 0.6178\n",
      "Epoch 72/100\n",
      "14442/14442 [==============================] - 1s 47us/step - loss: 0.6771 - acc: 0.6998 - f1: 0.6809 - val_loss: 0.7756 - val_acc: 0.6396 - val_f1: 0.6177\n",
      "Epoch 73/100\n",
      "14442/14442 [==============================] - 1s 44us/step - loss: 0.6764 - acc: 0.7007 - f1: 0.6816 - val_loss: 0.7757 - val_acc: 0.6386 - val_f1: 0.6185\n",
      "Epoch 74/100\n",
      "14442/14442 [==============================] - 1s 45us/step - loss: 0.6752 - acc: 0.7009 - f1: 0.6837 - val_loss: 0.7738 - val_acc: 0.6415 - val_f1: 0.6188\n",
      "Epoch 75/100\n",
      "14442/14442 [==============================] - 1s 54us/step - loss: 0.6746 - acc: 0.7022 - f1: 0.6828 - val_loss: 0.7761 - val_acc: 0.6389 - val_f1: 0.6186\n",
      "Epoch 76/100\n",
      "14442/14442 [==============================] - 1s 49us/step - loss: 0.6739 - acc: 0.7003 - f1: 0.6844 - val_loss: 0.7753 - val_acc: 0.6386 - val_f1: 0.6198\n",
      "Epoch 77/100\n",
      "14442/14442 [==============================] - 1s 47us/step - loss: 0.6732 - acc: 0.7032 - f1: 0.6843 - val_loss: 0.7779 - val_acc: 0.6360 - val_f1: 0.6174\n",
      "Epoch 78/100\n",
      "14442/14442 [==============================] - 1s 51us/step - loss: 0.6723 - acc: 0.7016 - f1: 0.6856 - val_loss: 0.7743 - val_acc: 0.6417 - val_f1: 0.6192\n",
      "Epoch 79/100\n",
      "14442/14442 [==============================] - 1s 47us/step - loss: 0.6718 - acc: 0.7019 - f1: 0.6854 - val_loss: 0.7741 - val_acc: 0.6410 - val_f1: 0.6195\n",
      "Epoch 80/100\n",
      "14442/14442 [==============================] - 1s 53us/step - loss: 0.6710 - acc: 0.7033 - f1: 0.6857 - val_loss: 0.7748 - val_acc: 0.6388 - val_f1: 0.6204\n",
      "Epoch 81/100\n",
      "14442/14442 [==============================] - 1s 46us/step - loss: 0.6705 - acc: 0.7037 - f1: 0.6867 - val_loss: 0.7744 - val_acc: 0.6394 - val_f1: 0.6202\n",
      "Epoch 82/100\n",
      "14442/14442 [==============================] - 1s 48us/step - loss: 0.6697 - acc: 0.7060 - f1: 0.6864 - val_loss: 0.7768 - val_acc: 0.6372 - val_f1: 0.6208\n",
      "Epoch 83/100\n",
      "14442/14442 [==============================] - 1s 47us/step - loss: 0.6689 - acc: 0.7040 - f1: 0.6880 - val_loss: 0.7717 - val_acc: 0.6420 - val_f1: 0.6208\n",
      "Epoch 84/100\n",
      "14442/14442 [==============================] - 1s 54us/step - loss: 0.6688 - acc: 0.7036 - f1: 0.6865 - val_loss: 0.7724 - val_acc: 0.6420 - val_f1: 0.6219\n",
      "Epoch 85/100\n",
      "14442/14442 [==============================] - 1s 49us/step - loss: 0.6676 - acc: 0.7051 - f1: 0.6882 - val_loss: 0.7768 - val_acc: 0.6363 - val_f1: 0.6199\n",
      "Epoch 86/100\n",
      "14442/14442 [==============================] - 1s 71us/step - loss: 0.6671 - acc: 0.7044 - f1: 0.6885 - val_loss: 0.7786 - val_acc: 0.6325 - val_f1: 0.6185\n",
      "Epoch 87/100\n",
      "14442/14442 [==============================] - 1s 63us/step - loss: 0.6666 - acc: 0.7060 - f1: 0.6884 - val_loss: 0.7726 - val_acc: 0.6402 - val_f1: 0.6224\n",
      "Epoch 88/100\n",
      "14442/14442 [==============================] - 1s 62us/step - loss: 0.6658 - acc: 0.7052 - f1: 0.6892 - val_loss: 0.7711 - val_acc: 0.6430 - val_f1: 0.6226\n",
      "Epoch 89/100\n",
      "14442/14442 [==============================] - 1s 71us/step - loss: 0.6653 - acc: 0.7063 - f1: 0.6892 - val_loss: 0.7737 - val_acc: 0.6399 - val_f1: 0.6220\n",
      "Epoch 90/100\n",
      "14442/14442 [==============================] - 1s 64us/step - loss: 0.6646 - acc: 0.7076 - f1: 0.6904 - val_loss: 0.7701 - val_acc: 0.6414 - val_f1: 0.6207\n",
      "Epoch 91/100\n",
      "14442/14442 [==============================] - 1s 68us/step - loss: 0.6642 - acc: 0.7057 - f1: 0.6909 - val_loss: 0.7706 - val_acc: 0.6425 - val_f1: 0.6231\n",
      "Epoch 92/100\n",
      "14442/14442 [==============================] - 1s 80us/step - loss: 0.6637 - acc: 0.7054 - f1: 0.6913 - val_loss: 0.7717 - val_acc: 0.6428 - val_f1: 0.6216\n",
      "Epoch 93/100\n",
      "14442/14442 [==============================] - 1s 71us/step - loss: 0.6628 - acc: 0.7065 - f1: 0.6915 - val_loss: 0.7725 - val_acc: 0.6417 - val_f1: 0.6234\n",
      "Epoch 94/100\n",
      "14442/14442 [==============================] - 1s 62us/step - loss: 0.6623 - acc: 0.7070 - f1: 0.6910 - val_loss: 0.7726 - val_acc: 0.6410 - val_f1: 0.6239\n",
      "Epoch 95/100\n",
      "14442/14442 [==============================] - 1s 53us/step - loss: 0.6619 - acc: 0.7075 - f1: 0.6922 - val_loss: 0.7719 - val_acc: 0.6430 - val_f1: 0.6239\n",
      "Epoch 96/100\n",
      "14442/14442 [==============================] - 1s 49us/step - loss: 0.6614 - acc: 0.7065 - f1: 0.6922 - val_loss: 0.7699 - val_acc: 0.6423 - val_f1: 0.6240\n",
      "Epoch 97/100\n"
     ]
    },
    {
     "name": "stdout",
     "output_type": "stream",
     "text": [
      "14442/14442 [==============================] - 1s 49us/step - loss: 0.6607 - acc: 0.7071 - f1: 0.6931 - val_loss: 0.7732 - val_acc: 0.6388 - val_f1: 0.6228\n",
      "Epoch 98/100\n",
      "14442/14442 [==============================] - 1s 49us/step - loss: 0.6606 - acc: 0.7090 - f1: 0.6934 - val_loss: 0.7709 - val_acc: 0.6433 - val_f1: 0.6241\n",
      "Epoch 99/100\n",
      "14442/14442 [==============================] - 1s 56us/step - loss: 0.6598 - acc: 0.7084 - f1: 0.6937 - val_loss: 0.7701 - val_acc: 0.6417 - val_f1: 0.6252\n",
      "Epoch 100/100\n",
      "14442/14442 [==============================] - 1s 50us/step - loss: 0.6591 - acc: 0.7080 - f1: 0.6930 - val_loss: 0.7743 - val_acc: 0.6402 - val_f1: 0.6233\n"
     ]
    }
   ],
   "source": [
    "history = model.fit(en_semeval_17_em, en_semeval_17_y, batch_size=128, epochs=100, validation_split=0.3, shuffle=True)"
   ]
  },
  {
   "cell_type": "code",
   "execution_count": 67,
   "metadata": {},
   "outputs": [
    {
     "name": "stdout",
     "output_type": "stream",
     "text": [
      "dict_keys(['val_f1', 'val_loss', 'val_acc', 'f1', 'acc', 'loss'])\n"
     ]
    },
    {
     "data": {
      "image/png": "[encoded data removed]",
      "text/plain": [
       "<Figure size 432x288 with 1 Axes>"
      ]
     },
     "metadata": {
      "needs_background": "light"
     },
     "output_type": "display_data"
    },
    {
     "data": {
      "image/png": "[encoded data removed]",
      "text/plain": [
       "<Figure size 432x288 with 1 Axes>"
      ]
     },
     "metadata": {
      "needs_background": "light"
     },
     "output_type": "display_data"
    },
    {
     "data": {
      "image/png": "[encoded data removed]",
      "text/plain": [
       "<Figure size 432x288 with 1 Axes>"
      ]
     },
     "metadata": {
      "needs_background": "light"
     },
     "output_type": "display_data"
    }
   ],
   "source": [
    "plot_history(history)"
   ]
  },
  {
   "cell_type": "code",
   "execution_count": 68,
   "metadata": {},
   "outputs": [
    {
     "name": "stdout",
     "output_type": "stream",
     "text": [
      "Train on 3392 samples, validate on 849 samples\n",
      "Epoch 1/50\n",
      "3392/3392 [==============================] - 1s 188us/step - loss: 0.8530 - acc: 0.6191 - f1: 0.5923 - val_loss: 0.7785 - val_acc: 0.6737 - val_f1: 0.6397\n",
      "Epoch 2/50\n",
      "3392/3392 [==============================] - 1s 158us/step - loss: 0.8335 - acc: 0.6291 - f1: 0.5981 - val_loss: 0.7766 - val_acc: 0.6784 - val_f1: 0.6419\n",
      "Epoch 3/50\n",
      "3392/3392 [==============================] - 1s 186us/step - loss: 0.8243 - acc: 0.6371 - f1: 0.6076 - val_loss: 0.7750 - val_acc: 0.6832 - val_f1: 0.6422\n",
      "Epoch 4/50\n",
      "3392/3392 [==============================] - 0s 143us/step - loss: 0.8150 - acc: 0.6400 - f1: 0.6130 - val_loss: 0.7600 - val_acc: 0.6879 - val_f1: 0.6552\n",
      "Epoch 5/50\n",
      "3392/3392 [==============================] - 1s 167us/step - loss: 0.8094 - acc: 0.6418 - f1: 0.6172 - val_loss: 0.7659 - val_acc: 0.6914 - val_f1: 0.6455\n",
      "Epoch 6/50\n",
      "3392/3392 [==============================] - 0s 133us/step - loss: 0.8036 - acc: 0.6442 - f1: 0.6190 - val_loss: 0.7551 - val_acc: 0.6938 - val_f1: 0.6588\n",
      "Epoch 7/50\n",
      "3392/3392 [==============================] - 1s 211us/step - loss: 0.7992 - acc: 0.6445 - f1: 0.6222 - val_loss: 0.7579 - val_acc: 0.6938 - val_f1: 0.6535\n",
      "Epoch 8/50\n",
      "3392/3392 [==============================] - 1s 176us/step - loss: 0.7944 - acc: 0.6480 - f1: 0.6257 - val_loss: 0.7497 - val_acc: 0.6914 - val_f1: 0.6608\n",
      "Epoch 9/50\n",
      "3392/3392 [==============================] - 1s 214us/step - loss: 0.7913 - acc: 0.6504 - f1: 0.6308 - val_loss: 0.7552 - val_acc: 0.6961 - val_f1: 0.6487\n",
      "Epoch 10/50\n",
      "3392/3392 [==============================] - 1s 215us/step - loss: 0.7871 - acc: 0.6530 - f1: 0.6288 - val_loss: 0.7529 - val_acc: 0.6926 - val_f1: 0.6518\n",
      "Epoch 11/50\n",
      "3392/3392 [==============================] - 1s 201us/step - loss: 0.7836 - acc: 0.6501 - f1: 0.6347 - val_loss: 0.7532 - val_acc: 0.6914 - val_f1: 0.6490\n",
      "Epoch 12/50\n",
      "3392/3392 [==============================] - 1s 215us/step - loss: 0.7805 - acc: 0.6504 - f1: 0.6350 - val_loss: 0.7523 - val_acc: 0.6867 - val_f1: 0.6488\n",
      "Epoch 13/50\n",
      "3392/3392 [==============================] - 1s 227us/step - loss: 0.7775 - acc: 0.6562 - f1: 0.6374 - val_loss: 0.7490 - val_acc: 0.6890 - val_f1: 0.6551\n",
      "Epoch 14/50\n",
      "3392/3392 [==============================] - 1s 243us/step - loss: 0.7741 - acc: 0.6592 - f1: 0.6387 - val_loss: 0.7464 - val_acc: 0.6890 - val_f1: 0.6566\n",
      "Epoch 15/50\n",
      "3392/3392 [==============================] - 1s 227us/step - loss: 0.7718 - acc: 0.6560 - f1: 0.6388 - val_loss: 0.7503 - val_acc: 0.6855 - val_f1: 0.6558\n",
      "Epoch 16/50\n",
      "3392/3392 [==============================] - 1s 309us/step - loss: 0.7691 - acc: 0.6592 - f1: 0.6395 - val_loss: 0.7489 - val_acc: 0.6855 - val_f1: 0.6547\n",
      "Epoch 17/50\n",
      "3392/3392 [==============================] - 1s 158us/step - loss: 0.7663 - acc: 0.6619 - f1: 0.6444 - val_loss: 0.7480 - val_acc: 0.6855 - val_f1: 0.6525\n",
      "Epoch 18/50\n",
      "3392/3392 [==============================] - 1s 236us/step - loss: 0.7639 - acc: 0.6613 - f1: 0.6468 - val_loss: 0.7505 - val_acc: 0.6867 - val_f1: 0.6526\n",
      "Epoch 19/50\n",
      "3392/3392 [==============================] - 1s 211us/step - loss: 0.7614 - acc: 0.6633 - f1: 0.6471 - val_loss: 0.7474 - val_acc: 0.6867 - val_f1: 0.6526\n",
      "Epoch 20/50\n",
      "3392/3392 [==============================] - 1s 176us/step - loss: 0.7589 - acc: 0.6672 - f1: 0.6482 - val_loss: 0.7451 - val_acc: 0.6855 - val_f1: 0.6528\n",
      "Epoch 21/50\n",
      "3392/3392 [==============================] - 0s 143us/step - loss: 0.7574 - acc: 0.6686 - f1: 0.6487 - val_loss: 0.7437 - val_acc: 0.6867 - val_f1: 0.6513\n",
      "Epoch 22/50\n",
      "3392/3392 [==============================] - 1s 167us/step - loss: 0.7549 - acc: 0.6707 - f1: 0.6479 - val_loss: 0.7486 - val_acc: 0.6890 - val_f1: 0.6561\n",
      "Epoch 23/50\n",
      "3392/3392 [==============================] - 1s 204us/step - loss: 0.7523 - acc: 0.6719 - f1: 0.6493 - val_loss: 0.7506 - val_acc: 0.6855 - val_f1: 0.6532\n",
      "Epoch 24/50\n",
      "3392/3392 [==============================] - 1s 178us/step - loss: 0.7511 - acc: 0.6728 - f1: 0.6490 - val_loss: 0.7514 - val_acc: 0.6855 - val_f1: 0.6527\n",
      "Epoch 25/50\n",
      "3392/3392 [==============================] - 1s 185us/step - loss: 0.7495 - acc: 0.6733 - f1: 0.6542 - val_loss: 0.7416 - val_acc: 0.6902 - val_f1: 0.6522\n",
      "Epoch 26/50\n",
      "3392/3392 [==============================] - 1s 164us/step - loss: 0.7466 - acc: 0.6731 - f1: 0.6516 - val_loss: 0.7475 - val_acc: 0.6820 - val_f1: 0.6541\n",
      "Epoch 27/50\n",
      "3392/3392 [==============================] - 1s 169us/step - loss: 0.7455 - acc: 0.6790 - f1: 0.6540 - val_loss: 0.7432 - val_acc: 0.6890 - val_f1: 0.6527\n",
      "Epoch 28/50\n",
      "3392/3392 [==============================] - 0s 139us/step - loss: 0.7426 - acc: 0.6778 - f1: 0.6566 - val_loss: 0.7423 - val_acc: 0.6879 - val_f1: 0.6541\n",
      "Epoch 29/50\n",
      "3392/3392 [==============================] - 1s 179us/step - loss: 0.7417 - acc: 0.6795 - f1: 0.6541 - val_loss: 0.7472 - val_acc: 0.6820 - val_f1: 0.6556\n",
      "Epoch 30/50\n",
      "3392/3392 [==============================] - 1s 156us/step - loss: 0.7393 - acc: 0.6813 - f1: 0.6595 - val_loss: 0.7393 - val_acc: 0.6843 - val_f1: 0.6571\n",
      "Epoch 31/50\n",
      "3392/3392 [==============================] - 1s 162us/step - loss: 0.7379 - acc: 0.6801 - f1: 0.6595 - val_loss: 0.7456 - val_acc: 0.6820 - val_f1: 0.6527\n",
      "Epoch 32/50\n",
      "3392/3392 [==============================] - 0s 133us/step - loss: 0.7358 - acc: 0.6834 - f1: 0.6609 - val_loss: 0.7394 - val_acc: 0.6843 - val_f1: 0.6528\n",
      "Epoch 33/50\n",
      "3392/3392 [==============================] - 1s 192us/step - loss: 0.7345 - acc: 0.6804 - f1: 0.6613 - val_loss: 0.7435 - val_acc: 0.6808 - val_f1: 0.6503\n",
      "Epoch 34/50\n",
      "3392/3392 [==============================] - 1s 158us/step - loss: 0.7323 - acc: 0.6825 - f1: 0.6630 - val_loss: 0.7426 - val_acc: 0.6832 - val_f1: 0.6495\n",
      "Epoch 35/50\n",
      "3392/3392 [==============================] - 1s 172us/step - loss: 0.7307 - acc: 0.6819 - f1: 0.6637 - val_loss: 0.7429 - val_acc: 0.6784 - val_f1: 0.6506\n",
      "Epoch 36/50\n",
      "3392/3392 [==============================] - 1s 167us/step - loss: 0.7290 - acc: 0.6860 - f1: 0.6656 - val_loss: 0.7423 - val_acc: 0.6784 - val_f1: 0.6492\n",
      "Epoch 37/50\n",
      "3392/3392 [==============================] - 0s 143us/step - loss: 0.7273 - acc: 0.6869 - f1: 0.6672 - val_loss: 0.7416 - val_acc: 0.6784 - val_f1: 0.6501\n",
      "Epoch 38/50\n",
      "3392/3392 [==============================] - 1s 157us/step - loss: 0.7258 - acc: 0.6878 - f1: 0.6677 - val_loss: 0.7483 - val_acc: 0.6749 - val_f1: 0.6539\n",
      "Epoch 39/50\n",
      "3392/3392 [==============================] - 1s 159us/step - loss: 0.7246 - acc: 0.6866 - f1: 0.6690 - val_loss: 0.7412 - val_acc: 0.6773 - val_f1: 0.6505\n",
      "Epoch 40/50\n",
      "3392/3392 [==============================] - 1s 158us/step - loss: 0.7233 - acc: 0.6863 - f1: 0.6671 - val_loss: 0.7440 - val_acc: 0.6796 - val_f1: 0.6487\n",
      "Epoch 41/50\n",
      "3392/3392 [==============================] - 1s 150us/step - loss: 0.7220 - acc: 0.6910 - f1: 0.6673 - val_loss: 0.7465 - val_acc: 0.6761 - val_f1: 0.6517\n",
      "Epoch 42/50\n",
      "3392/3392 [==============================] - 1s 179us/step - loss: 0.7201 - acc: 0.6899 - f1: 0.6701 - val_loss: 0.7408 - val_acc: 0.6749 - val_f1: 0.6541\n",
      "Epoch 43/50\n",
      "3392/3392 [==============================] - 1s 175us/step - loss: 0.7186 - acc: 0.6910 - f1: 0.6693 - val_loss: 0.7423 - val_acc: 0.6796 - val_f1: 0.6513\n",
      "Epoch 44/50\n",
      "3392/3392 [==============================] - 1s 232us/step - loss: 0.7174 - acc: 0.6960 - f1: 0.6719 - val_loss: 0.7415 - val_acc: 0.6761 - val_f1: 0.6502\n",
      "Epoch 45/50\n",
      "3392/3392 [==============================] - 1s 195us/step - loss: 0.7161 - acc: 0.6943 - f1: 0.6719 - val_loss: 0.7415 - val_acc: 0.6737 - val_f1: 0.6532\n",
      "Epoch 46/50\n",
      "3392/3392 [==============================] - 1s 263us/step - loss: 0.7144 - acc: 0.6919 - f1: 0.6730 - val_loss: 0.7440 - val_acc: 0.6749 - val_f1: 0.6528\n",
      "Epoch 47/50\n",
      "3392/3392 [==============================] - 1s 196us/step - loss: 0.7135 - acc: 0.6955 - f1: 0.6756 - val_loss: 0.7455 - val_acc: 0.6749 - val_f1: 0.6533\n",
      "Epoch 48/50\n",
      "3392/3392 [==============================] - 1s 255us/step - loss: 0.7115 - acc: 0.6940 - f1: 0.6763 - val_loss: 0.7431 - val_acc: 0.6784 - val_f1: 0.6557\n",
      "Epoch 49/50\n",
      "3392/3392 [==============================] - 1s 174us/step - loss: 0.7110 - acc: 0.6978 - f1: 0.6762 - val_loss: 0.7418 - val_acc: 0.6749 - val_f1: 0.6523\n"
     ]
    },
    {
     "name": "stdout",
     "output_type": "stream",
     "text": [
      "Epoch 50/50\n",
      "3392/3392 [==============================] - 1s 259us/step - loss: 0.7092 - acc: 0.6972 - f1: 0.6776 - val_loss: 0.7463 - val_acc: 0.6726 - val_f1: 0.6496\n"
     ]
    }
   ],
   "source": [
    "history = model.fit(en_twitter_emb, en_twitter_y, batch_size=32, epochs=50, validation_split=0.2, shuffle=True)"
   ]
  },
  {
   "cell_type": "code",
   "execution_count": 69,
   "metadata": {},
   "outputs": [
    {
     "name": "stdout",
     "output_type": "stream",
     "text": [
      "dict_keys(['val_f1', 'val_loss', 'val_acc', 'f1', 'acc', 'loss'])\n"
     ]
    },
    {
     "data": {
      "image/png": "[encoded data removed]",
      "text/plain": [
       "<Figure size 432x288 with 1 Axes>"
      ]
     },
     "metadata": {
      "needs_background": "light"
     },
     "output_type": "display_data"
    },
    {
     "data": {
      "image/png": "[encoded data removed]",
      "text/plain": [
       "<Figure size 432x288 with 1 Axes>"
      ]
     },
     "metadata": {
      "needs_background": "light"
     },
     "output_type": "display_data"
    },
    {
     "data": {
      "image/png": "[encoded data removed]",
      "text/plain": [
       "<Figure size 432x288 with 1 Axes>"
      ]
     },
     "metadata": {
      "needs_background": "light"
     },
     "output_type": "display_data"
    }
   ],
   "source": [
    "plot_history(history)"
   ]
  },
  {
   "cell_type": "code",
   "execution_count": 70,
   "metadata": {},
   "outputs": [
    {
     "name": "stdout",
     "output_type": "stream",
     "text": [
      "Classification Report\n",
      "              precision    recall  f1-score   support\n",
      "\n",
      "           0       0.39      0.79      0.53      2152\n",
      "           1       0.82      0.45      0.58      2883\n",
      "           2       0.67      0.41      0.51      2182\n",
      "\n",
      "   micro avg       0.54      0.54      0.54      7217\n",
      "   macro avg       0.63      0.55      0.54      7217\n",
      "weighted avg       0.65      0.54      0.54      7217\n",
      "\n",
      "Confusion Matrix\n",
      "[[1697  206  249]\n",
      " [1395 1289  199]\n",
      " [1213   79  890]]\n"
     ]
    }
   ],
   "source": [
    "evaluate_one(model,es_tass_emb, es_tass_y)"
   ]
  },
  {
   "cell_type": "code",
   "execution_count": 71,
   "metadata": {},
   "outputs": [
    {
     "name": "stdout",
     "output_type": "stream",
     "text": [
      "Train on 6495 samples, validate on 722 samples\n",
      "Epoch 1/100\n",
      "6495/6495 [==============================] - 1s 224us/step - loss: 0.8499 - acc: 0.6106 - f1: 0.5801 - val_loss: 0.8517 - val_acc: 0.6150 - val_f1: 0.5778\n",
      "Epoch 2/100\n",
      "6495/6495 [==============================] - 1s 201us/step - loss: 0.8268 - acc: 0.6249 - f1: 0.5906 - val_loss: 0.8371 - val_acc: 0.6247 - val_f1: 0.5937\n",
      "Epoch 3/100\n",
      "6495/6495 [==============================] - 1s 159us/step - loss: 0.8167 - acc: 0.6277 - f1: 0.5963 - val_loss: 0.8311 - val_acc: 0.6288 - val_f1: 0.5950\n",
      "Epoch 4/100\n",
      "6495/6495 [==============================] - 1s 170us/step - loss: 0.8074 - acc: 0.6349 - f1: 0.6012 - val_loss: 0.8287 - val_acc: 0.6288 - val_f1: 0.5964\n",
      "Epoch 5/100\n",
      "6495/6495 [==============================] - 1s 149us/step - loss: 0.7998 - acc: 0.6397 - f1: 0.6054 - val_loss: 0.8198 - val_acc: 0.6371 - val_f1: 0.6057\n",
      "Epoch 6/100\n",
      "6495/6495 [==============================] - 1s 159us/step - loss: 0.7928 - acc: 0.6457 - f1: 0.6086 - val_loss: 0.8204 - val_acc: 0.6316 - val_f1: 0.6146\n",
      "Epoch 7/100\n",
      "6495/6495 [==============================] - 1s 161us/step - loss: 0.7871 - acc: 0.6520 - f1: 0.6153 - val_loss: 0.8148 - val_acc: 0.6385 - val_f1: 0.6104\n",
      "Epoch 8/100\n",
      "6495/6495 [==============================] - 1s 165us/step - loss: 0.7808 - acc: 0.6534 - f1: 0.6197 - val_loss: 0.8092 - val_acc: 0.6510 - val_f1: 0.6072\n",
      "Epoch 9/100\n",
      "6495/6495 [==============================] - 1s 170us/step - loss: 0.7761 - acc: 0.6562 - f1: 0.6243 - val_loss: 0.8096 - val_acc: 0.6510 - val_f1: 0.6116\n",
      "Epoch 10/100\n",
      "6495/6495 [==============================] - 1s 156us/step - loss: 0.7712 - acc: 0.6574 - f1: 0.6265 - val_loss: 0.8068 - val_acc: 0.6482 - val_f1: 0.6230\n",
      "Epoch 11/100\n",
      "6495/6495 [==============================] - 1s 157us/step - loss: 0.7671 - acc: 0.6602 - f1: 0.6295 - val_loss: 0.8049 - val_acc: 0.6524 - val_f1: 0.6169\n",
      "Epoch 12/100\n",
      "6495/6495 [==============================] - 1s 172us/step - loss: 0.7631 - acc: 0.6644 - f1: 0.6299 - val_loss: 0.7984 - val_acc: 0.6537 - val_f1: 0.6230\n",
      "Epoch 13/100\n",
      "6495/6495 [==============================] - 1s 214us/step - loss: 0.7595 - acc: 0.6674 - f1: 0.6354 - val_loss: 0.8001 - val_acc: 0.6565 - val_f1: 0.6272\n",
      "Epoch 14/100\n",
      "6495/6495 [==============================] - 2s 251us/step - loss: 0.7556 - acc: 0.6705 - f1: 0.6364 - val_loss: 0.7953 - val_acc: 0.6537 - val_f1: 0.6189\n",
      "Epoch 15/100\n",
      "6495/6495 [==============================] - 1s 226us/step - loss: 0.7525 - acc: 0.6704 - f1: 0.6388 - val_loss: 0.7947 - val_acc: 0.6565 - val_f1: 0.6294\n",
      "Epoch 16/100\n",
      "6495/6495 [==============================] - 1s 203us/step - loss: 0.7497 - acc: 0.6697 - f1: 0.6436 - val_loss: 0.7922 - val_acc: 0.6579 - val_f1: 0.6335\n",
      "Epoch 17/100\n",
      "6495/6495 [==============================] - 1s 202us/step - loss: 0.7462 - acc: 0.6751 - f1: 0.6461 - val_loss: 0.7914 - val_acc: 0.6634 - val_f1: 0.6296\n",
      "Epoch 18/100\n",
      "6495/6495 [==============================] - 1s 191us/step - loss: 0.7434 - acc: 0.6761 - f1: 0.6443 - val_loss: 0.7898 - val_acc: 0.6634 - val_f1: 0.6391\n",
      "Epoch 19/100\n",
      "6495/6495 [==============================] - 1s 159us/step - loss: 0.7404 - acc: 0.6761 - f1: 0.6498 - val_loss: 0.7906 - val_acc: 0.6524 - val_f1: 0.6338\n",
      "Epoch 20/100\n",
      "6495/6495 [==============================] - 1s 165us/step - loss: 0.7383 - acc: 0.6822 - f1: 0.6504 - val_loss: 0.7872 - val_acc: 0.6648 - val_f1: 0.6407\n",
      "Epoch 21/100\n",
      "6495/6495 [==============================] - 1s 156us/step - loss: 0.7358 - acc: 0.6831 - f1: 0.6518 - val_loss: 0.7852 - val_acc: 0.6634 - val_f1: 0.6385\n",
      "Epoch 22/100\n",
      "6495/6495 [==============================] - 1s 157us/step - loss: 0.7331 - acc: 0.6810 - f1: 0.6539 - val_loss: 0.7860 - val_acc: 0.6593 - val_f1: 0.6385\n",
      "Epoch 23/100\n",
      "6495/6495 [==============================] - 1s 165us/step - loss: 0.7304 - acc: 0.6842 - f1: 0.6561 - val_loss: 0.7808 - val_acc: 0.6731 - val_f1: 0.6473\n",
      "Epoch 24/100\n",
      "6495/6495 [==============================] - 1s 155us/step - loss: 0.7288 - acc: 0.6851 - f1: 0.6575 - val_loss: 0.7828 - val_acc: 0.6634 - val_f1: 0.6456\n",
      "Epoch 25/100\n",
      "6495/6495 [==============================] - 1s 140us/step - loss: 0.7266 - acc: 0.6884 - f1: 0.6563 - val_loss: 0.7825 - val_acc: 0.6662 - val_f1: 0.6480\n",
      "Epoch 26/100\n",
      "6495/6495 [==============================] - 1s 168us/step - loss: 0.7250 - acc: 0.6888 - f1: 0.6594 - val_loss: 0.7805 - val_acc: 0.6634 - val_f1: 0.6468\n",
      "Epoch 27/100\n",
      "6495/6495 [==============================] - 1s 145us/step - loss: 0.7226 - acc: 0.6898 - f1: 0.6597 - val_loss: 0.7790 - val_acc: 0.6676 - val_f1: 0.6523\n",
      "Epoch 28/100\n",
      "6495/6495 [==============================] - 1s 149us/step - loss: 0.7204 - acc: 0.6944 - f1: 0.6617 - val_loss: 0.7788 - val_acc: 0.6662 - val_f1: 0.6490\n",
      "Epoch 29/100\n",
      "6495/6495 [==============================] - 1s 170us/step - loss: 0.7183 - acc: 0.6955 - f1: 0.6647 - val_loss: 0.7809 - val_acc: 0.6704 - val_f1: 0.6463\n",
      "Epoch 30/100\n",
      "6495/6495 [==============================] - 1s 153us/step - loss: 0.7170 - acc: 0.6935 - f1: 0.6657 - val_loss: 0.7777 - val_acc: 0.6717 - val_f1: 0.6551\n",
      "Epoch 31/100\n",
      "6495/6495 [==============================] - 1s 164us/step - loss: 0.7147 - acc: 0.6955 - f1: 0.6656 - val_loss: 0.7772 - val_acc: 0.6690 - val_f1: 0.6563\n",
      "Epoch 32/100\n",
      "6495/6495 [==============================] - 1s 170us/step - loss: 0.7130 - acc: 0.6956 - f1: 0.6674 - val_loss: 0.7789 - val_acc: 0.6662 - val_f1: 0.6461\n",
      "Epoch 33/100\n",
      "6495/6495 [==============================] - 2s 261us/step - loss: 0.7110 - acc: 0.6958 - f1: 0.6682 - val_loss: 0.7755 - val_acc: 0.6704 - val_f1: 0.6535\n",
      "Epoch 34/100\n",
      "6495/6495 [==============================] - 1s 211us/step - loss: 0.7095 - acc: 0.6975 - f1: 0.6693 - val_loss: 0.7757 - val_acc: 0.6676 - val_f1: 0.6470\n",
      "Epoch 35/100\n",
      "6495/6495 [==============================] - 1s 200us/step - loss: 0.7077 - acc: 0.6990 - f1: 0.6714 - val_loss: 0.7758 - val_acc: 0.6676 - val_f1: 0.6504\n",
      "Epoch 36/100\n",
      "6495/6495 [==============================] - 1s 224us/step - loss: 0.7063 - acc: 0.6995 - f1: 0.6703 - val_loss: 0.7781 - val_acc: 0.6662 - val_f1: 0.6473\n",
      "Epoch 37/100\n",
      "6495/6495 [==============================] - 2s 243us/step - loss: 0.7048 - acc: 0.7010 - f1: 0.6733 - val_loss: 0.7718 - val_acc: 0.6690 - val_f1: 0.6577\n",
      "Epoch 38/100\n",
      "6495/6495 [==============================] - 1s 153us/step - loss: 0.7035 - acc: 0.6987 - f1: 0.6729 - val_loss: 0.7737 - val_acc: 0.6676 - val_f1: 0.6494\n",
      "Epoch 39/100\n",
      "6495/6495 [==============================] - 1s 153us/step - loss: 0.7017 - acc: 0.7001 - f1: 0.6746 - val_loss: 0.7750 - val_acc: 0.6731 - val_f1: 0.6496\n",
      "Epoch 40/100\n",
      "6495/6495 [==============================] - 1s 159us/step - loss: 0.7001 - acc: 0.7021 - f1: 0.6738 - val_loss: 0.7708 - val_acc: 0.6745 - val_f1: 0.6564\n",
      "Epoch 41/100\n",
      "6495/6495 [==============================] - 1s 152us/step - loss: 0.6990 - acc: 0.7041 - f1: 0.6770 - val_loss: 0.7745 - val_acc: 0.6731 - val_f1: 0.6453\n",
      "Epoch 42/100\n",
      "6495/6495 [==============================] - 1s 157us/step - loss: 0.6977 - acc: 0.7019 - f1: 0.6772 - val_loss: 0.7703 - val_acc: 0.6731 - val_f1: 0.6574\n",
      "Epoch 43/100\n",
      "6495/6495 [==============================] - 1s 137us/step - loss: 0.6959 - acc: 0.7048 - f1: 0.6802 - val_loss: 0.7702 - val_acc: 0.6731 - val_f1: 0.6570\n",
      "Epoch 44/100\n",
      "6495/6495 [==============================] - 1s 158us/step - loss: 0.6948 - acc: 0.7045 - f1: 0.6809 - val_loss: 0.7712 - val_acc: 0.6745 - val_f1: 0.6557\n",
      "Epoch 45/100\n",
      "6495/6495 [==============================] - 1s 148us/step - loss: 0.6936 - acc: 0.7036 - f1: 0.6804 - val_loss: 0.7740 - val_acc: 0.6731 - val_f1: 0.6526\n",
      "Epoch 46/100\n",
      "6495/6495 [==============================] - 1s 161us/step - loss: 0.6923 - acc: 0.7085 - f1: 0.6834 - val_loss: 0.7699 - val_acc: 0.6801 - val_f1: 0.6542\n",
      "Epoch 47/100\n",
      "6495/6495 [==============================] - 1s 152us/step - loss: 0.6913 - acc: 0.7095 - f1: 0.6828 - val_loss: 0.7700 - val_acc: 0.6787 - val_f1: 0.6559\n",
      "Epoch 48/100\n",
      "6495/6495 [==============================] - 1s 156us/step - loss: 0.6898 - acc: 0.7078 - f1: 0.6849 - val_loss: 0.7673 - val_acc: 0.6787 - val_f1: 0.6597\n",
      "Epoch 49/100\n",
      "6495/6495 [==============================] - 1s 206us/step - loss: 0.6887 - acc: 0.7101 - f1: 0.6853 - val_loss: 0.7671 - val_acc: 0.6773 - val_f1: 0.6582\n",
      "Epoch 50/100\n",
      "6495/6495 [==============================] - 1s 219us/step - loss: 0.6875 - acc: 0.7093 - f1: 0.6862 - val_loss: 0.7681 - val_acc: 0.6814 - val_f1: 0.6589\n",
      "Epoch 51/100\n",
      "6495/6495 [==============================] - 1s 208us/step - loss: 0.6861 - acc: 0.7130 - f1: 0.6866 - val_loss: 0.7737 - val_acc: 0.6814 - val_f1: 0.6522\n",
      "Epoch 52/100\n",
      "6495/6495 [==============================] - 1s 211us/step - loss: 0.6855 - acc: 0.7092 - f1: 0.6870 - val_loss: 0.7730 - val_acc: 0.6745 - val_f1: 0.6534\n",
      "Epoch 53/100\n",
      "6495/6495 [==============================] - 2s 236us/step - loss: 0.6839 - acc: 0.7105 - f1: 0.6881 - val_loss: 0.7688 - val_acc: 0.6773 - val_f1: 0.6568\n",
      "Epoch 54/100\n",
      "6495/6495 [==============================] - 1s 217us/step - loss: 0.6831 - acc: 0.7113 - f1: 0.6878 - val_loss: 0.7688 - val_acc: 0.6801 - val_f1: 0.6557\n",
      "Epoch 55/100\n",
      "6495/6495 [==============================] - 1s 157us/step - loss: 0.6815 - acc: 0.7124 - f1: 0.6885 - val_loss: 0.7662 - val_acc: 0.6814 - val_f1: 0.6603\n",
      "Epoch 56/100\n",
      "6495/6495 [==============================] - 1s 147us/step - loss: 0.6807 - acc: 0.7152 - f1: 0.6905 - val_loss: 0.7722 - val_acc: 0.6759 - val_f1: 0.6564\n",
      "Epoch 57/100\n",
      "6495/6495 [==============================] - 1s 179us/step - loss: 0.6796 - acc: 0.7133 - f1: 0.6907 - val_loss: 0.7696 - val_acc: 0.6828 - val_f1: 0.6566\n",
      "Epoch 58/100\n",
      "6495/6495 [==============================] - 1s 169us/step - loss: 0.6788 - acc: 0.7135 - f1: 0.6908 - val_loss: 0.7689 - val_acc: 0.6814 - val_f1: 0.6571\n",
      "Epoch 59/100\n",
      "6495/6495 [==============================] - 1s 145us/step - loss: 0.6778 - acc: 0.7147 - f1: 0.6939 - val_loss: 0.7705 - val_acc: 0.6856 - val_f1: 0.6578\n",
      "Epoch 60/100\n",
      "6495/6495 [==============================] - 1s 152us/step - loss: 0.6768 - acc: 0.7145 - f1: 0.6926 - val_loss: 0.7662 - val_acc: 0.6787 - val_f1: 0.6578\n",
      "Epoch 61/100\n",
      "6495/6495 [==============================] - 1s 154us/step - loss: 0.6755 - acc: 0.7141 - f1: 0.6946 - val_loss: 0.7673 - val_acc: 0.6801 - val_f1: 0.6583\n",
      "Epoch 62/100\n",
      "6495/6495 [==============================] - 1s 160us/step - loss: 0.6747 - acc: 0.7166 - f1: 0.6958 - val_loss: 0.7673 - val_acc: 0.6773 - val_f1: 0.6552\n",
      "Epoch 63/100\n",
      "6495/6495 [==============================] - 1s 189us/step - loss: 0.6736 - acc: 0.7170 - f1: 0.6951 - val_loss: 0.7660 - val_acc: 0.6801 - val_f1: 0.6610\n",
      "Epoch 64/100\n",
      "6495/6495 [==============================] - 1s 146us/step - loss: 0.6725 - acc: 0.7184 - f1: 0.6962 - val_loss: 0.7668 - val_acc: 0.6773 - val_f1: 0.6571\n",
      "Epoch 65/100\n",
      "6495/6495 [==============================] - 1s 159us/step - loss: 0.6718 - acc: 0.7181 - f1: 0.6959 - val_loss: 0.7664 - val_acc: 0.6787 - val_f1: 0.6605\n",
      "Epoch 66/100\n",
      "6495/6495 [==============================] - 1s 184us/step - loss: 0.6708 - acc: 0.7192 - f1: 0.6980 - val_loss: 0.7688 - val_acc: 0.6814 - val_f1: 0.6566\n",
      "Epoch 67/100\n",
      "6495/6495 [==============================] - 1s 142us/step - loss: 0.6698 - acc: 0.7190 - f1: 0.6987 - val_loss: 0.7674 - val_acc: 0.6787 - val_f1: 0.6593\n",
      "Epoch 68/100\n",
      "6495/6495 [==============================] - 1s 227us/step - loss: 0.6689 - acc: 0.7201 - f1: 0.7009 - val_loss: 0.7661 - val_acc: 0.6787 - val_f1: 0.6614\n",
      "Epoch 69/100\n",
      "6495/6495 [==============================] - 1s 215us/step - loss: 0.6680 - acc: 0.7187 - f1: 0.6989 - val_loss: 0.7662 - val_acc: 0.6759 - val_f1: 0.6597\n",
      "Epoch 70/100\n",
      "6495/6495 [==============================] - 1s 206us/step - loss: 0.6674 - acc: 0.7216 - f1: 0.6989 - val_loss: 0.7656 - val_acc: 0.6745 - val_f1: 0.6603\n",
      "Epoch 71/100\n",
      "6495/6495 [==============================] - 1s 212us/step - loss: 0.6662 - acc: 0.7229 - f1: 0.7010 - val_loss: 0.7648 - val_acc: 0.6773 - val_f1: 0.6627\n",
      "Epoch 72/100\n",
      "6495/6495 [==============================] - 2s 245us/step - loss: 0.6655 - acc: 0.7206 - f1: 0.6998 - val_loss: 0.7687 - val_acc: 0.6801 - val_f1: 0.6540\n",
      "Epoch 73/100\n",
      "6495/6495 [==============================] - 1s 192us/step - loss: 0.6650 - acc: 0.7213 - f1: 0.7010 - val_loss: 0.7695 - val_acc: 0.6814 - val_f1: 0.6553\n",
      "Epoch 74/100\n",
      "6495/6495 [==============================] - 1s 200us/step - loss: 0.6639 - acc: 0.7215 - f1: 0.6984 - val_loss: 0.7676 - val_acc: 0.6814 - val_f1: 0.6615\n",
      "Epoch 75/100\n",
      "6495/6495 [==============================] - 1s 144us/step - loss: 0.6627 - acc: 0.7238 - f1: 0.7022 - val_loss: 0.7698 - val_acc: 0.6801 - val_f1: 0.6528\n",
      "Epoch 76/100\n",
      "6495/6495 [==============================] - 1s 138us/step - loss: 0.6620 - acc: 0.7221 - f1: 0.7014 - val_loss: 0.7652 - val_acc: 0.6717 - val_f1: 0.6616\n",
      "Epoch 77/100\n",
      "6495/6495 [==============================] - 1s 172us/step - loss: 0.6614 - acc: 0.7229 - f1: 0.7024 - val_loss: 0.7664 - val_acc: 0.6759 - val_f1: 0.6614\n",
      "Epoch 78/100\n",
      "6495/6495 [==============================] - 1s 159us/step - loss: 0.6604 - acc: 0.7242 - f1: 0.7050 - val_loss: 0.7663 - val_acc: 0.6745 - val_f1: 0.6615\n",
      "Epoch 79/100\n",
      "6495/6495 [==============================] - 1s 163us/step - loss: 0.6601 - acc: 0.7236 - f1: 0.7033 - val_loss: 0.7678 - val_acc: 0.6745 - val_f1: 0.6652\n",
      "Epoch 80/100\n",
      "6495/6495 [==============================] - 1s 147us/step - loss: 0.6593 - acc: 0.7247 - f1: 0.7034 - val_loss: 0.7664 - val_acc: 0.6773 - val_f1: 0.6598\n",
      "Epoch 81/100\n",
      "6495/6495 [==============================] - 1s 169us/step - loss: 0.6579 - acc: 0.7244 - f1: 0.7055 - val_loss: 0.7675 - val_acc: 0.6745 - val_f1: 0.6609\n",
      "Epoch 82/100\n",
      "6495/6495 [==============================] - 1s 165us/step - loss: 0.6576 - acc: 0.7244 - f1: 0.7048 - val_loss: 0.7668 - val_acc: 0.6759 - val_f1: 0.6613\n",
      "Epoch 83/100\n",
      "6495/6495 [==============================] - 1s 159us/step - loss: 0.6567 - acc: 0.7258 - f1: 0.7049 - val_loss: 0.7673 - val_acc: 0.6745 - val_f1: 0.6635\n",
      "Epoch 84/100\n",
      "6495/6495 [==============================] - 1s 145us/step - loss: 0.6557 - acc: 0.7255 - f1: 0.7046 - val_loss: 0.7669 - val_acc: 0.6745 - val_f1: 0.6643\n",
      "Epoch 85/100\n",
      "6495/6495 [==============================] - 1s 168us/step - loss: 0.6554 - acc: 0.7253 - f1: 0.7064 - val_loss: 0.7649 - val_acc: 0.6717 - val_f1: 0.6637\n",
      "Epoch 86/100\n",
      "6495/6495 [==============================] - 1s 198us/step - loss: 0.6545 - acc: 0.7272 - f1: 0.7078 - val_loss: 0.7680 - val_acc: 0.6759 - val_f1: 0.6594\n",
      "Epoch 87/100\n",
      "6495/6495 [==============================] - 2s 253us/step - loss: 0.6540 - acc: 0.7276 - f1: 0.7073 - val_loss: 0.7673 - val_acc: 0.6773 - val_f1: 0.6616\n",
      "Epoch 88/100\n",
      "6495/6495 [==============================] - 1s 200us/step - loss: 0.6529 - acc: 0.7275 - f1: 0.7068 - val_loss: 0.7655 - val_acc: 0.6704 - val_f1: 0.6646\n",
      "Epoch 89/100\n",
      "6495/6495 [==============================] - 2s 237us/step - loss: 0.6526 - acc: 0.7278 - f1: 0.7073 - val_loss: 0.7667 - val_acc: 0.6717 - val_f1: 0.6617\n",
      "Epoch 90/100\n",
      "6495/6495 [==============================] - 1s 222us/step - loss: 0.6517 - acc: 0.7287 - f1: 0.7068 - val_loss: 0.7640 - val_acc: 0.6745 - val_f1: 0.6745\n",
      "Epoch 91/100\n",
      "6495/6495 [==============================] - 1s 206us/step - loss: 0.6512 - acc: 0.7284 - f1: 0.7091 - val_loss: 0.7669 - val_acc: 0.6731 - val_f1: 0.6618\n",
      "Epoch 92/100\n",
      "6495/6495 [==============================] - 1s 155us/step - loss: 0.6504 - acc: 0.7293 - f1: 0.7093 - val_loss: 0.7669 - val_acc: 0.6745 - val_f1: 0.6645\n",
      "Epoch 93/100\n",
      "6495/6495 [==============================] - 1s 158us/step - loss: 0.6500 - acc: 0.7276 - f1: 0.7082 - val_loss: 0.7658 - val_acc: 0.6717 - val_f1: 0.6661\n",
      "Epoch 94/100\n",
      "6495/6495 [==============================] - 1s 151us/step - loss: 0.6494 - acc: 0.7270 - f1: 0.7096 - val_loss: 0.7668 - val_acc: 0.6745 - val_f1: 0.6625\n",
      "Epoch 95/100\n",
      "6495/6495 [==============================] - 1s 168us/step - loss: 0.6488 - acc: 0.7306 - f1: 0.7104 - val_loss: 0.7646 - val_acc: 0.6745 - val_f1: 0.6670\n",
      "Epoch 96/100\n",
      "6495/6495 [==============================] - 1s 166us/step - loss: 0.6478 - acc: 0.7293 - f1: 0.7097 - val_loss: 0.7643 - val_acc: 0.6745 - val_f1: 0.6686\n",
      "Epoch 97/100\n",
      "6495/6495 [==============================] - 1s 157us/step - loss: 0.6472 - acc: 0.7309 - f1: 0.7107 - val_loss: 0.7705 - val_acc: 0.6773 - val_f1: 0.6542\n"
     ]
    },
    {
     "name": "stdout",
     "output_type": "stream",
     "text": [
      "Epoch 98/100\n",
      "6495/6495 [==============================] - 1s 154us/step - loss: 0.6462 - acc: 0.7296 - f1: 0.7111 - val_loss: 0.7662 - val_acc: 0.6745 - val_f1: 0.6652\n",
      "Epoch 99/100\n",
      "6495/6495 [==============================] - 1s 157us/step - loss: 0.6461 - acc: 0.7316 - f1: 0.7119 - val_loss: 0.7659 - val_acc: 0.6717 - val_f1: 0.6683\n",
      "Epoch 100/100\n",
      "6495/6495 [==============================] - 1s 151us/step - loss: 0.6456 - acc: 0.7309 - f1: 0.7124 - val_loss: 0.7686 - val_acc: 0.6814 - val_f1: 0.6635\n"
     ]
    }
   ],
   "source": [
    "history = model.fit(es_tass_emb, es_tass_y, batch_size=32, epochs=100, validation_split=0.1, shuffle=True)"
   ]
  },
  {
   "cell_type": "code",
   "execution_count": 72,
   "metadata": {
    "scrolled": true
   },
   "outputs": [
    {
     "name": "stdout",
     "output_type": "stream",
     "text": [
      "dict_keys(['val_f1', 'val_loss', 'val_acc', 'f1', 'acc', 'loss'])\n"
     ]
    },
    {
     "data": {
      "image/png": "[encoded data removed]",
      "text/plain": [
       "<Figure size 432x288 with 1 Axes>"
      ]
     },
     "metadata": {
      "needs_background": "light"
     },
     "output_type": "display_data"
    },
    {
     "data": {
      "image/png": "[encoded data removed]",
      "text/plain": [
       "<Figure size 432x288 with 1 Axes>"
      ]
     },
     "metadata": {
      "needs_background": "light"
     },
     "output_type": "display_data"
    },
    {
     "data": {
      "image/png": "[encoded data removed]",
      "text/plain": [
       "<Figure size 432x288 with 1 Axes>"
      ]
     },
     "metadata": {
      "needs_background": "light"
     },
     "output_type": "display_data"
    }
   ],
   "source": [
    "plot_history(history)"
   ]
  },
  {
   "cell_type": "code",
   "execution_count": 73,
   "metadata": {},
   "outputs": [
    {
     "name": "stdout",
     "output_type": "stream",
     "text": [
      "Train on 2881 samples, validate on 321 samples\n",
      "Epoch 1/50\n",
      "2881/2881 [==============================] - 0s 169us/step - loss: 0.9362 - acc: 0.5672 - f1: 0.5231 - val_loss: 0.9214 - val_acc: 0.5514 - val_f1: 0.5185\n",
      "Epoch 2/50\n",
      "2881/2881 [==============================] - 0s 139us/step - loss: 0.9237 - acc: 0.5741 - f1: 0.5286 - val_loss: 0.9116 - val_acc: 0.5514 - val_f1: 0.5227\n",
      "Epoch 3/50\n",
      "2881/2881 [==============================] - 0s 156us/step - loss: 0.9157 - acc: 0.5817 - f1: 0.5375 - val_loss: 0.9047 - val_acc: 0.5576 - val_f1: 0.5239\n",
      "Epoch 4/50\n",
      "2881/2881 [==============================] - 0s 166us/step - loss: 0.9096 - acc: 0.5856 - f1: 0.5408 - val_loss: 0.9065 - val_acc: 0.5732 - val_f1: 0.5237\n",
      "Epoch 5/50\n",
      "2881/2881 [==============================] - 1s 198us/step - loss: 0.9031 - acc: 0.5887 - f1: 0.5447 - val_loss: 0.8990 - val_acc: 0.5763 - val_f1: 0.5322\n",
      "Epoch 6/50\n",
      "2881/2881 [==============================] - 1s 198us/step - loss: 0.8979 - acc: 0.5932 - f1: 0.5499 - val_loss: 0.8900 - val_acc: 0.5826 - val_f1: 0.5378\n",
      "Epoch 7/50\n",
      "2881/2881 [==============================] - 1s 254us/step - loss: 0.8933 - acc: 0.5935 - f1: 0.5532 - val_loss: 0.8954 - val_acc: 0.5888 - val_f1: 0.5374\n",
      "Epoch 8/50\n",
      "2881/2881 [==============================] - 0s 147us/step - loss: 0.8892 - acc: 0.5970 - f1: 0.5575 - val_loss: 0.8910 - val_acc: 0.5950 - val_f1: 0.5385\n",
      "Epoch 9/50\n",
      "2881/2881 [==============================] - 1s 238us/step - loss: 0.8851 - acc: 0.5981 - f1: 0.5621 - val_loss: 0.8883 - val_acc: 0.6012 - val_f1: 0.5484\n",
      "Epoch 10/50\n",
      "2881/2881 [==============================] - 1s 222us/step - loss: 0.8811 - acc: 0.6029 - f1: 0.5613 - val_loss: 0.8858 - val_acc: 0.5981 - val_f1: 0.5398\n",
      "Epoch 11/50\n",
      "2881/2881 [==============================] - 1s 250us/step - loss: 0.8777 - acc: 0.6036 - f1: 0.5649 - val_loss: 0.8866 - val_acc: 0.6012 - val_f1: 0.5443\n",
      "Epoch 12/50\n",
      "2881/2881 [==============================] - 1s 227us/step - loss: 0.8745 - acc: 0.6071 - f1: 0.5693 - val_loss: 0.8886 - val_acc: 0.6044 - val_f1: 0.5464\n",
      "Epoch 13/50\n",
      "2881/2881 [==============================] - 0s 165us/step - loss: 0.8715 - acc: 0.6074 - f1: 0.5703 - val_loss: 0.8922 - val_acc: 0.6012 - val_f1: 0.5413\n",
      "Epoch 14/50\n",
      "2881/2881 [==============================] - 1s 235us/step - loss: 0.8691 - acc: 0.6067 - f1: 0.5675 - val_loss: 0.8766 - val_acc: 0.6044 - val_f1: 0.5575\n",
      "Epoch 15/50\n",
      "2881/2881 [==============================] - 0s 166us/step - loss: 0.8667 - acc: 0.6074 - f1: 0.5682 - val_loss: 0.8902 - val_acc: 0.5919 - val_f1: 0.5398\n",
      "Epoch 16/50\n",
      "2881/2881 [==============================] - 1s 226us/step - loss: 0.8637 - acc: 0.6071 - f1: 0.5716 - val_loss: 0.8754 - val_acc: 0.6012 - val_f1: 0.5673\n",
      "Epoch 17/50\n",
      "2881/2881 [==============================] - 1s 264us/step - loss: 0.8615 - acc: 0.6106 - f1: 0.5746 - val_loss: 0.8745 - val_acc: 0.5981 - val_f1: 0.5649\n",
      "Epoch 18/50\n",
      "2881/2881 [==============================] - 0s 133us/step - loss: 0.8583 - acc: 0.6102 - f1: 0.5744 - val_loss: 0.8827 - val_acc: 0.5857 - val_f1: 0.5456\n",
      "Epoch 19/50\n",
      "2881/2881 [==============================] - 1s 188us/step - loss: 0.8561 - acc: 0.6130 - f1: 0.5766 - val_loss: 0.8834 - val_acc: 0.5950 - val_f1: 0.5470\n",
      "Epoch 20/50\n",
      "2881/2881 [==============================] - 0s 139us/step - loss: 0.8542 - acc: 0.6137 - f1: 0.5778 - val_loss: 0.8813 - val_acc: 0.5919 - val_f1: 0.5443\n",
      "Epoch 21/50\n",
      "2881/2881 [==============================] - 0s 147us/step - loss: 0.8521 - acc: 0.6074 - f1: 0.5803 - val_loss: 0.8718 - val_acc: 0.6012 - val_f1: 0.5633\n",
      "Epoch 22/50\n",
      "2881/2881 [==============================] - 0s 153us/step - loss: 0.8504 - acc: 0.6158 - f1: 0.5807 - val_loss: 0.8779 - val_acc: 0.5981 - val_f1: 0.5517\n",
      "Epoch 23/50\n",
      "2881/2881 [==============================] - 0s 120us/step - loss: 0.8478 - acc: 0.6154 - f1: 0.5796 - val_loss: 0.8838 - val_acc: 0.6044 - val_f1: 0.5376\n",
      "Epoch 24/50\n",
      "2881/2881 [==============================] - 0s 172us/step - loss: 0.8457 - acc: 0.6109 - f1: 0.5825 - val_loss: 0.8806 - val_acc: 0.5950 - val_f1: 0.5438\n",
      "Epoch 25/50\n",
      "2881/2881 [==============================] - 0s 143us/step - loss: 0.8437 - acc: 0.6151 - f1: 0.5847 - val_loss: 0.8742 - val_acc: 0.5950 - val_f1: 0.5509\n",
      "Epoch 26/50\n",
      "2881/2881 [==============================] - 0s 145us/step - loss: 0.8416 - acc: 0.6154 - f1: 0.5879 - val_loss: 0.8744 - val_acc: 0.5981 - val_f1: 0.5483\n",
      "Epoch 27/50\n",
      "2881/2881 [==============================] - 1s 175us/step - loss: 0.8401 - acc: 0.6185 - f1: 0.5888 - val_loss: 0.8772 - val_acc: 0.6044 - val_f1: 0.5542\n",
      "Epoch 28/50\n",
      "2881/2881 [==============================] - 0s 130us/step - loss: 0.8381 - acc: 0.6168 - f1: 0.5876 - val_loss: 0.8672 - val_acc: 0.6137 - val_f1: 0.5670\n",
      "Epoch 29/50\n",
      "2881/2881 [==============================] - 0s 147us/step - loss: 0.8375 - acc: 0.6203 - f1: 0.5912 - val_loss: 0.8713 - val_acc: 0.6044 - val_f1: 0.5550\n",
      "Epoch 30/50\n",
      "2881/2881 [==============================] - 0s 136us/step - loss: 0.8349 - acc: 0.6203 - f1: 0.5884 - val_loss: 0.8716 - val_acc: 0.6012 - val_f1: 0.5531\n",
      "Epoch 31/50\n",
      "2881/2881 [==============================] - 0s 133us/step - loss: 0.8327 - acc: 0.6241 - f1: 0.5895 - val_loss: 0.8762 - val_acc: 0.6044 - val_f1: 0.5520\n",
      "Epoch 32/50\n",
      "2881/2881 [==============================] - 0s 167us/step - loss: 0.8313 - acc: 0.6234 - f1: 0.5923 - val_loss: 0.8722 - val_acc: 0.6044 - val_f1: 0.5600\n",
      "Epoch 33/50\n",
      "2881/2881 [==============================] - 0s 164us/step - loss: 0.8301 - acc: 0.6234 - f1: 0.5923 - val_loss: 0.8782 - val_acc: 0.5981 - val_f1: 0.5525\n",
      "Epoch 34/50\n",
      "2881/2881 [==============================] - 1s 177us/step - loss: 0.8280 - acc: 0.6199 - f1: 0.5903 - val_loss: 0.8758 - val_acc: 0.5981 - val_f1: 0.5540\n",
      "Epoch 35/50\n",
      "2881/2881 [==============================] - 0s 136us/step - loss: 0.8272 - acc: 0.6244 - f1: 0.5923 - val_loss: 0.8693 - val_acc: 0.6075 - val_f1: 0.5611\n",
      "Epoch 36/50\n",
      "2881/2881 [==============================] - 0s 167us/step - loss: 0.8257 - acc: 0.6296 - f1: 0.5942 - val_loss: 0.8719 - val_acc: 0.6044 - val_f1: 0.5576\n",
      "Epoch 37/50\n",
      "2881/2881 [==============================] - 0s 137us/step - loss: 0.8233 - acc: 0.6262 - f1: 0.5953 - val_loss: 0.8797 - val_acc: 0.6044 - val_f1: 0.5402\n",
      "Epoch 38/50\n",
      "2881/2881 [==============================] - 1s 186us/step - loss: 0.8219 - acc: 0.6296 - f1: 0.5961 - val_loss: 0.8708 - val_acc: 0.6137 - val_f1: 0.5579\n",
      "Epoch 39/50\n",
      "2881/2881 [==============================] - 0s 141us/step - loss: 0.8206 - acc: 0.6300 - f1: 0.5965 - val_loss: 0.8721 - val_acc: 0.6106 - val_f1: 0.5568\n",
      "Epoch 40/50\n",
      "2881/2881 [==============================] - 0s 162us/step - loss: 0.8193 - acc: 0.6293 - f1: 0.5982 - val_loss: 0.8811 - val_acc: 0.6075 - val_f1: 0.5420\n",
      "Epoch 41/50\n",
      "2881/2881 [==============================] - 0s 171us/step - loss: 0.8179 - acc: 0.6331 - f1: 0.5997 - val_loss: 0.8726 - val_acc: 0.6075 - val_f1: 0.5509\n",
      "Epoch 42/50\n",
      "2881/2881 [==============================] - 0s 117us/step - loss: 0.8159 - acc: 0.6366 - f1: 0.6018 - val_loss: 0.8764 - val_acc: 0.6137 - val_f1: 0.5462\n",
      "Epoch 43/50\n",
      "2881/2881 [==============================] - 0s 164us/step - loss: 0.8146 - acc: 0.6348 - f1: 0.6015 - val_loss: 0.8711 - val_acc: 0.6106 - val_f1: 0.5513\n",
      "Epoch 44/50\n",
      "2881/2881 [==============================] - 0s 135us/step - loss: 0.8132 - acc: 0.6366 - f1: 0.6032 - val_loss: 0.8725 - val_acc: 0.6044 - val_f1: 0.5431\n",
      "Epoch 45/50\n",
      "2881/2881 [==============================] - 1s 204us/step - loss: 0.8118 - acc: 0.6373 - f1: 0.6057 - val_loss: 0.8720 - val_acc: 0.5981 - val_f1: 0.5412\n",
      "Epoch 46/50\n",
      "2881/2881 [==============================] - 1s 178us/step - loss: 0.8105 - acc: 0.6401 - f1: 0.6053 - val_loss: 0.8715 - val_acc: 0.6075 - val_f1: 0.5478\n",
      "Epoch 47/50\n",
      "2881/2881 [==============================] - 0s 138us/step - loss: 0.8092 - acc: 0.6397 - f1: 0.6074 - val_loss: 0.8697 - val_acc: 0.6199 - val_f1: 0.5520\n",
      "Epoch 48/50\n",
      "2881/2881 [==============================] - 0s 150us/step - loss: 0.8079 - acc: 0.6397 - f1: 0.6085 - val_loss: 0.8812 - val_acc: 0.6106 - val_f1: 0.5364\n",
      "Epoch 49/50\n",
      "2881/2881 [==============================] - 1s 221us/step - loss: 0.8073 - acc: 0.6394 - f1: 0.6065 - val_loss: 0.8823 - val_acc: 0.6044 - val_f1: 0.5368\n"
     ]
    },
    {
     "name": "stdout",
     "output_type": "stream",
     "text": [
      "Epoch 50/50\n",
      "2881/2881 [==============================] - 1s 200us/step - loss: 0.8055 - acc: 0.6421 - f1: 0.6085 - val_loss: 0.8726 - val_acc: 0.6044 - val_f1: 0.5450\n"
     ]
    }
   ],
   "source": [
    "history = model.fit(es_twitter_emb, es_twitter_y, batch_size=32, epochs=50, validation_split=0.1, shuffle=True)"
   ]
  },
  {
   "cell_type": "code",
   "execution_count": 74,
   "metadata": {},
   "outputs": [
    {
     "name": "stdout",
     "output_type": "stream",
     "text": [
      "dict_keys(['val_f1', 'val_loss', 'val_acc', 'f1', 'acc', 'loss'])\n"
     ]
    },
    {
     "data": {
      "image/png": "[encoded data removed]",
      "text/plain": [
       "<Figure size 432x288 with 1 Axes>"
      ]
     },
     "metadata": {
      "needs_background": "light"
     },
     "output_type": "display_data"
    },
    {
     "data": {
      "image/png": "[encoded data removed]",
      "text/plain": [
       "<Figure size 432x288 with 1 Axes>"
      ]
     },
     "metadata": {
      "needs_background": "light"
     },
     "output_type": "display_data"
    },
    {
     "data": {
      "image/png": "[encoded data removed]",
      "text/plain": [
       "<Figure size 432x288 with 1 Axes>"
      ]
     },
     "metadata": {
      "needs_background": "light"
     },
     "output_type": "display_data"
    }
   ],
   "source": [
    "plot_history(history)"
   ]
  },
  {
   "cell_type": "code",
   "execution_count": 75,
   "metadata": {},
   "outputs": [],
   "source": [
    "combined_emb = en_semeval_17_em.tolist().copy()\n",
    "combined_emb.extend(es_twitter_emb.tolist())\n",
    "combined_emb.extend(es_tass_emb.tolist())\n",
    "combined_y = en_semeval_17_y.tolist().copy()\n",
    "combined_y.extend(es_twitter_y.tolist())\n",
    "combined_y.extend(es_tass_y.tolist())"
   ]
  },
  {
   "cell_type": "code",
   "execution_count": 76,
   "metadata": {},
   "outputs": [],
   "source": [
    "combined_emb = np.array(combined_emb)\n",
    "combined_y = np.array(combined_y)\n",
    "combined_emb, combined_y = shuffle(combined_emb,combined_y)"
   ]
  },
  {
   "cell_type": "code",
   "execution_count": 77,
   "metadata": {
    "scrolled": true
   },
   "outputs": [
    {
     "name": "stdout",
     "output_type": "stream",
     "text": [
      "Train on 31051 samples, validate on 3062 samples\n",
      "Epoch 1/300\n",
      "31051/31051 [==============================] - 5s 164us/step - loss: 0.7664 - acc: 0.6487 - f1: 0.6245 - val_loss: 0.8978 - val_acc: 0.5872 - val_f1: 0.5389\n",
      "Epoch 2/300\n",
      "31051/31051 [==============================] - 5s 168us/step - loss: 0.7509 - acc: 0.6595 - f1: 0.6349 - val_loss: 0.8834 - val_acc: 0.5983 - val_f1: 0.5523\n",
      "Epoch 3/300\n",
      "31051/31051 [==============================] - 6s 196us/step - loss: 0.7425 - acc: 0.6636 - f1: 0.6403 - val_loss: 0.8909 - val_acc: 0.5882 - val_f1: 0.5485\n",
      "Epoch 4/300\n",
      "31051/31051 [==============================] - 7s 214us/step - loss: 0.7368 - acc: 0.6665 - f1: 0.6451 - val_loss: 0.8908 - val_acc: 0.5888 - val_f1: 0.5493\n",
      "Epoch 5/300\n",
      "31051/31051 [==============================] - 5s 155us/step - loss: 0.7326 - acc: 0.6690 - f1: 0.6469 - val_loss: 0.8951 - val_acc: 0.5892 - val_f1: 0.5444\n",
      "Epoch 6/300\n",
      "31051/31051 [==============================] - 5s 169us/step - loss: 0.7293 - acc: 0.6713 - f1: 0.6504 - val_loss: 0.8932 - val_acc: 0.5901 - val_f1: 0.5454\n",
      "Epoch 7/300\n",
      "31051/31051 [==============================] - 6s 187us/step - loss: 0.7267 - acc: 0.6725 - f1: 0.6524 - val_loss: 0.8927 - val_acc: 0.5905 - val_f1: 0.5483\n",
      "Epoch 8/300\n",
      "31051/31051 [==============================] - 6s 204us/step - loss: 0.7245 - acc: 0.6741 - f1: 0.6545 - val_loss: 0.8918 - val_acc: 0.5937 - val_f1: 0.5501\n",
      "Epoch 9/300\n",
      "31051/31051 [==============================] - 5s 167us/step - loss: 0.7225 - acc: 0.6753 - f1: 0.6554 - val_loss: 0.9012 - val_acc: 0.5859 - val_f1: 0.5407\n",
      "Epoch 10/300\n",
      "31051/31051 [==============================] - 5s 166us/step - loss: 0.7208 - acc: 0.6758 - f1: 0.6570 - val_loss: 0.9002 - val_acc: 0.5843 - val_f1: 0.5422\n",
      "Epoch 11/300\n",
      "31051/31051 [==============================] - 7s 224us/step - loss: 0.7197 - acc: 0.6772 - f1: 0.6569 - val_loss: 0.8975 - val_acc: 0.5846 - val_f1: 0.5489\n",
      "Epoch 12/300\n",
      "31051/31051 [==============================] - 6s 184us/step - loss: 0.7182 - acc: 0.6784 - f1: 0.6585 - val_loss: 0.8919 - val_acc: 0.5924 - val_f1: 0.5526\n",
      "Epoch 13/300\n",
      "31051/31051 [==============================] - 5s 168us/step - loss: 0.7172 - acc: 0.6797 - f1: 0.6600 - val_loss: 0.8940 - val_acc: 0.5905 - val_f1: 0.5528\n",
      "Epoch 14/300\n",
      "31051/31051 [==============================] - 5s 165us/step - loss: 0.7159 - acc: 0.6814 - f1: 0.6612 - val_loss: 0.9004 - val_acc: 0.5830 - val_f1: 0.5455\n",
      "Epoch 15/300\n",
      "31051/31051 [==============================] - 6s 198us/step - loss: 0.7150 - acc: 0.6804 - f1: 0.6610 - val_loss: 0.8919 - val_acc: 0.5924 - val_f1: 0.5555\n",
      "Epoch 16/300\n",
      "31051/31051 [==============================] - 6s 204us/step - loss: 0.7141 - acc: 0.6807 - f1: 0.6618 - val_loss: 0.8916 - val_acc: 0.5914 - val_f1: 0.5553\n",
      "Epoch 17/300\n",
      "31051/31051 [==============================] - 5s 167us/step - loss: 0.7132 - acc: 0.6819 - f1: 0.6621 - val_loss: 0.8925 - val_acc: 0.5921 - val_f1: 0.5554\n",
      "Epoch 18/300\n",
      "31051/31051 [==============================] - 5s 169us/step - loss: 0.7123 - acc: 0.6819 - f1: 0.6631 - val_loss: 0.8968 - val_acc: 0.5869 - val_f1: 0.5530\n",
      "Epoch 19/300\n",
      "31051/31051 [==============================] - 7s 209us/step - loss: 0.7116 - acc: 0.6822 - f1: 0.6635 - val_loss: 0.8941 - val_acc: 0.5885 - val_f1: 0.5560\n",
      "Epoch 20/300\n",
      "31051/31051 [==============================] - 6s 187us/step - loss: 0.7110 - acc: 0.6825 - f1: 0.6639 - val_loss: 0.8882 - val_acc: 0.5954 - val_f1: 0.5603\n",
      "Epoch 21/300\n",
      "31051/31051 [==============================] - 5s 154us/step - loss: 0.7103 - acc: 0.6831 - f1: 0.6645 - val_loss: 0.8938 - val_acc: 0.5898 - val_f1: 0.5573\n",
      "Epoch 22/300\n",
      "31051/31051 [==============================] - 5s 175us/step - loss: 0.7097 - acc: 0.6834 - f1: 0.6648 - val_loss: 0.8952 - val_acc: 0.5918 - val_f1: 0.5557\n",
      "Epoch 23/300\n",
      "31051/31051 [==============================] - 6s 206us/step - loss: 0.7093 - acc: 0.6837 - f1: 0.6649 - val_loss: 0.8982 - val_acc: 0.5875 - val_f1: 0.5513\n",
      "Epoch 24/300\n",
      "31051/31051 [==============================] - 6s 196us/step - loss: 0.7086 - acc: 0.6840 - f1: 0.6655 - val_loss: 0.9000 - val_acc: 0.5898 - val_f1: 0.5493\n",
      "Epoch 25/300\n",
      "31051/31051 [==============================] - 5s 166us/step - loss: 0.7082 - acc: 0.6851 - f1: 0.6657 - val_loss: 0.8988 - val_acc: 0.5898 - val_f1: 0.5503\n",
      "Epoch 26/300\n",
      "31051/31051 [==============================] - 5s 167us/step - loss: 0.7076 - acc: 0.6851 - f1: 0.6671 - val_loss: 0.8965 - val_acc: 0.5892 - val_f1: 0.5525\n",
      "Epoch 27/300\n",
      "31051/31051 [==============================] - 6s 189us/step - loss: 0.7072 - acc: 0.6856 - f1: 0.6674 - val_loss: 0.8979 - val_acc: 0.5892 - val_f1: 0.5523\n",
      "Epoch 28/300\n",
      "31051/31051 [==============================] - 7s 213us/step - loss: 0.7067 - acc: 0.6864 - f1: 0.6674 - val_loss: 0.8920 - val_acc: 0.5937 - val_f1: 0.5607\n",
      "Epoch 29/300\n",
      "31051/31051 [==============================] - 5s 166us/step - loss: 0.7060 - acc: 0.6848 - f1: 0.6677 - val_loss: 0.8917 - val_acc: 0.5957 - val_f1: 0.5614\n",
      "Epoch 30/300\n",
      "31051/31051 [==============================] - 5s 177us/step - loss: 0.7057 - acc: 0.6852 - f1: 0.6678 - val_loss: 0.8976 - val_acc: 0.5885 - val_f1: 0.5540\n",
      "Epoch 31/300\n",
      "31051/31051 [==============================] - 6s 181us/step - loss: 0.7056 - acc: 0.6859 - f1: 0.6685 - val_loss: 0.8937 - val_acc: 0.5970 - val_f1: 0.5599\n",
      "Epoch 32/300\n",
      "31051/31051 [==============================] - 7s 219us/step - loss: 0.7049 - acc: 0.6867 - f1: 0.6682 - val_loss: 0.8991 - val_acc: 0.5888 - val_f1: 0.5530\n",
      "Epoch 33/300\n",
      "31051/31051 [==============================] - 5s 167us/step - loss: 0.7048 - acc: 0.6865 - f1: 0.6689 - val_loss: 0.8950 - val_acc: 0.5944 - val_f1: 0.5573\n",
      "Epoch 34/300\n",
      "31051/31051 [==============================] - 5s 161us/step - loss: 0.7043 - acc: 0.6871 - f1: 0.6693 - val_loss: 0.8965 - val_acc: 0.5921 - val_f1: 0.5568\n",
      "Epoch 35/300\n",
      "31051/31051 [==============================] - 5s 168us/step - loss: 0.7041 - acc: 0.6874 - f1: 0.6703 - val_loss: 0.8938 - val_acc: 0.5957 - val_f1: 0.5598\n",
      "Epoch 36/300\n",
      "31051/31051 [==============================] - 7s 222us/step - loss: 0.7035 - acc: 0.6871 - f1: 0.6701 - val_loss: 0.8973 - val_acc: 0.5937 - val_f1: 0.5561\n",
      "Epoch 37/300\n",
      "31051/31051 [==============================] - 6s 186us/step - loss: 0.7035 - acc: 0.6871 - f1: 0.6693 - val_loss: 0.9010 - val_acc: 0.5901 - val_f1: 0.5528\n",
      "Epoch 38/300\n",
      "31051/31051 [==============================] - 5s 163us/step - loss: 0.7032 - acc: 0.6873 - f1: 0.6697 - val_loss: 0.9000 - val_acc: 0.5908 - val_f1: 0.5532\n",
      "Epoch 39/300\n",
      "31051/31051 [==============================] - 5s 166us/step - loss: 0.7027 - acc: 0.6879 - f1: 0.6705 - val_loss: 0.8993 - val_acc: 0.5898 - val_f1: 0.5557\n",
      "Epoch 40/300\n",
      "31051/31051 [==============================] - 6s 196us/step - loss: 0.7023 - acc: 0.6881 - f1: 0.6712 - val_loss: 0.8936 - val_acc: 0.5976 - val_f1: 0.5601\n",
      "Epoch 41/300\n",
      "31051/31051 [==============================] - 6s 207us/step - loss: 0.7024 - acc: 0.6885 - f1: 0.6709 - val_loss: 0.8945 - val_acc: 0.5947 - val_f1: 0.5599\n",
      "Epoch 42/300\n",
      "31051/31051 [==============================] - 5s 163us/step - loss: 0.7020 - acc: 0.6881 - f1: 0.6702 - val_loss: 0.8963 - val_acc: 0.5944 - val_f1: 0.5594\n",
      "Epoch 43/300\n",
      "31051/31051 [==============================] - 5s 167us/step - loss: 0.7017 - acc: 0.6881 - f1: 0.6708 - val_loss: 0.8974 - val_acc: 0.5931 - val_f1: 0.5575\n",
      "Epoch 44/300\n",
      "31051/31051 [==============================] - 6s 197us/step - loss: 0.7015 - acc: 0.6877 - f1: 0.6718 - val_loss: 0.8947 - val_acc: 0.5950 - val_f1: 0.5620\n",
      "Epoch 45/300\n",
      "31051/31051 [==============================] - 6s 206us/step - loss: 0.7011 - acc: 0.6881 - f1: 0.6719 - val_loss: 0.8959 - val_acc: 0.5947 - val_f1: 0.5587\n",
      "Epoch 46/300\n",
      "31051/31051 [==============================] - 5s 162us/step - loss: 0.7010 - acc: 0.6885 - f1: 0.6723 - val_loss: 0.8970 - val_acc: 0.5944 - val_f1: 0.5600\n",
      "Epoch 47/300\n",
      "31051/31051 [==============================] - 5s 166us/step - loss: 0.7008 - acc: 0.6882 - f1: 0.6721 - val_loss: 0.9046 - val_acc: 0.5892 - val_f1: 0.5506\n",
      "Epoch 48/300\n",
      "31051/31051 [==============================] - 6s 203us/step - loss: 0.7005 - acc: 0.6893 - f1: 0.6726 - val_loss: 0.8982 - val_acc: 0.5918 - val_f1: 0.5585\n"
     ]
    },
    {
     "name": "stdout",
     "output_type": "stream",
     "text": [
      "Epoch 49/300\n",
      "31051/31051 [==============================] - 6s 199us/step - loss: 0.7002 - acc: 0.6878 - f1: 0.6731 - val_loss: 0.8939 - val_acc: 0.5967 - val_f1: 0.5648\n",
      "Epoch 50/300\n",
      "31051/31051 [==============================] - 5s 149us/step - loss: 0.7000 - acc: 0.6878 - f1: 0.6719 - val_loss: 0.9017 - val_acc: 0.5927 - val_f1: 0.5548\n",
      "Epoch 51/300\n",
      "31051/31051 [==============================] - 5s 171us/step - loss: 0.6997 - acc: 0.6902 - f1: 0.6729 - val_loss: 0.8994 - val_acc: 0.5941 - val_f1: 0.5583\n",
      "Epoch 52/300\n",
      "31051/31051 [==============================] - 6s 196us/step - loss: 0.6997 - acc: 0.6899 - f1: 0.6724 - val_loss: 0.9062 - val_acc: 0.5872 - val_f1: 0.5506\n",
      "Epoch 53/300\n",
      "31051/31051 [==============================] - 7s 212us/step - loss: 0.6994 - acc: 0.6892 - f1: 0.6729 - val_loss: 0.9028 - val_acc: 0.5914 - val_f1: 0.5527\n",
      "Epoch 54/300\n",
      "31051/31051 [==============================] - 5s 167us/step - loss: 0.6994 - acc: 0.6896 - f1: 0.6736 - val_loss: 0.8996 - val_acc: 0.5937 - val_f1: 0.5581\n",
      "Epoch 55/300\n",
      "31051/31051 [==============================] - 5s 173us/step - loss: 0.6991 - acc: 0.6906 - f1: 0.6730 - val_loss: 0.8954 - val_acc: 0.5986 - val_f1: 0.5638\n",
      "Epoch 56/300\n",
      "31051/31051 [==============================] - 6s 178us/step - loss: 0.6988 - acc: 0.6889 - f1: 0.6736 - val_loss: 0.9021 - val_acc: 0.5905 - val_f1: 0.5543\n",
      "Epoch 57/300\n",
      "31051/31051 [==============================] - 7s 227us/step - loss: 0.6986 - acc: 0.6896 - f1: 0.6740 - val_loss: 0.9031 - val_acc: 0.5892 - val_f1: 0.5545\n",
      "Epoch 58/300\n",
      "31051/31051 [==============================] - 5s 169us/step - loss: 0.6986 - acc: 0.6911 - f1: 0.6731 - val_loss: 0.9035 - val_acc: 0.5908 - val_f1: 0.5541\n",
      "Epoch 59/300\n",
      "31051/31051 [==============================] - 5s 161us/step - loss: 0.6984 - acc: 0.6890 - f1: 0.6735 - val_loss: 0.9017 - val_acc: 0.5898 - val_f1: 0.5562\n",
      "Epoch 60/300\n",
      "31051/31051 [==============================] - 5s 162us/step - loss: 0.6984 - acc: 0.6897 - f1: 0.6735 - val_loss: 0.8983 - val_acc: 0.5967 - val_f1: 0.5602\n",
      "Epoch 61/300\n",
      "31051/31051 [==============================] - 6s 185us/step - loss: 0.6981 - acc: 0.6910 - f1: 0.6744 - val_loss: 0.8983 - val_acc: 0.5957 - val_f1: 0.5618\n",
      "Epoch 62/300\n",
      "31051/31051 [==============================] - 7s 217us/step - loss: 0.6978 - acc: 0.6896 - f1: 0.6748 - val_loss: 0.9042 - val_acc: 0.5901 - val_f1: 0.5529\n",
      "Epoch 63/300\n",
      "31051/31051 [==============================] - 5s 157us/step - loss: 0.6976 - acc: 0.6899 - f1: 0.6735 - val_loss: 0.8995 - val_acc: 0.5960 - val_f1: 0.5613\n",
      "Epoch 64/300\n",
      "31051/31051 [==============================] - 5s 170us/step - loss: 0.6975 - acc: 0.6892 - f1: 0.6743 - val_loss: 0.9041 - val_acc: 0.5914 - val_f1: 0.5522\n",
      "Epoch 65/300\n",
      "31051/31051 [==============================] - 5s 165us/step - loss: 0.6974 - acc: 0.6900 - f1: 0.6741 - val_loss: 0.9014 - val_acc: 0.5931 - val_f1: 0.5580\n",
      "Epoch 66/300\n",
      "31051/31051 [==============================] - 6s 179us/step - loss: 0.6969 - acc: 0.6899 - f1: 0.6748 - val_loss: 0.9029 - val_acc: 0.5901 - val_f1: 0.5553\n",
      "Epoch 67/300\n",
      "31051/31051 [==============================] - 7s 213us/step - loss: 0.6970 - acc: 0.6908 - f1: 0.6744 - val_loss: 0.9008 - val_acc: 0.5937 - val_f1: 0.5581\n",
      "Epoch 68/300\n",
      "31051/31051 [==============================] - 5s 169us/step - loss: 0.6968 - acc: 0.6904 - f1: 0.6744 - val_loss: 0.9042 - val_acc: 0.5892 - val_f1: 0.5527\n",
      "Epoch 69/300\n",
      "31051/31051 [==============================] - 5s 163us/step - loss: 0.6967 - acc: 0.6901 - f1: 0.6747 - val_loss: 0.9023 - val_acc: 0.5927 - val_f1: 0.5575\n",
      "Epoch 70/300\n",
      "31051/31051 [==============================] - 5s 169us/step - loss: 0.6964 - acc: 0.6904 - f1: 0.6751 - val_loss: 0.9026 - val_acc: 0.5921 - val_f1: 0.5587\n",
      "Epoch 71/300\n",
      "31051/31051 [==============================] - 6s 197us/step - loss: 0.6963 - acc: 0.6918 - f1: 0.6754 - val_loss: 0.9136 - val_acc: 0.5830 - val_f1: 0.5456\n",
      "Epoch 72/300\n",
      "31051/31051 [==============================] - 6s 206us/step - loss: 0.6965 - acc: 0.6905 - f1: 0.6759 - val_loss: 0.8989 - val_acc: 0.5950 - val_f1: 0.5640\n",
      "Epoch 73/300\n",
      "31051/31051 [==============================] - 5s 161us/step - loss: 0.6962 - acc: 0.6912 - f1: 0.6746 - val_loss: 0.8984 - val_acc: 0.5986 - val_f1: 0.5684\n",
      "Epoch 74/300\n",
      "31051/31051 [==============================] - 5s 170us/step - loss: 0.6961 - acc: 0.6916 - f1: 0.6760 - val_loss: 0.9018 - val_acc: 0.5911 - val_f1: 0.5592\n",
      "Epoch 75/300\n",
      "31051/31051 [==============================] - 6s 183us/step - loss: 0.6959 - acc: 0.6910 - f1: 0.6751 - val_loss: 0.9008 - val_acc: 0.5927 - val_f1: 0.5610\n",
      "Epoch 76/300\n",
      "31051/31051 [==============================] - 6s 206us/step - loss: 0.6960 - acc: 0.6913 - f1: 0.6755 - val_loss: 0.9015 - val_acc: 0.5934 - val_f1: 0.5592\n",
      "Epoch 77/300\n",
      "31051/31051 [==============================] - 5s 171us/step - loss: 0.6957 - acc: 0.6921 - f1: 0.6756 - val_loss: 0.9045 - val_acc: 0.5911 - val_f1: 0.5574\n",
      "Epoch 78/300\n",
      "31051/31051 [==============================] - 5s 160us/step - loss: 0.6954 - acc: 0.6915 - f1: 0.6758 - val_loss: 0.9047 - val_acc: 0.5937 - val_f1: 0.5582\n",
      "Epoch 79/300\n",
      "31051/31051 [==============================] - 5s 171us/step - loss: 0.6954 - acc: 0.6921 - f1: 0.6766 - val_loss: 0.9067 - val_acc: 0.5885 - val_f1: 0.5559\n",
      "Epoch 80/300\n",
      "31051/31051 [==============================] - 7s 213us/step - loss: 0.6954 - acc: 0.6903 - f1: 0.6757 - val_loss: 0.9054 - val_acc: 0.5931 - val_f1: 0.5557\n",
      "Epoch 81/300\n",
      "31051/31051 [==============================] - 6s 193us/step - loss: 0.6952 - acc: 0.6927 - f1: 0.6762 - val_loss: 0.9027 - val_acc: 0.5918 - val_f1: 0.5598\n",
      "Epoch 82/300\n",
      "31051/31051 [==============================] - 5s 165us/step - loss: 0.6951 - acc: 0.6904 - f1: 0.6753 - val_loss: 0.9033 - val_acc: 0.5918 - val_f1: 0.5593\n",
      "Epoch 83/300\n",
      "31051/31051 [==============================] - 5s 165us/step - loss: 0.6950 - acc: 0.6920 - f1: 0.6768 - val_loss: 0.9034 - val_acc: 0.5918 - val_f1: 0.5594\n",
      "Epoch 84/300\n",
      "31051/31051 [==============================] - 7s 212us/step - loss: 0.6947 - acc: 0.6928 - f1: 0.6770 - val_loss: 0.9034 - val_acc: 0.5908 - val_f1: 0.5582\n",
      "Epoch 85/300\n",
      "31051/31051 [==============================] - 6s 191us/step - loss: 0.6947 - acc: 0.6909 - f1: 0.6767 - val_loss: 0.9018 - val_acc: 0.5927 - val_f1: 0.5613\n",
      "Epoch 86/300\n",
      "31051/31051 [==============================] - 5s 156us/step - loss: 0.6945 - acc: 0.6921 - f1: 0.6763 - val_loss: 0.9073 - val_acc: 0.5921 - val_f1: 0.5549\n",
      "Epoch 87/300\n",
      "31051/31051 [==============================] - 5s 171us/step - loss: 0.6946 - acc: 0.6921 - f1: 0.6765 - val_loss: 0.9030 - val_acc: 0.5924 - val_f1: 0.5625\n",
      "Epoch 88/300\n",
      "31051/31051 [==============================] - 6s 178us/step - loss: 0.6944 - acc: 0.6921 - f1: 0.6763 - val_loss: 0.9041 - val_acc: 0.5944 - val_f1: 0.5589\n",
      "Epoch 89/300\n",
      "31051/31051 [==============================] - 7s 221us/step - loss: 0.6945 - acc: 0.6914 - f1: 0.6759 - val_loss: 0.9024 - val_acc: 0.5944 - val_f1: 0.5621\n",
      "Epoch 90/300\n",
      "31051/31051 [==============================] - 5s 163us/step - loss: 0.6942 - acc: 0.6920 - f1: 0.6759 - val_loss: 0.9042 - val_acc: 0.5944 - val_f1: 0.5606\n",
      "Epoch 91/300\n",
      "31051/31051 [==============================] - 5s 167us/step - loss: 0.6941 - acc: 0.6920 - f1: 0.6769 - val_loss: 0.9129 - val_acc: 0.5862 - val_f1: 0.5516\n",
      "Epoch 92/300\n",
      "31051/31051 [==============================] - 6s 197us/step - loss: 0.6940 - acc: 0.6920 - f1: 0.6769 - val_loss: 0.9019 - val_acc: 0.5937 - val_f1: 0.5645\n",
      "Epoch 93/300\n",
      "31051/31051 [==============================] - 7s 209us/step - loss: 0.6939 - acc: 0.6931 - f1: 0.6772 - val_loss: 0.9027 - val_acc: 0.5934 - val_f1: 0.5631\n",
      "Epoch 94/300\n",
      "31051/31051 [==============================] - 5s 169us/step - loss: 0.6938 - acc: 0.6927 - f1: 0.6765 - val_loss: 0.9064 - val_acc: 0.5901 - val_f1: 0.5578\n",
      "Epoch 95/300\n",
      "31051/31051 [==============================] - 5s 156us/step - loss: 0.6935 - acc: 0.6935 - f1: 0.6763 - val_loss: 0.9010 - val_acc: 0.5970 - val_f1: 0.5686\n",
      "Epoch 96/300\n",
      "31051/31051 [==============================] - 5s 168us/step - loss: 0.6937 - acc: 0.6922 - f1: 0.6771 - val_loss: 0.9079 - val_acc: 0.5895 - val_f1: 0.5569\n",
      "Epoch 97/300\n",
      "31051/31051 [==============================] - 6s 200us/step - loss: 0.6937 - acc: 0.6931 - f1: 0.6764 - val_loss: 0.9075 - val_acc: 0.5898 - val_f1: 0.5569\n",
      "Epoch 98/300\n",
      "31051/31051 [==============================] - 6s 209us/step - loss: 0.6933 - acc: 0.6924 - f1: 0.6782 - val_loss: 0.9067 - val_acc: 0.5911 - val_f1: 0.5591\n",
      "Epoch 99/300\n",
      "31051/31051 [==============================] - 5s 172us/step - loss: 0.6934 - acc: 0.6916 - f1: 0.6767 - val_loss: 0.9076 - val_acc: 0.5898 - val_f1: 0.5576\n",
      "Epoch 100/300\n",
      "31051/31051 [==============================] - 6s 178us/step - loss: 0.6932 - acc: 0.6926 - f1: 0.6769 - val_loss: 0.9045 - val_acc: 0.5931 - val_f1: 0.5659\n",
      "Epoch 101/300\n",
      "31051/31051 [==============================] - 6s 207us/step - loss: 0.6931 - acc: 0.6918 - f1: 0.6765 - val_loss: 0.9081 - val_acc: 0.5905 - val_f1: 0.5569\n",
      "Epoch 102/300\n",
      "31051/31051 [==============================] - 6s 196us/step - loss: 0.6932 - acc: 0.6919 - f1: 0.6780 - val_loss: 0.9075 - val_acc: 0.5895 - val_f1: 0.5592\n",
      "Epoch 103/300\n",
      "31051/31051 [==============================] - 5s 163us/step - loss: 0.6932 - acc: 0.6931 - f1: 0.6781 - val_loss: 0.9028 - val_acc: 0.5960 - val_f1: 0.5691\n",
      "Epoch 104/300\n",
      "31051/31051 [==============================] - 5s 166us/step - loss: 0.6931 - acc: 0.6929 - f1: 0.6781 - val_loss: 0.9042 - val_acc: 0.5931 - val_f1: 0.5628\n",
      "Epoch 105/300\n",
      "31051/31051 [==============================] - 5s 168us/step - loss: 0.6929 - acc: 0.6923 - f1: 0.6768 - val_loss: 0.9055 - val_acc: 0.5918 - val_f1: 0.5618\n",
      "Epoch 106/300\n",
      "31051/31051 [==============================] - 6s 200us/step - loss: 0.6929 - acc: 0.6933 - f1: 0.6781 - val_loss: 0.9017 - val_acc: 0.5963 - val_f1: 0.5692\n",
      "Epoch 107/300\n",
      "31051/31051 [==============================] - 6s 205us/step - loss: 0.6929 - acc: 0.6923 - f1: 0.6774 - val_loss: 0.9098 - val_acc: 0.5882 - val_f1: 0.5576\n",
      "Epoch 108/300\n",
      "31051/31051 [==============================] - 5s 170us/step - loss: 0.6928 - acc: 0.6936 - f1: 0.6779 - val_loss: 0.9094 - val_acc: 0.5879 - val_f1: 0.5578\n",
      "Epoch 109/300\n",
      "31051/31051 [==============================] - 5s 170us/step - loss: 0.6927 - acc: 0.6937 - f1: 0.6782 - val_loss: 0.9081 - val_acc: 0.5908 - val_f1: 0.5582\n",
      "Epoch 110/300\n",
      "31051/31051 [==============================] - 6s 197us/step - loss: 0.6927 - acc: 0.6928 - f1: 0.6774 - val_loss: 0.9068 - val_acc: 0.5927 - val_f1: 0.5599\n",
      "Epoch 111/300\n",
      "31051/31051 [==============================] - 7s 213us/step - loss: 0.6926 - acc: 0.6934 - f1: 0.6774 - val_loss: 0.9035 - val_acc: 0.5924 - val_f1: 0.5670\n",
      "Epoch 112/300\n",
      "31051/31051 [==============================] - 5s 165us/step - loss: 0.6924 - acc: 0.6933 - f1: 0.6782 - val_loss: 0.9120 - val_acc: 0.5859 - val_f1: 0.5560\n",
      "Epoch 113/300\n",
      "31051/31051 [==============================] - 5s 162us/step - loss: 0.6923 - acc: 0.6939 - f1: 0.6781 - val_loss: 0.9074 - val_acc: 0.5914 - val_f1: 0.5615\n",
      "Epoch 114/300\n",
      "31051/31051 [==============================] - 5s 171us/step - loss: 0.6923 - acc: 0.6930 - f1: 0.6780 - val_loss: 0.9087 - val_acc: 0.5898 - val_f1: 0.5589\n",
      "Epoch 115/300\n",
      "31051/31051 [==============================] - 6s 180us/step - loss: 0.6921 - acc: 0.6944 - f1: 0.6783 - val_loss: 0.9065 - val_acc: 0.5927 - val_f1: 0.5604\n",
      "Epoch 116/300\n",
      "31051/31051 [==============================] - 7s 227us/step - loss: 0.6922 - acc: 0.6934 - f1: 0.6775 - val_loss: 0.9174 - val_acc: 0.5830 - val_f1: 0.5537\n",
      "Epoch 117/300\n",
      "31051/31051 [==============================] - 5s 175us/step - loss: 0.6921 - acc: 0.6929 - f1: 0.6786 - val_loss: 0.9046 - val_acc: 0.5941 - val_f1: 0.5654\n",
      "Epoch 118/300\n",
      "31051/31051 [==============================] - 5s 168us/step - loss: 0.6921 - acc: 0.6940 - f1: 0.6789 - val_loss: 0.9151 - val_acc: 0.5852 - val_f1: 0.5543\n",
      "Epoch 119/300\n",
      "31051/31051 [==============================] - 5s 162us/step - loss: 0.6919 - acc: 0.6930 - f1: 0.6789 - val_loss: 0.9110 - val_acc: 0.5885 - val_f1: 0.5575\n",
      "Epoch 120/300\n",
      "31051/31051 [==============================] - 6s 182us/step - loss: 0.6918 - acc: 0.6938 - f1: 0.6783 - val_loss: 0.9101 - val_acc: 0.5888 - val_f1: 0.5578\n",
      "Epoch 121/300\n",
      "31051/31051 [==============================] - 7s 210us/step - loss: 0.6919 - acc: 0.6933 - f1: 0.6775 - val_loss: 0.9084 - val_acc: 0.5927 - val_f1: 0.5594\n",
      "Epoch 122/300\n",
      "31051/31051 [==============================] - 5s 173us/step - loss: 0.6919 - acc: 0.6938 - f1: 0.6788 - val_loss: 0.9059 - val_acc: 0.5934 - val_f1: 0.5651\n",
      "Epoch 123/300\n",
      "31051/31051 [==============================] - 5s 176us/step - loss: 0.6919 - acc: 0.6935 - f1: 0.6782 - val_loss: 0.9103 - val_acc: 0.5882 - val_f1: 0.5561\n",
      "Epoch 124/300\n",
      "31051/31051 [==============================] - 5s 165us/step - loss: 0.6918 - acc: 0.6932 - f1: 0.6785 - val_loss: 0.9096 - val_acc: 0.5901 - val_f1: 0.5570\n",
      "Epoch 125/300\n",
      "31051/31051 [==============================] - 6s 192us/step - loss: 0.6917 - acc: 0.6934 - f1: 0.6787 - val_loss: 0.9100 - val_acc: 0.5888 - val_f1: 0.5586\n",
      "Epoch 126/300\n",
      "31051/31051 [==============================] - 6s 208us/step - loss: 0.6914 - acc: 0.6936 - f1: 0.6789 - val_loss: 0.9056 - val_acc: 0.5957 - val_f1: 0.5653\n",
      "Epoch 127/300\n",
      "31051/31051 [==============================] - 5s 168us/step - loss: 0.6914 - acc: 0.6936 - f1: 0.6791 - val_loss: 0.9146 - val_acc: 0.5843 - val_f1: 0.5534\n",
      "Epoch 128/300\n",
      "31051/31051 [==============================] - 5s 163us/step - loss: 0.6915 - acc: 0.6931 - f1: 0.6793 - val_loss: 0.9100 - val_acc: 0.5901 - val_f1: 0.5573\n",
      "Epoch 129/300\n",
      "31051/31051 [==============================] - 5s 159us/step - loss: 0.6912 - acc: 0.6934 - f1: 0.6785 - val_loss: 0.9158 - val_acc: 0.5846 - val_f1: 0.5548\n",
      "Epoch 130/300\n",
      "31051/31051 [==============================] - 6s 182us/step - loss: 0.6914 - acc: 0.6941 - f1: 0.6790 - val_loss: 0.9094 - val_acc: 0.5924 - val_f1: 0.5592\n",
      "Epoch 131/300\n",
      "31051/31051 [==============================] - 7s 220us/step - loss: 0.6912 - acc: 0.6935 - f1: 0.6792 - val_loss: 0.9092 - val_acc: 0.5944 - val_f1: 0.5599\n",
      "Epoch 132/300\n",
      "31051/31051 [==============================] - 5s 173us/step - loss: 0.6912 - acc: 0.6932 - f1: 0.6793 - val_loss: 0.9144 - val_acc: 0.5865 - val_f1: 0.5565\n",
      "Epoch 133/300\n",
      "31051/31051 [==============================] - 5s 162us/step - loss: 0.6913 - acc: 0.6936 - f1: 0.6795 - val_loss: 0.9124 - val_acc: 0.5879 - val_f1: 0.5576\n",
      "Epoch 134/300\n",
      "31051/31051 [==============================] - 5s 172us/step - loss: 0.6913 - acc: 0.6930 - f1: 0.6784 - val_loss: 0.9079 - val_acc: 0.5918 - val_f1: 0.5660\n",
      "Epoch 135/300\n",
      "31051/31051 [==============================] - 6s 192us/step - loss: 0.6911 - acc: 0.6937 - f1: 0.6784 - val_loss: 0.9072 - val_acc: 0.5927 - val_f1: 0.5656\n",
      "Epoch 136/300\n",
      "31051/31051 [==============================] - 6s 206us/step - loss: 0.6908 - acc: 0.6937 - f1: 0.6786 - val_loss: 0.9145 - val_acc: 0.5852 - val_f1: 0.5573\n",
      "Epoch 137/300\n",
      "31051/31051 [==============================] - 5s 169us/step - loss: 0.6909 - acc: 0.6946 - f1: 0.6799 - val_loss: 0.9113 - val_acc: 0.5901 - val_f1: 0.5586\n",
      "Epoch 138/300\n",
      "31051/31051 [==============================] - 5s 163us/step - loss: 0.6909 - acc: 0.6939 - f1: 0.6797 - val_loss: 0.9064 - val_acc: 0.5937 - val_f1: 0.5683\n",
      "Epoch 139/300\n",
      "31051/31051 [==============================] - 5s 172us/step - loss: 0.6910 - acc: 0.6940 - f1: 0.6795 - val_loss: 0.9098 - val_acc: 0.5918 - val_f1: 0.5606\n",
      "Epoch 140/300\n",
      "31051/31051 [==============================] - 6s 199us/step - loss: 0.6908 - acc: 0.6951 - f1: 0.6800 - val_loss: 0.9133 - val_acc: 0.5849 - val_f1: 0.5577\n",
      "Epoch 141/300\n",
      "31051/31051 [==============================] - 6s 208us/step - loss: 0.6908 - acc: 0.6933 - f1: 0.6787 - val_loss: 0.9100 - val_acc: 0.5931 - val_f1: 0.5594\n",
      "Epoch 142/300\n",
      "31051/31051 [==============================] - 5s 170us/step - loss: 0.6907 - acc: 0.6942 - f1: 0.6799 - val_loss: 0.9109 - val_acc: 0.5927 - val_f1: 0.5584\n",
      "Epoch 143/300\n",
      "31051/31051 [==============================] - 5s 166us/step - loss: 0.6906 - acc: 0.6938 - f1: 0.6793 - val_loss: 0.9081 - val_acc: 0.5921 - val_f1: 0.5640\n",
      "Epoch 144/300\n",
      "31051/31051 [==============================] - 5s 169us/step - loss: 0.6906 - acc: 0.6948 - f1: 0.6797 - val_loss: 0.9114 - val_acc: 0.5892 - val_f1: 0.5594\n",
      "Epoch 145/300\n"
     ]
    },
    {
     "name": "stdout",
     "output_type": "stream",
     "text": [
      "31051/31051 [==============================] - 6s 178us/step - loss: 0.6907 - acc: 0.6945 - f1: 0.6795 - val_loss: 0.9110 - val_acc: 0.5905 - val_f1: 0.5600\n",
      "Epoch 146/300\n",
      "31051/31051 [==============================] - 7s 226us/step - loss: 0.6906 - acc: 0.6952 - f1: 0.6799 - val_loss: 0.9123 - val_acc: 0.5908 - val_f1: 0.5605\n",
      "Epoch 147/300\n",
      "31051/31051 [==============================] - 5s 164us/step - loss: 0.6904 - acc: 0.6947 - f1: 0.6798 - val_loss: 0.9083 - val_acc: 0.5934 - val_f1: 0.5682\n",
      "Epoch 148/300\n",
      "31051/31051 [==============================] - 5s 170us/step - loss: 0.6905 - acc: 0.6945 - f1: 0.6803 - val_loss: 0.9105 - val_acc: 0.5921 - val_f1: 0.5629\n",
      "Epoch 149/300\n",
      "31051/31051 [==============================] - 5s 164us/step - loss: 0.6904 - acc: 0.6938 - f1: 0.6805 - val_loss: 0.9199 - val_acc: 0.5816 - val_f1: 0.5519\n",
      "Epoch 150/300\n",
      "31051/31051 [==============================] - 5s 168us/step - loss: 0.6903 - acc: 0.6940 - f1: 0.6800 - val_loss: 0.9145 - val_acc: 0.5849 - val_f1: 0.5569\n",
      "Epoch 151/300\n",
      "31051/31051 [==============================] - 7s 215us/step - loss: 0.6903 - acc: 0.6939 - f1: 0.6799 - val_loss: 0.9146 - val_acc: 0.5872 - val_f1: 0.5570\n",
      "Epoch 152/300\n",
      "31051/31051 [==============================] - 6s 190us/step - loss: 0.6902 - acc: 0.6946 - f1: 0.6799 - val_loss: 0.9128 - val_acc: 0.5879 - val_f1: 0.5574\n",
      "Epoch 153/300\n",
      "31051/31051 [==============================] - 5s 164us/step - loss: 0.6902 - acc: 0.6922 - f1: 0.6787 - val_loss: 0.9132 - val_acc: 0.5872 - val_f1: 0.5582\n",
      "Epoch 154/300\n",
      "31051/31051 [==============================] - 5s 171us/step - loss: 0.6903 - acc: 0.6944 - f1: 0.6794 - val_loss: 0.9113 - val_acc: 0.5927 - val_f1: 0.5601\n",
      "Epoch 155/300\n",
      "31051/31051 [==============================] - 5s 166us/step - loss: 0.6902 - acc: 0.6942 - f1: 0.6798 - val_loss: 0.9115 - val_acc: 0.5908 - val_f1: 0.5610\n",
      "Epoch 156/300\n",
      "31051/31051 [==============================] - 5s 165us/step - loss: 0.6901 - acc: 0.6944 - f1: 0.6797 - val_loss: 0.9078 - val_acc: 0.5934 - val_f1: 0.5685\n",
      "Epoch 157/300\n",
      "31051/31051 [==============================] - 7s 210us/step - loss: 0.6901 - acc: 0.6954 - f1: 0.6791 - val_loss: 0.9127 - val_acc: 0.5885 - val_f1: 0.5582\n",
      "Epoch 158/300\n",
      "31051/31051 [==============================] - 6s 203us/step - loss: 0.6900 - acc: 0.6956 - f1: 0.6800 - val_loss: 0.9099 - val_acc: 0.5927 - val_f1: 0.5669\n",
      "Epoch 159/300\n",
      "31051/31051 [==============================] - 5s 164us/step - loss: 0.6900 - acc: 0.6942 - f1: 0.6803 - val_loss: 0.9096 - val_acc: 0.5937 - val_f1: 0.5662\n",
      "Epoch 160/300\n",
      "31051/31051 [==============================] - 5s 171us/step - loss: 0.6900 - acc: 0.6947 - f1: 0.6805 - val_loss: 0.9119 - val_acc: 0.5895 - val_f1: 0.5601\n",
      "Epoch 161/300\n",
      "31051/31051 [==============================] - 6s 178us/step - loss: 0.6897 - acc: 0.6951 - f1: 0.6802 - val_loss: 0.9148 - val_acc: 0.5872 - val_f1: 0.5581\n",
      "Epoch 162/300\n",
      "31051/31051 [==============================] - 7s 222us/step - loss: 0.6900 - acc: 0.6948 - f1: 0.6803 - val_loss: 0.9169 - val_acc: 0.5852 - val_f1: 0.5568\n",
      "Epoch 163/300\n",
      "31051/31051 [==============================] - 5s 169us/step - loss: 0.6898 - acc: 0.6946 - f1: 0.6808 - val_loss: 0.9119 - val_acc: 0.5924 - val_f1: 0.5601\n",
      "Epoch 164/300\n",
      "31051/31051 [==============================] - 5s 165us/step - loss: 0.6897 - acc: 0.6942 - f1: 0.6804 - val_loss: 0.9131 - val_acc: 0.5872 - val_f1: 0.5599\n",
      "Epoch 165/300\n",
      "31051/31051 [==============================] - 5s 168us/step - loss: 0.6898 - acc: 0.6949 - f1: 0.6812 - val_loss: 0.9107 - val_acc: 0.5931 - val_f1: 0.5649\n",
      "Epoch 166/300\n",
      "31051/31051 [==============================] - 5s 168us/step - loss: 0.6899 - acc: 0.6950 - f1: 0.6810 - val_loss: 0.9091 - val_acc: 0.5937 - val_f1: 0.5690\n",
      "Epoch 167/300\n",
      "31051/31051 [==============================] - 7s 221us/step - loss: 0.6899 - acc: 0.6944 - f1: 0.6805 - val_loss: 0.9158 - val_acc: 0.5843 - val_f1: 0.5575\n",
      "Epoch 168/300\n",
      "31051/31051 [==============================] - 6s 181us/step - loss: 0.6897 - acc: 0.6937 - f1: 0.6806 - val_loss: 0.9163 - val_acc: 0.5839 - val_f1: 0.5567\n",
      "Epoch 169/300\n",
      "31051/31051 [==============================] - 5s 166us/step - loss: 0.6897 - acc: 0.6940 - f1: 0.6800 - val_loss: 0.9093 - val_acc: 0.5934 - val_f1: 0.5693\n",
      "Epoch 170/300\n",
      "31051/31051 [==============================] - 5s 171us/step - loss: 0.6899 - acc: 0.6939 - f1: 0.6809 - val_loss: 0.9116 - val_acc: 0.5908 - val_f1: 0.5615\n",
      "Epoch 171/300\n",
      "31051/31051 [==============================] - 5s 164us/step - loss: 0.6895 - acc: 0.6944 - f1: 0.6809 - val_loss: 0.9145 - val_acc: 0.5911 - val_f1: 0.5578\n",
      "Epoch 172/300\n",
      "31051/31051 [==============================] - 6s 208us/step - loss: 0.6897 - acc: 0.6940 - f1: 0.6806 - val_loss: 0.9125 - val_acc: 0.5892 - val_f1: 0.5606\n",
      "Epoch 173/300\n",
      "31051/31051 [==============================] - 6s 189us/step - loss: 0.6895 - acc: 0.6944 - f1: 0.6813 - val_loss: 0.9100 - val_acc: 0.5937 - val_f1: 0.5672\n",
      "Epoch 174/300\n",
      "31051/31051 [==============================] - 5s 169us/step - loss: 0.6895 - acc: 0.6944 - f1: 0.6811 - val_loss: 0.9176 - val_acc: 0.5830 - val_f1: 0.5560\n",
      "Epoch 175/300\n",
      "31051/31051 [==============================] - 5s 167us/step - loss: 0.6894 - acc: 0.6950 - f1: 0.6805 - val_loss: 0.9183 - val_acc: 0.5856 - val_f1: 0.5563\n",
      "Epoch 176/300\n",
      "31051/31051 [==============================] - 5s 168us/step - loss: 0.6896 - acc: 0.6946 - f1: 0.6803 - val_loss: 0.9118 - val_acc: 0.5908 - val_f1: 0.5620\n",
      "Epoch 177/300\n",
      "31051/31051 [==============================] - 6s 195us/step - loss: 0.6894 - acc: 0.6961 - f1: 0.6806 - val_loss: 0.9135 - val_acc: 0.5901 - val_f1: 0.5591\n",
      "Epoch 178/300\n",
      "31051/31051 [==============================] - 6s 203us/step - loss: 0.6893 - acc: 0.6942 - f1: 0.6808 - val_loss: 0.9116 - val_acc: 0.5901 - val_f1: 0.5633\n",
      "Epoch 179/300\n",
      "31051/31051 [==============================] - 5s 171us/step - loss: 0.6894 - acc: 0.6947 - f1: 0.6810 - val_loss: 0.9144 - val_acc: 0.5872 - val_f1: 0.5577\n",
      "Epoch 180/300\n",
      "31051/31051 [==============================] - 5s 161us/step - loss: 0.6894 - acc: 0.6951 - f1: 0.6808 - val_loss: 0.9170 - val_acc: 0.5836 - val_f1: 0.5571\n",
      "Epoch 181/300\n",
      "31051/31051 [==============================] - 5s 171us/step - loss: 0.6893 - acc: 0.6953 - f1: 0.6812 - val_loss: 0.9172 - val_acc: 0.5820 - val_f1: 0.5569\n",
      "Epoch 182/300\n",
      "31051/31051 [==============================] - 6s 194us/step - loss: 0.6891 - acc: 0.6949 - f1: 0.6805 - val_loss: 0.9159 - val_acc: 0.5865 - val_f1: 0.5568\n",
      "Epoch 183/300\n",
      "31051/31051 [==============================] - 6s 200us/step - loss: 0.6892 - acc: 0.6956 - f1: 0.6809 - val_loss: 0.9118 - val_acc: 0.5931 - val_f1: 0.5663\n",
      "Epoch 184/300\n",
      "31051/31051 [==============================] - 5s 160us/step - loss: 0.6891 - acc: 0.6953 - f1: 0.6810 - val_loss: 0.9166 - val_acc: 0.5852 - val_f1: 0.5569\n",
      "Epoch 185/300\n",
      "31051/31051 [==============================] - 5s 171us/step - loss: 0.6892 - acc: 0.6948 - f1: 0.6809 - val_loss: 0.9120 - val_acc: 0.5931 - val_f1: 0.5639\n",
      "Epoch 186/300\n",
      "31051/31051 [==============================] - 5s 173us/step - loss: 0.6893 - acc: 0.6942 - f1: 0.6802 - val_loss: 0.9156 - val_acc: 0.5875 - val_f1: 0.5591\n",
      "Epoch 187/300\n",
      "31051/31051 [==============================] - 6s 197us/step - loss: 0.6892 - acc: 0.6947 - f1: 0.6813 - val_loss: 0.9186 - val_acc: 0.5830 - val_f1: 0.5570\n",
      "Epoch 188/300\n",
      "31051/31051 [==============================] - 6s 209us/step - loss: 0.6891 - acc: 0.6954 - f1: 0.6810 - val_loss: 0.9185 - val_acc: 0.5826 - val_f1: 0.5570\n",
      "Epoch 189/300\n",
      "31051/31051 [==============================] - 5s 172us/step - loss: 0.6889 - acc: 0.6951 - f1: 0.6818 - val_loss: 0.9179 - val_acc: 0.5859 - val_f1: 0.5576\n",
      "Epoch 190/300\n",
      "31051/31051 [==============================] - 5s 166us/step - loss: 0.6891 - acc: 0.6941 - f1: 0.6802 - val_loss: 0.9143 - val_acc: 0.5908 - val_f1: 0.5607\n",
      "Epoch 191/300\n",
      "31051/31051 [==============================] - 5s 169us/step - loss: 0.6888 - acc: 0.6936 - f1: 0.6806 - val_loss: 0.9152 - val_acc: 0.5898 - val_f1: 0.5595\n",
      "Epoch 192/300\n",
      "31051/31051 [==============================] - 6s 198us/step - loss: 0.6890 - acc: 0.6946 - f1: 0.6807 - val_loss: 0.9146 - val_acc: 0.5901 - val_f1: 0.5603\n"
     ]
    },
    {
     "name": "stdout",
     "output_type": "stream",
     "text": [
      "Epoch 193/300\n",
      "31051/31051 [==============================] - 6s 207us/step - loss: 0.6890 - acc: 0.6945 - f1: 0.6808 - val_loss: 0.9109 - val_acc: 0.5950 - val_f1: 0.5727\n",
      "Epoch 194/300\n",
      "31051/31051 [==============================] - 5s 167us/step - loss: 0.6889 - acc: 0.6949 - f1: 0.6808 - val_loss: 0.9143 - val_acc: 0.5892 - val_f1: 0.5586\n",
      "Epoch 195/300\n",
      "31051/31051 [==============================] - 5s 171us/step - loss: 0.6889 - acc: 0.6951 - f1: 0.6814 - val_loss: 0.9131 - val_acc: 0.5914 - val_f1: 0.5620\n",
      "Epoch 196/300\n",
      "31051/31051 [==============================] - 5s 164us/step - loss: 0.6887 - acc: 0.6950 - f1: 0.6809 - val_loss: 0.9182 - val_acc: 0.5839 - val_f1: 0.5579\n",
      "Epoch 197/300\n",
      "31051/31051 [==============================] - 5s 167us/step - loss: 0.6889 - acc: 0.6950 - f1: 0.6811 - val_loss: 0.9116 - val_acc: 0.5921 - val_f1: 0.5686\n",
      "Epoch 198/300\n",
      "31051/31051 [==============================] - 6s 199us/step - loss: 0.6887 - acc: 0.6947 - f1: 0.6806 - val_loss: 0.9175 - val_acc: 0.5875 - val_f1: 0.5577\n",
      "Epoch 199/300\n",
      "31051/31051 [==============================] - 6s 206us/step - loss: 0.6889 - acc: 0.6955 - f1: 0.6808 - val_loss: 0.9121 - val_acc: 0.5924 - val_f1: 0.5665\n",
      "Epoch 200/300\n",
      "31051/31051 [==============================] - 5s 156us/step - loss: 0.6890 - acc: 0.6955 - f1: 0.6816 - val_loss: 0.9164 - val_acc: 0.5875 - val_f1: 0.5582\n",
      "Epoch 201/300\n",
      "31051/31051 [==============================] - 5s 169us/step - loss: 0.6888 - acc: 0.6938 - f1: 0.6810 - val_loss: 0.9139 - val_acc: 0.5892 - val_f1: 0.5626\n",
      "Epoch 202/300\n",
      "31051/31051 [==============================] - 5s 169us/step - loss: 0.6887 - acc: 0.6955 - f1: 0.6807 - val_loss: 0.9152 - val_acc: 0.5924 - val_f1: 0.5613\n",
      "Epoch 203/300\n",
      "31051/31051 [==============================] - 5s 172us/step - loss: 0.6886 - acc: 0.6953 - f1: 0.6810 - val_loss: 0.9162 - val_acc: 0.5879 - val_f1: 0.5585\n",
      "Epoch 204/300\n",
      "31051/31051 [==============================] - 6s 178us/step - loss: 0.6886 - acc: 0.6951 - f1: 0.6810 - val_loss: 0.9158 - val_acc: 0.5875 - val_f1: 0.5585\n",
      "Epoch 205/300\n",
      "31051/31051 [==============================] - 7s 218us/step - loss: 0.6885 - acc: 0.6950 - f1: 0.6808 - val_loss: 0.9127 - val_acc: 0.5941 - val_f1: 0.5693\n",
      "Epoch 206/300\n",
      "31051/31051 [==============================] - 5s 165us/step - loss: 0.6885 - acc: 0.6951 - f1: 0.6810 - val_loss: 0.9193 - val_acc: 0.5843 - val_f1: 0.5576\n",
      "Epoch 207/300\n",
      "31051/31051 [==============================] - 5s 164us/step - loss: 0.6885 - acc: 0.6955 - f1: 0.6813 - val_loss: 0.9159 - val_acc: 0.5905 - val_f1: 0.5602\n",
      "Epoch 208/300\n",
      "31051/31051 [==============================] - 5s 172us/step - loss: 0.6882 - acc: 0.6954 - f1: 0.6816 - val_loss: 0.9229 - val_acc: 0.5800 - val_f1: 0.5552\n",
      "Epoch 209/300\n",
      "31051/31051 [==============================] - 5s 166us/step - loss: 0.6886 - acc: 0.6956 - f1: 0.6810 - val_loss: 0.9139 - val_acc: 0.5921 - val_f1: 0.5661\n",
      "Epoch 210/300\n",
      "31051/31051 [==============================] - 5s 166us/step - loss: 0.6886 - acc: 0.6960 - f1: 0.6811 - val_loss: 0.9148 - val_acc: 0.5918 - val_f1: 0.5622\n",
      "Epoch 211/300\n",
      "31051/31051 [==============================] - 7s 223us/step - loss: 0.6885 - acc: 0.6951 - f1: 0.6819 - val_loss: 0.9213 - val_acc: 0.5830 - val_f1: 0.5560\n",
      "Epoch 212/300\n",
      "31051/31051 [==============================] - 6s 179us/step - loss: 0.6884 - acc: 0.6948 - f1: 0.6821 - val_loss: 0.9214 - val_acc: 0.5813 - val_f1: 0.5563\n",
      "Epoch 213/300\n",
      "31051/31051 [==============================] - 5s 164us/step - loss: 0.6885 - acc: 0.6961 - f1: 0.6811 - val_loss: 0.9151 - val_acc: 0.5901 - val_f1: 0.5604\n",
      "Epoch 214/300\n",
      "31051/31051 [==============================] - 5s 166us/step - loss: 0.6886 - acc: 0.6950 - f1: 0.6816 - val_loss: 0.9181 - val_acc: 0.5865 - val_f1: 0.5578\n",
      "Epoch 215/300\n",
      "31051/31051 [==============================] - 5s 173us/step - loss: 0.6885 - acc: 0.6954 - f1: 0.6813 - val_loss: 0.9140 - val_acc: 0.5911 - val_f1: 0.5644\n",
      "Epoch 216/300\n",
      "31051/31051 [==============================] - 5s 166us/step - loss: 0.6885 - acc: 0.6946 - f1: 0.6810 - val_loss: 0.9171 - val_acc: 0.5872 - val_f1: 0.5586\n",
      "Epoch 217/300\n",
      "31051/31051 [==============================] - 6s 186us/step - loss: 0.6882 - acc: 0.6955 - f1: 0.6815 - val_loss: 0.9154 - val_acc: 0.5911 - val_f1: 0.5625\n",
      "Epoch 218/300\n",
      "31051/31051 [==============================] - 6s 204us/step - loss: 0.6885 - acc: 0.6954 - f1: 0.6815 - val_loss: 0.9128 - val_acc: 0.5921 - val_f1: 0.5694\n",
      "Epoch 219/300\n",
      "31051/31051 [==============================] - 5s 168us/step - loss: 0.6883 - acc: 0.6960 - f1: 0.6817 - val_loss: 0.9178 - val_acc: 0.5856 - val_f1: 0.5595\n",
      "Epoch 220/300\n",
      "31051/31051 [==============================] - 5s 169us/step - loss: 0.6883 - acc: 0.6957 - f1: 0.6820 - val_loss: 0.9211 - val_acc: 0.5839 - val_f1: 0.5576\n",
      "Epoch 221/300\n",
      "31051/31051 [==============================] - 5s 170us/step - loss: 0.6884 - acc: 0.6955 - f1: 0.6813 - val_loss: 0.9196 - val_acc: 0.5826 - val_f1: 0.5566\n",
      "Epoch 222/300\n",
      "31051/31051 [==============================] - 6s 180us/step - loss: 0.6882 - acc: 0.6950 - f1: 0.6819 - val_loss: 0.9156 - val_acc: 0.5931 - val_f1: 0.5641\n",
      "Epoch 223/300\n",
      "31051/31051 [==============================] - 7s 234us/step - loss: 0.6884 - acc: 0.6939 - f1: 0.6813 - val_loss: 0.9176 - val_acc: 0.5869 - val_f1: 0.5592\n",
      "Epoch 224/300\n",
      "31051/31051 [==============================] - 6s 177us/step - loss: 0.6883 - acc: 0.6950 - f1: 0.6810 - val_loss: 0.9137 - val_acc: 0.5918 - val_f1: 0.5670\n",
      "Epoch 225/300\n",
      "31051/31051 [==============================] - 5s 170us/step - loss: 0.6881 - acc: 0.6947 - f1: 0.6815 - val_loss: 0.9136 - val_acc: 0.5937 - val_f1: 0.5681\n",
      "Epoch 226/300\n",
      "31051/31051 [==============================] - 5s 168us/step - loss: 0.6883 - acc: 0.6947 - f1: 0.6811 - val_loss: 0.9165 - val_acc: 0.5882 - val_f1: 0.5590\n",
      "Epoch 227/300\n",
      "31051/31051 [==============================] - 5s 166us/step - loss: 0.6881 - acc: 0.6958 - f1: 0.6816 - val_loss: 0.9174 - val_acc: 0.5856 - val_f1: 0.5589\n",
      "Epoch 228/300\n",
      "31051/31051 [==============================] - 5s 173us/step - loss: 0.6880 - acc: 0.6958 - f1: 0.6815 - val_loss: 0.9228 - val_acc: 0.5826 - val_f1: 0.5574\n",
      "Epoch 229/300\n",
      "31051/31051 [==============================] - 5s 165us/step - loss: 0.6883 - acc: 0.6955 - f1: 0.6820 - val_loss: 0.9146 - val_acc: 0.5918 - val_f1: 0.5663\n",
      "Epoch 230/300\n",
      "31051/31051 [==============================] - 5s 166us/step - loss: 0.6883 - acc: 0.6960 - f1: 0.6813 - val_loss: 0.9144 - val_acc: 0.5905 - val_f1: 0.5658\n",
      "Epoch 231/300\n",
      "31051/31051 [==============================] - 5s 167us/step - loss: 0.6882 - acc: 0.6955 - f1: 0.6816 - val_loss: 0.9176 - val_acc: 0.5898 - val_f1: 0.5610\n",
      "Epoch 232/300\n",
      "31051/31051 [==============================] - 5s 161us/step - loss: 0.6881 - acc: 0.6953 - f1: 0.6816 - val_loss: 0.9172 - val_acc: 0.5931 - val_f1: 0.5648\n",
      "Epoch 233/300\n",
      "31051/31051 [==============================] - 5s 163us/step - loss: 0.6881 - acc: 0.6960 - f1: 0.6816 - val_loss: 0.9203 - val_acc: 0.5852 - val_f1: 0.5589\n",
      "Epoch 234/300\n",
      "31051/31051 [==============================] - 5s 160us/step - loss: 0.6879 - acc: 0.6956 - f1: 0.6819 - val_loss: 0.9203 - val_acc: 0.5846 - val_f1: 0.5584\n",
      "Epoch 235/300\n",
      "31051/31051 [==============================] - 5s 165us/step - loss: 0.6883 - acc: 0.6957 - f1: 0.6818 - val_loss: 0.9154 - val_acc: 0.5914 - val_f1: 0.5656\n",
      "Epoch 236/300\n",
      "31051/31051 [==============================] - 5s 161us/step - loss: 0.6883 - acc: 0.6958 - f1: 0.6822 - val_loss: 0.9174 - val_acc: 0.5869 - val_f1: 0.5587\n",
      "Epoch 237/300\n",
      "31051/31051 [==============================] - 5s 166us/step - loss: 0.6880 - acc: 0.6955 - f1: 0.6810 - val_loss: 0.9141 - val_acc: 0.5905 - val_f1: 0.5666\n",
      "Epoch 238/300\n",
      "31051/31051 [==============================] - 5s 165us/step - loss: 0.6879 - acc: 0.6952 - f1: 0.6820 - val_loss: 0.9192 - val_acc: 0.5856 - val_f1: 0.5587\n",
      "Epoch 239/300\n",
      "31051/31051 [==============================] - 5s 166us/step - loss: 0.6881 - acc: 0.6944 - f1: 0.6813 - val_loss: 0.9162 - val_acc: 0.5895 - val_f1: 0.5608\n",
      "Epoch 240/300\n",
      "31051/31051 [==============================] - 5s 167us/step - loss: 0.6879 - acc: 0.6957 - f1: 0.6818 - val_loss: 0.9158 - val_acc: 0.5908 - val_f1: 0.5641\n"
     ]
    },
    {
     "name": "stdout",
     "output_type": "stream",
     "text": [
      "Epoch 241/300\n",
      "31051/31051 [==============================] - 5s 166us/step - loss: 0.6877 - acc: 0.6952 - f1: 0.6820 - val_loss: 0.9213 - val_acc: 0.5833 - val_f1: 0.5590\n",
      "Epoch 242/300\n",
      "31051/31051 [==============================] - 5s 162us/step - loss: 0.6880 - acc: 0.6964 - f1: 0.6825 - val_loss: 0.9184 - val_acc: 0.5888 - val_f1: 0.5596\n",
      "Epoch 243/300\n",
      "31051/31051 [==============================] - 5s 162us/step - loss: 0.6878 - acc: 0.6955 - f1: 0.6818 - val_loss: 0.9165 - val_acc: 0.5908 - val_f1: 0.5636\n",
      "Epoch 244/300\n",
      "31051/31051 [==============================] - 5s 170us/step - loss: 0.6878 - acc: 0.6959 - f1: 0.6823 - val_loss: 0.9198 - val_acc: 0.5843 - val_f1: 0.5588\n",
      "Epoch 245/300\n",
      "31051/31051 [==============================] - 5s 167us/step - loss: 0.6876 - acc: 0.6957 - f1: 0.6814 - val_loss: 0.9172 - val_acc: 0.5875 - val_f1: 0.5614\n",
      "Epoch 246/300\n",
      "31051/31051 [==============================] - 5s 163us/step - loss: 0.6877 - acc: 0.6955 - f1: 0.6826 - val_loss: 0.9131 - val_acc: 0.5908 - val_f1: 0.5697\n",
      "Epoch 247/300\n",
      "31051/31051 [==============================] - 5s 166us/step - loss: 0.6876 - acc: 0.6957 - f1: 0.6814 - val_loss: 0.9200 - val_acc: 0.5865 - val_f1: 0.5590\n",
      "Epoch 248/300\n",
      "31051/31051 [==============================] - 5s 162us/step - loss: 0.6877 - acc: 0.6963 - f1: 0.6826 - val_loss: 0.9276 - val_acc: 0.5807 - val_f1: 0.5511\n",
      "Epoch 249/300\n",
      "31051/31051 [==============================] - 5s 164us/step - loss: 0.6877 - acc: 0.6952 - f1: 0.6823 - val_loss: 0.9219 - val_acc: 0.5820 - val_f1: 0.5569\n",
      "Epoch 250/300\n",
      "31051/31051 [==============================] - 5s 161us/step - loss: 0.6877 - acc: 0.6958 - f1: 0.6829 - val_loss: 0.9171 - val_acc: 0.5898 - val_f1: 0.5631\n",
      "Epoch 251/300\n",
      "31051/31051 [==============================] - 5s 163us/step - loss: 0.6879 - acc: 0.6956 - f1: 0.6815 - val_loss: 0.9149 - val_acc: 0.5911 - val_f1: 0.5652\n",
      "Epoch 252/300\n",
      "31051/31051 [==============================] - 5s 167us/step - loss: 0.6878 - acc: 0.6958 - f1: 0.6819 - val_loss: 0.9238 - val_acc: 0.5787 - val_f1: 0.5562\n",
      "Epoch 253/300\n",
      "31051/31051 [==============================] - 5s 163us/step - loss: 0.6877 - acc: 0.6957 - f1: 0.6824 - val_loss: 0.9230 - val_acc: 0.5813 - val_f1: 0.5575\n",
      "Epoch 254/300\n",
      "31051/31051 [==============================] - 5s 166us/step - loss: 0.6877 - acc: 0.6950 - f1: 0.6822 - val_loss: 0.9160 - val_acc: 0.5908 - val_f1: 0.5678\n",
      "Epoch 255/300\n",
      "31051/31051 [==============================] - 5s 162us/step - loss: 0.6876 - acc: 0.6961 - f1: 0.6815 - val_loss: 0.9207 - val_acc: 0.5849 - val_f1: 0.5584\n",
      "Epoch 256/300\n",
      "31051/31051 [==============================] - 5s 167us/step - loss: 0.6876 - acc: 0.6965 - f1: 0.6824 - val_loss: 0.9199 - val_acc: 0.5849 - val_f1: 0.5586\n",
      "Epoch 257/300\n",
      "31051/31051 [==============================] - 5s 166us/step - loss: 0.6877 - acc: 0.6942 - f1: 0.6822 - val_loss: 0.9175 - val_acc: 0.5882 - val_f1: 0.5600\n",
      "Epoch 258/300\n",
      "31051/31051 [==============================] - 5s 161us/step - loss: 0.6877 - acc: 0.6959 - f1: 0.6813 - val_loss: 0.9196 - val_acc: 0.5872 - val_f1: 0.5595\n",
      "Epoch 259/300\n",
      "31051/31051 [==============================] - 5s 159us/step - loss: 0.6877 - acc: 0.6960 - f1: 0.6832 - val_loss: 0.9205 - val_acc: 0.5852 - val_f1: 0.5581\n",
      "Epoch 260/300\n",
      "31051/31051 [==============================] - 5s 171us/step - loss: 0.6876 - acc: 0.6958 - f1: 0.6819 - val_loss: 0.9194 - val_acc: 0.5869 - val_f1: 0.5602\n",
      "Epoch 261/300\n",
      "31051/31051 [==============================] - 5s 160us/step - loss: 0.6877 - acc: 0.6954 - f1: 0.6828 - val_loss: 0.9195 - val_acc: 0.5865 - val_f1: 0.5592\n",
      "Epoch 262/300\n",
      "31051/31051 [==============================] - 5s 168us/step - loss: 0.6875 - acc: 0.6952 - f1: 0.6821 - val_loss: 0.9205 - val_acc: 0.5839 - val_f1: 0.5591\n",
      "Epoch 263/300\n",
      "31051/31051 [==============================] - 5s 165us/step - loss: 0.6877 - acc: 0.6960 - f1: 0.6826 - val_loss: 0.9196 - val_acc: 0.5872 - val_f1: 0.5586\n",
      "Epoch 264/300\n",
      "31051/31051 [==============================] - 5s 166us/step - loss: 0.6875 - acc: 0.6957 - f1: 0.6819 - val_loss: 0.9154 - val_acc: 0.5905 - val_f1: 0.5662\n",
      "Epoch 265/300\n",
      "31051/31051 [==============================] - 5s 166us/step - loss: 0.6876 - acc: 0.6952 - f1: 0.6811 - val_loss: 0.9168 - val_acc: 0.5905 - val_f1: 0.5658\n",
      "Epoch 266/300\n",
      "31051/31051 [==============================] - 5s 157us/step - loss: 0.6875 - acc: 0.6960 - f1: 0.6822 - val_loss: 0.9200 - val_acc: 0.5875 - val_f1: 0.5612\n",
      "Epoch 267/300\n",
      "31051/31051 [==============================] - 5s 162us/step - loss: 0.6876 - acc: 0.6973 - f1: 0.6821 - val_loss: 0.9152 - val_acc: 0.5934 - val_f1: 0.5698\n",
      "Epoch 268/300\n",
      "31051/31051 [==============================] - 5s 164us/step - loss: 0.6879 - acc: 0.6963 - f1: 0.6820 - val_loss: 0.9177 - val_acc: 0.5885 - val_f1: 0.5607\n",
      "Epoch 269/300\n",
      "31051/31051 [==============================] - 5s 163us/step - loss: 0.6877 - acc: 0.6965 - f1: 0.6825 - val_loss: 0.9191 - val_acc: 0.5882 - val_f1: 0.5609\n",
      "Epoch 270/300\n",
      "31051/31051 [==============================] - 5s 172us/step - loss: 0.6875 - acc: 0.6954 - f1: 0.6819 - val_loss: 0.9181 - val_acc: 0.5895 - val_f1: 0.5623\n",
      "Epoch 271/300\n",
      "31051/31051 [==============================] - 5s 167us/step - loss: 0.6872 - acc: 0.6965 - f1: 0.6829 - val_loss: 0.9205 - val_acc: 0.5865 - val_f1: 0.5601\n",
      "Epoch 272/300\n",
      "31051/31051 [==============================] - 5s 161us/step - loss: 0.6876 - acc: 0.6956 - f1: 0.6827 - val_loss: 0.9166 - val_acc: 0.5908 - val_f1: 0.5642\n",
      "Epoch 273/300\n",
      "31051/31051 [==============================] - 5s 169us/step - loss: 0.6873 - acc: 0.6964 - f1: 0.6824 - val_loss: 0.9186 - val_acc: 0.5901 - val_f1: 0.5591\n",
      "Epoch 274/300\n",
      "31051/31051 [==============================] - 5s 166us/step - loss: 0.6874 - acc: 0.6973 - f1: 0.6828 - val_loss: 0.9200 - val_acc: 0.5921 - val_f1: 0.5682\n",
      "Epoch 275/300\n",
      "31051/31051 [==============================] - 5s 168us/step - loss: 0.6873 - acc: 0.6963 - f1: 0.6822 - val_loss: 0.9174 - val_acc: 0.5892 - val_f1: 0.5613\n",
      "Epoch 276/300\n",
      "31051/31051 [==============================] - 5s 162us/step - loss: 0.6873 - acc: 0.6944 - f1: 0.6812 - val_loss: 0.9197 - val_acc: 0.5862 - val_f1: 0.5611\n",
      "Epoch 277/300\n",
      "31051/31051 [==============================] - 5s 165us/step - loss: 0.6876 - acc: 0.6961 - f1: 0.6816 - val_loss: 0.9192 - val_acc: 0.5885 - val_f1: 0.5616\n",
      "Epoch 278/300\n",
      "31051/31051 [==============================] - 5s 163us/step - loss: 0.6875 - acc: 0.6961 - f1: 0.6825 - val_loss: 0.9185 - val_acc: 0.5924 - val_f1: 0.5649\n",
      "Epoch 279/300\n",
      "31051/31051 [==============================] - 5s 165us/step - loss: 0.6874 - acc: 0.6964 - f1: 0.6824 - val_loss: 0.9153 - val_acc: 0.5924 - val_f1: 0.5672\n",
      "Epoch 280/300\n",
      "31051/31051 [==============================] - 5s 165us/step - loss: 0.6872 - acc: 0.6955 - f1: 0.6828 - val_loss: 0.9191 - val_acc: 0.5918 - val_f1: 0.5639\n",
      "Epoch 281/300\n",
      "31051/31051 [==============================] - 5s 158us/step - loss: 0.6876 - acc: 0.6958 - f1: 0.6820 - val_loss: 0.9194 - val_acc: 0.5872 - val_f1: 0.5613\n",
      "Epoch 282/300\n",
      "31051/31051 [==============================] - 5s 162us/step - loss: 0.6874 - acc: 0.6962 - f1: 0.6828 - val_loss: 0.9175 - val_acc: 0.5898 - val_f1: 0.5631\n",
      "Epoch 283/300\n",
      "31051/31051 [==============================] - 5s 169us/step - loss: 0.6873 - acc: 0.6974 - f1: 0.6830 - val_loss: 0.9173 - val_acc: 0.5898 - val_f1: 0.5634\n",
      "Epoch 284/300\n",
      "31051/31051 [==============================] - 5s 165us/step - loss: 0.6872 - acc: 0.6967 - f1: 0.6823 - val_loss: 0.9278 - val_acc: 0.5803 - val_f1: 0.5547\n",
      "Epoch 285/300\n",
      "31051/31051 [==============================] - 5s 163us/step - loss: 0.6873 - acc: 0.6960 - f1: 0.6824 - val_loss: 0.9168 - val_acc: 0.5921 - val_f1: 0.5666\n",
      "Epoch 286/300\n",
      "31051/31051 [==============================] - 5s 166us/step - loss: 0.6871 - acc: 0.6957 - f1: 0.6832 - val_loss: 0.9201 - val_acc: 0.5892 - val_f1: 0.5604\n",
      "Epoch 287/300\n",
      "31051/31051 [==============================] - 5s 165us/step - loss: 0.6873 - acc: 0.6957 - f1: 0.6824 - val_loss: 0.9188 - val_acc: 0.5921 - val_f1: 0.5642\n",
      "Epoch 288/300\n",
      "31051/31051 [==============================] - 5s 165us/step - loss: 0.6874 - acc: 0.6960 - f1: 0.6824 - val_loss: 0.9180 - val_acc: 0.5898 - val_f1: 0.5618\n"
     ]
    },
    {
     "name": "stdout",
     "output_type": "stream",
     "text": [
      "Epoch 289/300\n",
      "31051/31051 [==============================] - 5s 168us/step - loss: 0.6872 - acc: 0.6954 - f1: 0.6829 - val_loss: 0.9184 - val_acc: 0.5905 - val_f1: 0.5631\n",
      "Epoch 290/300\n",
      "31051/31051 [==============================] - 5s 161us/step - loss: 0.6872 - acc: 0.6959 - f1: 0.6831 - val_loss: 0.9192 - val_acc: 0.5885 - val_f1: 0.5621\n",
      "Epoch 291/300\n",
      "31051/31051 [==============================] - 5s 161us/step - loss: 0.6874 - acc: 0.6954 - f1: 0.6824 - val_loss: 0.9204 - val_acc: 0.5856 - val_f1: 0.5606\n",
      "Epoch 292/300\n",
      "31051/31051 [==============================] - 5s 165us/step - loss: 0.6874 - acc: 0.6956 - f1: 0.6820 - val_loss: 0.9207 - val_acc: 0.5859 - val_f1: 0.5600\n",
      "Epoch 293/300\n",
      "31051/31051 [==============================] - 5s 164us/step - loss: 0.6871 - acc: 0.6965 - f1: 0.6830 - val_loss: 0.9212 - val_acc: 0.5872 - val_f1: 0.5614\n",
      "Epoch 294/300\n",
      "31051/31051 [==============================] - 5s 159us/step - loss: 0.6873 - acc: 0.6954 - f1: 0.6824 - val_loss: 0.9199 - val_acc: 0.5908 - val_f1: 0.5629\n",
      "Epoch 295/300\n",
      "31051/31051 [==============================] - 5s 162us/step - loss: 0.6871 - acc: 0.6954 - f1: 0.6828 - val_loss: 0.9234 - val_acc: 0.5820 - val_f1: 0.5600\n",
      "Epoch 296/300\n",
      "31051/31051 [==============================] - 5s 169us/step - loss: 0.6873 - acc: 0.6966 - f1: 0.6825 - val_loss: 0.9191 - val_acc: 0.5924 - val_f1: 0.5651\n",
      "Epoch 297/300\n",
      "31051/31051 [==============================] - 5s 164us/step - loss: 0.6870 - acc: 0.6961 - f1: 0.6824 - val_loss: 0.9221 - val_acc: 0.5843 - val_f1: 0.5602\n",
      "Epoch 298/300\n",
      "31051/31051 [==============================] - 5s 167us/step - loss: 0.6871 - acc: 0.6960 - f1: 0.6825 - val_loss: 0.9163 - val_acc: 0.5937 - val_f1: 0.5669\n",
      "Epoch 299/300\n",
      "31051/31051 [==============================] - 5s 167us/step - loss: 0.6871 - acc: 0.6969 - f1: 0.6832 - val_loss: 0.9223 - val_acc: 0.5839 - val_f1: 0.5612\n",
      "Epoch 300/300\n",
      "31051/31051 [==============================] - 5s 168us/step - loss: 0.6872 - acc: 0.6948 - f1: 0.6823 - val_loss: 0.9238 - val_acc: 0.5875 - val_f1: 0.5600\n"
     ]
    }
   ],
   "source": [
    "history = model.fit(combined_emb, combined_y, batch_size=32, epochs=300, validation_data=(en_es_emb, en_es_y), shuffle=True)"
   ]
  },
  {
   "cell_type": "code",
   "execution_count": 78,
   "metadata": {},
   "outputs": [
    {
     "name": "stdout",
     "output_type": "stream",
     "text": [
      "dict_keys(['val_f1', 'val_loss', 'val_acc', 'f1', 'acc', 'loss'])\n"
     ]
    },
    {
     "data": {
      "image/png": "[encoded data removed]",
      "text/plain": [
       "<Figure size 432x288 with 1 Axes>"
      ]
     },
     "metadata": {
      "needs_background": "light"
     },
     "output_type": "display_data"
    },
    {
     "data": {
      "image/png": "[encoded data removed]",
      "text/plain": [
       "<Figure size 432x288 with 1 Axes>"
      ]
     },
     "metadata": {
      "needs_background": "light"
     },
     "output_type": "display_data"
    },
    {
     "data": {
      "image/png": "[encoded data removed]",
      "text/plain": [
       "<Figure size 432x288 with 1 Axes>"
      ]
     },
     "metadata": {
      "needs_background": "light"
     },
     "output_type": "display_data"
    }
   ],
   "source": [
    "plot_history(history)"
   ]
  },
  {
   "cell_type": "markdown",
   "metadata": {},
   "source": [
    "### model.evaluate(en_es_emb,en_es_y)"
   ]
  },
  {
   "cell_type": "code",
   "execution_count": 68,
   "metadata": {
    "scrolled": true
   },
   "outputs": [
    {
     "name": "stdout",
     "output_type": "stream",
     "text": [
      "Train on 1531 samples, validate on 1531 samples\n",
      "Epoch 1/30\n",
      "1531/1531 [==============================] - 1s 369us/step - loss: 0.4163 - acc: 0.8210 - f1: 0.8179 - val_loss: 1.0906 - val_acc: 0.6166 - val_f1: 0.6138\n",
      "Epoch 2/30\n",
      "1531/1531 [==============================] - 1s 357us/step - loss: 0.4494 - acc: 0.8027 - f1: 0.8071 - val_loss: 1.1192 - val_acc: 0.6120 - val_f1: 0.6108\n",
      "Epoch 3/30\n",
      "1531/1531 [==============================] - 1s 335us/step - loss: 0.3900 - acc: 0.8282 - f1: 0.8323 - val_loss: 1.0961 - val_acc: 0.6238 - val_f1: 0.6137\n",
      "Epoch 4/30\n",
      "1531/1531 [==============================] - 1s 341us/step - loss: 0.4060 - acc: 0.8282 - f1: 0.8236 - val_loss: 1.1872 - val_acc: 0.6166 - val_f1: 0.6115\n",
      "Epoch 5/30\n",
      "1531/1531 [==============================] - 1s 353us/step - loss: 0.3925 - acc: 0.8282 - f1: 0.8282 - val_loss: 1.1122 - val_acc: 0.6179 - val_f1: 0.6119\n",
      "Epoch 6/30\n",
      "1531/1531 [==============================] - 1s 360us/step - loss: 0.3761 - acc: 0.8387 - f1: 0.8337 - val_loss: 1.1528 - val_acc: 0.6133 - val_f1: 0.6088\n",
      "Epoch 7/30\n",
      "1531/1531 [==============================] - 1s 361us/step - loss: 0.3441 - acc: 0.8485 - f1: 0.8526 - val_loss: 1.2784 - val_acc: 0.6166 - val_f1: 0.6149\n",
      "Epoch 8/30\n",
      "1531/1531 [==============================] - 1s 351us/step - loss: 0.3409 - acc: 0.8380 - f1: 0.8438 - val_loss: 1.2452 - val_acc: 0.6114 - val_f1: 0.6115\n",
      "Epoch 9/30\n",
      "1531/1531 [==============================] - 1s 358us/step - loss: 0.3212 - acc: 0.8563 - f1: 0.8599 - val_loss: 1.2468 - val_acc: 0.6297 - val_f1: 0.6244\n",
      "Epoch 10/30\n",
      "1531/1531 [==============================] - 1s 345us/step - loss: 0.3361 - acc: 0.8472 - f1: 0.8520 - val_loss: 1.2010 - val_acc: 0.6277 - val_f1: 0.6274\n",
      "Epoch 11/30\n",
      "1531/1531 [==============================] - 1s 360us/step - loss: 0.3132 - acc: 0.8746 - f1: 0.8765 - val_loss: 1.1787 - val_acc: 0.6172 - val_f1: 0.6166\n",
      "Epoch 12/30\n",
      "1531/1531 [==============================] - 1s 372us/step - loss: 0.3213 - acc: 0.8537 - f1: 0.8569 - val_loss: 1.3039 - val_acc: 0.6107 - val_f1: 0.6090\n",
      "Epoch 13/30\n",
      "1531/1531 [==============================] - 1s 362us/step - loss: 0.2954 - acc: 0.8785 - f1: 0.8767 - val_loss: 1.3414 - val_acc: 0.6251 - val_f1: 0.6205\n",
      "Epoch 14/30\n",
      "1531/1531 [==============================] - 1s 369us/step - loss: 0.2875 - acc: 0.8700 - f1: 0.8669 - val_loss: 1.2967 - val_acc: 0.6310 - val_f1: 0.6354\n",
      "Epoch 15/30\n",
      "1531/1531 [==============================] - 1s 358us/step - loss: 0.2915 - acc: 0.8707 - f1: 0.8673 - val_loss: 1.3374 - val_acc: 0.6336 - val_f1: 0.6308\n",
      "Epoch 16/30\n",
      "1531/1531 [==============================] - 1s 355us/step - loss: 0.2472 - acc: 0.8981 - f1: 0.8952 - val_loss: 1.4714 - val_acc: 0.6179 - val_f1: 0.6151\n",
      "Epoch 17/30\n",
      "1531/1531 [==============================] - 1s 390us/step - loss: 0.2510 - acc: 0.8961 - f1: 0.8988 - val_loss: 1.4138 - val_acc: 0.6192 - val_f1: 0.6170\n",
      "Epoch 18/30\n",
      "1531/1531 [==============================] - 1s 375us/step - loss: 0.2487 - acc: 0.8948 - f1: 0.8921 - val_loss: 1.3936 - val_acc: 0.6257 - val_f1: 0.6204\n",
      "Epoch 19/30\n",
      "1531/1531 [==============================] - 1s 344us/step - loss: 0.2278 - acc: 0.9053 - f1: 0.9108 - val_loss: 1.5404 - val_acc: 0.6199 - val_f1: 0.6210\n",
      "Epoch 20/30\n",
      "1531/1531 [==============================] - 1s 349us/step - loss: 0.2301 - acc: 0.9007 - f1: 0.9027 - val_loss: 1.5068 - val_acc: 0.6212 - val_f1: 0.6168\n",
      "Epoch 21/30\n",
      "1531/1531 [==============================] - 1s 348us/step - loss: 0.2533 - acc: 0.8896 - f1: 0.8908 - val_loss: 1.4552 - val_acc: 0.6270 - val_f1: 0.6228\n",
      "Epoch 22/30\n",
      "1531/1531 [==============================] - 1s 390us/step - loss: 0.2286 - acc: 0.8968 - f1: 0.8998 - val_loss: 1.5698 - val_acc: 0.6277 - val_f1: 0.6275\n",
      "Epoch 23/30\n",
      "1531/1531 [==============================] - 1s 366us/step - loss: 0.2493 - acc: 0.8909 - f1: 0.8961 - val_loss: 1.7068 - val_acc: 0.6264 - val_f1: 0.6261\n",
      "Epoch 24/30\n",
      "1531/1531 [==============================] - 1s 362us/step - loss: 0.2242 - acc: 0.9079 - f1: 0.9025 - val_loss: 1.7694 - val_acc: 0.6231 - val_f1: 0.6168\n",
      "Epoch 25/30\n",
      "1531/1531 [==============================] - 1s 348us/step - loss: 0.2030 - acc: 0.9138 - f1: 0.9143 - val_loss: 1.6860 - val_acc: 0.6238 - val_f1: 0.6213\n",
      "Epoch 26/30\n",
      "1531/1531 [==============================] - 1s 349us/step - loss: 0.2319 - acc: 0.9079 - f1: 0.9073 - val_loss: 1.5022 - val_acc: 0.6342 - val_f1: 0.6293\n",
      "Epoch 27/30\n",
      "1531/1531 [==============================] - 1s 365us/step - loss: 0.2107 - acc: 0.9059 - f1: 0.9074 - val_loss: 1.5943 - val_acc: 0.6159 - val_f1: 0.6129\n",
      "Epoch 28/30\n",
      "1531/1531 [==============================] - 1s 365us/step - loss: 0.2037 - acc: 0.9138 - f1: 0.9188 - val_loss: 1.5592 - val_acc: 0.6355 - val_f1: 0.6310\n",
      "Epoch 29/30\n",
      "1531/1531 [==============================] - 1s 367us/step - loss: 0.1989 - acc: 0.9033 - f1: 0.9075 - val_loss: 1.6063 - val_acc: 0.6238 - val_f1: 0.6212\n",
      "Epoch 30/30\n",
      "1531/1531 [==============================] - 1s 337us/step - loss: 0.1948 - acc: 0.9236 - f1: 0.9207 - val_loss: 1.6724 - val_acc: 0.6140 - val_f1: 0.6102\n"
     ]
    },
    {
     "data": {
      "text/plain": [
       "<keras.callbacks.History at 0x7fb0301eb780>"
      ]
     },
     "execution_count": 68,
     "metadata": {},
     "output_type": "execute_result"
    }
   ],
   "source": [
    "model.fit(en_es_emb, en_es_y, batch_size=32, epochs=30, validation_split=0.5)"
   ]
  },
  {
   "cell_type": "code",
   "execution_count": 70,
   "metadata": {},
   "outputs": [
    {
     "name": "stdout",
     "output_type": "stream",
     "text": [
      "20632/20632 [==============================] - 1s 51us/step\n"
     ]
    },
    {
     "data": {
      "text/plain": [
       "[0.7773272615155771, 0.7766091508336564, 0.7756524383443971]"
      ]
     },
     "execution_count": 70,
     "metadata": {},
     "output_type": "execute_result"
    }
   ],
   "source": [
    "model.evaluate(en_semeval_17_em,en_semeval_17_y)"
   ]
  },
  {
   "cell_type": "markdown",
   "metadata": {},
   "source": [
    "# Load Embedding"
   ]
  },
  {
   "cell_type": "code",
   "execution_count": 20,
   "metadata": {},
   "outputs": [],
   "source": [
    "import io\n",
    "import numpy as np"
   ]
  },
  {
   "cell_type": "code",
   "execution_count": 21,
   "metadata": {},
   "outputs": [],
   "source": [
    "## essential functions\n",
    "def load_vec(emb_path, nmax=50000):\n",
    "    vectors = []\n",
    "    word2id = {}\n",
    "    with io.open(emb_path, 'r', encoding='utf-8', newline='\\n', errors='ignore') as f:\n",
    "        next(f)\n",
    "        for i, line in enumerate(f):\n",
    "            word, vect = line.rstrip().split(' ', 1)\n",
    "            vect = np.fromstring(vect, sep=' ')\n",
    "            assert word not in word2id, 'word found twice'\n",
    "            vectors.append(vect)\n",
    "            word2id[word] = len(word2id)\n",
    "            if len(word2id) == nmax:\n",
    "                break\n",
    "    id2word = {v: k for k, v in word2id.items()}\n",
    "    embeddings = np.vstack(vectors)\n",
    "    return embeddings, id2word, word2id"
   ]
  },
  {
   "cell_type": "code",
   "execution_count": 23,
   "metadata": {},
   "outputs": [],
   "source": [
    "## NEED TO RUN MUSE BEFORE THIS and to get this path\n",
    "# # src_path = '../vendors//MUSE/dumped/debug/4u9hakomha/vectors-en.txt'\n",
    "# tgt_path = '../vendors//MUSE/dumped/debug/4u9hakomha/vectors-es.txt'\n",
    "src_path = '../vendors//MUSE/dumped/6pzywzu6yg/vectors-en.txt'\n",
    "tgt_path = '../vendors//MUSE/dumped/6pzywzu6yg/vectors-es.txt'\n",
    "nmax = 100000  # maximum number of word embeddings to load\n",
    "\n",
    "src_embeddings, src_id2word, src_word2id = load_vec(src_path, nmax)\n",
    "tgt_embeddings, tgt_id2word, tgt_word2id = load_vec(tgt_path, nmax)"
   ]
  },
  {
   "cell_type": "code",
   "execution_count": 24,
   "metadata": {},
   "outputs": [],
   "source": [
    "src_embeddings, src_id2word, src_word2id = load_vec(src_path, nmax)\n",
    "tgt_embeddings, tgt_id2word, tgt_word2id = load_vec(tgt_path, nmax)"
   ]
  },
  {
   "cell_type": "markdown",
   "metadata": {},
   "source": [
    "# Analysis embedding"
   ]
  },
  {
   "cell_type": "code",
   "execution_count": 25,
   "metadata": {},
   "outputs": [],
   "source": [
    "def get_nn(word, src_emb, src_id2word, tgt_emb, tgt_id2word, K=5):\n",
    "    print(\"Nearest neighbors of \\\"%s\\\":\" % word)\n",
    "    word2id = {v: k for k, v in src_id2word.items()}\n",
    "    word_emb = src_emb[word2id[word]]\n",
    "    scores = (tgt_emb / np.linalg.norm(tgt_emb, 2, 1)[:, None]).dot(word_emb / np.linalg.norm(word_emb))\n",
    "    k_best = scores.argsort()[-K:][::-1]\n",
    "    for i, idx in enumerate(k_best):\n",
    "        print('%.4f - %s' % (scores[idx], tgt_id2word[idx]))"
   ]
  },
  {
   "cell_type": "code",
   "execution_count": 26,
   "metadata": {},
   "outputs": [
    {
     "name": "stdout",
     "output_type": "stream",
     "text": [
      "Nearest neighbors of \"cat\":\n",
      "1.0000 - cat\n",
      "0.7322 - cats\n",
      "0.6453 - kitten\n",
      "0.6381 - dog\n",
      "0.6218 - kittens\n"
     ]
    }
   ],
   "source": [
    "# printing nearest neighbors in the source space\n",
    "src_word = 'cat'\n",
    "get_nn(src_word, src_embeddings, src_id2word, src_embeddings, src_id2word, K=5)"
   ]
  },
  {
   "cell_type": "code",
   "execution_count": 27,
   "metadata": {},
   "outputs": [
    {
     "name": "stdout",
     "output_type": "stream",
     "text": [
      "Nearest neighbors of \"cat\":\n",
      "0.6239 - gato\n",
      "0.5517 - perro\n",
      "0.5393 - gatito\n",
      "0.4895 - conejo\n",
      "0.4846 - gorila\n"
     ]
    }
   ],
   "source": [
    "# printing nearest neighbors in the target space\n",
    "src_word = 'cat'\n",
    "get_nn(src_word, src_embeddings, src_id2word, tgt_embeddings, tgt_id2word, K=5)"
   ]
  },
  {
   "cell_type": "code",
   "execution_count": 28,
   "metadata": {},
   "outputs": [
    {
     "data": {
      "text/plain": [
       "(100000, 300)"
      ]
     },
     "execution_count": 28,
     "metadata": {},
     "output_type": "execute_result"
    }
   ],
   "source": [
    "src_embeddings.shape"
   ]
  },
  {
   "cell_type": "markdown",
   "metadata": {},
   "source": [
    "# Merge Embedding"
   ]
  },
  {
   "cell_type": "code",
   "execution_count": 29,
   "metadata": {},
   "outputs": [
    {
     "name": "stderr",
     "output_type": "stream",
     "text": [
      "Using TensorFlow backend.\n"
     ]
    }
   ],
   "source": [
    "from keras.preprocessing import sequence\n",
    "from keras.utils import to_categorical"
   ]
  },
  {
   "cell_type": "code",
   "execution_count": 30,
   "metadata": {},
   "outputs": [],
   "source": [
    "def merge_embeddings(src_embeddings, tgt_embeddings):\n",
    "    \n",
    "    # make combined embedding mattrix\n",
    "    embedding_matrix = src_embeddings.copy().tolist()\n",
    "    embedding_matrix.extend(tgt_embeddings.tolist())\n",
    "    embedding_matrix = np.array(embedding_matrix)\n",
    "    \n",
    "    # make combined id2word and word2id\n",
    "    id2word = src_id2word.copy()\n",
    "    word2id = src_word2id.copy()\n",
    "    \n",
    "    next_id = len(id2word.keys())\n",
    "    counter = len(id2word.keys())\n",
    "    \n",
    "    to_be_removed_id = []\n",
    "    common_words = []\n",
    "    \n",
    "    for key in tgt_id2word:\n",
    "        if tgt_id2word[key] in word2id:\n",
    "            to_be_removed_id.append(counter)\n",
    "            common_words.append(tgt_id2word[key])\n",
    "            embedding_matrix[word2id[tgt_id2word[key]]] =  (embedding_matrix[word2id[tgt_id2word[key]]] + embedding_matrix[counter])/2\n",
    "        else:\n",
    "            id2word[next_id] = tgt_id2word[key]\n",
    "            word2id[tgt_id2word[key]] = next_id\n",
    "            next_id += 1\n",
    "        counter += 1\n",
    "        \n",
    "    embedding_matrix = np.delete(embedding_matrix, to_be_removed_id, axis=0)\n",
    "        \n",
    "    return embedding_matrix, id2word, word2id, common_words"
   ]
  },
  {
   "cell_type": "code",
   "execution_count": 31,
   "metadata": {},
   "outputs": [],
   "source": [
    "embedding_matrix, id2word, word2id, common_words = merge_embeddings(src_embeddings, tgt_embeddings)"
   ]
  },
  {
   "cell_type": "code",
   "execution_count": 32,
   "metadata": {},
   "outputs": [
    {
     "name": "stdout",
     "output_type": "stream",
     "text": [
      "embedding size:  (161832, 300)\n"
     ]
    }
   ],
   "source": [
    "print(\"embedding size: \", str(embedding_matrix.shape))"
   ]
  },
  {
   "cell_type": "code",
   "execution_count": 33,
   "metadata": {},
   "outputs": [
    {
     "name": "stdout",
     "output_type": "stream",
     "text": [
      "Number of common words in both the embedding 38168\n"
     ]
    }
   ],
   "source": [
    "print(\"Number of common words in both the embedding %d\" % len(common_words))"
   ]
  },
  {
   "cell_type": "code",
   "execution_count": 34,
   "metadata": {},
   "outputs": [],
   "source": [
    "# ADD UNK\n",
    "# TODO:"
   ]
  },
  {
   "cell_type": "markdown",
   "metadata": {},
   "source": [
    "# Data Preprocess Part 2"
   ]
  },
  {
   "cell_type": "code",
   "execution_count": 38,
   "metadata": {},
   "outputs": [],
   "source": [
    "from  nltk.stem import SnowballStemmer"
   ]
  },
  {
   "cell_type": "code",
   "execution_count": 39,
   "metadata": {},
   "outputs": [],
   "source": [
    "MAX_SEQUENCE_LENGTH = 20"
   ]
  },
  {
   "cell_type": "code",
   "execution_count": 40,
   "metadata": {},
   "outputs": [],
   "source": [
    "words_not_found = 0\n",
    "def from_datas_to_x_y(list_data, word2id, max_seq_len=20, max_classes=3, seed=0):\n",
    "    stemmer = SnowballStemmer(\"english\")  \n",
    "    words_not_found = 0\n",
    "    def to_x(sample):\n",
    "        global words_not_found\n",
    "        x = []\n",
    "        for word in sample['tokens']:\n",
    "            # lower the word \n",
    "            word = word.lower()\n",
    "            if word in word2id:\n",
    "                x.append(word2id[word]) \n",
    "            else:\n",
    "                stem = stemmer.stem(word) # find stem\n",
    "                if stem in word2id:\n",
    "                    x.append(word2id[stem])\n",
    "                else:\n",
    "                    words_not_found = words_not_found + 1\n",
    "                    pass\n",
    "        return x\n",
    "\n",
    "    def to_x_y(data):\n",
    "        temp =  np.array(list(map(lambda x : [to_x(x), x['sentiment']], data)))\n",
    "        x = list(sequence.pad_sequences(temp[:,0], maxlen=max_seq_len))\n",
    "        y = list(to_categorical(temp[:,1],num_classes=max_classes))\n",
    "        return x, y\n",
    "    \n",
    "    x,y = [],[]\n",
    "    for data in list_data:\n",
    "        x_, y_ = to_x_y(data)\n",
    "        print(\"x: %d \\t y: %d\" % (len(x_),len(y_)))\n",
    "        x.extend(x_)\n",
    "        y.extend(y_)\n",
    "    x = np.array(x)\n",
    "    y = np.array(y)\n",
    "    x,y = shuffle(x, y, replace=True)\n",
    "    \n",
    "    print(\"Not Found words = %f\" % (float(words_not_found)/(x.shape[0])))\n",
    "    return x,y"
   ]
  },
  {
   "cell_type": "code",
   "execution_count": 41,
   "metadata": {},
   "outputs": [],
   "source": [
    "# x_test,y_test = from_datas_to_x_y([en_es_wssa_data],word2id)"
   ]
  },
  {
   "cell_type": "code",
   "execution_count": 45,
   "metadata": {},
   "outputs": [],
   "source": [
    "def evaluate_one(model, x, y):\n",
    "    y_pred = model.predict(x,verbose=0)\n",
    "    print(\"Classification Report\")\n",
    "    print(classification_report(np.argmax(y, axis=1), np.argmax(y_pred,axis=1)))\n",
    "    print(\"Confusion Matrix\")\n",
    "    print(confusion_matrix(np.argmax(y, axis=1), np.argmax(y_pred,axis=1)))\n",
    "def evaluate(model):\n",
    "    print(\"Code Mixed: \")\n",
    "    x_test,y_test = from_datas_to_x_y([en_es_wssa_data],word2id)\n",
    "    evaluate_one(model, x_test, y_test)\n",
    "    \n",
    "    print(\"\\nEnglish: divam\")\n",
    "    x_test,y_test = from_datas_to_x_y([en_twitter_data],word2id)\n",
    "    evaluate_one(model, x_test, y_test)\n",
    "    \n",
    "    print(\"\\nEnglish: semeval\")\n",
    "    x_test,y_test = from_datas_to_x_y([en_semeval_17],word2id)\n",
    "    evaluate_one(model, x_test, y_test)\n",
    "    \n",
    "    print(\"\\nSpanish: 1\")\n",
    "    x_test,y_test = from_datas_to_x_y([es2_twitter_data],word2id)\n",
    "    evaluate_one(model, x_test, y_test)\n",
    "    \n",
    "    print(\"\\nSpanish: 2\")\n",
    "    x_test,y_test = from_datas_to_x_y([es_tass1_data],word2id)\n",
    "    evaluate_one(model, x_test, y_test)"
   ]
  },
  {
   "cell_type": "code",
   "execution_count": 43,
   "metadata": {},
   "outputs": [],
   "source": [
    "# print(x.shape)\n",
    "# print(y.shape)"
   ]
  },
  {
   "cell_type": "markdown",
   "metadata": {},
   "source": [
    "# Base Model"
   ]
  },
  {
   "cell_type": "code",
   "execution_count": 44,
   "metadata": {},
   "outputs": [],
   "source": [
    "from keras.layers import *\n",
    "from keras.models import Sequential"
   ]
  },
  {
   "cell_type": "code",
   "execution_count": 45,
   "metadata": {},
   "outputs": [],
   "source": [
    "#embedding\n",
    "EMBEDDING_DIM = embedding_matrix.shape[1] \n",
    "MAX_NUM_WORDS = embedding_matrix.shape[0]"
   ]
  },
  {
   "cell_type": "code",
   "execution_count": 85,
   "metadata": {},
   "outputs": [],
   "source": [
    "# for cnn_lstm\n",
    "\n",
    "# Convolution\n",
    "kernel_size = 5\n",
    "filters = 64\n",
    "pool_size = 1\n",
    "# lstm\n",
    "lstm_output_size = 70"
   ]
  },
  {
   "cell_type": "code",
   "execution_count": 47,
   "metadata": {},
   "outputs": [],
   "source": [
    "model = Sequential()\n",
    "model.add(Embedding(MAX_NUM_WORDS,\n",
    "                     EMBEDDING_DIM,\n",
    "                     weights=[embedding_matrix],\n",
    "                     input_length=MAX_SEQUENCE_LENGTH,\n",
    "                     trainable=True))\n",
    "# model.add(Dropout(0.2))\n",
    "# model.add(Conv1D(filters,\n",
    "#                  kernel_size,\n",
    "#                  activation='relu',\n",
    "#                  strides=1))\n",
    "# model.add(MaxPooling1D(pool_size=pool_size))\n",
    "# model.add(LSTM(lstm_output_size))\n",
    "model.add(Bidirectional(LSTM(512, dropout=0.3, recurrent_dropout=0.3)))\n",
    "model.add(Dense(3))\n",
    "model.add(Activation('softmax'))\n",
    "\n",
    "model.compile(loss='categorical_crossentropy',\n",
    "              optimizer='adam',\n",
    "              metrics=['accuracy', f1])"
   ]
  },
  {
   "cell_type": "code",
   "execution_count": 48,
   "metadata": {},
   "outputs": [
    {
     "name": "stdout",
     "output_type": "stream",
     "text": [
      "_________________________________________________________________\n",
      "Layer (type)                 Output Shape              Param #   \n",
      "=================================================================\n",
      "embedding_1 (Embedding)      (None, 20, 300)           48549600  \n",
      "_________________________________________________________________\n",
      "bidirectional_1 (Bidirection (None, 1024)              3330048   \n",
      "_________________________________________________________________\n",
      "dense_1 (Dense)              (None, 3)                 3075      \n",
      "_________________________________________________________________\n",
      "activation_1 (Activation)    (None, 3)                 0         \n",
      "=================================================================\n",
      "Total params: 51,882,723\n",
      "Trainable params: 51,882,723\n",
      "Non-trainable params: 0\n",
      "_________________________________________________________________\n"
     ]
    }
   ],
   "source": [
    "model.summary()"
   ]
  },
  {
   "cell_type": "code",
   "execution_count": 99,
   "metadata": {},
   "outputs": [],
   "source": [
    "from keras.callbacks import EarlyStopping, ModelCheckpoint\n",
    "early_stop = EarlyStopping(monitor='val_f1', patience=4, restore_best_weights=True, mode=\"max\", verbose=5)\n",
    "checkpointer = ModelCheckpoint(filepath='weights.{epoch:02d}-{val_f1:.2f}.hdf5', verbose=1, save_best_only=True, save_weights_only=True, monitor='val_f1')"
   ]
  },
  {
   "cell_type": "markdown",
   "metadata": {},
   "source": [
    "# Just english"
   ]
  },
  {
   "cell_type": "code",
   "execution_count": 49,
   "metadata": {},
   "outputs": [
    {
     "name": "stdout",
     "output_type": "stream",
     "text": [
      "x: 20632 \t y: 20632\n",
      "x: 4241 \t y: 4241\n",
      "Not Found words = 0.000000\n"
     ]
    }
   ],
   "source": [
    "x_train, y_train = from_datas_to_x_y([en_semeval_17,en_twitter_data],word2id)"
   ]
  },
  {
   "cell_type": "code",
   "execution_count": 50,
   "metadata": {},
   "outputs": [
    {
     "data": {
      "text/plain": [
       "{0: 0.6743940133398406, 1: 0.9871413263483748, 2: 1.9834928229665072}"
      ]
     },
     "execution_count": 50,
     "metadata": {},
     "output_type": "execute_result"
    }
   ],
   "source": [
    "get_class_weight(y_train)"
   ]
  },
  {
   "cell_type": "code",
   "execution_count": 51,
   "metadata": {
    "scrolled": true
   },
   "outputs": [
    {
     "name": "stdout",
     "output_type": "stream",
     "text": [
      "Train on 17411 samples, validate on 7462 samples\n",
      "Epoch 1/8\n",
      "17411/17411 [==============================] - 28s 2ms/step - loss: 0.8944 - acc: 0.5773 - f1: 0.5176 - val_loss: 0.8849 - val_acc: 0.5821 - val_f1: 0.4813\n",
      "Epoch 2/8\n",
      "17411/17411 [==============================] - 21s 1ms/step - loss: 0.7512 - acc: 0.6614 - f1: 0.6359 - val_loss: 0.7612 - val_acc: 0.6593 - val_f1: 0.6249\n",
      "Epoch 3/8\n",
      "17411/17411 [==============================] - 21s 1ms/step - loss: 0.6359 - acc: 0.7236 - f1: 0.7146 - val_loss: 0.7562 - val_acc: 0.6654 - val_f1: 0.6485\n",
      "Epoch 4/8\n",
      "17411/17411 [==============================] - 21s 1ms/step - loss: 0.5488 - acc: 0.7681 - f1: 0.7632 - val_loss: 0.8585 - val_acc: 0.6600 - val_f1: 0.6554\n",
      "Epoch 5/8\n",
      "17411/17411 [==============================] - 21s 1ms/step - loss: 0.4671 - acc: 0.8084 - f1: 0.8060 - val_loss: 0.8928 - val_acc: 0.6412 - val_f1: 0.6333\n",
      "Epoch 6/8\n",
      "17411/17411 [==============================] - 22s 1ms/step - loss: 0.3699 - acc: 0.8532 - f1: 0.8520 - val_loss: 0.9712 - val_acc: 0.6209 - val_f1: 0.6132\n",
      "Epoch 7/8\n",
      " 7808/17411 [============>.................] - ETA: 10s - loss: 0.2760 - acc: 0.8924 - f1: 0.8931"
     ]
    },
    {
     "ename": "KeyboardInterrupt",
     "evalue": "",
     "output_type": "error",
     "traceback": [
      "\u001b[0;31m---------------------------------------------------------------------------\u001b[0m",
      "\u001b[0;31mKeyboardInterrupt\u001b[0m                         Traceback (most recent call last)",
      "\u001b[0;32m<ipython-input-51-f9ed7c135bfd>\u001b[0m in \u001b[0;36m<module>\u001b[0;34m\u001b[0m\n\u001b[1;32m      3\u001b[0m                     \u001b[0mbatch_size\u001b[0m\u001b[0;34m=\u001b[0m\u001b[0;36m128\u001b[0m\u001b[0;34m,\u001b[0m\u001b[0;34m\u001b[0m\u001b[0m\n\u001b[1;32m      4\u001b[0m                     \u001b[0mvalidation_split\u001b[0m\u001b[0;34m=\u001b[0m\u001b[0;36m0.3\u001b[0m\u001b[0;34m,\u001b[0m\u001b[0;34m\u001b[0m\u001b[0m\n\u001b[0;32m----> 5\u001b[0;31m                     shuffle=True)\n\u001b[0m",
      "\u001b[0;32m/usr/local/lib/python3.5/dist-packages/keras/engine/training.py\u001b[0m in \u001b[0;36mfit\u001b[0;34m(self, x, y, batch_size, epochs, verbose, callbacks, validation_split, validation_data, shuffle, class_weight, sample_weight, initial_epoch, steps_per_epoch, validation_steps, **kwargs)\u001b[0m\n\u001b[1;32m   1037\u001b[0m                                         \u001b[0minitial_epoch\u001b[0m\u001b[0;34m=\u001b[0m\u001b[0minitial_epoch\u001b[0m\u001b[0;34m,\u001b[0m\u001b[0;34m\u001b[0m\u001b[0m\n\u001b[1;32m   1038\u001b[0m                                         \u001b[0msteps_per_epoch\u001b[0m\u001b[0;34m=\u001b[0m\u001b[0msteps_per_epoch\u001b[0m\u001b[0;34m,\u001b[0m\u001b[0;34m\u001b[0m\u001b[0m\n\u001b[0;32m-> 1039\u001b[0;31m                                         validation_steps=validation_steps)\n\u001b[0m\u001b[1;32m   1040\u001b[0m \u001b[0;34m\u001b[0m\u001b[0m\n\u001b[1;32m   1041\u001b[0m     def evaluate(self, x=None, y=None,\n",
      "\u001b[0;32m/usr/local/lib/python3.5/dist-packages/keras/engine/training_arrays.py\u001b[0m in \u001b[0;36mfit_loop\u001b[0;34m(model, f, ins, out_labels, batch_size, epochs, verbose, callbacks, val_f, val_ins, shuffle, callback_metrics, initial_epoch, steps_per_epoch, validation_steps)\u001b[0m\n\u001b[1;32m    197\u001b[0m                     \u001b[0mins_batch\u001b[0m\u001b[0;34m[\u001b[0m\u001b[0mi\u001b[0m\u001b[0;34m]\u001b[0m \u001b[0;34m=\u001b[0m \u001b[0mins_batch\u001b[0m\u001b[0;34m[\u001b[0m\u001b[0mi\u001b[0m\u001b[0;34m]\u001b[0m\u001b[0;34m.\u001b[0m\u001b[0mtoarray\u001b[0m\u001b[0;34m(\u001b[0m\u001b[0;34m)\u001b[0m\u001b[0;34m\u001b[0m\u001b[0m\n\u001b[1;32m    198\u001b[0m \u001b[0;34m\u001b[0m\u001b[0m\n\u001b[0;32m--> 199\u001b[0;31m                 \u001b[0mouts\u001b[0m \u001b[0;34m=\u001b[0m \u001b[0mf\u001b[0m\u001b[0;34m(\u001b[0m\u001b[0mins_batch\u001b[0m\u001b[0;34m)\u001b[0m\u001b[0;34m\u001b[0m\u001b[0m\n\u001b[0m\u001b[1;32m    200\u001b[0m                 \u001b[0mouts\u001b[0m \u001b[0;34m=\u001b[0m \u001b[0mto_list\u001b[0m\u001b[0;34m(\u001b[0m\u001b[0mouts\u001b[0m\u001b[0;34m)\u001b[0m\u001b[0;34m\u001b[0m\u001b[0m\n\u001b[1;32m    201\u001b[0m                 \u001b[0;32mfor\u001b[0m \u001b[0ml\u001b[0m\u001b[0;34m,\u001b[0m \u001b[0mo\u001b[0m \u001b[0;32min\u001b[0m \u001b[0mzip\u001b[0m\u001b[0;34m(\u001b[0m\u001b[0mout_labels\u001b[0m\u001b[0;34m,\u001b[0m \u001b[0mouts\u001b[0m\u001b[0;34m)\u001b[0m\u001b[0;34m:\u001b[0m\u001b[0;34m\u001b[0m\u001b[0m\n",
      "\u001b[0;32m/usr/local/lib/python3.5/dist-packages/keras/backend/tensorflow_backend.py\u001b[0m in \u001b[0;36m__call__\u001b[0;34m(self, inputs)\u001b[0m\n\u001b[1;32m   2713\u001b[0m                 \u001b[0;32mreturn\u001b[0m \u001b[0mself\u001b[0m\u001b[0;34m.\u001b[0m\u001b[0m_legacy_call\u001b[0m\u001b[0;34m(\u001b[0m\u001b[0minputs\u001b[0m\u001b[0;34m)\u001b[0m\u001b[0;34m\u001b[0m\u001b[0m\n\u001b[1;32m   2714\u001b[0m \u001b[0;34m\u001b[0m\u001b[0m\n\u001b[0;32m-> 2715\u001b[0;31m             \u001b[0;32mreturn\u001b[0m \u001b[0mself\u001b[0m\u001b[0;34m.\u001b[0m\u001b[0m_call\u001b[0m\u001b[0;34m(\u001b[0m\u001b[0minputs\u001b[0m\u001b[0;34m)\u001b[0m\u001b[0;34m\u001b[0m\u001b[0m\n\u001b[0m\u001b[1;32m   2716\u001b[0m         \u001b[0;32melse\u001b[0m\u001b[0;34m:\u001b[0m\u001b[0;34m\u001b[0m\u001b[0m\n\u001b[1;32m   2717\u001b[0m             \u001b[0;32mif\u001b[0m \u001b[0mpy_any\u001b[0m\u001b[0;34m(\u001b[0m\u001b[0mis_tensor\u001b[0m\u001b[0;34m(\u001b[0m\u001b[0mx\u001b[0m\u001b[0;34m)\u001b[0m \u001b[0;32mfor\u001b[0m \u001b[0mx\u001b[0m \u001b[0;32min\u001b[0m \u001b[0minputs\u001b[0m\u001b[0;34m)\u001b[0m\u001b[0;34m:\u001b[0m\u001b[0;34m\u001b[0m\u001b[0m\n",
      "\u001b[0;32m/usr/local/lib/python3.5/dist-packages/keras/backend/tensorflow_backend.py\u001b[0m in \u001b[0;36m_call\u001b[0;34m(self, inputs)\u001b[0m\n\u001b[1;32m   2673\u001b[0m             \u001b[0mfetched\u001b[0m \u001b[0;34m=\u001b[0m \u001b[0mself\u001b[0m\u001b[0;34m.\u001b[0m\u001b[0m_callable_fn\u001b[0m\u001b[0;34m(\u001b[0m\u001b[0;34m*\u001b[0m\u001b[0marray_vals\u001b[0m\u001b[0;34m,\u001b[0m \u001b[0mrun_metadata\u001b[0m\u001b[0;34m=\u001b[0m\u001b[0mself\u001b[0m\u001b[0;34m.\u001b[0m\u001b[0mrun_metadata\u001b[0m\u001b[0;34m)\u001b[0m\u001b[0;34m\u001b[0m\u001b[0m\n\u001b[1;32m   2674\u001b[0m         \u001b[0;32melse\u001b[0m\u001b[0;34m:\u001b[0m\u001b[0;34m\u001b[0m\u001b[0m\n\u001b[0;32m-> 2675\u001b[0;31m             \u001b[0mfetched\u001b[0m \u001b[0;34m=\u001b[0m \u001b[0mself\u001b[0m\u001b[0;34m.\u001b[0m\u001b[0m_callable_fn\u001b[0m\u001b[0;34m(\u001b[0m\u001b[0;34m*\u001b[0m\u001b[0marray_vals\u001b[0m\u001b[0;34m)\u001b[0m\u001b[0;34m\u001b[0m\u001b[0m\n\u001b[0m\u001b[1;32m   2676\u001b[0m         \u001b[0;32mreturn\u001b[0m \u001b[0mfetched\u001b[0m\u001b[0;34m[\u001b[0m\u001b[0;34m:\u001b[0m\u001b[0mlen\u001b[0m\u001b[0;34m(\u001b[0m\u001b[0mself\u001b[0m\u001b[0;34m.\u001b[0m\u001b[0moutputs\u001b[0m\u001b[0;34m)\u001b[0m\u001b[0;34m]\u001b[0m\u001b[0;34m\u001b[0m\u001b[0m\n\u001b[1;32m   2677\u001b[0m \u001b[0;34m\u001b[0m\u001b[0m\n",
      "\u001b[0;32m/usr/local/lib/python3.5/dist-packages/tensorflow/python/client/session.py\u001b[0m in \u001b[0;36m__call__\u001b[0;34m(self, *args, **kwargs)\u001b[0m\n\u001b[1;32m   1437\u001b[0m           ret = tf_session.TF_SessionRunCallable(\n\u001b[1;32m   1438\u001b[0m               \u001b[0mself\u001b[0m\u001b[0;34m.\u001b[0m\u001b[0m_session\u001b[0m\u001b[0;34m.\u001b[0m\u001b[0m_session\u001b[0m\u001b[0;34m,\u001b[0m \u001b[0mself\u001b[0m\u001b[0;34m.\u001b[0m\u001b[0m_handle\u001b[0m\u001b[0;34m,\u001b[0m \u001b[0margs\u001b[0m\u001b[0;34m,\u001b[0m \u001b[0mstatus\u001b[0m\u001b[0;34m,\u001b[0m\u001b[0;34m\u001b[0m\u001b[0m\n\u001b[0;32m-> 1439\u001b[0;31m               run_metadata_ptr)\n\u001b[0m\u001b[1;32m   1440\u001b[0m         \u001b[0;32mif\u001b[0m \u001b[0mrun_metadata\u001b[0m\u001b[0;34m:\u001b[0m\u001b[0;34m\u001b[0m\u001b[0m\n\u001b[1;32m   1441\u001b[0m           \u001b[0mproto_data\u001b[0m \u001b[0;34m=\u001b[0m \u001b[0mtf_session\u001b[0m\u001b[0;34m.\u001b[0m\u001b[0mTF_GetBuffer\u001b[0m\u001b[0;34m(\u001b[0m\u001b[0mrun_metadata_ptr\u001b[0m\u001b[0;34m)\u001b[0m\u001b[0;34m\u001b[0m\u001b[0m\n",
      "\u001b[0;31mKeyboardInterrupt\u001b[0m: "
     ]
    }
   ],
   "source": [
    "history = model.fit(x_train , y_train, \n",
    "                    epochs=8, \n",
    "                    batch_size=128,\n",
    "                    validation_split=0.3, \n",
    "                    shuffle=True)"
   ]
  },
  {
   "cell_type": "code",
   "execution_count": 52,
   "metadata": {
    "scrolled": true
   },
   "outputs": [
    {
     "name": "stdout",
     "output_type": "stream",
     "text": [
      "Code Mixed: \n",
      "x: 3062 \t y: 3062\n",
      "Not Found words = 0.000000\n",
      "Classification Report\n",
      "              precision    recall  f1-score   support\n",
      "\n",
      "           0       0.49      0.70      0.57      1313\n",
      "           1       0.55      0.41      0.47       963\n",
      "           2       0.52      0.31      0.38       786\n",
      "\n",
      "   micro avg       0.51      0.51      0.51      3062\n",
      "   macro avg       0.52      0.47      0.48      3062\n",
      "weighted avg       0.51      0.51      0.49      3062\n",
      "\n",
      "Confusion Matrix\n",
      "[[913 237 163]\n",
      " [505 396  62]\n",
      " [454  92 240]]\n",
      "\n",
      "English: divam\n",
      "x: 4241 \t y: 4241\n",
      "Not Found words = 0.000000\n",
      "Classification Report\n",
      "              precision    recall  f1-score   support\n",
      "\n",
      "           0       0.82      0.86      0.84      1952\n",
      "           1       0.81      0.85      0.83      1340\n",
      "           2       0.86      0.71      0.78       949\n",
      "\n",
      "   micro avg       0.82      0.82      0.82      4241\n",
      "   macro avg       0.83      0.81      0.82      4241\n",
      "weighted avg       0.83      0.82      0.82      4241\n",
      "\n",
      "Confusion Matrix\n",
      "[[1677  197   78]\n",
      " [ 172 1139   29]\n",
      " [ 198   76  675]]\n",
      "\n",
      "English: semeval\n",
      "x: 20632 \t y: 20632\n",
      "Not Found words = 0.000000\n",
      "Classification Report\n",
      "              precision    recall  f1-score   support\n",
      "\n",
      "           0       0.84      0.88      0.86     10342\n",
      "           1       0.85      0.84      0.84      7059\n",
      "           2       0.84      0.75      0.79      3231\n",
      "\n",
      "   micro avg       0.84      0.84      0.84     20632\n",
      "   macro avg       0.84      0.82      0.83     20632\n",
      "weighted avg       0.84      0.84      0.84     20632\n",
      "\n",
      "Confusion Matrix\n",
      "[[9056  912  374]\n",
      " [1031 5944   84]\n",
      " [ 657  157 2417]]\n",
      "\n",
      "Spanish: 1\n",
      "x: 3202 \t y: 3202\n",
      "Not Found words = 0.000000\n",
      "Classification Report\n",
      "              precision    recall  f1-score   support\n",
      "\n",
      "           0       0.39      0.91      0.55      1192\n",
      "           1       0.66      0.15      0.24      1087\n",
      "           2       0.55      0.12      0.19       923\n",
      "\n",
      "   micro avg       0.42      0.42      0.42      3202\n",
      "   macro avg       0.53      0.39      0.33      3202\n",
      "weighted avg       0.53      0.42      0.34      3202\n",
      "\n",
      "Confusion Matrix\n",
      "[[1079   58   55]\n",
      " [ 894  159   34]\n",
      " [ 790   25  108]]\n",
      "\n",
      "Spanish: 2\n",
      "x: 7217 \t y: 7217\n",
      "Not Found words = 0.000000\n",
      "Classification Report\n",
      "              precision    recall  f1-score   support\n",
      "\n",
      "           0       0.32      0.94      0.47      2152\n",
      "           1       0.81      0.13      0.23      2883\n",
      "           2       0.67      0.10      0.17      2182\n",
      "\n",
      "   micro avg       0.36      0.36      0.36      7217\n",
      "   macro avg       0.60      0.39      0.29      7217\n",
      "weighted avg       0.62      0.36      0.28      7217\n",
      "\n",
      "Confusion Matrix\n",
      "[[2029   75   48]\n",
      " [2445  378   60]\n",
      " [1953   14  215]]\n"
     ]
    }
   ],
   "source": [
    "evaluate(model)"
   ]
  },
  {
   "cell_type": "markdown",
   "metadata": {},
   "source": [
    "# Just Spanish"
   ]
  },
  {
   "cell_type": "code",
   "execution_count": 53,
   "metadata": {},
   "outputs": [
    {
     "name": "stdout",
     "output_type": "stream",
     "text": [
      "x: 7217 \t y: 7217\n",
      "x: 3202 \t y: 3202\n",
      "Not Found words = 0.000000\n"
     ]
    }
   ],
   "source": [
    "x_train_es, y_train_es =  from_datas_to_x_y([es_tass1_data, es2_twitter_data], word2id=word2id)"
   ]
  },
  {
   "cell_type": "code",
   "execution_count": 54,
   "metadata": {},
   "outputs": [
    {
     "data": {
      "text/plain": [
       "{0: 1.0385765550239234, 1: 0.8748110831234257, 2: 1.1185185185185185}"
      ]
     },
     "execution_count": 54,
     "metadata": {},
     "output_type": "execute_result"
    }
   ],
   "source": [
    "get_class_weight(y_train_es)"
   ]
  },
  {
   "cell_type": "code",
   "execution_count": 55,
   "metadata": {
    "scrolled": true
   },
   "outputs": [
    {
     "name": "stdout",
     "output_type": "stream",
     "text": [
      "Train on 9377 samples, validate on 1042 samples\n",
      "Epoch 1/10\n",
      "9377/9377 [==============================] - 11s 1ms/step - loss: 0.9773 - acc: 0.5555 - f1: 0.4848 - val_loss: 0.8473 - val_acc: 0.6161 - val_f1: 0.5543\n",
      "Epoch 2/10\n",
      "9377/9377 [==============================] - 11s 1ms/step - loss: 0.6006 - acc: 0.7534 - f1: 0.7399 - val_loss: 0.9064 - val_acc: 0.6065 - val_f1: 0.5822\n",
      "Epoch 3/10\n",
      "9377/9377 [==============================] - 11s 1ms/step - loss: 0.3773 - acc: 0.8582 - f1: 0.8561 - val_loss: 1.1155 - val_acc: 0.5806 - val_f1: 0.5737\n",
      "Epoch 4/10\n",
      "5120/9377 [===============>..............] - ETA: 4s - loss: 0.2226 - acc: 0.9184 - f1: 0.9193"
     ]
    },
    {
     "ename": "KeyboardInterrupt",
     "evalue": "",
     "output_type": "error",
     "traceback": [
      "\u001b[0;31m---------------------------------------------------------------------------\u001b[0m",
      "\u001b[0;31mKeyboardInterrupt\u001b[0m                         Traceback (most recent call last)",
      "\u001b[0;32m<ipython-input-55-44ab79a55924>\u001b[0m in \u001b[0;36m<module>\u001b[0;34m\u001b[0m\n\u001b[1;32m      3\u001b[0m                     \u001b[0mbatch_size\u001b[0m\u001b[0;34m=\u001b[0m\u001b[0;36m128\u001b[0m\u001b[0;34m,\u001b[0m\u001b[0;34m\u001b[0m\u001b[0m\n\u001b[1;32m      4\u001b[0m                     \u001b[0mvalidation_split\u001b[0m\u001b[0;34m=\u001b[0m\u001b[0;36m0.1\u001b[0m\u001b[0;34m,\u001b[0m\u001b[0;34m\u001b[0m\u001b[0m\n\u001b[0;32m----> 5\u001b[0;31m                     shuffle=True)\n\u001b[0m",
      "\u001b[0;32m/usr/local/lib/python3.5/dist-packages/keras/engine/training.py\u001b[0m in \u001b[0;36mfit\u001b[0;34m(self, x, y, batch_size, epochs, verbose, callbacks, validation_split, validation_data, shuffle, class_weight, sample_weight, initial_epoch, steps_per_epoch, validation_steps, **kwargs)\u001b[0m\n\u001b[1;32m   1037\u001b[0m                                         \u001b[0minitial_epoch\u001b[0m\u001b[0;34m=\u001b[0m\u001b[0minitial_epoch\u001b[0m\u001b[0;34m,\u001b[0m\u001b[0;34m\u001b[0m\u001b[0m\n\u001b[1;32m   1038\u001b[0m                                         \u001b[0msteps_per_epoch\u001b[0m\u001b[0;34m=\u001b[0m\u001b[0msteps_per_epoch\u001b[0m\u001b[0;34m,\u001b[0m\u001b[0;34m\u001b[0m\u001b[0m\n\u001b[0;32m-> 1039\u001b[0;31m                                         validation_steps=validation_steps)\n\u001b[0m\u001b[1;32m   1040\u001b[0m \u001b[0;34m\u001b[0m\u001b[0m\n\u001b[1;32m   1041\u001b[0m     def evaluate(self, x=None, y=None,\n",
      "\u001b[0;32m/usr/local/lib/python3.5/dist-packages/keras/engine/training_arrays.py\u001b[0m in \u001b[0;36mfit_loop\u001b[0;34m(model, f, ins, out_labels, batch_size, epochs, verbose, callbacks, val_f, val_ins, shuffle, callback_metrics, initial_epoch, steps_per_epoch, validation_steps)\u001b[0m\n\u001b[1;32m    197\u001b[0m                     \u001b[0mins_batch\u001b[0m\u001b[0;34m[\u001b[0m\u001b[0mi\u001b[0m\u001b[0;34m]\u001b[0m \u001b[0;34m=\u001b[0m \u001b[0mins_batch\u001b[0m\u001b[0;34m[\u001b[0m\u001b[0mi\u001b[0m\u001b[0;34m]\u001b[0m\u001b[0;34m.\u001b[0m\u001b[0mtoarray\u001b[0m\u001b[0;34m(\u001b[0m\u001b[0;34m)\u001b[0m\u001b[0;34m\u001b[0m\u001b[0m\n\u001b[1;32m    198\u001b[0m \u001b[0;34m\u001b[0m\u001b[0m\n\u001b[0;32m--> 199\u001b[0;31m                 \u001b[0mouts\u001b[0m \u001b[0;34m=\u001b[0m \u001b[0mf\u001b[0m\u001b[0;34m(\u001b[0m\u001b[0mins_batch\u001b[0m\u001b[0;34m)\u001b[0m\u001b[0;34m\u001b[0m\u001b[0m\n\u001b[0m\u001b[1;32m    200\u001b[0m                 \u001b[0mouts\u001b[0m \u001b[0;34m=\u001b[0m \u001b[0mto_list\u001b[0m\u001b[0;34m(\u001b[0m\u001b[0mouts\u001b[0m\u001b[0;34m)\u001b[0m\u001b[0;34m\u001b[0m\u001b[0m\n\u001b[1;32m    201\u001b[0m                 \u001b[0;32mfor\u001b[0m \u001b[0ml\u001b[0m\u001b[0;34m,\u001b[0m \u001b[0mo\u001b[0m \u001b[0;32min\u001b[0m \u001b[0mzip\u001b[0m\u001b[0;34m(\u001b[0m\u001b[0mout_labels\u001b[0m\u001b[0;34m,\u001b[0m \u001b[0mouts\u001b[0m\u001b[0;34m)\u001b[0m\u001b[0;34m:\u001b[0m\u001b[0;34m\u001b[0m\u001b[0m\n",
      "\u001b[0;32m/usr/local/lib/python3.5/dist-packages/keras/backend/tensorflow_backend.py\u001b[0m in \u001b[0;36m__call__\u001b[0;34m(self, inputs)\u001b[0m\n\u001b[1;32m   2713\u001b[0m                 \u001b[0;32mreturn\u001b[0m \u001b[0mself\u001b[0m\u001b[0;34m.\u001b[0m\u001b[0m_legacy_call\u001b[0m\u001b[0;34m(\u001b[0m\u001b[0minputs\u001b[0m\u001b[0;34m)\u001b[0m\u001b[0;34m\u001b[0m\u001b[0m\n\u001b[1;32m   2714\u001b[0m \u001b[0;34m\u001b[0m\u001b[0m\n\u001b[0;32m-> 2715\u001b[0;31m             \u001b[0;32mreturn\u001b[0m \u001b[0mself\u001b[0m\u001b[0;34m.\u001b[0m\u001b[0m_call\u001b[0m\u001b[0;34m(\u001b[0m\u001b[0minputs\u001b[0m\u001b[0;34m)\u001b[0m\u001b[0;34m\u001b[0m\u001b[0m\n\u001b[0m\u001b[1;32m   2716\u001b[0m         \u001b[0;32melse\u001b[0m\u001b[0;34m:\u001b[0m\u001b[0;34m\u001b[0m\u001b[0m\n\u001b[1;32m   2717\u001b[0m             \u001b[0;32mif\u001b[0m \u001b[0mpy_any\u001b[0m\u001b[0;34m(\u001b[0m\u001b[0mis_tensor\u001b[0m\u001b[0;34m(\u001b[0m\u001b[0mx\u001b[0m\u001b[0;34m)\u001b[0m \u001b[0;32mfor\u001b[0m \u001b[0mx\u001b[0m \u001b[0;32min\u001b[0m \u001b[0minputs\u001b[0m\u001b[0;34m)\u001b[0m\u001b[0;34m:\u001b[0m\u001b[0;34m\u001b[0m\u001b[0m\n",
      "\u001b[0;32m/usr/local/lib/python3.5/dist-packages/keras/backend/tensorflow_backend.py\u001b[0m in \u001b[0;36m_call\u001b[0;34m(self, inputs)\u001b[0m\n\u001b[1;32m   2673\u001b[0m             \u001b[0mfetched\u001b[0m \u001b[0;34m=\u001b[0m \u001b[0mself\u001b[0m\u001b[0;34m.\u001b[0m\u001b[0m_callable_fn\u001b[0m\u001b[0;34m(\u001b[0m\u001b[0;34m*\u001b[0m\u001b[0marray_vals\u001b[0m\u001b[0;34m,\u001b[0m \u001b[0mrun_metadata\u001b[0m\u001b[0;34m=\u001b[0m\u001b[0mself\u001b[0m\u001b[0;34m.\u001b[0m\u001b[0mrun_metadata\u001b[0m\u001b[0;34m)\u001b[0m\u001b[0;34m\u001b[0m\u001b[0m\n\u001b[1;32m   2674\u001b[0m         \u001b[0;32melse\u001b[0m\u001b[0;34m:\u001b[0m\u001b[0;34m\u001b[0m\u001b[0m\n\u001b[0;32m-> 2675\u001b[0;31m             \u001b[0mfetched\u001b[0m \u001b[0;34m=\u001b[0m \u001b[0mself\u001b[0m\u001b[0;34m.\u001b[0m\u001b[0m_callable_fn\u001b[0m\u001b[0;34m(\u001b[0m\u001b[0;34m*\u001b[0m\u001b[0marray_vals\u001b[0m\u001b[0;34m)\u001b[0m\u001b[0;34m\u001b[0m\u001b[0m\n\u001b[0m\u001b[1;32m   2676\u001b[0m         \u001b[0;32mreturn\u001b[0m \u001b[0mfetched\u001b[0m\u001b[0;34m[\u001b[0m\u001b[0;34m:\u001b[0m\u001b[0mlen\u001b[0m\u001b[0;34m(\u001b[0m\u001b[0mself\u001b[0m\u001b[0;34m.\u001b[0m\u001b[0moutputs\u001b[0m\u001b[0;34m)\u001b[0m\u001b[0;34m]\u001b[0m\u001b[0;34m\u001b[0m\u001b[0m\n\u001b[1;32m   2677\u001b[0m \u001b[0;34m\u001b[0m\u001b[0m\n",
      "\u001b[0;32m/usr/local/lib/python3.5/dist-packages/tensorflow/python/client/session.py\u001b[0m in \u001b[0;36m__call__\u001b[0;34m(self, *args, **kwargs)\u001b[0m\n\u001b[1;32m   1437\u001b[0m           ret = tf_session.TF_SessionRunCallable(\n\u001b[1;32m   1438\u001b[0m               \u001b[0mself\u001b[0m\u001b[0;34m.\u001b[0m\u001b[0m_session\u001b[0m\u001b[0;34m.\u001b[0m\u001b[0m_session\u001b[0m\u001b[0;34m,\u001b[0m \u001b[0mself\u001b[0m\u001b[0;34m.\u001b[0m\u001b[0m_handle\u001b[0m\u001b[0;34m,\u001b[0m \u001b[0margs\u001b[0m\u001b[0;34m,\u001b[0m \u001b[0mstatus\u001b[0m\u001b[0;34m,\u001b[0m\u001b[0;34m\u001b[0m\u001b[0m\n\u001b[0;32m-> 1439\u001b[0;31m               run_metadata_ptr)\n\u001b[0m\u001b[1;32m   1440\u001b[0m         \u001b[0;32mif\u001b[0m \u001b[0mrun_metadata\u001b[0m\u001b[0;34m:\u001b[0m\u001b[0;34m\u001b[0m\u001b[0m\n\u001b[1;32m   1441\u001b[0m           \u001b[0mproto_data\u001b[0m \u001b[0;34m=\u001b[0m \u001b[0mtf_session\u001b[0m\u001b[0;34m.\u001b[0m\u001b[0mTF_GetBuffer\u001b[0m\u001b[0;34m(\u001b[0m\u001b[0mrun_metadata_ptr\u001b[0m\u001b[0;34m)\u001b[0m\u001b[0;34m\u001b[0m\u001b[0m\n",
      "\u001b[0;31mKeyboardInterrupt\u001b[0m: "
     ]
    }
   ],
   "source": [
    "history = model.fit(x_train_es, y_train_es, \n",
    "                    epochs=10, \n",
    "                    batch_size=128, \n",
    "                    validation_split=0.1, \n",
    "                    shuffle=True)"
   ]
  },
  {
   "cell_type": "code",
   "execution_count": 56,
   "metadata": {},
   "outputs": [
    {
     "name": "stdout",
     "output_type": "stream",
     "text": [
      "Code Mixed: \n",
      "x: 3062 \t y: 3062\n",
      "Not Found words = 0.000000\n",
      "Classification Report\n",
      "              precision    recall  f1-score   support\n",
      "\n",
      "           0       0.54      0.50      0.52      1313\n",
      "           1       0.49      0.58      0.53       963\n",
      "           2       0.49      0.43      0.46       786\n",
      "\n",
      "   micro avg       0.51      0.51      0.51      3062\n",
      "   macro avg       0.50      0.50      0.50      3062\n",
      "weighted avg       0.51      0.51      0.51      3062\n",
      "\n",
      "Confusion Matrix\n",
      "[[662 417 234]\n",
      " [291 556 116]\n",
      " [279 172 335]]\n",
      "\n",
      "English: divam\n",
      "x: 4241 \t y: 4241\n",
      "Not Found words = 0.000000\n",
      "Classification Report\n",
      "              precision    recall  f1-score   support\n",
      "\n",
      "           0       0.80      0.79      0.80      1952\n",
      "           1       0.74      0.86      0.79      1340\n",
      "           2       0.84      0.67      0.75       949\n",
      "\n",
      "   micro avg       0.79      0.79      0.79      4241\n",
      "   macro avg       0.79      0.77      0.78      4241\n",
      "weighted avg       0.79      0.79      0.78      4241\n",
      "\n",
      "Confusion Matrix\n",
      "[[1541  320   91]\n",
      " [ 160 1151   29]\n",
      " [ 216   93  640]]\n",
      "\n",
      "English: semeval\n",
      "x: 20632 \t y: 20632\n",
      "Not Found words = 0.000000\n",
      "Classification Report\n",
      "              precision    recall  f1-score   support\n",
      "\n",
      "           0       0.84      0.80      0.82     10342\n",
      "           1       0.78      0.85      0.81      7059\n",
      "           2       0.80      0.73      0.76      3231\n",
      "\n",
      "   micro avg       0.81      0.81      0.81     20632\n",
      "   macro avg       0.80      0.80      0.80     20632\n",
      "weighted avg       0.81      0.81      0.81     20632\n",
      "\n",
      "Confusion Matrix\n",
      "[[8318 1521  503]\n",
      " [ 940 6018  101]\n",
      " [ 689  188 2354]]\n",
      "\n",
      "Spanish: 1\n",
      "x: 3202 \t y: 3202\n",
      "Not Found words = 0.000000\n",
      "Classification Report\n",
      "              precision    recall  f1-score   support\n",
      "\n",
      "           0       0.83      0.91      0.86      1192\n",
      "           1       0.88      0.87      0.88      1087\n",
      "           2       0.93      0.83      0.88       923\n",
      "\n",
      "   micro avg       0.87      0.87      0.87      3202\n",
      "   macro avg       0.88      0.87      0.87      3202\n",
      "weighted avg       0.88      0.87      0.87      3202\n",
      "\n",
      "Confusion Matrix\n",
      "[[1080   80   32]\n",
      " [ 114  949   24]\n",
      " [ 115   44  764]]\n",
      "\n",
      "Spanish: 2\n",
      "x: 7217 \t y: 7217\n",
      "Not Found words = 0.000000\n",
      "Classification Report\n",
      "              precision    recall  f1-score   support\n",
      "\n",
      "           0       0.87      0.92      0.90      2152\n",
      "           1       0.95      0.92      0.93      2883\n",
      "           2       0.95      0.93      0.94      2182\n",
      "\n",
      "   micro avg       0.92      0.92      0.92      7217\n",
      "   macro avg       0.92      0.92      0.92      7217\n",
      "weighted avg       0.93      0.92      0.92      7217\n",
      "\n",
      "Confusion Matrix\n",
      "[[1985  105   62]\n",
      " [ 177 2654   52]\n",
      " [ 112   37 2033]]\n"
     ]
    }
   ],
   "source": [
    "evaluate(model)"
   ]
  },
  {
   "cell_type": "markdown",
   "metadata": {},
   "source": [
    "## Both English and Spanish"
   ]
  },
  {
   "cell_type": "code",
   "execution_count": 57,
   "metadata": {},
   "outputs": [
    {
     "name": "stdout",
     "output_type": "stream",
     "text": [
      "x: 4241 \t y: 4241\n",
      "x: 20632 \t y: 20632\n",
      "x: 3202 \t y: 3202\n",
      "x: 7217 \t y: 7217\n",
      "Not Found words = 0.000000\n"
     ]
    }
   ],
   "source": [
    "x_train_both, y_train_both = from_datas_to_x_y([en_twitter_data, en_semeval_17, es2_twitter_data, es_tass1_data],word2id)"
   ]
  },
  {
   "cell_type": "code",
   "execution_count": 58,
   "metadata": {},
   "outputs": [
    {
     "name": "stdout",
     "output_type": "stream",
     "text": [
      "x: 3062 \t y: 3062\n",
      "Not Found words = 0.000000\n"
     ]
    }
   ],
   "source": [
    "x_test,y_test = from_datas_to_x_y([en_es_wssa_data],word2id)"
   ]
  },
  {
   "cell_type": "code",
   "execution_count": 59,
   "metadata": {},
   "outputs": [
    {
     "name": "stdout",
     "output_type": "stream",
     "text": [
      "Train on 35292 samples, validate on 3062 samples\n",
      "Epoch 1/10\n",
      "35292/35292 [==============================] - 40s 1ms/step - loss: 0.4548 - acc: 0.8275 - f1: 0.8261 - val_loss: 1.1764 - val_acc: 0.5206 - val_f1: 0.5062\n",
      "Epoch 2/10\n",
      "35292/35292 [==============================] - 41s 1ms/step - loss: 0.3077 - acc: 0.8844 - f1: 0.8844 - val_loss: 1.4464 - val_acc: 0.5039 - val_f1: 0.4923\n",
      "Epoch 3/10\n",
      " 6272/35292 [====>.........................] - ETA: 31s - loss: 0.2118 - acc: 0.9235 - f1: 0.9228"
     ]
    },
    {
     "ename": "KeyboardInterrupt",
     "evalue": "",
     "output_type": "error",
     "traceback": [
      "\u001b[0;31m---------------------------------------------------------------------------\u001b[0m",
      "\u001b[0;31mKeyboardInterrupt\u001b[0m                         Traceback (most recent call last)",
      "\u001b[0;32m<ipython-input-59-49680dd338d4>\u001b[0m in \u001b[0;36m<module>\u001b[0;34m\u001b[0m\n\u001b[1;32m      3\u001b[0m           \u001b[0mbatch_size\u001b[0m\u001b[0;34m=\u001b[0m\u001b[0;36m128\u001b[0m\u001b[0;34m,\u001b[0m\u001b[0;34m\u001b[0m\u001b[0m\n\u001b[1;32m      4\u001b[0m           \u001b[0mepochs\u001b[0m\u001b[0;34m=\u001b[0m\u001b[0;36m10\u001b[0m\u001b[0;34m,\u001b[0m\u001b[0;34m\u001b[0m\u001b[0m\n\u001b[0;32m----> 5\u001b[0;31m           shuffle=True)\n\u001b[0m",
      "\u001b[0;32m/usr/local/lib/python3.5/dist-packages/keras/engine/training.py\u001b[0m in \u001b[0;36mfit\u001b[0;34m(self, x, y, batch_size, epochs, verbose, callbacks, validation_split, validation_data, shuffle, class_weight, sample_weight, initial_epoch, steps_per_epoch, validation_steps, **kwargs)\u001b[0m\n\u001b[1;32m   1037\u001b[0m                                         \u001b[0minitial_epoch\u001b[0m\u001b[0;34m=\u001b[0m\u001b[0minitial_epoch\u001b[0m\u001b[0;34m,\u001b[0m\u001b[0;34m\u001b[0m\u001b[0m\n\u001b[1;32m   1038\u001b[0m                                         \u001b[0msteps_per_epoch\u001b[0m\u001b[0;34m=\u001b[0m\u001b[0msteps_per_epoch\u001b[0m\u001b[0;34m,\u001b[0m\u001b[0;34m\u001b[0m\u001b[0m\n\u001b[0;32m-> 1039\u001b[0;31m                                         validation_steps=validation_steps)\n\u001b[0m\u001b[1;32m   1040\u001b[0m \u001b[0;34m\u001b[0m\u001b[0m\n\u001b[1;32m   1041\u001b[0m     def evaluate(self, x=None, y=None,\n",
      "\u001b[0;32m/usr/local/lib/python3.5/dist-packages/keras/engine/training_arrays.py\u001b[0m in \u001b[0;36mfit_loop\u001b[0;34m(model, f, ins, out_labels, batch_size, epochs, verbose, callbacks, val_f, val_ins, shuffle, callback_metrics, initial_epoch, steps_per_epoch, validation_steps)\u001b[0m\n\u001b[1;32m    197\u001b[0m                     \u001b[0mins_batch\u001b[0m\u001b[0;34m[\u001b[0m\u001b[0mi\u001b[0m\u001b[0;34m]\u001b[0m \u001b[0;34m=\u001b[0m \u001b[0mins_batch\u001b[0m\u001b[0;34m[\u001b[0m\u001b[0mi\u001b[0m\u001b[0;34m]\u001b[0m\u001b[0;34m.\u001b[0m\u001b[0mtoarray\u001b[0m\u001b[0;34m(\u001b[0m\u001b[0;34m)\u001b[0m\u001b[0;34m\u001b[0m\u001b[0m\n\u001b[1;32m    198\u001b[0m \u001b[0;34m\u001b[0m\u001b[0m\n\u001b[0;32m--> 199\u001b[0;31m                 \u001b[0mouts\u001b[0m \u001b[0;34m=\u001b[0m \u001b[0mf\u001b[0m\u001b[0;34m(\u001b[0m\u001b[0mins_batch\u001b[0m\u001b[0;34m)\u001b[0m\u001b[0;34m\u001b[0m\u001b[0m\n\u001b[0m\u001b[1;32m    200\u001b[0m                 \u001b[0mouts\u001b[0m \u001b[0;34m=\u001b[0m \u001b[0mto_list\u001b[0m\u001b[0;34m(\u001b[0m\u001b[0mouts\u001b[0m\u001b[0;34m)\u001b[0m\u001b[0;34m\u001b[0m\u001b[0m\n\u001b[1;32m    201\u001b[0m                 \u001b[0;32mfor\u001b[0m \u001b[0ml\u001b[0m\u001b[0;34m,\u001b[0m \u001b[0mo\u001b[0m \u001b[0;32min\u001b[0m \u001b[0mzip\u001b[0m\u001b[0;34m(\u001b[0m\u001b[0mout_labels\u001b[0m\u001b[0;34m,\u001b[0m \u001b[0mouts\u001b[0m\u001b[0;34m)\u001b[0m\u001b[0;34m:\u001b[0m\u001b[0;34m\u001b[0m\u001b[0m\n",
      "\u001b[0;32m/usr/local/lib/python3.5/dist-packages/keras/backend/tensorflow_backend.py\u001b[0m in \u001b[0;36m__call__\u001b[0;34m(self, inputs)\u001b[0m\n\u001b[1;32m   2713\u001b[0m                 \u001b[0;32mreturn\u001b[0m \u001b[0mself\u001b[0m\u001b[0;34m.\u001b[0m\u001b[0m_legacy_call\u001b[0m\u001b[0;34m(\u001b[0m\u001b[0minputs\u001b[0m\u001b[0;34m)\u001b[0m\u001b[0;34m\u001b[0m\u001b[0m\n\u001b[1;32m   2714\u001b[0m \u001b[0;34m\u001b[0m\u001b[0m\n\u001b[0;32m-> 2715\u001b[0;31m             \u001b[0;32mreturn\u001b[0m \u001b[0mself\u001b[0m\u001b[0;34m.\u001b[0m\u001b[0m_call\u001b[0m\u001b[0;34m(\u001b[0m\u001b[0minputs\u001b[0m\u001b[0;34m)\u001b[0m\u001b[0;34m\u001b[0m\u001b[0m\n\u001b[0m\u001b[1;32m   2716\u001b[0m         \u001b[0;32melse\u001b[0m\u001b[0;34m:\u001b[0m\u001b[0;34m\u001b[0m\u001b[0m\n\u001b[1;32m   2717\u001b[0m             \u001b[0;32mif\u001b[0m \u001b[0mpy_any\u001b[0m\u001b[0;34m(\u001b[0m\u001b[0mis_tensor\u001b[0m\u001b[0;34m(\u001b[0m\u001b[0mx\u001b[0m\u001b[0;34m)\u001b[0m \u001b[0;32mfor\u001b[0m \u001b[0mx\u001b[0m \u001b[0;32min\u001b[0m \u001b[0minputs\u001b[0m\u001b[0;34m)\u001b[0m\u001b[0;34m:\u001b[0m\u001b[0;34m\u001b[0m\u001b[0m\n",
      "\u001b[0;32m/usr/local/lib/python3.5/dist-packages/keras/backend/tensorflow_backend.py\u001b[0m in \u001b[0;36m_call\u001b[0;34m(self, inputs)\u001b[0m\n\u001b[1;32m   2673\u001b[0m             \u001b[0mfetched\u001b[0m \u001b[0;34m=\u001b[0m \u001b[0mself\u001b[0m\u001b[0;34m.\u001b[0m\u001b[0m_callable_fn\u001b[0m\u001b[0;34m(\u001b[0m\u001b[0;34m*\u001b[0m\u001b[0marray_vals\u001b[0m\u001b[0;34m,\u001b[0m \u001b[0mrun_metadata\u001b[0m\u001b[0;34m=\u001b[0m\u001b[0mself\u001b[0m\u001b[0;34m.\u001b[0m\u001b[0mrun_metadata\u001b[0m\u001b[0;34m)\u001b[0m\u001b[0;34m\u001b[0m\u001b[0m\n\u001b[1;32m   2674\u001b[0m         \u001b[0;32melse\u001b[0m\u001b[0;34m:\u001b[0m\u001b[0;34m\u001b[0m\u001b[0m\n\u001b[0;32m-> 2675\u001b[0;31m             \u001b[0mfetched\u001b[0m \u001b[0;34m=\u001b[0m \u001b[0mself\u001b[0m\u001b[0;34m.\u001b[0m\u001b[0m_callable_fn\u001b[0m\u001b[0;34m(\u001b[0m\u001b[0;34m*\u001b[0m\u001b[0marray_vals\u001b[0m\u001b[0;34m)\u001b[0m\u001b[0;34m\u001b[0m\u001b[0m\n\u001b[0m\u001b[1;32m   2676\u001b[0m         \u001b[0;32mreturn\u001b[0m \u001b[0mfetched\u001b[0m\u001b[0;34m[\u001b[0m\u001b[0;34m:\u001b[0m\u001b[0mlen\u001b[0m\u001b[0;34m(\u001b[0m\u001b[0mself\u001b[0m\u001b[0;34m.\u001b[0m\u001b[0moutputs\u001b[0m\u001b[0;34m)\u001b[0m\u001b[0;34m]\u001b[0m\u001b[0;34m\u001b[0m\u001b[0m\n\u001b[1;32m   2677\u001b[0m \u001b[0;34m\u001b[0m\u001b[0m\n",
      "\u001b[0;32m/usr/local/lib/python3.5/dist-packages/tensorflow/python/client/session.py\u001b[0m in \u001b[0;36m__call__\u001b[0;34m(self, *args, **kwargs)\u001b[0m\n\u001b[1;32m   1437\u001b[0m           ret = tf_session.TF_SessionRunCallable(\n\u001b[1;32m   1438\u001b[0m               \u001b[0mself\u001b[0m\u001b[0;34m.\u001b[0m\u001b[0m_session\u001b[0m\u001b[0;34m.\u001b[0m\u001b[0m_session\u001b[0m\u001b[0;34m,\u001b[0m \u001b[0mself\u001b[0m\u001b[0;34m.\u001b[0m\u001b[0m_handle\u001b[0m\u001b[0;34m,\u001b[0m \u001b[0margs\u001b[0m\u001b[0;34m,\u001b[0m \u001b[0mstatus\u001b[0m\u001b[0;34m,\u001b[0m\u001b[0;34m\u001b[0m\u001b[0m\n\u001b[0;32m-> 1439\u001b[0;31m               run_metadata_ptr)\n\u001b[0m\u001b[1;32m   1440\u001b[0m         \u001b[0;32mif\u001b[0m \u001b[0mrun_metadata\u001b[0m\u001b[0;34m:\u001b[0m\u001b[0;34m\u001b[0m\u001b[0m\n\u001b[1;32m   1441\u001b[0m           \u001b[0mproto_data\u001b[0m \u001b[0;34m=\u001b[0m \u001b[0mtf_session\u001b[0m\u001b[0;34m.\u001b[0m\u001b[0mTF_GetBuffer\u001b[0m\u001b[0;34m(\u001b[0m\u001b[0mrun_metadata_ptr\u001b[0m\u001b[0;34m)\u001b[0m\u001b[0;34m\u001b[0m\u001b[0m\n",
      "\u001b[0;31mKeyboardInterrupt\u001b[0m: "
     ]
    }
   ],
   "source": [
    "model.fit(x_train_both,y_train_both,\n",
    "          validation_data=(x_test,y_test),\n",
    "          batch_size=128,\n",
    "          epochs=10,\n",
    "          shuffle=True)"
   ]
  },
  {
   "cell_type": "code",
   "execution_count": null,
   "metadata": {},
   "outputs": [],
   "source": [
    "evaluate(model)"
   ]
  },
  {
   "cell_type": "markdown",
   "metadata": {},
   "source": [
    "# Cross-Lingual"
   ]
  },
  {
   "cell_type": "code",
   "execution_count": null,
   "metadata": {},
   "outputs": [],
   "source": []
  },
  {
   "cell_type": "code",
   "execution_count": 118,
   "metadata": {},
   "outputs": [],
   "source": []
  },
  {
   "cell_type": "code",
   "execution_count": 119,
   "metadata": {},
   "outputs": [],
   "source": []
  },
  {
   "cell_type": "code",
   "execution_count": null,
   "metadata": {},
   "outputs": [],
   "source": []
  },
  {
   "cell_type": "code",
   "execution_count": 125,
   "metadata": {},
   "outputs": [],
   "source": []
  },
  {
   "cell_type": "code",
   "execution_count": 126,
   "metadata": {},
   "outputs": [],
   "source": []
  },
  {
   "cell_type": "code",
   "execution_count": null,
   "metadata": {},
   "outputs": [],
   "source": []
  },
  {
   "cell_type": "code",
   "execution_count": 129,
   "metadata": {},
   "outputs": [],
   "source": []
  },
  {
   "cell_type": "code",
   "execution_count": 53,
   "metadata": {},
   "outputs": [],
   "source": [
    "def plot_history(history):\n",
    "    print(history.history.keys())\n",
    "    # summarize history for accuracy\n",
    "    plt.plot(history.history['acc'])\n",
    "    plt.plot(history.history['val_acc'])\n",
    "    plt.title('model accuracy')\n",
    "    plt.ylabel('accuracy')\n",
    "    plt.xlabel('epoch')\n",
    "    plt.legend(['train', 'test'], loc='upper left')\n",
    "    plt.show()\n",
    "    # summarize history for loss\n",
    "    plt.plot(history.history['loss'])\n",
    "    plt.plot(history.history['val_loss'])\n",
    "    plt.title('model loss')\n",
    "    plt.ylabel('loss')\n",
    "    plt.xlabel('epoch')\n",
    "    plt.legend(['train', 'test'], loc='upper left')\n",
    "    plt.show()\n",
    "    \n",
    "    plt.plot(history.history['f1'])\n",
    "    plt.plot(history.history['val_f1'])\n",
    "    plt.title('model accuracy')\n",
    "    plt.ylabel('f1')\n",
    "    plt.xlabel('epoch')\n",
    "    plt.legend(['train', 'test'], loc='upper left')\n",
    "    plt.show()"
   ]
  },
  {
   "cell_type": "code",
   "execution_count": 54,
   "metadata": {},
   "outputs": [],
   "source": [
    "from keras import backend as K\n",
    "\n",
    "\n",
    "def f1(y_true, y_pred):\n",
    "    def recall(y_true, y_pred):\n",
    "        \"\"\"Recall metric.\n",
    "        Only computes a batch-wise average of recall.\n",
    "        Computes the recall, a metric for multi-label classification of\n",
    "        how many relevant items are selected.\n",
    "        \"\"\"\n",
    "        true_positives = K.sum(K.round(K.clip(y_true * y_pred, 0, 1)))\n",
    "        possible_positives = K.sum(K.round(K.clip(y_true, 0, 1)))\n",
    "        recall = true_positives / (possible_positives + K.epsilon())\n",
    "        return recall\n",
    "\n",
    "    def precision(y_true, y_pred):\n",
    "        \"\"\"Precision metric.\n",
    "        Only computes a batch-wise average of precision.\n",
    "        Computes the precision, a metric for multi-label classification of\n",
    "        how many selected items are relevant.\n",
    "        \"\"\"\n",
    "        true_positives = K.sum(K.round(K.clip(y_true * y_pred, 0, 1)))\n",
    "        predicted_positives = K.sum(K.round(K.clip(y_pred, 0, 1)))\n",
    "        precision = true_positives / (predicted_positives + K.epsilon())\n",
    "        return precision\n",
    "\n",
    "    precision = precision(y_true, y_pred)\n",
    "    recall = recall(y_true, y_pred)\n",
    "    return 2 * ((precision * recall) / (precision + recall + K.epsilon()))"
   ]
  },
  {
   "cell_type": "code",
   "execution_count": 55,
   "metadata": {},
   "outputs": [],
   "source": [
    "from collections import Counter\n",
    "from sklearn.utils.class_weight import compute_class_weight\n",
    "def get_class_weight(y):\n",
    "    \"\"\"\n",
    "    Used from: https://stackoverflow.com/a/50695814\n",
    "    TODO: check validity and 'balanced' option\n",
    "    :param y: A list of one-hot-encoding labels [[0,0,1,0],[0,0,0,1],..]\n",
    "    :return: class-weights to be used by keras model.fit(.. class_weight=\"\") -> {0:0.52134, 1:1.adas..}\n",
    "    \"\"\"\n",
    "    y_integers = np.argmax(y, axis=1)\n",
    "    class_weights = compute_class_weight('balanced', np.unique(y_integers), y_integers)\n",
    "    d_class_weights = dict(enumerate(class_weights))\n",
    "    return d_class_weights"
   ]
  },
  {
   "cell_type": "code",
   "execution_count": 41,
   "metadata": {},
   "outputs": [],
   "source": [
    "# doesn't work"
   ]
  },
  {
   "cell_type": "code",
   "execution_count": 29,
   "metadata": {},
   "outputs": [],
   "source": [
    "from dlblocks import text\n",
    "from dlblocks.pyutils import mapArrays , loadJson , saveJson , selectKeys , oneHotVec , padList\n",
    "from dlblocks.pyutils import int64Arr , floatArr"
   ]
  },
  {
   "cell_type": "code",
   "execution_count": null,
   "metadata": {},
   "outputs": [],
   "source": [
    "vocab = text.Vocabulary()\n",
    "\n",
    "for d in es_tass1_data + en_es_wssa_data + en_twitter_data + es2_twitter_data :\n",
    "    vocab.add_words( d['tokens']  )\n",
    "\n",
    "    \n",
    "vocab.keepTopK(25000)\n",
    "\n",
    "\n",
    "\n",
    "maxSentenceL = 150\n",
    "\n",
    "def vecc( d ):\n",
    "    ret = {}\n",
    "    words   = d['tokens']\n",
    "    wordids = map( vocab , words )\n",
    "    ret['sentence'] = int64Arr( padList( wordids , maxSentenceL , 0 , 'left') )\n",
    "    ret['sentiment_val'] =  floatArr( d['sentiment'] )\n",
    "    ret['sentiment_id'] =  int64Arr( d['sentiment'] + 1 )\n",
    "    ret['sentiment_onehot'] =  floatArr( oneHotVec( d['sentiment']+1 , 3  ) )\n",
    "\n",
    "    return ret\n",
    "\n",
    "\n",
    "\n",
    "\n",
    "\n",
    "en_es_wssa_data_train_arr = mapArrays( en_es_wssa_data_train , vecc )\n",
    "en_es_wssa_data_test_arr = mapArrays( en_es_wssa_data_test , vecc )\n",
    "\n",
    "en_twitter_data_train_arr = mapArrays( en_twitter_data , vecc )\n",
    "es_tass1_datatrain_arr = mapArrays( es_tass1_data , vecc )\n",
    "\n",
    "datasets = {\"en_es_wssa_data_train_arr\":en_es_wssa_data_train_arr ,\n",
    "           \"en_es_wssa_data_test_arr\":en_es_wssa_data_test_arr ,\n",
    "           \"en_twitter_data_train_arr\":en_twitter_data_train_arr ,\n",
    "           \"es_tass1_datatrain_arr\": es_tass1_datatrain_arr }\n",
    "\n",
    "\n",
    "\n",
    "outFNN = \"../data/senti_prepped.h5\"\n",
    "\n",
    "f = h5py.File(outFNN , \"w\")\n",
    "for kk in datasets.keys():\n",
    "    f.create_group( kk  )\n",
    "    for k in datasets[kk].keys():\n",
    "        f[ kk ].create_dataset( k , data=datasets[kk][k] )\n",
    "\n",
    "print \"HDF5 file created !\""
   ]
  }
 ],
 "metadata": {
  "kernelspec": {
   "display_name": "Python 3",
   "language": "python",
   "name": "python3"
  },
  "language_info": {
   "codemirror_mode": {
    "name": "ipython",
    "version": 3
   },
   "file_extension": ".py",
   "mimetype": "text/x-python",
   "name": "python",
   "nbconvert_exporter": "python",
   "pygments_lexer": "ipython3",
   "version": "3.5.2"
  }
 },
 "nbformat": 4,
 "nbformat_minor": 2
}

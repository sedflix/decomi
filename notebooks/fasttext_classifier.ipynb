{
 "cells": [
  {
   "cell_type": "code",
   "execution_count": 115,
   "metadata": {},
   "outputs": [],
   "source": [
    "# include useful folders\n",
    "import sys\n",
    "\n",
    "import os\n",
    "os.environ[\"CUDA_VISIBLE_DEVICES\"]=\"\"\n",
    "\n",
    "sys.path.append(\"../vendors/mtl_girnet/data_prep/\")\n",
    "\n",
    "import json\n",
    "import h5py\n",
    "import numpy as np\n",
    "import glob\n",
    "import random\n",
    "import pandas as pd\n",
    "import re\n",
    "from sklearn.utils import shuffle\n",
    "from sklearn.metrics import classification_report, confusion_matrix\n",
    "from matplotlib import pyplot as plt\n",
    "\n",
    "# nltk\n",
    "import nltk\n",
    "\n",
    "# tokenizer\n",
    "from twokenize import tokenizeRawTweetText as tokenize\n",
    "\n",
    "# for a particular dataset\n",
    "from xml.dom import minidom"
   ]
  },
  {
   "cell_type": "code",
   "execution_count": 116,
   "metadata": {},
   "outputs": [
    {
     "name": "stdout",
     "output_type": "stream",
     "text": [
      "Code-Mixed: en_es_wssa_data: 3062\n",
      "Spanish: es2_twitter_data: 3202\n",
      "Spanish: es_tass1_data: 7217\n",
      "English: en_twitter_data: 4241\n"
     ]
    }
   ],
   "source": [
    "\n",
    "### SemEval 2017 Task A\n",
    "\n",
    "df = pd.read_csv(\"../data/datastories-semeval2017-task4/dataset/Subtask_A/4A-English/SemEval2017-task4-dev.subtask-A.english.INPUT.txt\", sep=\"\\t\", header=None)\n",
    "\n",
    "decode_map = {\"negative\": -1, \"neutral\": 0, \"positive\": 1}\n",
    "\n",
    "df[1] = df[1].apply(lambda x: decode_map[x])\n",
    "df[2] = df[2].apply(lambda x: tokenize(x))\n",
    "\n",
    "data = map( lambda x :{'sentiment': x[1] , 'tokens': x[2] , 'text': ' '.join(x[2])} , df.to_numpy() )\n",
    "\n",
    "en_semeval_17 = list(data)\n",
    "\n",
    "\n",
    "### English-Spanish Code Mixed Data \n",
    "\n",
    "sents = {\"N\":-1 , \"P\" :1 , \"NONE\":0}\n",
    "\n",
    "data = open(\"../vendors/mtl_girnet/data_prep/data_cm_senti/cs-corpus-with-tweets_train.txt\", encoding='utf-8').read().split(\"\\n\") \n",
    "data = map( lambda x : x.split(\"\\t\") , data )\n",
    "data = map( lambda x :{'sentiment': sents[x[1]] , 'tokens': tokenize(x[2]) , 'text': x[2] } , data )\n",
    "en_es_wssa_data_train = list(data)\n",
    "\n",
    "data = open(\"../vendors/mtl_girnet/data_prep/data_cm_senti/cs-corpus-with-tweets_test.txt\", encoding='utf-8').read().split(\"\\n\") \n",
    "data = map( lambda x : x.split(\"\\t\") , data )\n",
    "data = map( lambda x :{'sentiment': sents[x[1]] , 'tokens': tokenize(x[2]) , 'text': x[2] } , data )\n",
    "en_es_wssa_data_test = list(data)\n",
    "\n",
    "en_es_wssa_data = list(en_es_wssa_data_train) + list(en_es_wssa_data_test)\n",
    "\n",
    "### Spanish Tweet Dataset\n",
    "\n",
    "xmldoc = minidom.parse(\"../vendors/mtl_girnet/data_prep/data_cm_senti/general-tweets-train-tagged.xml\")\n",
    "tweets = xmldoc.getElementsByTagName('tweet')\n",
    "\n",
    "sents = {\"N\":-1 , \"P\" :1 , \"NEU\":0 , 'NONE':0 , \"P+\" : 1 , \"N+\":-1 }\n",
    "\n",
    "\n",
    "es_tass1_data = []\n",
    "\n",
    "for i in range( len(tweets)-1) :\n",
    "    if i == 6055:\n",
    "        continue # bad jogar\n",
    "    textt = tweets[i].getElementsByTagName('content')[0].childNodes[0].data\n",
    "    words = tokenize( textt )\n",
    "    sentiment = tweets[i].getElementsByTagName('polarity')[0].getElementsByTagName('value')[0].childNodes[0].data\n",
    "    assert len(tweets[i].getElementsByTagName('polarity')[0].getElementsByTagName('entity'))==0\n",
    "    es_tass1_data.append({'text':textt , 'tokens':words , 'sentiment': sents[sentiment] })\n",
    "\n",
    "### Some english tweet data\n",
    "\n",
    "data = open(\"../vendors/mtl_girnet/data_prep/data_cm_senti/twitter4242.txt\", \"r\", encoding=\"utf-8\",errors='ignore').read().split(\"\\n\")[1:-1]\n",
    "data = map( lambda x : x.split(\"\\t\") , data )\n",
    "data = map( lambda x :{'sentiment': int(np.sign(int(x[0])-int(x[1]))) , 'tokens': tokenize(x[2]) , 'text': x[2] } , data )\n",
    "\n",
    "en_twitter_data = list(data)\n",
    "\n",
    "### es2_twitter_data\n",
    "\n",
    "data = open(\"../vendors/mtl_girnet/data_prep/data_cm_senti/1600_tweets_dev_complete.txt\", encoding=\"utf-8\").read().split(\"\\n\")[1:-1]\n",
    "data += open(\"../vendors/mtl_girnet/data_prep/data_cm_senti/1600_tweets_test_average_complete.tsv\", encoding=\"utf-8\").read().split(\"\\n\")[1:-2]\n",
    "\n",
    "data = map( lambda x : x.split(\"\\t\") , data )\n",
    "data = map( lambda x :{'sentiment': int(np.sign(int(x[0])-int(x[1]))) , 'tokens': tokenize(x[2]) , 'text': x[2] } , data )\n",
    "\n",
    "es2_twitter_data = list(data)\n",
    "\n",
    "def get_y(data):\n",
    "    from keras.utils import to_categorical\n",
    "    y = []\n",
    "    for row in data:\n",
    "        y.append(int(row['sentiment']))\n",
    "    y = to_categorical(y,num_classes=3)\n",
    "    return y\n",
    "\n",
    "\n",
    "print(\"Code-Mixed: en_es_wssa_data: %d\" % len(en_es_wssa_data))\n",
    "print(\"Spanish: es2_twitter_data: %d\" % len(es2_twitter_data))\n",
    "print(\"Spanish: es_tass1_data: %d\" % len(es_tass1_data))\n",
    "print(\"English: en_twitter_data: %d\" % len(en_twitter_data))\n",
    "# print(\"English: en_sentiment140: %d\" %len(en_sentiment140))\n",
    "en_es_y =  get_y(en_es_wssa_data)\n",
    "en_es_y_train =  get_y(en_es_wssa_data_train)\n",
    "en_es_y_test =  get_y(en_es_wssa_data_test)\n",
    "es_twitter_y = get_y(es2_twitter_data)\n",
    "es_tass_y = get_y(es_tass1_data)\n",
    "en_twitter_y = get_y(en_twitter_data)\n",
    "en_semeval_17_y = get_y(en_semeval_17)\n",
    "# en_sentiment140_y = get_y(en_sentiment140)"
   ]
  },
  {
   "cell_type": "code",
   "execution_count": 117,
   "metadata": {},
   "outputs": [],
   "source": [
    "from keras import backend as K\n",
    "\n",
    "\n",
    "def f1(y_true, y_pred):\n",
    "    def recall(y_true, y_pred):\n",
    "        \"\"\"Recall metric.\n",
    "        Only computes a batch-wise average of recall.\n",
    "        Computes the recall, a metric for multi-label classification of\n",
    "        how many relevant items are selected.\n",
    "        \"\"\"\n",
    "        true_positives = K.sum(K.round(K.clip(y_true * y_pred, 0, 1)))\n",
    "        possible_positives = K.sum(K.round(K.clip(y_true, 0, 1)))\n",
    "        recall = true_positives / (possible_positives + K.epsilon())\n",
    "        return recall\n",
    "\n",
    "    def precision(y_true, y_pred):\n",
    "        \"\"\"Precision metric.\n",
    "        Only computes a batch-wise average of precision.\n",
    "        Computes the precision, a metric for multi-label classification of\n",
    "        how many selected items are relevant.\n",
    "        \"\"\"\n",
    "        true_positives = K.sum(K.round(K.clip(y_true * y_pred, 0, 1)))\n",
    "        predicted_positives = K.sum(K.round(K.clip(y_pred, 0, 1)))\n",
    "        precision = true_positives / (predicted_positives + K.epsilon())\n",
    "        return precision\n",
    "\n",
    "    precision = precision(y_true, y_pred)\n",
    "    recall = recall(y_true, y_pred)\n",
    "    return 2 * ((precision * recall) / (precision + recall + K.epsilon()))\n",
    "from collections import Counter\n",
    "from sklearn.utils.class_weight import compute_class_weight\n",
    "def get_class_weight(y):\n",
    "    \"\"\"\n",
    "    Used from: https://stackoverflow.com/a/50695814\n",
    "    TODO: check validity and 'balanced' option\n",
    "    :param y: A list of one-hot-encoding labels [[0,0,1,0],[0,0,0,1],..]\n",
    "    :return: class-weights to be used by keras model.fit(.. class_weight=\"\") -> {0:0.52134, 1:1.adas..}\n",
    "    \"\"\"\n",
    "    y_integers = np.argmax(y, axis=1)\n",
    "    class_weights = compute_class_weight('balanced', np.unique(y_integers), y_integers)\n",
    "    d_class_weights = dict(enumerate(class_weights))\n",
    "    return d_class_weights"
   ]
  },
  {
   "cell_type": "code",
   "execution_count": 119,
   "metadata": {},
   "outputs": [],
   "source": [
    "# ! pip install bpemb"
   ]
  },
  {
   "cell_type": "code",
   "execution_count": 1,
   "metadata": {},
   "outputs": [
    {
     "name": "stderr",
     "output_type": "stream",
     "text": [
      "paramiko missing, opening SSH/SCP/SFTP paths will be disabled.  `pip install paramiko` to suppress\n"
     ]
    }
   ],
   "source": [
    "from bpemb import BPEmb\n",
    "multibpemb = BPEmb(lang=\"multi\", vs=1000000, dim=300)"
   ]
  },
  {
   "cell_type": "code",
   "execution_count": null,
   "metadata": {},
   "outputs": [],
   "source": [
    "multibpemb."
   ]
  },
  {
   "cell_type": "code",
   "execution_count": 125,
   "metadata": {},
   "outputs": [
    {
     "data": {
      "text/plain": [
       "(3, 300)"
      ]
     },
     "execution_count": 125,
     "metadata": {},
     "output_type": "execute_result"
    }
   ],
   "source": [
    "multibpemb.embed(\"sup dfsdg\").shape"
   ]
  },
  {
   "cell_type": "code",
   "execution_count": 127,
   "metadata": {},
   "outputs": [],
   "source": [
    "max_len = 32\n",
    "zero_vector = [0 for _ in range(300)]\n",
    "def get_x(data_):\n",
    "    x_  = []\n",
    "    for sent in data_:\n",
    "        pred = list(multibpemb.embed(sent['text']))\n",
    "        if len(pred) >= 32:\n",
    "            pred = pred[:32]\n",
    "        else:\n",
    "            counter = len(pred)\n",
    "            while counter < max_len:\n",
    "                pred.append(zero_vector)\n",
    "                counter = counter + 1\n",
    "        x_.append(pred)\n",
    "    return np.array(x_)\n",
    "en_es_x =  get_x(en_es_wssa_data)\n",
    "es_twitter_x = get_x(es2_twitter_data)\n",
    "es_tass_x = get_x(es_tass1_data)\n",
    "en_twitter_x = get_x(en_twitter_data)\n",
    "en_semeval_17_x = get_x(en_semeval_17)\n",
    "en_es_x_train =  get_x(en_es_wssa_data_train)\n",
    "en_es_x_test =  get_x(en_es_wssa_data_test)"
   ]
  },
  {
   "cell_type": "code",
   "execution_count": 26,
   "metadata": {},
   "outputs": [],
   "source": [
    "import fasttext"
   ]
  },
  {
   "cell_type": "code",
   "execution_count": 27,
   "metadata": {},
   "outputs": [
    {
     "name": "stderr",
     "output_type": "stream",
     "text": [
      "\n"
     ]
    }
   ],
   "source": [
    "embed = fasttext.load_model('../vendors/language-models/all_p_fasttext.bin')"
   ]
  },
  {
   "cell_type": "code",
   "execution_count": 101,
   "metadata": {},
   "outputs": [],
   "source": [
    "max_len = 32\n",
    "zero_vector = [0 for _ in range(100)]\n",
    "def get_x(data_):\n",
    "#     x_  = []\n",
    "#     for sent in data_:\n",
    "#         x_.append(embed.get_sentence_vector(sent['text'].replace(\"\\n\",\" \")))\n",
    "#     return np.array(x_)\n",
    "    x_  = []\n",
    "    for sent in data_:\n",
    "        tokenised = fasttext.tokenize(sent['text'])\n",
    "        sent_vector = []\n",
    "        counter = 0\n",
    "        for token in tokenised:\n",
    "            if counter >= max_len:\n",
    "                break\n",
    "            else:\n",
    "                sent_vector.append(embed[token])\n",
    "                counter = counter + 1\n",
    "        \n",
    "        if counter < max_len:\n",
    "            sent_vector.append(embed['</s>'])\n",
    "            counter = counter + 1\n",
    "                               \n",
    "        while counter < max_len:\n",
    "            sent_vector.append(zero_vector)\n",
    "            counter = counter + 1\n",
    "            \n",
    "        x_.append(sent_vector)\n",
    "        \n",
    "    return np.array(x_)\n",
    "\n",
    "en_es_x =  get_x(en_es_wssa_data)\n",
    "es_twitter_x = get_x(es2_twitter_data)\n",
    "es_tass_x = get_x(es_tass1_data)\n",
    "en_twitter_x = get_x(en_twitter_data)\n",
    "en_semeval_17_x = get_x(en_semeval_17)\n",
    "en_es_x_train =  get_x(en_es_wssa_data_train)\n",
    "en_es_x_test =  get_x(en_es_wssa_data_test)"
   ]
  },
  {
   "cell_type": "code",
   "execution_count": null,
   "metadata": {},
   "outputs": [],
   "source": []
  },
  {
   "cell_type": "code",
   "execution_count": 129,
   "metadata": {},
   "outputs": [],
   "source": [
    "from keras.layers import *\n",
    "from keras.models import Sequential\n",
    "from keras.preprocessing import sequence"
   ]
  },
  {
   "cell_type": "code",
   "execution_count": 38,
   "metadata": {},
   "outputs": [],
   "source": [
    "model = Sequential()\n",
    "model.add(Dense(50, input_shape=(100,)))\n",
    "model.add(Dense(3, activation='softmax'))\n",
    "model.compile(loss='categorical_crossentropy', optimizer='adam',metrics=['accuracy', f1])"
   ]
  },
  {
   "cell_type": "code",
   "execution_count": 130,
   "metadata": {},
   "outputs": [],
   "source": [
    "model = Sequential()\n",
    "model.add(LSTM(150, dropout=0.3, input_shape=(32, 300), recurrent_dropout=0.3))\n",
    "model.add(Dense(3))\n",
    "model.add(Activation('softmax'))\n",
    "\n",
    "model.compile(loss='categorical_crossentropy',\n",
    "              optimizer='adam',\n",
    "              metrics=['accuracy', f1])"
   ]
  },
  {
   "cell_type": "code",
   "execution_count": 131,
   "metadata": {},
   "outputs": [
    {
     "name": "stdout",
     "output_type": "stream",
     "text": [
      "Train on 3392 samples, validate on 849 samples\n",
      "Epoch 1/10\n",
      "3392/3392 [==============================] - 11s 3ms/step - loss: 1.0226 - acc: 0.4634 - f1: 0.3069 - val_loss: 0.9533 - val_acc: 0.5159 - val_f1: 0.4085\n",
      "Epoch 2/10\n",
      "3392/3392 [==============================] - 7s 2ms/step - loss: 0.9663 - acc: 0.5150 - f1: 0.3896 - val_loss: 0.9205 - val_acc: 0.5300 - val_f1: 0.4216\n",
      "Epoch 3/10\n",
      "3392/3392 [==============================] - 7s 2ms/step - loss: 0.9358 - acc: 0.5501 - f1: 0.4251 - val_loss: 0.8772 - val_acc: 0.5665 - val_f1: 0.5142\n",
      "Epoch 4/10\n",
      "3392/3392 [==============================] - 7s 2ms/step - loss: 0.9070 - acc: 0.5699 - f1: 0.4694 - val_loss: 0.9140 - val_acc: 0.5147 - val_f1: 0.4526\n",
      "Epoch 5/10\n",
      "3392/3392 [==============================] - 6s 2ms/step - loss: 0.8769 - acc: 0.5846 - f1: 0.5054 - val_loss: 0.8557 - val_acc: 0.5901 - val_f1: 0.4936\n",
      "Epoch 6/10\n",
      "3392/3392 [==============================] - 4s 1ms/step - loss: 0.8498 - acc: 0.6212 - f1: 0.5494 - val_loss: 0.8406 - val_acc: 0.5901 - val_f1: 0.5407\n",
      "Epoch 7/10\n",
      "3392/3392 [==============================] - 4s 1ms/step - loss: 0.8193 - acc: 0.6427 - f1: 0.5830 - val_loss: 0.8498 - val_acc: 0.6019 - val_f1: 0.5462\n",
      "Epoch 8/10\n",
      "3392/3392 [==============================] - 5s 1ms/step - loss: 0.7927 - acc: 0.6483 - f1: 0.6073 - val_loss: 0.8916 - val_acc: 0.5442 - val_f1: 0.5116\n",
      "Epoch 9/10\n",
      "3392/3392 [==============================] - 5s 1ms/step - loss: 0.7709 - acc: 0.6589 - f1: 0.6173 - val_loss: 0.8173 - val_acc: 0.6231 - val_f1: 0.5851\n",
      "Epoch 10/10\n",
      "3392/3392 [==============================] - 5s 2ms/step - loss: 0.7356 - acc: 0.6831 - f1: 0.6452 - val_loss: 0.8955 - val_acc: 0.5665 - val_f1: 0.5164\n"
     ]
    }
   ],
   "source": [
    "history = model.fit(en_twitter_x, en_twitter_y, epochs=10, shuffle=True, validation_split=0.2)"
   ]
  },
  {
   "cell_type": "code",
   "execution_count": 132,
   "metadata": {},
   "outputs": [
    {
     "name": "stdout",
     "output_type": "stream",
     "text": [
      "Train on 16505 samples, validate on 4127 samples\n",
      "Epoch 1/10\n",
      "16505/16505 [==============================] - 26s 2ms/step - loss: 0.8814 - acc: 0.5792 - f1: 0.5272 - val_loss: 0.8772 - val_acc: 0.5820 - val_f1: 0.5580\n",
      "Epoch 2/10\n",
      "16505/16505 [==============================] - 25s 2ms/step - loss: 0.7994 - acc: 0.6330 - f1: 0.6040 - val_loss: 0.8523 - val_acc: 0.6021 - val_f1: 0.5708\n",
      "Epoch 3/10\n",
      "16505/16505 [==============================] - 23s 1ms/step - loss: 0.7534 - acc: 0.6571 - f1: 0.6355 - val_loss: 0.8499 - val_acc: 0.6104 - val_f1: 0.5929\n",
      "Epoch 4/10\n",
      "16505/16505 [==============================] - 25s 1ms/step - loss: 0.7164 - acc: 0.6771 - f1: 0.6593 - val_loss: 0.8350 - val_acc: 0.6198 - val_f1: 0.6032\n",
      "Epoch 5/10\n",
      "16505/16505 [==============================] - 24s 1ms/step - loss: 0.6822 - acc: 0.6958 - f1: 0.6812 - val_loss: 0.8463 - val_acc: 0.6230 - val_f1: 0.6155\n",
      "Epoch 6/10\n",
      "16505/16505 [==============================] - 25s 2ms/step - loss: 0.6570 - acc: 0.7135 - f1: 0.7014 - val_loss: 0.8542 - val_acc: 0.6186 - val_f1: 0.6047\n",
      "Epoch 7/10\n",
      "16505/16505 [==============================] - 24s 1ms/step - loss: 0.6267 - acc: 0.7255 - f1: 0.7129 - val_loss: 0.8404 - val_acc: 0.6302 - val_f1: 0.6103\n",
      "Epoch 8/10\n",
      "16505/16505 [==============================] - 23s 1ms/step - loss: 0.5971 - acc: 0.7350 - f1: 0.7261 - val_loss: 0.8899 - val_acc: 0.6152 - val_f1: 0.6080\n",
      "Epoch 9/10\n",
      "16505/16505 [==============================] - 24s 1ms/step - loss: 0.5639 - acc: 0.7600 - f1: 0.7523 - val_loss: 0.9112 - val_acc: 0.6242 - val_f1: 0.6144\n",
      "Epoch 10/10\n",
      "16505/16505 [==============================] - 24s 1ms/step - loss: 0.5359 - acc: 0.7670 - f1: 0.7624 - val_loss: 0.8952 - val_acc: 0.6196 - val_f1: 0.6099\n"
     ]
    }
   ],
   "source": [
    "history = model.fit(en_semeval_17_x, en_semeval_17_y, epochs=10, validation_split=0.2, shuffle=True)"
   ]
  },
  {
   "cell_type": "code",
   "execution_count": 133,
   "metadata": {
    "scrolled": true
   },
   "outputs": [
    {
     "name": "stdout",
     "output_type": "stream",
     "text": [
      "Train on 5773 samples, validate on 1444 samples\n",
      "Epoch 1/10\n",
      "5773/5773 [==============================] - 9s 2ms/step - loss: 1.0503 - acc: 0.4880 - f1: 0.3725 - val_loss: 0.8997 - val_acc: 0.5824 - val_f1: 0.5117\n",
      "Epoch 2/10\n",
      "5773/5773 [==============================] - 8s 1ms/step - loss: 0.9132 - acc: 0.5694 - f1: 0.5010 - val_loss: 0.8611 - val_acc: 0.6143 - val_f1: 0.5695\n",
      "Epoch 3/10\n",
      "5773/5773 [==============================] - 8s 1ms/step - loss: 0.8548 - acc: 0.6097 - f1: 0.5590 - val_loss: 0.8483 - val_acc: 0.6039 - val_f1: 0.5570\n",
      "Epoch 4/10\n",
      "5773/5773 [==============================] - 7s 1ms/step - loss: 0.8141 - acc: 0.6364 - f1: 0.5966 - val_loss: 0.8355 - val_acc: 0.6080 - val_f1: 0.5815\n",
      "Epoch 5/10\n",
      "5773/5773 [==============================] - 8s 1ms/step - loss: 0.7671 - acc: 0.6669 - f1: 0.6344 - val_loss: 0.8596 - val_acc: 0.5976 - val_f1: 0.5558\n",
      "Epoch 6/10\n",
      "5773/5773 [==============================] - 8s 1ms/step - loss: 0.7249 - acc: 0.6834 - f1: 0.6553 - val_loss: 0.8776 - val_acc: 0.5900 - val_f1: 0.5740\n",
      "Epoch 7/10\n",
      "5773/5773 [==============================] - 8s 1ms/step - loss: 0.6890 - acc: 0.7034 - f1: 0.6802 - val_loss: 0.8479 - val_acc: 0.5942 - val_f1: 0.5816\n",
      "Epoch 8/10\n",
      "5773/5773 [==============================] - 8s 1ms/step - loss: 0.6546 - acc: 0.7182 - f1: 0.7035 - val_loss: 0.8590 - val_acc: 0.5921 - val_f1: 0.5806\n",
      "Epoch 9/10\n",
      "5773/5773 [==============================] - 9s 1ms/step - loss: 0.6182 - acc: 0.7351 - f1: 0.7250 - val_loss: 0.9009 - val_acc: 0.5859 - val_f1: 0.5764\n",
      "Epoch 10/10\n",
      "5773/5773 [==============================] - 8s 1ms/step - loss: 0.5786 - acc: 0.7566 - f1: 0.7443 - val_loss: 0.9019 - val_acc: 0.6115 - val_f1: 0.5989\n"
     ]
    }
   ],
   "source": [
    "history = model.fit(es_tass_x, es_tass_y, epochs=10, validation_split=0.2, shuffle=True)"
   ]
  },
  {
   "cell_type": "code",
   "execution_count": 134,
   "metadata": {
    "scrolled": true
   },
   "outputs": [
    {
     "name": "stdout",
     "output_type": "stream",
     "text": [
      "Train on 2561 samples, validate on 641 samples\n",
      "Epoch 1/20\n",
      "2561/2561 [==============================] - 3s 1ms/step - loss: 1.0611 - acc: 0.4924 - f1: 0.3907 - val_loss: 0.9785 - val_acc: 0.4992 - val_f1: 0.4193\n",
      "Epoch 2/20\n",
      "2561/2561 [==============================] - 4s 2ms/step - loss: 0.9426 - acc: 0.5463 - f1: 0.4559 - val_loss: 0.9770 - val_acc: 0.5257 - val_f1: 0.4598\n",
      "Epoch 3/20\n",
      "2561/2561 [==============================] - 3s 1ms/step - loss: 0.8832 - acc: 0.5955 - f1: 0.5190 - val_loss: 0.9660 - val_acc: 0.5460 - val_f1: 0.4689\n",
      "Epoch 4/20\n",
      "2561/2561 [==============================] - 4s 2ms/step - loss: 0.8344 - acc: 0.6111 - f1: 0.5762 - val_loss: 0.9691 - val_acc: 0.5382 - val_f1: 0.4854\n",
      "Epoch 5/20\n",
      "2561/2561 [==============================] - 4s 2ms/step - loss: 0.7999 - acc: 0.6361 - f1: 0.5937 - val_loss: 0.9701 - val_acc: 0.5632 - val_f1: 0.5004\n",
      "Epoch 6/20\n",
      "2561/2561 [==============================] - 4s 1ms/step - loss: 0.7407 - acc: 0.6747 - f1: 0.6353 - val_loss: 1.0348 - val_acc: 0.5351 - val_f1: 0.4968\n",
      "Epoch 7/20\n",
      "2561/2561 [==============================] - 4s 1ms/step - loss: 0.7110 - acc: 0.6904 - f1: 0.6653 - val_loss: 1.0028 - val_acc: 0.5538 - val_f1: 0.5271\n",
      "Epoch 8/20\n",
      "2561/2561 [==============================] - 4s 1ms/step - loss: 0.6720 - acc: 0.7107 - f1: 0.6907 - val_loss: 1.0288 - val_acc: 0.5367 - val_f1: 0.5098\n",
      "Epoch 9/20\n",
      "2561/2561 [==============================] - 4s 2ms/step - loss: 0.6451 - acc: 0.7317 - f1: 0.7118 - val_loss: 1.0531 - val_acc: 0.5429 - val_f1: 0.5357\n",
      "Epoch 10/20\n",
      "2561/2561 [==============================] - 4s 1ms/step - loss: 0.5805 - acc: 0.7571 - f1: 0.7487 - val_loss: 1.0913 - val_acc: 0.5507 - val_f1: 0.5291\n",
      "Epoch 11/20\n",
      "2561/2561 [==============================] - 4s 2ms/step - loss: 0.5605 - acc: 0.7716 - f1: 0.7646 - val_loss: 1.1278 - val_acc: 0.5413 - val_f1: 0.5268\n",
      "Epoch 12/20\n",
      "2561/2561 [==============================] - 4s 2ms/step - loss: 0.5495 - acc: 0.7790 - f1: 0.7711 - val_loss: 1.0719 - val_acc: 0.5491 - val_f1: 0.5335\n",
      "Epoch 13/20\n",
      "2561/2561 [==============================] - 4s 2ms/step - loss: 0.4766 - acc: 0.8134 - f1: 0.8028 - val_loss: 1.1301 - val_acc: 0.5507 - val_f1: 0.5430\n",
      "Epoch 14/20\n",
      "2561/2561 [==============================] - 3s 1ms/step - loss: 0.4639 - acc: 0.8110 - f1: 0.8099 - val_loss: 1.1650 - val_acc: 0.5601 - val_f1: 0.5361\n",
      "Epoch 15/20\n",
      "2561/2561 [==============================] - 4s 1ms/step - loss: 0.4072 - acc: 0.8407 - f1: 0.8356 - val_loss: 1.2338 - val_acc: 0.5351 - val_f1: 0.5158\n",
      "Epoch 16/20\n",
      "2561/2561 [==============================] - 4s 1ms/step - loss: 0.3840 - acc: 0.8555 - f1: 0.8516 - val_loss: 1.3394 - val_acc: 0.5382 - val_f1: 0.5150\n",
      "Epoch 17/20\n",
      "2561/2561 [==============================] - 4s 2ms/step - loss: 0.3610 - acc: 0.8645 - f1: 0.8613 - val_loss: 1.2699 - val_acc: 0.5273 - val_f1: 0.5230\n",
      "Epoch 18/20\n",
      "2561/2561 [==============================] - 3s 1ms/step - loss: 0.3137 - acc: 0.8821 - f1: 0.8795 - val_loss: 1.3829 - val_acc: 0.5429 - val_f1: 0.5281\n",
      "Epoch 19/20\n",
      "2561/2561 [==============================] - 4s 2ms/step - loss: 0.2891 - acc: 0.8961 - f1: 0.8933 - val_loss: 1.4272 - val_acc: 0.5351 - val_f1: 0.5310\n",
      "Epoch 20/20\n",
      "2561/2561 [==============================] - 3s 1ms/step - loss: 0.2828 - acc: 0.8950 - f1: 0.8935 - val_loss: 1.4485 - val_acc: 0.5320 - val_f1: 0.5305\n"
     ]
    }
   ],
   "source": [
    "history = model.fit(es_twitter_x, es_twitter_y, epochs=20, validation_split=0.2, shuffle=True)"
   ]
  },
  {
   "cell_type": "code",
   "execution_count": 135,
   "metadata": {},
   "outputs": [],
   "source": [
    "x = np.concatenate([en_semeval_17_x, en_twitter_x, es_tass_x, es_twitter_x])\n",
    "y = np.concatenate([en_semeval_17_y, en_twitter_y, es_tass_y, es_twitter_y])"
   ]
  },
  {
   "cell_type": "code",
   "execution_count": 136,
   "metadata": {
    "scrolled": true
   },
   "outputs": [
    {
     "name": "stdout",
     "output_type": "stream",
     "text": [
      "Train on 35292 samples, validate on 2449 samples\n",
      "Epoch 1/30\n",
      "35292/35292 [==============================] - 49s 1ms/step - loss: 0.7408 - acc: 0.6751 - f1: 0.6570 - val_loss: 1.0034 - val_acc: 0.5223 - val_f1: 0.4753\n",
      "Epoch 2/30\n",
      "35292/35292 [==============================] - 51s 1ms/step - loss: 0.6705 - acc: 0.7101 - f1: 0.6956 - val_loss: 0.9707 - val_acc: 0.5459 - val_f1: 0.5126\n",
      "Epoch 3/30\n",
      "35292/35292 [==============================] - 50s 1ms/step - loss: 0.6380 - acc: 0.7253 - f1: 0.7150 - val_loss: 0.9990 - val_acc: 0.5382 - val_f1: 0.4958\n",
      "Epoch 4/30\n",
      "35292/35292 [==============================] - 50s 1ms/step - loss: 0.6148 - acc: 0.7355 - f1: 0.7274 - val_loss: 0.9805 - val_acc: 0.5508 - val_f1: 0.5188\n",
      "Epoch 5/30\n",
      "35292/35292 [==============================] - 50s 1ms/step - loss: 0.5946 - acc: 0.7476 - f1: 0.7384 - val_loss: 1.0192 - val_acc: 0.5308 - val_f1: 0.4908\n",
      "Epoch 6/30\n",
      "35292/35292 [==============================] - 50s 1ms/step - loss: 0.5749 - acc: 0.7533 - f1: 0.7466 - val_loss: 1.0446 - val_acc: 0.5112 - val_f1: 0.4806\n",
      "Epoch 7/30\n",
      "35292/35292 [==============================] - 51s 1ms/step - loss: 0.5561 - acc: 0.7640 - f1: 0.7576 - val_loss: 1.0107 - val_acc: 0.5435 - val_f1: 0.5166\n",
      "Epoch 8/30\n",
      "35292/35292 [==============================] - 49s 1ms/step - loss: 0.5347 - acc: 0.7769 - f1: 0.7691 - val_loss: 1.0374 - val_acc: 0.5488 - val_f1: 0.5285\n",
      "Epoch 9/30\n",
      "35292/35292 [==============================] - 48s 1ms/step - loss: 0.5183 - acc: 0.7843 - f1: 0.7794 - val_loss: 1.0643 - val_acc: 0.5455 - val_f1: 0.5290\n",
      "Epoch 10/30\n",
      "35292/35292 [==============================] - 49s 1ms/step - loss: 0.5060 - acc: 0.7878 - f1: 0.7832 - val_loss: 1.0561 - val_acc: 0.5427 - val_f1: 0.5198\n",
      "Epoch 11/30\n",
      "35292/35292 [==============================] - 51s 1ms/step - loss: 0.4935 - acc: 0.7947 - f1: 0.7894 - val_loss: 1.0840 - val_acc: 0.5316 - val_f1: 0.5116\n",
      "Epoch 12/30\n",
      "35292/35292 [==============================] - 47s 1ms/step - loss: 0.4831 - acc: 0.7998 - f1: 0.7956 - val_loss: 1.1480 - val_acc: 0.5218 - val_f1: 0.5094\n",
      "Epoch 13/30\n",
      "35292/35292 [==============================] - 48s 1ms/step - loss: 0.4750 - acc: 0.8030 - f1: 0.7988 - val_loss: 1.0949 - val_acc: 0.5463 - val_f1: 0.5226\n",
      "Epoch 14/30\n",
      "35292/35292 [==============================] - 50s 1ms/step - loss: 0.4620 - acc: 0.8083 - f1: 0.8056 - val_loss: 1.0953 - val_acc: 0.5414 - val_f1: 0.5250\n",
      "Epoch 15/30\n",
      "35292/35292 [==============================] - 48s 1ms/step - loss: 0.4566 - acc: 0.8108 - f1: 0.8075 - val_loss: 1.1209 - val_acc: 0.5247 - val_f1: 0.5129\n",
      "Epoch 16/30\n",
      "35292/35292 [==============================] - 51s 1ms/step - loss: 0.4461 - acc: 0.8156 - f1: 0.8136 - val_loss: 1.1034 - val_acc: 0.5402 - val_f1: 0.5223\n",
      "Epoch 17/30\n",
      "35292/35292 [==============================] - 49s 1ms/step - loss: 0.4379 - acc: 0.8199 - f1: 0.8162 - val_loss: 1.1330 - val_acc: 0.5386 - val_f1: 0.5221\n",
      "Epoch 18/30\n",
      "35292/35292 [==============================] - 47s 1ms/step - loss: 0.4348 - acc: 0.8217 - f1: 0.8186 - val_loss: 1.1758 - val_acc: 0.5304 - val_f1: 0.5204\n",
      "Epoch 19/30\n",
      "35292/35292 [==============================] - 50s 1ms/step - loss: 0.4242 - acc: 0.8254 - f1: 0.8229 - val_loss: 1.1592 - val_acc: 0.5459 - val_f1: 0.5291\n",
      "Epoch 20/30\n",
      "35292/35292 [==============================] - 48s 1ms/step - loss: 0.4178 - acc: 0.8271 - f1: 0.8255 - val_loss: 1.1731 - val_acc: 0.5321 - val_f1: 0.5162\n",
      "Epoch 21/30\n",
      "15936/35292 [============>.................] - ETA: 27s - loss: 0.4008 - acc: 0.8353 - f1: 0.8331"
     ]
    },
    {
     "ename": "KeyboardInterrupt",
     "evalue": "",
     "output_type": "error",
     "traceback": [
      "\u001b[0;31m---------------------------------------------------------------------------\u001b[0m",
      "\u001b[0;31mKeyboardInterrupt\u001b[0m                         Traceback (most recent call last)",
      "\u001b[0;32m<ipython-input-136-98330f783e08>\u001b[0m in \u001b[0;36m<module>\u001b[0;34m\u001b[0m\n\u001b[0;32m----> 1\u001b[0;31m \u001b[0mhistory\u001b[0m \u001b[0;34m=\u001b[0m \u001b[0mmodel\u001b[0m\u001b[0;34m.\u001b[0m\u001b[0mfit\u001b[0m\u001b[0;34m(\u001b[0m\u001b[0mx\u001b[0m\u001b[0;34m,\u001b[0m \u001b[0my\u001b[0m\u001b[0;34m,\u001b[0m \u001b[0mepochs\u001b[0m\u001b[0;34m=\u001b[0m\u001b[0;36m30\u001b[0m\u001b[0;34m,\u001b[0m \u001b[0mvalidation_data\u001b[0m\u001b[0;34m=\u001b[0m\u001b[0;34m(\u001b[0m\u001b[0men_es_x_train\u001b[0m\u001b[0;34m,\u001b[0m\u001b[0men_es_y_train\u001b[0m\u001b[0;34m)\u001b[0m\u001b[0;34m,\u001b[0m \u001b[0mshuffle\u001b[0m\u001b[0;34m=\u001b[0m\u001b[0;32mTrue\u001b[0m\u001b[0;34m)\u001b[0m\u001b[0;34m\u001b[0m\u001b[0m\n\u001b[0m",
      "\u001b[0;32m/usr/local/lib/python3.5/dist-packages/keras/engine/training.py\u001b[0m in \u001b[0;36mfit\u001b[0;34m(self, x, y, batch_size, epochs, verbose, callbacks, validation_split, validation_data, shuffle, class_weight, sample_weight, initial_epoch, steps_per_epoch, validation_steps, **kwargs)\u001b[0m\n\u001b[1;32m   1037\u001b[0m                                         \u001b[0minitial_epoch\u001b[0m\u001b[0;34m=\u001b[0m\u001b[0minitial_epoch\u001b[0m\u001b[0;34m,\u001b[0m\u001b[0;34m\u001b[0m\u001b[0m\n\u001b[1;32m   1038\u001b[0m                                         \u001b[0msteps_per_epoch\u001b[0m\u001b[0;34m=\u001b[0m\u001b[0msteps_per_epoch\u001b[0m\u001b[0;34m,\u001b[0m\u001b[0;34m\u001b[0m\u001b[0m\n\u001b[0;32m-> 1039\u001b[0;31m                                         validation_steps=validation_steps)\n\u001b[0m\u001b[1;32m   1040\u001b[0m \u001b[0;34m\u001b[0m\u001b[0m\n\u001b[1;32m   1041\u001b[0m     def evaluate(self, x=None, y=None,\n",
      "\u001b[0;32m/usr/local/lib/python3.5/dist-packages/keras/engine/training_arrays.py\u001b[0m in \u001b[0;36mfit_loop\u001b[0;34m(model, f, ins, out_labels, batch_size, epochs, verbose, callbacks, val_f, val_ins, shuffle, callback_metrics, initial_epoch, steps_per_epoch, validation_steps)\u001b[0m\n\u001b[1;32m    197\u001b[0m                     \u001b[0mins_batch\u001b[0m\u001b[0;34m[\u001b[0m\u001b[0mi\u001b[0m\u001b[0;34m]\u001b[0m \u001b[0;34m=\u001b[0m \u001b[0mins_batch\u001b[0m\u001b[0;34m[\u001b[0m\u001b[0mi\u001b[0m\u001b[0;34m]\u001b[0m\u001b[0;34m.\u001b[0m\u001b[0mtoarray\u001b[0m\u001b[0;34m(\u001b[0m\u001b[0;34m)\u001b[0m\u001b[0;34m\u001b[0m\u001b[0m\n\u001b[1;32m    198\u001b[0m \u001b[0;34m\u001b[0m\u001b[0m\n\u001b[0;32m--> 199\u001b[0;31m                 \u001b[0mouts\u001b[0m \u001b[0;34m=\u001b[0m \u001b[0mf\u001b[0m\u001b[0;34m(\u001b[0m\u001b[0mins_batch\u001b[0m\u001b[0;34m)\u001b[0m\u001b[0;34m\u001b[0m\u001b[0m\n\u001b[0m\u001b[1;32m    200\u001b[0m                 \u001b[0mouts\u001b[0m \u001b[0;34m=\u001b[0m \u001b[0mto_list\u001b[0m\u001b[0;34m(\u001b[0m\u001b[0mouts\u001b[0m\u001b[0;34m)\u001b[0m\u001b[0;34m\u001b[0m\u001b[0m\n\u001b[1;32m    201\u001b[0m                 \u001b[0;32mfor\u001b[0m \u001b[0ml\u001b[0m\u001b[0;34m,\u001b[0m \u001b[0mo\u001b[0m \u001b[0;32min\u001b[0m \u001b[0mzip\u001b[0m\u001b[0;34m(\u001b[0m\u001b[0mout_labels\u001b[0m\u001b[0;34m,\u001b[0m \u001b[0mouts\u001b[0m\u001b[0;34m)\u001b[0m\u001b[0;34m:\u001b[0m\u001b[0;34m\u001b[0m\u001b[0m\n",
      "\u001b[0;32m/usr/local/lib/python3.5/dist-packages/keras/backend/tensorflow_backend.py\u001b[0m in \u001b[0;36m__call__\u001b[0;34m(self, inputs)\u001b[0m\n\u001b[1;32m   2713\u001b[0m                 \u001b[0;32mreturn\u001b[0m \u001b[0mself\u001b[0m\u001b[0;34m.\u001b[0m\u001b[0m_legacy_call\u001b[0m\u001b[0;34m(\u001b[0m\u001b[0minputs\u001b[0m\u001b[0;34m)\u001b[0m\u001b[0;34m\u001b[0m\u001b[0m\n\u001b[1;32m   2714\u001b[0m \u001b[0;34m\u001b[0m\u001b[0m\n\u001b[0;32m-> 2715\u001b[0;31m             \u001b[0;32mreturn\u001b[0m \u001b[0mself\u001b[0m\u001b[0;34m.\u001b[0m\u001b[0m_call\u001b[0m\u001b[0;34m(\u001b[0m\u001b[0minputs\u001b[0m\u001b[0;34m)\u001b[0m\u001b[0;34m\u001b[0m\u001b[0m\n\u001b[0m\u001b[1;32m   2716\u001b[0m         \u001b[0;32melse\u001b[0m\u001b[0;34m:\u001b[0m\u001b[0;34m\u001b[0m\u001b[0m\n\u001b[1;32m   2717\u001b[0m             \u001b[0;32mif\u001b[0m \u001b[0mpy_any\u001b[0m\u001b[0;34m(\u001b[0m\u001b[0mis_tensor\u001b[0m\u001b[0;34m(\u001b[0m\u001b[0mx\u001b[0m\u001b[0;34m)\u001b[0m \u001b[0;32mfor\u001b[0m \u001b[0mx\u001b[0m \u001b[0;32min\u001b[0m \u001b[0minputs\u001b[0m\u001b[0;34m)\u001b[0m\u001b[0;34m:\u001b[0m\u001b[0;34m\u001b[0m\u001b[0m\n",
      "\u001b[0;32m/usr/local/lib/python3.5/dist-packages/keras/backend/tensorflow_backend.py\u001b[0m in \u001b[0;36m_call\u001b[0;34m(self, inputs)\u001b[0m\n\u001b[1;32m   2673\u001b[0m             \u001b[0mfetched\u001b[0m \u001b[0;34m=\u001b[0m \u001b[0mself\u001b[0m\u001b[0;34m.\u001b[0m\u001b[0m_callable_fn\u001b[0m\u001b[0;34m(\u001b[0m\u001b[0;34m*\u001b[0m\u001b[0marray_vals\u001b[0m\u001b[0;34m,\u001b[0m \u001b[0mrun_metadata\u001b[0m\u001b[0;34m=\u001b[0m\u001b[0mself\u001b[0m\u001b[0;34m.\u001b[0m\u001b[0mrun_metadata\u001b[0m\u001b[0;34m)\u001b[0m\u001b[0;34m\u001b[0m\u001b[0m\n\u001b[1;32m   2674\u001b[0m         \u001b[0;32melse\u001b[0m\u001b[0;34m:\u001b[0m\u001b[0;34m\u001b[0m\u001b[0m\n\u001b[0;32m-> 2675\u001b[0;31m             \u001b[0mfetched\u001b[0m \u001b[0;34m=\u001b[0m \u001b[0mself\u001b[0m\u001b[0;34m.\u001b[0m\u001b[0m_callable_fn\u001b[0m\u001b[0;34m(\u001b[0m\u001b[0;34m*\u001b[0m\u001b[0marray_vals\u001b[0m\u001b[0;34m)\u001b[0m\u001b[0;34m\u001b[0m\u001b[0m\n\u001b[0m\u001b[1;32m   2676\u001b[0m         \u001b[0;32mreturn\u001b[0m \u001b[0mfetched\u001b[0m\u001b[0;34m[\u001b[0m\u001b[0;34m:\u001b[0m\u001b[0mlen\u001b[0m\u001b[0;34m(\u001b[0m\u001b[0mself\u001b[0m\u001b[0;34m.\u001b[0m\u001b[0moutputs\u001b[0m\u001b[0;34m)\u001b[0m\u001b[0;34m]\u001b[0m\u001b[0;34m\u001b[0m\u001b[0m\n\u001b[1;32m   2677\u001b[0m \u001b[0;34m\u001b[0m\u001b[0m\n",
      "\u001b[0;32m/usr/local/lib/python3.5/dist-packages/tensorflow/python/client/session.py\u001b[0m in \u001b[0;36m__call__\u001b[0;34m(self, *args, **kwargs)\u001b[0m\n\u001b[1;32m   1437\u001b[0m           ret = tf_session.TF_SessionRunCallable(\n\u001b[1;32m   1438\u001b[0m               \u001b[0mself\u001b[0m\u001b[0;34m.\u001b[0m\u001b[0m_session\u001b[0m\u001b[0;34m.\u001b[0m\u001b[0m_session\u001b[0m\u001b[0;34m,\u001b[0m \u001b[0mself\u001b[0m\u001b[0;34m.\u001b[0m\u001b[0m_handle\u001b[0m\u001b[0;34m,\u001b[0m \u001b[0margs\u001b[0m\u001b[0;34m,\u001b[0m \u001b[0mstatus\u001b[0m\u001b[0;34m,\u001b[0m\u001b[0;34m\u001b[0m\u001b[0m\n\u001b[0;32m-> 1439\u001b[0;31m               run_metadata_ptr)\n\u001b[0m\u001b[1;32m   1440\u001b[0m         \u001b[0;32mif\u001b[0m \u001b[0mrun_metadata\u001b[0m\u001b[0;34m:\u001b[0m\u001b[0;34m\u001b[0m\u001b[0m\n\u001b[1;32m   1441\u001b[0m           \u001b[0mproto_data\u001b[0m \u001b[0;34m=\u001b[0m \u001b[0mtf_session\u001b[0m\u001b[0;34m.\u001b[0m\u001b[0mTF_GetBuffer\u001b[0m\u001b[0;34m(\u001b[0m\u001b[0mrun_metadata_ptr\u001b[0m\u001b[0;34m)\u001b[0m\u001b[0;34m\u001b[0m\u001b[0m\n",
      "\u001b[0;31mKeyboardInterrupt\u001b[0m: "
     ]
    }
   ],
   "source": [
    "history = model.fit(x, y, epochs=30, validation_data=(en_es_x_train,en_es_y_train), shuffle=True)"
   ]
  },
  {
   "cell_type": "code",
   "execution_count": 137,
   "metadata": {},
   "outputs": [
    {
     "name": "stdout",
     "output_type": "stream",
     "text": [
      "613/613 [==============================] - 0s 497us/step\n"
     ]
    },
    {
     "data": {
      "text/plain": [
       "[1.1475409948028514, 0.5285481240290413, 0.5210127912182209]"
      ]
     },
     "execution_count": 137,
     "metadata": {},
     "output_type": "execute_result"
    }
   ],
   "source": [
    "model.evaluate(en_es_x_test, en_es_y_test)"
   ]
  },
  {
   "cell_type": "code",
   "execution_count": 138,
   "metadata": {
    "scrolled": true
   },
   "outputs": [
    {
     "name": "stdout",
     "output_type": "stream",
     "text": [
      "Train on 2449 samples, validate on 613 samples\n",
      "Epoch 1/20\n",
      "2449/2449 [==============================] - 4s 2ms/step - loss: 1.0959 - acc: 0.5394 - f1: 0.5123 - val_loss: 0.9578 - val_acc: 0.5889 - val_f1: 0.5593\n",
      "Epoch 2/20\n",
      "2449/2449 [==============================] - 4s 1ms/step - loss: 0.9163 - acc: 0.5827 - f1: 0.5598 - val_loss: 0.9329 - val_acc: 0.6020 - val_f1: 0.5732\n",
      "Epoch 3/20\n",
      "2449/2449 [==============================] - 4s 2ms/step - loss: 0.8105 - acc: 0.6386 - f1: 0.6131 - val_loss: 0.9105 - val_acc: 0.6199 - val_f1: 0.5896\n",
      "Epoch 4/20\n",
      "2449/2449 [==============================] - 4s 2ms/step - loss: 0.7679 - acc: 0.6497 - f1: 0.6273 - val_loss: 0.9038 - val_acc: 0.6248 - val_f1: 0.6088\n",
      "Epoch 5/20\n",
      "2449/2449 [==============================] - 3s 1ms/step - loss: 0.6960 - acc: 0.7011 - f1: 0.6864 - val_loss: 0.8926 - val_acc: 0.6362 - val_f1: 0.6115\n",
      "Epoch 6/20\n",
      "2449/2449 [==============================] - 4s 2ms/step - loss: 0.6447 - acc: 0.7338 - f1: 0.7198 - val_loss: 0.9099 - val_acc: 0.6411 - val_f1: 0.6234\n",
      "Epoch 7/20\n",
      "2449/2449 [==============================] - 4s 1ms/step - loss: 0.6171 - acc: 0.7366 - f1: 0.7292 - val_loss: 0.9104 - val_acc: 0.6411 - val_f1: 0.6338\n",
      "Epoch 8/20\n",
      "2449/2449 [==============================] - 4s 1ms/step - loss: 0.5893 - acc: 0.7579 - f1: 0.7530 - val_loss: 0.9141 - val_acc: 0.6411 - val_f1: 0.6319\n",
      "Epoch 9/20\n",
      "2449/2449 [==============================] - 3s 1ms/step - loss: 0.5517 - acc: 0.7709 - f1: 0.7679 - val_loss: 0.9100 - val_acc: 0.6444 - val_f1: 0.6339\n",
      "Epoch 10/20\n",
      "2449/2449 [==============================] - 3s 1ms/step - loss: 0.5227 - acc: 0.7893 - f1: 0.7842 - val_loss: 0.9225 - val_acc: 0.6509 - val_f1: 0.6368\n",
      "Epoch 11/20\n",
      "2449/2449 [==============================] - 3s 1ms/step - loss: 0.4772 - acc: 0.8126 - f1: 0.8102 - val_loss: 0.9345 - val_acc: 0.6460 - val_f1: 0.6452\n",
      "Epoch 12/20\n",
      "2449/2449 [==============================] - 4s 2ms/step - loss: 0.4631 - acc: 0.8122 - f1: 0.8073 - val_loss: 0.9729 - val_acc: 0.6378 - val_f1: 0.6290\n",
      "Epoch 13/20\n",
      "2449/2449 [==============================] - 3s 1ms/step - loss: 0.4197 - acc: 0.8334 - f1: 0.8292 - val_loss: 0.9723 - val_acc: 0.6509 - val_f1: 0.6435\n",
      "Epoch 14/20\n",
      "2449/2449 [==============================] - 4s 2ms/step - loss: 0.3977 - acc: 0.8481 - f1: 0.8482 - val_loss: 0.9833 - val_acc: 0.6427 - val_f1: 0.6382\n",
      "Epoch 15/20\n",
      "2449/2449 [==============================] - 4s 2ms/step - loss: 0.3859 - acc: 0.8506 - f1: 0.8499 - val_loss: 1.0121 - val_acc: 0.6378 - val_f1: 0.6387\n",
      "Epoch 16/20\n",
      "2449/2449 [==============================] - 3s 1ms/step - loss: 0.3365 - acc: 0.8702 - f1: 0.8688 - val_loss: 1.0478 - val_acc: 0.6362 - val_f1: 0.6349\n",
      "Epoch 17/20\n",
      "2449/2449 [==============================] - 4s 1ms/step - loss: 0.3194 - acc: 0.8804 - f1: 0.8775 - val_loss: 1.1050 - val_acc: 0.6346 - val_f1: 0.6297\n",
      "Epoch 18/20\n",
      "2449/2449 [==============================] - 4s 1ms/step - loss: 0.2861 - acc: 0.8914 - f1: 0.8899 - val_loss: 1.1236 - val_acc: 0.6411 - val_f1: 0.6316\n",
      "Epoch 19/20\n",
      "2449/2449 [==============================] - 3s 1ms/step - loss: 0.2881 - acc: 0.8959 - f1: 0.8924 - val_loss: 1.1224 - val_acc: 0.6411 - val_f1: 0.6380\n",
      "Epoch 20/20\n",
      "2449/2449 [==============================] - 3s 1ms/step - loss: 0.2666 - acc: 0.8934 - f1: 0.8943 - val_loss: 1.1388 - val_acc: 0.6362 - val_f1: 0.6377\n"
     ]
    }
   ],
   "source": [
    "history = model.fit(en_es_x_train, en_es_y_train, epochs=20, validation_data=(en_es_x_test, en_es_y_test), shuffle=True)"
   ]
  },
  {
   "cell_type": "code",
   "execution_count": 139,
   "metadata": {
    "scrolled": true
   },
   "outputs": [
    {
     "name": "stdout",
     "output_type": "stream",
     "text": [
      "613/613 [==============================] - 0s 347us/step\n"
     ]
    },
    {
     "data": {
      "text/plain": [
       "[1.1387531876952963, 0.6362153345181153, 0.6377271510065088]"
      ]
     },
     "execution_count": 139,
     "metadata": {},
     "output_type": "execute_result"
    }
   ],
   "source": [
    "model.evaluate(en_es_x_test, en_es_y_test)"
   ]
  },
  {
   "cell_type": "code",
   "execution_count": null,
   "metadata": {},
   "outputs": [],
   "source": []
  },
  {
   "cell_type": "code",
   "execution_count": null,
   "metadata": {},
   "outputs": [],
   "source": []
  }
 ],
 "metadata": {
  "kernelspec": {
   "display_name": "Python 3",
   "language": "python",
   "name": "python3"
  },
  "language_info": {
   "codemirror_mode": {
    "name": "ipython",
    "version": 3
   },
   "file_extension": ".py",
   "mimetype": "text/x-python",
   "name": "python",
   "nbconvert_exporter": "python",
   "pygments_lexer": "ipython3",
   "version": "3.5.2"
  }
 },
 "nbformat": 4,
 "nbformat_minor": 2
}
